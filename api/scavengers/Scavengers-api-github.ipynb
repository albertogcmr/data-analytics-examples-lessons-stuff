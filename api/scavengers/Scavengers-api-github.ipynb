{
 "cells": [
  {
   "cell_type": "code",
   "execution_count": 1,
   "metadata": {},
   "outputs": [
    {
     "name": "stdout",
     "output_type": "stream",
     "text": [
      "We have a token to access Github API 3b43d489cf30a0bf61bee076f5f7eb7f75828a72\n"
     ]
    }
   ],
   "source": [
    "import os\n",
    "import requests\n",
    "from dotenv import load_dotenv\n",
    "load_dotenv()\n",
    "\n",
    "GITHUB_TOKEN = os.getenv(\"GITHUB_TOKEN\")\n",
    "GITHUB_USER = \"boyander\"\n",
    "\n",
    "if GITHUB_TOKEN:\n",
    "    print(\"We have a token to access Github API\", GITHUB_TOKEN)\n",
    "else:\n",
    "    \n"
   ]
  },
  {
   "cell_type": "code",
   "execution_count": 4,
   "metadata": {},
   "outputs": [
    {
     "data": {
      "text/plain": [
       "{'login': 'boyander',\n",
       " 'id': 568638,\n",
       " 'node_id': 'MDQ6VXNlcjU2ODYzOA==',\n",
       " 'avatar_url': 'https://avatars1.githubusercontent.com/u/568638?v=4',\n",
       " 'gravatar_id': '',\n",
       " 'url': 'https://api.github.com/users/boyander',\n",
       " 'html_url': 'https://github.com/boyander',\n",
       " 'followers_url': 'https://api.github.com/users/boyander/followers',\n",
       " 'following_url': 'https://api.github.com/users/boyander/following{/other_user}',\n",
       " 'gists_url': 'https://api.github.com/users/boyander/gists{/gist_id}',\n",
       " 'starred_url': 'https://api.github.com/users/boyander/starred{/owner}{/repo}',\n",
       " 'subscriptions_url': 'https://api.github.com/users/boyander/subscriptions',\n",
       " 'organizations_url': 'https://api.github.com/users/boyander/orgs',\n",
       " 'repos_url': 'https://api.github.com/users/boyander/repos',\n",
       " 'events_url': 'https://api.github.com/users/boyander/events{/privacy}',\n",
       " 'received_events_url': 'https://api.github.com/users/boyander/received_events',\n",
       " 'type': 'User',\n",
       " 'site_admin': False,\n",
       " 'name': 'Marc Pomar Torres',\n",
       " 'company': 'Faable',\n",
       " 'blog': 'https://faable.com',\n",
       " 'location': 'Madrid, Spain',\n",
       " 'email': 'marc@faable.com',\n",
       " 'hireable': True,\n",
       " 'bio': 'Faable.com CEO. ☁Deploy next generation of cloud apps.\\r\\n\\r\\n👨🏼\\u200d💻Ironhack Lead Teacher.',\n",
       " 'public_repos': 48,\n",
       " 'public_gists': 1,\n",
       " 'followers': 151,\n",
       " 'following': 72,\n",
       " 'created_at': '2011-01-17T10:32:14Z',\n",
       " 'updated_at': '2019-04-15T09:08:31Z'}"
      ]
     },
     "execution_count": 4,
     "metadata": {},
     "output_type": "execute_result"
    }
   ],
   "source": [
    "url = \"https://api.github.com/user\"\n",
    "\n",
    "requests.get(url, headers={'Authorization': \"token {}\".format(GITHUB_TOKEN)}).json()"
   ]
  },
  {
   "cell_type": "code",
   "execution_count": 17,
   "metadata": {},
   "outputs": [],
   "source": [
    "\n",
    "def getRawUrl(fileToSearch):\n",
    "    baseUrl = \"https://api.github.com\"\n",
    "    repo = \"ironhack-datalabs/scavenger\"\n",
    "    url = \"{}/search/code?q=filename:{}+repo:{}\".format(baseUrl, fileToSearch, repo)\n",
    "    print(\"Requesting on {}\".format(url))\n",
    "    res = requests.get(url, headers={'Authorization': \"token {}\".format(GITHUB_TOKEN)})\n",
    "    data = res.json()[\"items\"]\n",
    "    return list(map(lambda x: x[\"path\"], data))\n",
    "\n",
    "                "
   ]
  },
  {
   "cell_type": "code",
   "execution_count": 18,
   "metadata": {},
   "outputs": [
    {
     "name": "stdout",
     "output_type": "stream",
     "text": [
      "Requesting on https://api.github.com/search/code?q=filename:.*.scavengerhunt+repo:ironhack-datalabs/scavenger\n"
     ]
    },
    {
     "data": {
      "text/plain": [
       "['15024/.0006.scavengerhunt',\n",
       " '49418/.0014.scavengerhunt',\n",
       " '15534/.0008.scavengerhunt',\n",
       " '70985/.0017.scavengerhunt',\n",
       " '15534/.0012.scavengerhunt',\n",
       " '17020/.0007.scavengerhunt',\n",
       " '91701/.0015.scavengerhunt',\n",
       " '30351/.0021.scavengerhunt',\n",
       " '40303/.0022.scavengerhunt',\n",
       " '44639/.0005.scavengerhunt',\n",
       " '89338/.0013.scavengerhunt',\n",
       " '45525/.0018.scavengerhunt',\n",
       " '47222/.0016.scavengerhunt',\n",
       " '97881/.0009.scavengerhunt',\n",
       " '47222/.0024.scavengerhunt',\n",
       " '47830/.0010.scavengerhunt',\n",
       " '50896/.0011.scavengerhunt',\n",
       " '55417/.0023.scavengerhunt',\n",
       " '55685/.0020.scavengerhunt',\n",
       " '60224/.0003.scavengerhunt',\n",
       " '68848/.0004.scavengerhunt',\n",
       " '70751/.0019.scavengerhunt',\n",
       " '88596/.0002.scavengerhunt',\n",
       " '98750/.0001.scavengerhunt']"
      ]
     },
     "execution_count": 18,
     "metadata": {},
     "output_type": "execute_result"
    }
   ],
   "source": [
    "rawUrls = getRawUrl(\".*.scavengerhunt\")\n",
    "rawUrls"
   ]
  },
  {
   "cell_type": "code",
   "execution_count": 22,
   "metadata": {},
   "outputs": [
    {
     "data": {
      "text/plain": [
       "['98750/.0001.scavengerhunt',\n",
       " '88596/.0002.scavengerhunt',\n",
       " '60224/.0003.scavengerhunt',\n",
       " '68848/.0004.scavengerhunt',\n",
       " '44639/.0005.scavengerhunt',\n",
       " '15024/.0006.scavengerhunt',\n",
       " '17020/.0007.scavengerhunt',\n",
       " '15534/.0008.scavengerhunt',\n",
       " '97881/.0009.scavengerhunt',\n",
       " '47830/.0010.scavengerhunt',\n",
       " '50896/.0011.scavengerhunt',\n",
       " '15534/.0012.scavengerhunt',\n",
       " '89338/.0013.scavengerhunt',\n",
       " '49418/.0014.scavengerhunt',\n",
       " '91701/.0015.scavengerhunt',\n",
       " '47222/.0016.scavengerhunt',\n",
       " '70985/.0017.scavengerhunt',\n",
       " '45525/.0018.scavengerhunt',\n",
       " '70751/.0019.scavengerhunt',\n",
       " '55685/.0020.scavengerhunt',\n",
       " '30351/.0021.scavengerhunt',\n",
       " '40303/.0022.scavengerhunt',\n",
       " '55417/.0023.scavengerhunt',\n",
       " '47222/.0024.scavengerhunt']"
      ]
     },
     "execution_count": 22,
     "metadata": {},
     "output_type": "execute_result"
    }
   ],
   "source": [
    "sortedPaths = sorted(rawUrls, key=lambda x: x[7:])\n",
    "sortedPaths"
   ]
  },
  {
   "cell_type": "code",
   "execution_count": 29,
   "metadata": {},
   "outputs": [],
   "source": [
    "def processPath(repoFilePath):\n",
    "    rawBaseUrl = \"https://raw.githubusercontent.com\"\n",
    "    repo = \"ironhack-datalabs/scavenger\"\n",
    "    rawUrl = \"{}/{}/master/{}\".format(rawBaseUrl, repo, repoFilePath)\n",
    "    print(\"Requesting url {}\".format(rawUrl))\n",
    "    res = requests.get(rawUrl)\n",
    "    return res.text"
   ]
  },
  {
   "cell_type": "code",
   "execution_count": 33,
   "metadata": {},
   "outputs": [
    {
     "name": "stdout",
     "output_type": "stream",
     "text": [
      "Requesting url https://raw.githubusercontent.com/ironhack-datalabs/scavenger/master/98750/.0001.scavengerhunt\n",
      "Requesting url https://raw.githubusercontent.com/ironhack-datalabs/scavenger/master/88596/.0002.scavengerhunt\n",
      "Requesting url https://raw.githubusercontent.com/ironhack-datalabs/scavenger/master/60224/.0003.scavengerhunt\n",
      "Requesting url https://raw.githubusercontent.com/ironhack-datalabs/scavenger/master/68848/.0004.scavengerhunt\n",
      "Requesting url https://raw.githubusercontent.com/ironhack-datalabs/scavenger/master/44639/.0005.scavengerhunt\n",
      "Requesting url https://raw.githubusercontent.com/ironhack-datalabs/scavenger/master/15024/.0006.scavengerhunt\n",
      "Requesting url https://raw.githubusercontent.com/ironhack-datalabs/scavenger/master/17020/.0007.scavengerhunt\n",
      "Requesting url https://raw.githubusercontent.com/ironhack-datalabs/scavenger/master/15534/.0008.scavengerhunt\n",
      "Requesting url https://raw.githubusercontent.com/ironhack-datalabs/scavenger/master/97881/.0009.scavengerhunt\n",
      "Requesting url https://raw.githubusercontent.com/ironhack-datalabs/scavenger/master/47830/.0010.scavengerhunt\n",
      "Requesting url https://raw.githubusercontent.com/ironhack-datalabs/scavenger/master/50896/.0011.scavengerhunt\n",
      "Requesting url https://raw.githubusercontent.com/ironhack-datalabs/scavenger/master/15534/.0012.scavengerhunt\n",
      "Requesting url https://raw.githubusercontent.com/ironhack-datalabs/scavenger/master/89338/.0013.scavengerhunt\n",
      "Requesting url https://raw.githubusercontent.com/ironhack-datalabs/scavenger/master/49418/.0014.scavengerhunt\n",
      "Requesting url https://raw.githubusercontent.com/ironhack-datalabs/scavenger/master/91701/.0015.scavengerhunt\n",
      "Requesting url https://raw.githubusercontent.com/ironhack-datalabs/scavenger/master/47222/.0016.scavengerhunt\n",
      "Requesting url https://raw.githubusercontent.com/ironhack-datalabs/scavenger/master/70985/.0017.scavengerhunt\n",
      "Requesting url https://raw.githubusercontent.com/ironhack-datalabs/scavenger/master/45525/.0018.scavengerhunt\n",
      "Requesting url https://raw.githubusercontent.com/ironhack-datalabs/scavenger/master/70751/.0019.scavengerhunt\n",
      "Requesting url https://raw.githubusercontent.com/ironhack-datalabs/scavenger/master/55685/.0020.scavengerhunt\n",
      "Requesting url https://raw.githubusercontent.com/ironhack-datalabs/scavenger/master/30351/.0021.scavengerhunt\n",
      "Requesting url https://raw.githubusercontent.com/ironhack-datalabs/scavenger/master/40303/.0022.scavengerhunt\n",
      "Requesting url https://raw.githubusercontent.com/ironhack-datalabs/scavenger/master/55417/.0023.scavengerhunt\n",
      "Requesting url https://raw.githubusercontent.com/ironhack-datalabs/scavenger/master/47222/.0024.scavengerhunt\n"
     ]
    }
   ],
   "source": [
    "sentence = list(map(processPath, sortedPaths))"
   ]
  },
  {
   "cell_type": "code",
   "execution_count": 45,
   "metadata": {},
   "outputs": [
    {
     "data": {
      "text/plain": [
       "'In data science, 80 percent of time spent is preparing data, 20 percent of time is spent complaining about the need to prepare data.'"
      ]
     },
     "execution_count": 45,
     "metadata": {},
     "output_type": "execute_result"
    }
   ],
   "source": [
    "sentence = list(map(lambda x: x.strip(),sentence))\n",
    "' '.join(sentence)"
   ]
  }
 ],
 "metadata": {
  "kernelspec": {
   "display_name": "Python 3",
   "language": "python",
   "name": "python3"
  },
  "language_info": {
   "codemirror_mode": {
    "name": "ipython",
    "version": 3
   },
   "file_extension": ".py",
   "mimetype": "text/x-python",
   "name": "python",
   "nbconvert_exporter": "python",
   "pygments_lexer": "ipython3",
   "version": "3.7.3"
  }
 },
 "nbformat": 4,
 "nbformat_minor": 2
}
