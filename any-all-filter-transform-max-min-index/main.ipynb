{
 "cells": [
  {
   "cell_type": "markdown",
   "metadata": {},
   "source": [
    "# Fundamentos de programación\n",
    "\n",
    "## Nivel básico"
   ]
  },
  {
   "cell_type": "code",
   "execution_count": 1,
   "metadata": {},
   "outputs": [
    {
     "name": "stdout",
     "output_type": "stream",
     "text": [
      "8\n"
     ]
    }
   ],
   "source": [
    "# Máximo arr\n",
    "\n",
    "# variables\n",
    "arr = [4,3,4,5,6,7,8,7,6,5,4,3]\n",
    "res = arr[0]\n",
    "\n",
    "for num in arr: \n",
    "    if num > res: \n",
    "        res = num\n",
    "        \n",
    "print(res)"
   ]
  },
  {
   "cell_type": "code",
   "execution_count": 2,
   "metadata": {},
   "outputs": [
    {
     "name": "stdout",
     "output_type": "stream",
     "text": [
      "3\n"
     ]
    }
   ],
   "source": [
    "# Mínimo arr\n",
    "\n",
    "# variables\n",
    "arr = [4,3,4,5,6,7,8,7,6,5,4,3]\n",
    "res = arr[0]\n",
    "\n",
    "for num in arr: \n",
    "    if num < res: \n",
    "        res = num\n",
    "        \n",
    "print(res)"
   ]
  },
  {
   "cell_type": "code",
   "execution_count": 3,
   "metadata": {},
   "outputs": [
    {
     "name": "stdout",
     "output_type": "stream",
     "text": [
      "True\n"
     ]
    }
   ],
   "source": [
    "# Any num>5\n",
    "\n",
    "# variables\n",
    "arr = [4,3,4,5,6,7,8,7,6,5,4,3]\n",
    "res = False\n",
    "\n",
    "for num in arr: \n",
    "    if num > 5: \n",
    "        res = True\n",
    "        break\n",
    "        \n",
    "print(res)"
   ]
  },
  {
   "cell_type": "code",
   "execution_count": 4,
   "metadata": {},
   "outputs": [
    {
     "name": "stdout",
     "output_type": "stream",
     "text": [
      "False\n"
     ]
    }
   ],
   "source": [
    "# All num>5\n",
    "\n",
    "# variables\n",
    "arr = [4,3,4,5,6,7,8,7,6,5,4,3]\n",
    "res = True\n",
    "\n",
    "for num in arr: \n",
    "    if num <= 5: \n",
    "        res = False\n",
    "        break\n",
    "        \n",
    "print(res)"
   ]
  },
  {
   "cell_type": "code",
   "execution_count": 5,
   "metadata": {},
   "outputs": [
    {
     "name": "stdout",
     "output_type": "stream",
     "text": [
      "[6, 7, 8, 7, 6]\n"
     ]
    }
   ],
   "source": [
    "# Filter num>5\n",
    "\n",
    "# variables\n",
    "arr = [4,3,4,5,6,7,8,7,6,5,4,3]\n",
    "res = []\n",
    "\n",
    "for num in arr: \n",
    "    if num > 5: \n",
    "        res.append(num)\n",
    "        \n",
    "print(res)"
   ]
  },
  {
   "cell_type": "code",
   "execution_count": 6,
   "metadata": {},
   "outputs": [
    {
     "name": "stdout",
     "output_type": "stream",
     "text": [
      "['4', '3', '4', '5', '6', '7', '8', '7', '6', '5', '4', '3']\n"
     ]
    }
   ],
   "source": [
    "# Transform num -> str(num)\n",
    "\n",
    "# variables\n",
    "arr = [4,3,4,5,6,7,8,7,6,5,4,3]\n",
    "res = []\n",
    "\n",
    "for num in arr: \n",
    "    num = str(num)\n",
    "    res.append(num)\n",
    "        \n",
    "print(res)"
   ]
  },
  {
   "cell_type": "code",
   "execution_count": 7,
   "metadata": {},
   "outputs": [
    {
     "name": "stdout",
     "output_type": "stream",
     "text": [
      "3\n"
     ]
    }
   ],
   "source": [
    "# Index num==5\n",
    "\n",
    "# variables\n",
    "arr = [4,3,4,5,6,7,8,7,6,5,4,3]\n",
    "res = -1\n",
    "\n",
    "for ind in range(len(arr)): \n",
    "    if arr[ind] == 5: \n",
    "        res = ind\n",
    "        break\n",
    "        \n",
    "print(res)"
   ]
  },
  {
   "cell_type": "markdown",
   "metadata": {},
   "source": [
    "## Nivel Pro"
   ]
  },
  {
   "cell_type": "code",
   "execution_count": 8,
   "metadata": {},
   "outputs": [
    {
     "name": "stdout",
     "output_type": "stream",
     "text": [
      "8\n"
     ]
    }
   ],
   "source": [
    "# Máximo arr\n",
    "\n",
    "# variables\n",
    "arr = [4,3,4,5,6,7,8,7,6,5,4,3]\n",
    "res = max(arr)\n",
    "        \n",
    "print(res)"
   ]
  },
  {
   "cell_type": "code",
   "execution_count": 9,
   "metadata": {},
   "outputs": [
    {
     "name": "stdout",
     "output_type": "stream",
     "text": [
      "3\n"
     ]
    }
   ],
   "source": [
    "# Mínimo arr\n",
    "\n",
    "# variables\n",
    "arr = [4,3,4,5,6,7,8,7,6,5,4,3]\n",
    "res = min(arr)\n",
    "        \n",
    "print(res)"
   ]
  },
  {
   "cell_type": "code",
   "execution_count": 10,
   "metadata": {},
   "outputs": [
    {
     "name": "stdout",
     "output_type": "stream",
     "text": [
      "True\n"
     ]
    }
   ],
   "source": [
    "# Any num>5\n",
    "\n",
    "# variables\n",
    "arr = [4,3,4,5,6,7,8,7,6,5,4,3]\n",
    "res = any(num > 5 for num in arr)\n",
    "        \n",
    "print(res)"
   ]
  },
  {
   "cell_type": "code",
   "execution_count": 11,
   "metadata": {},
   "outputs": [
    {
     "name": "stdout",
     "output_type": "stream",
     "text": [
      "False\n"
     ]
    }
   ],
   "source": [
    "# All num>5\n",
    "\n",
    "# variables\n",
    "arr = [4,3,4,5,6,7,8,7,6,5,4,3]\n",
    "res = all(num > 5 for num in arr)\n",
    "        \n",
    "print(res)"
   ]
  },
  {
   "cell_type": "code",
   "execution_count": 12,
   "metadata": {},
   "outputs": [
    {
     "name": "stdout",
     "output_type": "stream",
     "text": [
      "[6, 7, 8, 7, 6]\n"
     ]
    }
   ],
   "source": [
    "# Filter num>5\n",
    "\n",
    "# variables\n",
    "arr = [4,3,4,5,6,7,8,7,6,5,4,3]\n",
    "res = [num for num in arr if num > 5]\n",
    "        \n",
    "print(res)"
   ]
  },
  {
   "cell_type": "code",
   "execution_count": 13,
   "metadata": {},
   "outputs": [
    {
     "name": "stdout",
     "output_type": "stream",
     "text": [
      "['4', '3', '4', '5', '6', '7', '8', '7', '6', '5', '4', '3']\n"
     ]
    }
   ],
   "source": [
    "# Transform num -> str(num)\n",
    "\n",
    "# variables\n",
    "arr = [4,3,4,5,6,7,8,7,6,5,4,3]\n",
    "res = [str(num) for num in arr]\n",
    "\n",
    "print(res)"
   ]
  },
  {
   "cell_type": "code",
   "execution_count": 14,
   "metadata": {},
   "outputs": [
    {
     "name": "stdout",
     "output_type": "stream",
     "text": [
      "3\n"
     ]
    }
   ],
   "source": [
    "# Index num==5\n",
    "\n",
    "# variables\n",
    "arr = [4,3,4,5,6,7,8,7,6,5,4,3]\n",
    "res = arr.index(5)\n",
    "        \n",
    "print(res)"
   ]
  },
  {
   "cell_type": "code",
   "execution_count": null,
   "metadata": {},
   "outputs": [],
   "source": []
  }
 ],
 "metadata": {
  "kernelspec": {
   "display_name": "Python 3",
   "language": "python",
   "name": "python3"
  },
  "language_info": {
   "codemirror_mode": {
    "name": "ipython",
    "version": 3
   },
   "file_extension": ".py",
   "mimetype": "text/x-python",
   "name": "python",
   "nbconvert_exporter": "python",
   "pygments_lexer": "ipython3",
   "version": "3.6.8"
  }
 },
 "nbformat": 4,
 "nbformat_minor": 2
}
