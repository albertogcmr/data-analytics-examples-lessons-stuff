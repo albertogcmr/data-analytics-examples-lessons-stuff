{
 "cells": [
  {
   "cell_type": "code",
   "execution_count": 54,
   "metadata": {},
   "outputs": [],
   "source": [
    "import asyncio, requests\n",
    "import time\n",
    "\n",
    "urls = [\n",
    "    {\"name\":1,\"url\":'https://s3-eu-west-1.amazonaws.com/ih-materials/uploads/data-static/documents/breakfast.jpg'},\n",
    "    {\"name\":2,\"url\":'https://s3-eu-west-1.amazonaws.com/ih-materials/uploads/data-static/documents/forbidden'},\n",
    "    {\"name\":3,\"url\":'https://s3-eu-west-1.amazonaws.com/ih-materials/uploads/data-static/documents/the-html5-breakfast-site.html'}\n",
    "]\n",
    "\n"
   ]
  },
  {
   "cell_type": "code",
   "execution_count": 9,
   "metadata": {},
   "outputs": [
    {
     "name": "stdout",
     "output_type": "stream",
     "text": [
      "Status code is 200 name:1\n",
      "\tTime 0.61 sec\n",
      "Status code is 403 name:2\n",
      "\tTime 0.21 sec\n",
      "Status code is 200 name:3\n",
      "\tTime 0.20 sec\n",
      "Total time was 1.02 sec\n"
     ]
    }
   ],
   "source": [
    "now = time.time()\n",
    "for url in urls:\n",
    "    now_one = time.time()\n",
    "    res = requests.get(url[\"url\"])\n",
    "    print(\"Status code is {} name:{}\".format(res.status_code,url[\"name\"]))\n",
    "    el_one = time.time() - now_one\n",
    "    print(\"\\tTime {:0.2f} sec\".format(el_one))\n",
    "\n",
    "el = time.time() - now\n",
    "print(\"Total time was {:0.2f} sec\".format(el))"
   ]
  },
  {
   "cell_type": "code",
   "execution_count": null,
   "metadata": {},
   "outputs": [],
   "source": []
  },
  {
   "cell_type": "code",
   "execution_count": null,
   "metadata": {},
   "outputs": [],
   "source": []
  },
  {
   "cell_type": "code",
   "execution_count": 23,
   "metadata": {},
   "outputs": [
    {
     "name": "stdout",
     "output_type": "stream",
     "text": [
      "0.238732\n",
      "0.188144\n",
      "0.186416\n",
      "Total time was 0.29 sec\n"
     ]
    }
   ],
   "source": [
    "async def main():\n",
    "    loop = asyncio.get_event_loop()\n",
    "    futures = [loop.run_in_executor(None, requests.get, url[\"url\"]) for url in urls]\n",
    "    for response in await asyncio.gather(*futures):\n",
    "#        name = list(filter(lambda x: x[\"url\"] == response.url, urls))[0][\"name\"]\n",
    "        print(response.elapsed.total_seconds())\n",
    "\n",
    "now = time.time()\n",
    "await main()\n",
    "el = time.time() - now\n",
    "print(\"Total time was {:0.2f} sec\".format(el))"
   ]
  },
  {
   "cell_type": "code",
   "execution_count": 56,
   "metadata": {},
   "outputs": [
    {
     "name": "stdout",
     "output_type": "stream",
     "text": [
      "Hola Juan\n",
      "Hola Carlos\n",
      "Hola Pepe\n"
     ]
    },
    {
     "data": {
      "text/plain": [
       "[None, None, None]"
      ]
     },
     "execution_count": 56,
     "metadata": {},
     "output_type": "execute_result"
    }
   ],
   "source": [
    "async def esperaN(milis, a):\n",
    "    await asyncio.sleep(milis/1000)\n",
    "    print(\"Hola \" + a)\n",
    "\n",
    "coros = [\n",
    "    esperaN(10000,\"Pepe\"),\n",
    "    esperaN(4000,\"Juan\"),\n",
    "    esperaN(9000,\"Carlos\")\n",
    "]\n",
    "\n",
    "await asyncio.gather(*coros)"
   ]
  },
  {
   "cell_type": "code",
   "execution_count": null,
   "metadata": {},
   "outputs": [],
   "source": []
  },
  {
   "cell_type": "code",
   "execution_count": null,
   "metadata": {},
   "outputs": [],
   "source": []
  }
 ],
 "metadata": {
  "kernelspec": {
   "display_name": "Python 3",
   "language": "python",
   "name": "python3"
  },
  "language_info": {
   "codemirror_mode": {
    "name": "ipython",
    "version": 3
   },
   "file_extension": ".py",
   "mimetype": "text/x-python",
   "name": "python",
   "nbconvert_exporter": "python",
   "pygments_lexer": "ipython3",
   "version": "3.7.3"
  }
 },
 "nbformat": 4,
 "nbformat_minor": 2
}
