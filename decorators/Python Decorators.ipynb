{
 "cells": [
  {
   "cell_type": "code",
   "execution_count": 1,
   "metadata": {},
   "outputs": [
    {
     "name": "stdout",
     "output_type": "stream",
     "text": [
      "Elapsed time: 0.09141683578491211\n",
      "None\n"
     ]
    }
   ],
   "source": [
    "# código de decorador para medir tiempos de ejecución\n",
    "\n",
    "from functools import wraps\n",
    "from time import time\n",
    "\n",
    "\n",
    "def timing(f):\n",
    "    @wraps(f)\n",
    "    def wrapper(*args, **kwargs):\n",
    "        start = time()\n",
    "        result = f(*args, **kwargs)\n",
    "        end = time()\n",
    "        print('Elapsed time: {}'.format(end-start))\n",
    "        return result\n",
    "    return wrapper\n",
    "\n",
    "@timing\n",
    "def f(a):\n",
    "    for _ in range(a):\n",
    "        pass\n",
    "\n",
    "print(f(2000000))"
   ]
  },
  {
   "cell_type": "code",
   "execution_count": 21,
   "metadata": {},
   "outputs": [
    {
     "name": "stdout",
     "output_type": "stream",
     "text": [
      "Elapsed time: 1.430511474609375e-06\n"
     ]
    },
    {
     "data": {
      "text/plain": [
       "6"
      ]
     },
     "execution_count": 21,
     "metadata": {},
     "output_type": "execute_result"
    }
   ],
   "source": [
    "# código de decorador \n",
    "\n",
    "def saluda(fn):\n",
    "    ''' Modifica los argumentos, el primero * 2 y multiplica el output por 10'''\n",
    "    def test(*args,**kwargs):\n",
    "        newargs = (args[0]*2, *args[1:])\n",
    "        return fn(*newargs,**kwargs) * 10\n",
    "    return test\n",
    "    \n",
    "@saluda # prueba a comentar\n",
    "@timing\n",
    "def suma(a,b,c):\n",
    "    return a+b+c\n",
    "\n",
    "suma(1,2,3)"
   ]
  },
  {
   "cell_type": "code",
   "execution_count": 3,
   "metadata": {},
   "outputs": [
    {
     "name": "stdout",
     "output_type": "stream",
     "text": [
      "Hola Pepe\n"
     ]
    }
   ],
   "source": [
    "# código de decorador para modificar saludo en función del idioma\n",
    "\n",
    "\n",
    "import os\n",
    "\n",
    "def debugWr(fn, enabled=False):\n",
    "    def wrapper(*args,**kwargs):\n",
    "        if enabled:\n",
    "            print(\"====Debug====\")\n",
    "            print(\"\\t Positional Args: \", args)\n",
    "            print(\"\\t Keyword Args: \", kwargs)\n",
    "        try:\n",
    "            retval = fn(*args,**kwargs)\n",
    "        except Exception as e:\n",
    "            print(\"ERROR IN FUNCTION\")\n",
    "            print(e)\n",
    "            raise e\n",
    "        if enabled:\n",
    "            print(\"\\t Return value: \", retval)\n",
    "            print(\"====EndDebug====\")\n",
    "        return retval\n",
    "    return wrapper\n",
    "\n",
    "debugger = lambda fn: debugWr(fn, enabled=True)\n",
    "debug = lambda fn: debugWr(fn, enabled=os.getenv(\"DEBUG\"))\n",
    "\n",
    "@debug\n",
    "def saludador(nombre, idioma=\"es\"):\n",
    "    if idioma == \"es\":\n",
    "        print(\"Hola\", nombre)\n",
    "    elif idioma == \"fr\":\n",
    "        print(\"Bonjour\", nombre)\n",
    "\n",
    "\n",
    "saludador(\"Pepe\",\"es\")\n"
   ]
  },
  {
   "cell_type": "code",
   "execution_count": 4,
   "metadata": {},
   "outputs": [],
   "source": [
    "import numpy as np\n",
    "\n",
    "def memoize(fn):\n",
    "    recordedArgs = []\n",
    "    def wrapp(*args, **kwargs):\n",
    "        for e in recordedArgs:\n",
    "            if e[0] == args[0]:\n",
    "                return e[1]\n",
    "        retVal = fn(*args, **kwargs) \n",
    "        recordedArgs = [args[0], retVal]\n",
    "        return retVal\n",
    "    return wrapp\n",
    "\n"
   ]
  },
  {
   "cell_type": "code",
   "execution_count": 5,
   "metadata": {},
   "outputs": [
    {
     "ename": "UnboundLocalError",
     "evalue": "local variable 'recordedArgs' referenced before assignment",
     "output_type": "error",
     "traceback": [
      "\u001b[0;31m---------------------------------------------------------------------------\u001b[0m",
      "\u001b[0;31mUnboundLocalError\u001b[0m                         Traceback (most recent call last)",
      "\u001b[0;32m<ipython-input-5-f68088442937>\u001b[0m in \u001b[0;36m<module>\u001b[0;34m\u001b[0m\n\u001b[1;32m      3\u001b[0m     \u001b[0;32mreturn\u001b[0m \u001b[0mnp\u001b[0m\u001b[0;34m.\u001b[0m\u001b[0mrandom\u001b[0m\u001b[0;34m.\u001b[0m\u001b[0mrandom\u001b[0m\u001b[0;34m(\u001b[0m\u001b[0;34m(\u001b[0m\u001b[0;36m2\u001b[0m\u001b[0;34m,\u001b[0m\u001b[0;36m2\u001b[0m\u001b[0;34m)\u001b[0m\u001b[0;34m)\u001b[0m\u001b[0;34m\u001b[0m\u001b[0;34m\u001b[0m\u001b[0m\n\u001b[1;32m      4\u001b[0m \u001b[0;34m\u001b[0m\u001b[0m\n\u001b[0;32m----> 5\u001b[0;31m \u001b[0mgenerateMatrix\u001b[0m\u001b[0;34m(\u001b[0m\u001b[0;34m)\u001b[0m\u001b[0;34m\u001b[0m\u001b[0;34m\u001b[0m\u001b[0m\n\u001b[0m",
      "\u001b[0;32m<ipython-input-4-55b321503225>\u001b[0m in \u001b[0;36mwrapp\u001b[0;34m(*args, **kwargs)\u001b[0m\n\u001b[1;32m      4\u001b[0m     \u001b[0mrecordedArgs\u001b[0m \u001b[0;34m=\u001b[0m \u001b[0;34m[\u001b[0m\u001b[0;34m]\u001b[0m\u001b[0;34m\u001b[0m\u001b[0;34m\u001b[0m\u001b[0m\n\u001b[1;32m      5\u001b[0m     \u001b[0;32mdef\u001b[0m \u001b[0mwrapp\u001b[0m\u001b[0;34m(\u001b[0m\u001b[0;34m*\u001b[0m\u001b[0margs\u001b[0m\u001b[0;34m,\u001b[0m \u001b[0;34m**\u001b[0m\u001b[0mkwargs\u001b[0m\u001b[0;34m)\u001b[0m\u001b[0;34m:\u001b[0m\u001b[0;34m\u001b[0m\u001b[0;34m\u001b[0m\u001b[0m\n\u001b[0;32m----> 6\u001b[0;31m         \u001b[0;32mfor\u001b[0m \u001b[0me\u001b[0m \u001b[0;32min\u001b[0m \u001b[0mrecordedArgs\u001b[0m\u001b[0;34m:\u001b[0m\u001b[0;34m\u001b[0m\u001b[0;34m\u001b[0m\u001b[0m\n\u001b[0m\u001b[1;32m      7\u001b[0m             \u001b[0;32mif\u001b[0m \u001b[0me\u001b[0m\u001b[0;34m[\u001b[0m\u001b[0;36m0\u001b[0m\u001b[0;34m]\u001b[0m \u001b[0;34m==\u001b[0m \u001b[0margs\u001b[0m\u001b[0;34m[\u001b[0m\u001b[0;36m0\u001b[0m\u001b[0;34m]\u001b[0m\u001b[0;34m:\u001b[0m\u001b[0;34m\u001b[0m\u001b[0;34m\u001b[0m\u001b[0m\n\u001b[1;32m      8\u001b[0m                 \u001b[0;32mreturn\u001b[0m \u001b[0me\u001b[0m\u001b[0;34m[\u001b[0m\u001b[0;36m1\u001b[0m\u001b[0;34m]\u001b[0m\u001b[0;34m\u001b[0m\u001b[0;34m\u001b[0m\u001b[0m\n",
      "\u001b[0;31mUnboundLocalError\u001b[0m: local variable 'recordedArgs' referenced before assignment"
     ]
    }
   ],
   "source": [
    "@memoize\n",
    "def generateMatrix(n=2):\n",
    "    return np.random.random((2,2))\n",
    "\n",
    "generateMatrix()\n"
   ]
  },
  {
   "cell_type": "code",
   "execution_count": null,
   "metadata": {},
   "outputs": [],
   "source": []
  }
 ],
 "metadata": {
  "kernelspec": {
   "display_name": "Python 3",
   "language": "python",
   "name": "python3"
  },
  "language_info": {
   "codemirror_mode": {
    "name": "ipython",
    "version": 3
   },
   "file_extension": ".py",
   "mimetype": "text/x-python",
   "name": "python",
   "nbconvert_exporter": "python",
   "pygments_lexer": "ipython3",
   "version": "3.6.8"
  }
 },
 "nbformat": 4,
 "nbformat_minor": 2
}
