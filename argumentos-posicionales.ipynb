{
 "cells": [
  {
   "cell_type": "code",
   "execution_count": 7,
   "metadata": {},
   "outputs": [
    {
     "name": "stdout",
     "output_type": "stream",
     "text": [
      "1 2 3 4\n",
      "(5, 4, 4, 4, 4, 4)\n",
      "{'valor': 77, 'precio': 33}\n"
     ]
    }
   ],
   "source": [
    "\n",
    "\n",
    "def funcion(a, b, c=0, d=10, *args, **kwargs): \n",
    "    print(a, b, c, d)\n",
    "    print(args)\n",
    "    print(kwargs)\n",
    "    \n",
    "funcion(1,2,3,4,5,4,4,4,4,4, **{'valor': 77, 'precio': 33})"
   ]
  },
  {
   "cell_type": "code",
   "execution_count": null,
   "metadata": {},
   "outputs": [],
   "source": []
  }
 ],
 "metadata": {
  "kernelspec": {
   "display_name": "Python 3",
   "language": "python",
   "name": "python3"
  },
  "language_info": {
   "codemirror_mode": {
    "name": "ipython",
    "version": 3
   },
   "file_extension": ".py",
   "mimetype": "text/x-python",
   "name": "python",
   "nbconvert_exporter": "python",
   "pygments_lexer": "ipython3",
   "version": "3.6.8"
  }
 },
 "nbformat": 4,
 "nbformat_minor": 2
}
