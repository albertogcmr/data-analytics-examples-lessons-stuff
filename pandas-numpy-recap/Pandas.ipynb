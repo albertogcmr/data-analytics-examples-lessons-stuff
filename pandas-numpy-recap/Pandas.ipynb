{
 "cells": [
  {
   "cell_type": "markdown",
   "metadata": {},
   "source": [
    "# PANDAS"
   ]
  },
  {
   "cell_type": "markdown",
   "metadata": {},
   "source": [
    "[Pandas Library](https://pandas.pydata.org/)"
   ]
  },
  {
   "cell_type": "markdown",
   "metadata": {},
   "source": [
    "Pandas es una herramienta construida sobre Numpy que nos permite tratar datos, principalmente estructurados, de forma sencilla, cómoda y rápida. Supongo que a estas alturas ya conoces las diferencias entre datos estructurados, semiestructurados y no estructurados; pero prefiero curarme en salud y dar una breve definición de cada tipo:\n",
    "\n",
    "**Datos estructurados:** son aquellos datos que tienen lo que se llama esquema rígido. Los datos estructurados se suelen ordenar en tablas (formato tabular) con filas y columnas, donde las filas suelen ser las observaciones/hechos y las columnas las distintas variables/campos. Si sabes SQL, ya has tratado anteriormente con este tipo de datos. Son, por lo general, el tipo de dato más frecuente.\n",
    "\n",
    "**Datos semiestructurados:** son datos con esquema flexible, es decir: cada dato pertenece a un campo/ámbito determinado (o tiene una serie de campos bien definidos), pero no todos los datos tienen que tener los mismos campos (flexibilidad en el esquema/estructura de los datos). Podemos encontrarnos con datos que tienen unas variables, y no otras. Ejemplos de datos semiestructurados son los archivos XML y JSON.\n",
    "\n",
    "**Datos no estructurados:** son aquellos datos que no tienen ni orden ni concierto; simplemente están. Por ejemplo: texto. Un documento de texto está compuesto por una palabra detrás de la otra, pero sin ningún tipo de esquema o estructura (sí, tienen signos de puntuación y tal, y se podría discutir el tema de POS o Part Of Speech, pero no dejan de ser palabras unas detrás de otras). Otro ejemplo podrían ser las imágenes. No obstante, hay gente que considera las imágenes datos semi/estructurados: como una tabla donde cada campo es un píxel de los que conforma la imagen, por ejemplo. Da igual: el procesamiento de imágenes es un mundo aparte.\n",
    "\n",
    "Pues bien, pandas se utiliza principalmente para el análisis de datos estructurados, es decir, tablas. La principal ventaja de pandas es que nos permite explotar los conocimientos que ya tenemos de Numpy, para realizar operaciones complejas de forma sencilla."
   ]
  },
  {
   "cell_type": "markdown",
   "metadata": {},
   "source": [
    "##  Estructuras de datos: Series y DataFrames"
   ]
  },
  {
   "cell_type": "markdown",
   "metadata": {},
   "source": [
    "En pandas existen principalmente dos estructuras de dato: las Series y los DataFrames."
   ]
  },
  {
   "cell_type": "markdown",
   "metadata": {},
   "source": [
    "Una de las grandes ventajas de pandas es que nos ofrece un conveniente polimorfismo: una Series es básicamente un array de Numpy con algo especial llamado índice, y un DataFrame es un diccionario de Series. Este polimorfismo nos va a permitir utilizar lo que ya sabemos de Numpy sobre estas nuevas estructuras de dato."
   ]
  },
  {
   "cell_type": "markdown",
   "metadata": {},
   "source": [
    "### Series"
   ]
  },
  {
   "cell_type": "markdown",
   "metadata": {},
   "source": [
    "Una Serie es una estructura de dato compuesta básicamente por un array unidimensional (con uno de los tipos de dato de cualquiera de los dtypes de Numpy), y un array asociado con labels, llamado index o índice (o índices; mientras nos entendamos bien, da igual que utilicemos el singular o el plural)."
   ]
  },
  {
   "cell_type": "markdown",
   "metadata": {},
   "source": [
    "Podemos construir una Serie de forma sencilla, utilizando directamente una lista de Python o un array de Numpy:"
   ]
  },
  {
   "cell_type": "code",
   "execution_count": 1,
   "metadata": {},
   "outputs": [],
   "source": [
    "import pandas as pd\n",
    "import numpy as np"
   ]
  },
  {
   "cell_type": "code",
   "execution_count": 2,
   "metadata": {},
   "outputs": [
    {
     "data": {
      "text/plain": [
       "0     2.0\n",
       "1     5.0\n",
       "2     4.3\n",
       "3    -6.4\n",
       "4    12.0\n",
       "dtype: float64"
      ]
     },
     "execution_count": 2,
     "metadata": {},
     "output_type": "execute_result"
    }
   ],
   "source": [
    "mi_primera_serie = pd.Series(np.array([2, 5, 4.3, -6.4, 12]))\n",
    "mi_primera_serie"
   ]
  },
  {
   "cell_type": "markdown",
   "metadata": {},
   "source": [
    "Podemos ver que la Serie está formada, por un lado, por los valores que le hemos pasado; pero también tiene una especie de columna a la izquierda. Eso son los índices. Podemos ver que empiezan por 0, y van creciendo.\n",
    "\n",
    "Podemos quedarnos únicamente con el índice de una Serie haciendo mi_serie.index:"
   ]
  },
  {
   "cell_type": "code",
   "execution_count": 3,
   "metadata": {},
   "outputs": [
    {
     "data": {
      "text/plain": [
       "RangeIndex(start=0, stop=5, step=1)"
      ]
     },
     "execution_count": 3,
     "metadata": {},
     "output_type": "execute_result"
    }
   ],
   "source": [
    "mi_primera_serie.index"
   ]
  },
  {
   "cell_type": "markdown",
   "metadata": {},
   "source": [
    "Vemos que nos devuelve un objeto de tipo Index, que no deja de ser básicamente un array de Numpy. Tiene algunos métodos y atributos especiales, pero no deja de ser una estructura de array. De hecho, si lo metemos dentro de un array de Numpy, podemos hacer cualquier cosa de Numpy con dichos índices:"
   ]
  },
  {
   "cell_type": "code",
   "execution_count": 4,
   "metadata": {},
   "outputs": [
    {
     "data": {
      "text/plain": [
       "array([0, 1, 2, 3, 4])"
      ]
     },
     "execution_count": 4,
     "metadata": {},
     "output_type": "execute_result"
    }
   ],
   "source": [
    "np.array(mi_primera_serie.index)"
   ]
  },
  {
   "cell_type": "markdown",
   "metadata": {},
   "source": [
    "Por otro lado, nuestra Serie tiene los valores como tal que le hemos introducido. Obtenemos los valores de la Serie con mi_serie.values:"
   ]
  },
  {
   "cell_type": "code",
   "execution_count": 5,
   "metadata": {},
   "outputs": [
    {
     "data": {
      "text/plain": [
       "array([ 2. ,  5. ,  4.3, -6.4, 12. ])"
      ]
     },
     "execution_count": 5,
     "metadata": {},
     "output_type": "execute_result"
    }
   ],
   "source": [
    "mi_primera_serie.values"
   ]
  },
  {
   "cell_type": "code",
   "execution_count": 6,
   "metadata": {},
   "outputs": [
    {
     "data": {
      "text/plain": [
       "numpy.ndarray"
      ]
     },
     "execution_count": 6,
     "metadata": {},
     "output_type": "execute_result"
    }
   ],
   "source": [
    "type(mi_primera_serie.values)"
   ]
  },
  {
   "cell_type": "markdown",
   "metadata": {},
   "source": [
    "También podemos crear un índice customizado para una Serie (en vez de que empiece por 0 y vaya aumentando, que es el comportamiento por defecto), pasándolo también como una lista de Python o array de Numpy:"
   ]
  },
  {
   "cell_type": "code",
   "execution_count": 7,
   "metadata": {},
   "outputs": [
    {
     "data": {
      "text/plain": [
       "Juan       12\n",
       "Marta      21\n",
       "Paco       43\n",
       "Lorenzo    11\n",
       "dtype: int64"
      ]
     },
     "execution_count": 7,
     "metadata": {},
     "output_type": "execute_result"
    }
   ],
   "source": [
    "una_serie = pd.Series(np.array([12, 21, 43, 11]), index=[\"Juan\", \"Marta\", \"Paco\", \"Lorenzo\"])\n",
    "\n",
    "una_serie"
   ]
  },
  {
   "cell_type": "markdown",
   "metadata": {},
   "source": [
    "Podemos pedirle a la Serie que nos devuelva un valor, basado en su índice asociado:"
   ]
  },
  {
   "cell_type": "code",
   "execution_count": 8,
   "metadata": {},
   "outputs": [
    {
     "data": {
      "text/plain": [
       "21"
      ]
     },
     "execution_count": 8,
     "metadata": {},
     "output_type": "execute_result"
    }
   ],
   "source": [
    "una_serie[\"Marta\"]"
   ]
  },
  {
   "cell_type": "markdown",
   "metadata": {},
   "source": [
    "Y si le pasamos varios índices en una lista, nos devolverá otra Serie con dichos índices y valores:\n",
    "\n"
   ]
  },
  {
   "cell_type": "code",
   "execution_count": 9,
   "metadata": {},
   "outputs": [
    {
     "data": {
      "text/plain": [
       "Paco    43\n",
       "Juan    12\n",
       "dtype: int64"
      ]
     },
     "execution_count": 9,
     "metadata": {},
     "output_type": "execute_result"
    }
   ],
   "source": [
    "una_serie[[\"Paco\", \"Juan\"]]"
   ]
  },
  {
   "cell_type": "markdown",
   "metadata": {},
   "source": [
    "Gracias a que una Serie no deja de ser un array de Numpy, podemos utilizar las operaciones típicas de Numpy con las Series. Por ejemplo: si queremos multiplicar todos los valores de nuestra Serie por 2:\n",
    "\n"
   ]
  },
  {
   "cell_type": "code",
   "execution_count": 10,
   "metadata": {},
   "outputs": [
    {
     "data": {
      "text/plain": [
       "Juan       24\n",
       "Marta      42\n",
       "Paco       86\n",
       "Lorenzo    22\n",
       "dtype: int64"
      ]
     },
     "execution_count": 10,
     "metadata": {},
     "output_type": "execute_result"
    }
   ],
   "source": [
    "una_serie * 2"
   ]
  },
  {
   "cell_type": "markdown",
   "metadata": {},
   "source": [
    "Si nos fijamos, una Serie está formada por un conjunto de índices, que cada uno tiene un valor asociado, en forma de pares clave-valor... Similar a los diccionarios de Python, ¿no?\n",
    "\n",
    "Pues sí. De hecho, podemos construir una Serie directamente a partir de un diccionario:\n",
    "\n"
   ]
  },
  {
   "cell_type": "code",
   "execution_count": 11,
   "metadata": {},
   "outputs": [
    {
     "data": {
      "text/plain": [
       "{'David': 5.4, 'Pablo': 128, 'Nuria': 26, 'Mario': -12, 'Javier': 0}"
      ]
     },
     "execution_count": 11,
     "metadata": {},
     "output_type": "execute_result"
    }
   ],
   "source": [
    "un_diccionario = {\n",
    "    \"David\": 5.4,\n",
    "    \"Pablo\": 128,\n",
    "    \"Nuria\": 26,\n",
    "    \"Mario\": -12,\n",
    "    \"Javier\": 0\n",
    "}\n",
    "\n",
    "# Mostramos el diccionario:\n",
    "un_diccionario"
   ]
  },
  {
   "cell_type": "code",
   "execution_count": 12,
   "metadata": {},
   "outputs": [
    {
     "data": {
      "text/plain": [
       "David       5.4\n",
       "Pablo     128.0\n",
       "Nuria      26.0\n",
       "Mario     -12.0\n",
       "Javier      0.0\n",
       "dtype: float64"
      ]
     },
     "execution_count": 12,
     "metadata": {},
     "output_type": "execute_result"
    }
   ],
   "source": [
    "pd.Series(un_diccionario)"
   ]
  },
  {
   "cell_type": "markdown",
   "metadata": {},
   "source": [
    "Vamos a probar a utilizar de nuevo el diccionario, pero pasándole un índice determinado:\n",
    "\n"
   ]
  },
  {
   "cell_type": "code",
   "execution_count": 13,
   "metadata": {},
   "outputs": [
    {
     "data": {
      "text/plain": [
       "Nuria     26.0\n",
       "David      5.4\n",
       "Javier     0.0\n",
       "Mario    -12.0\n",
       "Manuel     NaN\n",
       "dtype: float64"
      ]
     },
     "execution_count": 13,
     "metadata": {},
     "output_type": "execute_result"
    }
   ],
   "source": [
    "serie_con_nan = pd.Series(un_diccionario, index = [\"Nuria\", \"David\", \"Javier\", \"Mario\", \"Manuel\"])\n",
    "\n",
    "serie_con_nan"
   ]
  },
  {
   "cell_type": "markdown",
   "metadata": {},
   "source": [
    "Pandas es muy listo: podemos ver que nos mantiene cada índice asociado a su valor (si miramos el diccionario arriba), de forma que mantiene las relaciones entre índices y valores inalteradas.\n",
    "\n",
    "De hecho: al haberle pasado un índice que no tiene valor en los datos (\"Manuel\"), nos ha escrito un NaN (Not a Number). NaN es equivalente a NA o MISSING en otros lenguajes y herramientas. Básicamente nos indica que no existe valor para esa observación. Y resulta, curiosamente, que NaN es... ¡Un dtype de Numpy! Otro ejemplo de la estrecha relación de Numpy con pandas. Podemos generar NaNs fácilmente con np.nan:"
   ]
  },
  {
   "cell_type": "code",
   "execution_count": 14,
   "metadata": {},
   "outputs": [
    {
     "data": {
      "text/plain": [
       "nan"
      ]
     },
     "execution_count": 14,
     "metadata": {},
     "output_type": "execute_result"
    }
   ],
   "source": [
    "not_a_number = np.nan\n",
    "\n",
    "not_a_number"
   ]
  },
  {
   "cell_type": "markdown",
   "metadata": {},
   "source": [
    "Podemos además nombrar nuestras Series, más allá de con el nombre de la variable a la que las asignemos. Por ejemplo, podemos nombrar la Serie con mi_serie.name:"
   ]
  },
  {
   "cell_type": "code",
   "execution_count": 15,
   "metadata": {},
   "outputs": [
    {
     "data": {
      "text/plain": [
       "Nuria     26.0\n",
       "David      5.4\n",
       "Javier     0.0\n",
       "Mario    -12.0\n",
       "Manuel     NaN\n",
       "Name: Cuenta corriente, dtype: float64"
      ]
     },
     "execution_count": 15,
     "metadata": {},
     "output_type": "execute_result"
    }
   ],
   "source": [
    "serie_con_nan.name = \"Cuenta corriente\"\n",
    "\n",
    "serie_con_nan"
   ]
  },
  {
   "cell_type": "markdown",
   "metadata": {},
   "source": [
    "Del mismo modo, podemos ponerle nombre también al índice de una Serie con mi_serie.index.name:"
   ]
  },
  {
   "cell_type": "code",
   "execution_count": 16,
   "metadata": {},
   "outputs": [
    {
     "data": {
      "text/plain": [
       "Nombre\n",
       "Nuria     26.0\n",
       "David      5.4\n",
       "Javier     0.0\n",
       "Mario    -12.0\n",
       "Manuel     NaN\n",
       "Name: Cuenta corriente, dtype: float64"
      ]
     },
     "execution_count": 16,
     "metadata": {},
     "output_type": "execute_result"
    }
   ],
   "source": [
    "serie_con_nan.index.name = \"Nombre\"\n",
    "\n",
    "serie_con_nan"
   ]
  },
  {
   "cell_type": "markdown",
   "metadata": {},
   "source": [
    "Podemos dar un nuevo índice a una Serie cuando queramos:"
   ]
  },
  {
   "cell_type": "code",
   "execution_count": 17,
   "metadata": {},
   "outputs": [
    {
     "data": {
      "text/plain": [
       "posicion\n",
       "primero    26.0\n",
       "segundo     5.4\n",
       "tercero     0.0\n",
       "cuarto    -12.0\n",
       "quinto      NaN\n",
       "Name: Cuenta corriente, dtype: float64"
      ]
     },
     "execution_count": 17,
     "metadata": {},
     "output_type": "execute_result"
    }
   ],
   "source": [
    "serie_con_nan.index = [\"primero\", \"segundo\", \"tercero\", \"cuarto\", \"quinto\"]\n",
    "\n",
    "# Ya que estamos, le volvemos a cambiar el nombre:\n",
    "serie_con_nan.index.name = \"posicion\"\n",
    "\n",
    "serie_con_nan"
   ]
  },
  {
   "cell_type": "markdown",
   "metadata": {},
   "source": [
    "Por último, podemos utilizar operaciones aritméticas sobre varias Series. Vamos a, por ejemplo, sumar dos Series. Vamos a crearlas:"
   ]
  },
  {
   "cell_type": "code",
   "execution_count": 18,
   "metadata": {},
   "outputs": [
    {
     "data": {
      "text/plain": [
       "a    0\n",
       "b    1\n",
       "c    2\n",
       "d    3\n",
       "e    4\n",
       "f    5\n",
       "dtype: int64"
      ]
     },
     "execution_count": 18,
     "metadata": {},
     "output_type": "execute_result"
    }
   ],
   "source": [
    "serie_uno = pd.Series(np.arange(0,6), index =[\"a\", \"b\", \"c\", \"d\", \"e\", \"f\"])\n",
    "serie_uno"
   ]
  },
  {
   "cell_type": "code",
   "execution_count": 19,
   "metadata": {},
   "outputs": [
    {
     "data": {
      "text/plain": [
       "b    10\n",
       "c    11\n",
       "a    12\n",
       "d    13\n",
       "f    14\n",
       "e    15\n",
       "dtype: int64"
      ]
     },
     "execution_count": 19,
     "metadata": {},
     "output_type": "execute_result"
    }
   ],
   "source": [
    "serie_dos = pd.Series(np.arange(10, 16), index = [\"b\", \"c\", \"a\", \"d\", \"f\", \"e\"])\n",
    "serie_dos\n"
   ]
  },
  {
   "cell_type": "code",
   "execution_count": 20,
   "metadata": {},
   "outputs": [
    {
     "data": {
      "text/plain": [
       "a    12\n",
       "b    11\n",
       "c    13\n",
       "d    16\n",
       "e    19\n",
       "f    19\n",
       "dtype: int64"
      ]
     },
     "execution_count": 20,
     "metadata": {},
     "output_type": "execute_result"
    }
   ],
   "source": [
    "serie_uno + serie_dos"
   ]
  },
  {
   "cell_type": "markdown",
   "metadata": {},
   "source": [
    "Podemos ver que ha sumado las Series por índice; sumando los valores en función de dichos índices (y no por el orden en el que aparecen las filas).\n",
    "\n"
   ]
  },
  {
   "cell_type": "markdown",
   "metadata": {},
   "source": [
    "Las series están bien; de hecho, tienen una serie de [métodos](http://pandas.pydata.org/pandas-docs/stable/generated/pandas.Series.html) que pueden resultar útiles en algunos casos, y además podemos utilizar todo lo que sabemos de Numpy sobre ellas. Pero el verdadero poder de pandas reside en los DataFrames."
   ]
  },
  {
   "cell_type": "markdown",
   "metadata": {},
   "source": [
    "### DataFrames"
   ]
  },
  {
   "cell_type": "markdown",
   "metadata": {},
   "source": [
    "Un DataFrame es una estructura tabular formada por un índice (igual que las Series), y un conjunto de columnas, cada una de ellas con su propio nombre, que pueden tener distintos dtypes. De hecho, desde nuestro punto de vista, un DataFrame no deja de ser un diccionario de Series (donde todas ellas comparten el mismo índice). Si conoces los data.frames de R, probablemente la estructura de dato te resulte muy familiar."
   ]
  },
  {
   "cell_type": "markdown",
   "metadata": {},
   "source": [
    "No obstante, los DataFrames de pandas se guardan unos cuandos ases en la manga, "
   ]
  },
  {
   "cell_type": "markdown",
   "metadata": {},
   "source": [
    "Existen varias formas de construir DataFrames. Una de ellas es mediante un diccionario de listas de Python o arrays de Numpy, donde las claves van a ser los nombres de cada columna, y sus valores los datos en listas o arrays:"
   ]
  },
  {
   "cell_type": "code",
   "execution_count": 21,
   "metadata": {},
   "outputs": [
    {
     "data": {
      "text/html": [
       "<div>\n",
       "<style scoped>\n",
       "    .dataframe tbody tr th:only-of-type {\n",
       "        vertical-align: middle;\n",
       "    }\n",
       "\n",
       "    .dataframe tbody tr th {\n",
       "        vertical-align: top;\n",
       "    }\n",
       "\n",
       "    .dataframe thead th {\n",
       "        text-align: right;\n",
       "    }\n",
       "</style>\n",
       "<table border=\"1\" class=\"dataframe\">\n",
       "  <thead>\n",
       "    <tr style=\"text-align: right;\">\n",
       "      <th></th>\n",
       "      <th>nombre</th>\n",
       "      <th>edad</th>\n",
       "      <th>sexo</th>\n",
       "    </tr>\n",
       "  </thead>\n",
       "  <tbody>\n",
       "    <tr>\n",
       "      <th>0</th>\n",
       "      <td>Julio</td>\n",
       "      <td>22</td>\n",
       "      <td>Hombre</td>\n",
       "    </tr>\n",
       "    <tr>\n",
       "      <th>1</th>\n",
       "      <td>Nuria</td>\n",
       "      <td>26</td>\n",
       "      <td>Mujer</td>\n",
       "    </tr>\n",
       "    <tr>\n",
       "      <th>2</th>\n",
       "      <td>Jose</td>\n",
       "      <td>28</td>\n",
       "      <td>Hombre</td>\n",
       "    </tr>\n",
       "    <tr>\n",
       "      <th>3</th>\n",
       "      <td>Luis</td>\n",
       "      <td>25</td>\n",
       "      <td>Hombre</td>\n",
       "    </tr>\n",
       "    <tr>\n",
       "      <th>4</th>\n",
       "      <td>Daniel</td>\n",
       "      <td>24</td>\n",
       "      <td>Hombre</td>\n",
       "    </tr>\n",
       "    <tr>\n",
       "      <th>5</th>\n",
       "      <td>Javier</td>\n",
       "      <td>24</td>\n",
       "      <td>Hombre</td>\n",
       "    </tr>\n",
       "    <tr>\n",
       "      <th>6</th>\n",
       "      <td>Alberto</td>\n",
       "      <td>24</td>\n",
       "      <td>Hombre</td>\n",
       "    </tr>\n",
       "    <tr>\n",
       "      <th>7</th>\n",
       "      <td>Lourdes</td>\n",
       "      <td>26</td>\n",
       "      <td>Mujer</td>\n",
       "    </tr>\n",
       "  </tbody>\n",
       "</table>\n",
       "</div>"
      ],
      "text/plain": [
       "    nombre  edad    sexo\n",
       "0    Julio    22  Hombre\n",
       "1    Nuria    26   Mujer\n",
       "2     Jose    28  Hombre\n",
       "3     Luis    25  Hombre\n",
       "4   Daniel    24  Hombre\n",
       "5   Javier    24  Hombre\n",
       "6  Alberto    24  Hombre\n",
       "7  Lourdes    26   Mujer"
      ]
     },
     "execution_count": 21,
     "metadata": {},
     "output_type": "execute_result"
    }
   ],
   "source": [
    "diccionario = {\n",
    "    \"nombre\": np.array([\"Julio\", \"Nuria\", \"Jose\", \"Luis\", \"Daniel\", \"Javier\", \"Alberto\", \"Lourdes\"]),\n",
    "    \"edad\": np.array(  [     22,      26,     28,     25,       24,       24,        24,        26]),\n",
    "    \"sexo\": np.array(  [\"Hombre\", \"Mujer\",\"Hombre\",\"Hombre\",\"Hombre\",\"Hombre\", \"Hombre\",  \"Mujer\" ]),\n",
    "}\n",
    "\n",
    "mi_primer_dataframe = pd.DataFrame(diccionario)\n",
    "\n",
    "# Lo mostramos:\n",
    "mi_primer_dataframe"
   ]
  },
  {
   "cell_type": "markdown",
   "metadata": {},
   "source": [
    "Podemos ver que, al igual que con las Series, se ha generado el índice a la izquierda del todo, y todas las columnas comparten dicho índice.\n",
    "\n",
    "Si al crear el DataFrame le pasamos el argumento columns con la lista de columnas, el DataFrame nos respetará el orden de estas:"
   ]
  },
  {
   "cell_type": "code",
   "execution_count": 22,
   "metadata": {},
   "outputs": [
    {
     "data": {
      "text/html": [
       "<div>\n",
       "<style scoped>\n",
       "    .dataframe tbody tr th:only-of-type {\n",
       "        vertical-align: middle;\n",
       "    }\n",
       "\n",
       "    .dataframe tbody tr th {\n",
       "        vertical-align: top;\n",
       "    }\n",
       "\n",
       "    .dataframe thead th {\n",
       "        text-align: right;\n",
       "    }\n",
       "</style>\n",
       "<table border=\"1\" class=\"dataframe\">\n",
       "  <thead>\n",
       "    <tr style=\"text-align: right;\">\n",
       "      <th></th>\n",
       "      <th>nombre</th>\n",
       "      <th>edad</th>\n",
       "      <th>sexo</th>\n",
       "    </tr>\n",
       "  </thead>\n",
       "  <tbody>\n",
       "    <tr>\n",
       "      <th>0</th>\n",
       "      <td>Julio</td>\n",
       "      <td>22</td>\n",
       "      <td>Hombre</td>\n",
       "    </tr>\n",
       "    <tr>\n",
       "      <th>1</th>\n",
       "      <td>Nuria</td>\n",
       "      <td>26</td>\n",
       "      <td>Mujer</td>\n",
       "    </tr>\n",
       "    <tr>\n",
       "      <th>2</th>\n",
       "      <td>Jose</td>\n",
       "      <td>28</td>\n",
       "      <td>Hombre</td>\n",
       "    </tr>\n",
       "    <tr>\n",
       "      <th>3</th>\n",
       "      <td>Luis</td>\n",
       "      <td>25</td>\n",
       "      <td>Hombre</td>\n",
       "    </tr>\n",
       "    <tr>\n",
       "      <th>4</th>\n",
       "      <td>Daniel</td>\n",
       "      <td>24</td>\n",
       "      <td>Hombre</td>\n",
       "    </tr>\n",
       "    <tr>\n",
       "      <th>5</th>\n",
       "      <td>Javier</td>\n",
       "      <td>24</td>\n",
       "      <td>Hombre</td>\n",
       "    </tr>\n",
       "    <tr>\n",
       "      <th>6</th>\n",
       "      <td>Alberto</td>\n",
       "      <td>24</td>\n",
       "      <td>Hombre</td>\n",
       "    </tr>\n",
       "    <tr>\n",
       "      <th>7</th>\n",
       "      <td>Lourdes</td>\n",
       "      <td>26</td>\n",
       "      <td>Mujer</td>\n",
       "    </tr>\n",
       "  </tbody>\n",
       "</table>\n",
       "</div>"
      ],
      "text/plain": [
       "    nombre  edad    sexo\n",
       "0    Julio    22  Hombre\n",
       "1    Nuria    26   Mujer\n",
       "2     Jose    28  Hombre\n",
       "3     Luis    25  Hombre\n",
       "4   Daniel    24  Hombre\n",
       "5   Javier    24  Hombre\n",
       "6  Alberto    24  Hombre\n",
       "7  Lourdes    26   Mujer"
      ]
     },
     "execution_count": 22,
     "metadata": {},
     "output_type": "execute_result"
    }
   ],
   "source": [
    "# Volvemos a crear un dataframe\n",
    "# a partir del mismo diccionario,\n",
    "# pero esta vez con las columnas\n",
    "# en el orden que queremos:\n",
    "\n",
    "otro_dataframe = pd.DataFrame(diccionario, columns = [\"nombre\", \"edad\", \"sexo\"])\n",
    "\n",
    "otro_dataframe"
   ]
  },
  {
   "cell_type": "markdown",
   "metadata": {},
   "source": [
    "Para obtener una determinda columna de un DataFrame, podemos utilizar dos notaciones distintas: dataframe[\"columna\"] y dataframe.columna. Ambas son completamente equivalentes:"
   ]
  },
  {
   "cell_type": "code",
   "execution_count": 23,
   "metadata": {},
   "outputs": [
    {
     "data": {
      "text/plain": [
       "0    22\n",
       "1    26\n",
       "2    28\n",
       "3    25\n",
       "4    24\n",
       "5    24\n",
       "6    24\n",
       "7    26\n",
       "Name: edad, dtype: int64"
      ]
     },
     "execution_count": 23,
     "metadata": {},
     "output_type": "execute_result"
    }
   ],
   "source": [
    "otro_dataframe[\"edad\"]"
   ]
  },
  {
   "cell_type": "markdown",
   "metadata": {},
   "source": [
    "Al hacerlo, obtenemos... ¡Una Serie! ¿Hemos hablado ya del polimorfismo de pandas? ;)\n",
    "\n",
    "Podemos ver que la Serie devuelta comparte el mismo índice que el DataFrame del que procede, y el nombre de la Serie es el de la columna de la que proviene.\n",
    "\n",
    "Para obtener una determinada fila de un DataFrame, se utiliza la notación mi_dataframe.ix[indice], o bien mi_dataframe.ix[numero_de_fila]. Por ejemplo, si queremos obtener la tercera fila:"
   ]
  },
  {
   "cell_type": "code",
   "execution_count": 24,
   "metadata": {},
   "outputs": [
    {
     "name": "stderr",
     "output_type": "stream",
     "text": [
      "/home/albertogcmr/.local/lib/python3.6/site-packages/ipykernel_launcher.py:4: DeprecationWarning: \n",
      ".ix is deprecated. Please use\n",
      ".loc for label based indexing or\n",
      ".iloc for positional indexing\n",
      "\n",
      "See the documentation here:\n",
      "http://pandas.pydata.org/pandas-docs/stable/indexing.html#ix-indexer-is-deprecated\n",
      "  after removing the cwd from sys.path.\n"
     ]
    },
    {
     "data": {
      "text/plain": [
       "nombre      Jose\n",
       "edad          28\n",
       "sexo      Hombre\n",
       "Name: 2, dtype: object"
      ]
     },
     "execution_count": 24,
     "metadata": {},
     "output_type": "execute_result"
    }
   ],
   "source": [
    "# Recordamos que el índice comienza a contar\n",
    "# por 0, así que para la tercera fila,\n",
    "# será el índice 2:\n",
    "otro_dataframe.ix[2]"
   ]
  },
  {
   "cell_type": "markdown",
   "metadata": {},
   "source": [
    "Oopss!! .ix está deprecado, utilizar .loc y .iloc (Python 3)"
   ]
  },
  {
   "cell_type": "code",
   "execution_count": 25,
   "metadata": {},
   "outputs": [
    {
     "data": {
      "text/plain": [
       "nombre      Jose\n",
       "edad          28\n",
       "sexo      Hombre\n",
       "Name: 2, dtype: object"
      ]
     },
     "execution_count": 25,
     "metadata": {},
     "output_type": "execute_result"
    }
   ],
   "source": [
    "otro_dataframe.iloc[2]"
   ]
  },
  {
   "cell_type": "markdown",
   "metadata": {},
   "source": [
    "## Un alto para .loc y .iloc"
   ]
  },
  {
   "cell_type": "markdown",
   "metadata": {},
   "source": [
    "**.loc**, nos permite acceder a un grupo de filas y columnas por label(s) o por array de booleanos. Más info [aquí](https://pandas.pydata.org/pandas-docs/stable/generated/pandas.DataFrame.loc.html)"
   ]
  },
  {
   "cell_type": "code",
   "execution_count": 26,
   "metadata": {},
   "outputs": [
    {
     "data": {
      "text/html": [
       "<div>\n",
       "<style scoped>\n",
       "    .dataframe tbody tr th:only-of-type {\n",
       "        vertical-align: middle;\n",
       "    }\n",
       "\n",
       "    .dataframe tbody tr th {\n",
       "        vertical-align: top;\n",
       "    }\n",
       "\n",
       "    .dataframe thead th {\n",
       "        text-align: right;\n",
       "    }\n",
       "</style>\n",
       "<table border=\"1\" class=\"dataframe\">\n",
       "  <thead>\n",
       "    <tr style=\"text-align: right;\">\n",
       "      <th></th>\n",
       "      <th>max_speed</th>\n",
       "      <th>shield</th>\n",
       "    </tr>\n",
       "  </thead>\n",
       "  <tbody>\n",
       "    <tr>\n",
       "      <th>cobra</th>\n",
       "      <td>1</td>\n",
       "      <td>2</td>\n",
       "    </tr>\n",
       "    <tr>\n",
       "      <th>viper</th>\n",
       "      <td>4</td>\n",
       "      <td>5</td>\n",
       "    </tr>\n",
       "    <tr>\n",
       "      <th>sidewinder</th>\n",
       "      <td>7</td>\n",
       "      <td>8</td>\n",
       "    </tr>\n",
       "  </tbody>\n",
       "</table>\n",
       "</div>"
      ],
      "text/plain": [
       "            max_speed  shield\n",
       "cobra               1       2\n",
       "viper               4       5\n",
       "sidewinder          7       8"
      ]
     },
     "execution_count": 26,
     "metadata": {},
     "output_type": "execute_result"
    }
   ],
   "source": [
    "df = pd.DataFrame([[1, 2], [4, 5], [7, 8]],\n",
    "                  index=['cobra', 'viper', 'sidewinder'],\n",
    "                  columns=['max_speed', 'shield'])\n",
    "df"
   ]
  },
  {
   "cell_type": "code",
   "execution_count": 27,
   "metadata": {},
   "outputs": [
    {
     "data": {
      "text/plain": [
       "max_speed    4\n",
       "shield       5\n",
       "Name: viper, dtype: int64"
      ]
     },
     "execution_count": 27,
     "metadata": {},
     "output_type": "execute_result"
    }
   ],
   "source": [
    "df.loc['viper']"
   ]
  },
  {
   "cell_type": "markdown",
   "metadata": {},
   "source": [
    "Si utilizamos [[]] nos devuelve un DataFrame"
   ]
  },
  {
   "cell_type": "code",
   "execution_count": 28,
   "metadata": {},
   "outputs": [
    {
     "data": {
      "text/html": [
       "<div>\n",
       "<style scoped>\n",
       "    .dataframe tbody tr th:only-of-type {\n",
       "        vertical-align: middle;\n",
       "    }\n",
       "\n",
       "    .dataframe tbody tr th {\n",
       "        vertical-align: top;\n",
       "    }\n",
       "\n",
       "    .dataframe thead th {\n",
       "        text-align: right;\n",
       "    }\n",
       "</style>\n",
       "<table border=\"1\" class=\"dataframe\">\n",
       "  <thead>\n",
       "    <tr style=\"text-align: right;\">\n",
       "      <th></th>\n",
       "      <th>max_speed</th>\n",
       "      <th>shield</th>\n",
       "    </tr>\n",
       "  </thead>\n",
       "  <tbody>\n",
       "    <tr>\n",
       "      <th>viper</th>\n",
       "      <td>4</td>\n",
       "      <td>5</td>\n",
       "    </tr>\n",
       "    <tr>\n",
       "      <th>sidewinder</th>\n",
       "      <td>7</td>\n",
       "      <td>8</td>\n",
       "    </tr>\n",
       "  </tbody>\n",
       "</table>\n",
       "</div>"
      ],
      "text/plain": [
       "            max_speed  shield\n",
       "viper               4       5\n",
       "sidewinder          7       8"
      ]
     },
     "execution_count": 28,
     "metadata": {},
     "output_type": "execute_result"
    }
   ],
   "source": [
    "df.loc[['viper', 'sidewinder']]"
   ]
  },
  {
   "cell_type": "markdown",
   "metadata": {},
   "source": [
    "Una fila y una columna "
   ]
  },
  {
   "cell_type": "code",
   "execution_count": 29,
   "metadata": {},
   "outputs": [
    {
     "data": {
      "text/plain": [
       "2"
      ]
     },
     "execution_count": 29,
     "metadata": {},
     "output_type": "execute_result"
    }
   ],
   "source": [
    "df.loc['cobra', 'shield']"
   ]
  },
  {
   "cell_type": "markdown",
   "metadata": {},
   "source": [
    "Slicing con labels para fila y una única label para columna "
   ]
  },
  {
   "cell_type": "code",
   "execution_count": 30,
   "metadata": {},
   "outputs": [
    {
     "data": {
      "text/plain": [
       "cobra    1\n",
       "viper    4\n",
       "Name: max_speed, dtype: int64"
      ]
     },
     "execution_count": 30,
     "metadata": {},
     "output_type": "execute_result"
    }
   ],
   "source": [
    "df.loc['cobra':'viper', 'max_speed']"
   ]
  },
  {
   "cell_type": "markdown",
   "metadata": {},
   "source": [
    "Si introducimos un condicional nos devuelve una Series de pandas."
   ]
  },
  {
   "cell_type": "code",
   "execution_count": 31,
   "metadata": {},
   "outputs": [
    {
     "name": "stdout",
     "output_type": "stream",
     "text": [
      "            max_speed\n",
      "sidewinder          7\n"
     ]
    }
   ],
   "source": [
    "#Conditional that returns a boolean Series with column labels specified\n",
    "series = df.loc[df['shield'] > 6, ['max_speed']]\n",
    "print(series)"
   ]
  },
  {
   "cell_type": "markdown",
   "metadata": {},
   "source": [
    "Podemos fijar un valor para todos los registros de una lista de labels(columnas)"
   ]
  },
  {
   "cell_type": "code",
   "execution_count": 32,
   "metadata": {},
   "outputs": [
    {
     "data": {
      "text/html": [
       "<div>\n",
       "<style scoped>\n",
       "    .dataframe tbody tr th:only-of-type {\n",
       "        vertical-align: middle;\n",
       "    }\n",
       "\n",
       "    .dataframe tbody tr th {\n",
       "        vertical-align: top;\n",
       "    }\n",
       "\n",
       "    .dataframe thead th {\n",
       "        text-align: right;\n",
       "    }\n",
       "</style>\n",
       "<table border=\"1\" class=\"dataframe\">\n",
       "  <thead>\n",
       "    <tr style=\"text-align: right;\">\n",
       "      <th></th>\n",
       "      <th>max_speed</th>\n",
       "      <th>shield</th>\n",
       "    </tr>\n",
       "  </thead>\n",
       "  <tbody>\n",
       "    <tr>\n",
       "      <th>cobra</th>\n",
       "      <td>1</td>\n",
       "      <td>2</td>\n",
       "    </tr>\n",
       "    <tr>\n",
       "      <th>viper</th>\n",
       "      <td>4</td>\n",
       "      <td>50</td>\n",
       "    </tr>\n",
       "    <tr>\n",
       "      <th>sidewinder</th>\n",
       "      <td>7</td>\n",
       "      <td>50</td>\n",
       "    </tr>\n",
       "  </tbody>\n",
       "</table>\n",
       "</div>"
      ],
      "text/plain": [
       "            max_speed  shield\n",
       "cobra               1       2\n",
       "viper               4      50\n",
       "sidewinder          7      50"
      ]
     },
     "execution_count": 32,
     "metadata": {},
     "output_type": "execute_result"
    }
   ],
   "source": [
    "df.loc[['viper', 'sidewinder'], ['shield']] = 50\n",
    "df"
   ]
  },
  {
   "cell_type": "markdown",
   "metadata": {},
   "source": [
    "Para una fila entera "
   ]
  },
  {
   "cell_type": "code",
   "execution_count": 33,
   "metadata": {},
   "outputs": [
    {
     "data": {
      "text/html": [
       "<div>\n",
       "<style scoped>\n",
       "    .dataframe tbody tr th:only-of-type {\n",
       "        vertical-align: middle;\n",
       "    }\n",
       "\n",
       "    .dataframe tbody tr th {\n",
       "        vertical-align: top;\n",
       "    }\n",
       "\n",
       "    .dataframe thead th {\n",
       "        text-align: right;\n",
       "    }\n",
       "</style>\n",
       "<table border=\"1\" class=\"dataframe\">\n",
       "  <thead>\n",
       "    <tr style=\"text-align: right;\">\n",
       "      <th></th>\n",
       "      <th>max_speed</th>\n",
       "      <th>shield</th>\n",
       "    </tr>\n",
       "  </thead>\n",
       "  <tbody>\n",
       "    <tr>\n",
       "      <th>cobra</th>\n",
       "      <td>10</td>\n",
       "      <td>10</td>\n",
       "    </tr>\n",
       "    <tr>\n",
       "      <th>viper</th>\n",
       "      <td>4</td>\n",
       "      <td>50</td>\n",
       "    </tr>\n",
       "    <tr>\n",
       "      <th>sidewinder</th>\n",
       "      <td>7</td>\n",
       "      <td>50</td>\n",
       "    </tr>\n",
       "  </tbody>\n",
       "</table>\n",
       "</div>"
      ],
      "text/plain": [
       "            max_speed  shield\n",
       "cobra              10      10\n",
       "viper               4      50\n",
       "sidewinder          7      50"
      ]
     },
     "execution_count": 33,
     "metadata": {},
     "output_type": "execute_result"
    }
   ],
   "source": [
    "df.loc['cobra'] = 10\n",
    "df"
   ]
  },
  {
   "cell_type": "markdown",
   "metadata": {},
   "source": [
    "O para una columna entera"
   ]
  },
  {
   "cell_type": "code",
   "execution_count": 34,
   "metadata": {},
   "outputs": [
    {
     "data": {
      "text/html": [
       "<div>\n",
       "<style scoped>\n",
       "    .dataframe tbody tr th:only-of-type {\n",
       "        vertical-align: middle;\n",
       "    }\n",
       "\n",
       "    .dataframe tbody tr th {\n",
       "        vertical-align: top;\n",
       "    }\n",
       "\n",
       "    .dataframe thead th {\n",
       "        text-align: right;\n",
       "    }\n",
       "</style>\n",
       "<table border=\"1\" class=\"dataframe\">\n",
       "  <thead>\n",
       "    <tr style=\"text-align: right;\">\n",
       "      <th></th>\n",
       "      <th>max_speed</th>\n",
       "      <th>shield</th>\n",
       "    </tr>\n",
       "  </thead>\n",
       "  <tbody>\n",
       "    <tr>\n",
       "      <th>cobra</th>\n",
       "      <td>30</td>\n",
       "      <td>10</td>\n",
       "    </tr>\n",
       "    <tr>\n",
       "      <th>viper</th>\n",
       "      <td>30</td>\n",
       "      <td>50</td>\n",
       "    </tr>\n",
       "    <tr>\n",
       "      <th>sidewinder</th>\n",
       "      <td>30</td>\n",
       "      <td>50</td>\n",
       "    </tr>\n",
       "  </tbody>\n",
       "</table>\n",
       "</div>"
      ],
      "text/plain": [
       "            max_speed  shield\n",
       "cobra              30      10\n",
       "viper              30      50\n",
       "sidewinder         30      50"
      ]
     },
     "execution_count": 34,
     "metadata": {},
     "output_type": "execute_result"
    }
   ],
   "source": [
    "df.loc[:, 'max_speed'] = 30\n",
    "df"
   ]
  },
  {
   "cell_type": "markdown",
   "metadata": {},
   "source": [
    "**.iloc** igual que **.loc** pero para selección de posición basada en indexación con integers "
   ]
  },
  {
   "cell_type": "markdown",
   "metadata": {},
   "source": [
    "### Volvamos a nuestro DataFrame"
   ]
  },
  {
   "cell_type": "markdown",
   "metadata": {},
   "source": [
    "Una vez creado un DataFrame, podemos añadir columnas a posteriori simplemente haciendo referencia a la columna (que todavía no existe), y pasándole los valores que queramos que tenga:"
   ]
  },
  {
   "cell_type": "code",
   "execution_count": 35,
   "metadata": {},
   "outputs": [
    {
     "data": {
      "text/html": [
       "<div>\n",
       "<style scoped>\n",
       "    .dataframe tbody tr th:only-of-type {\n",
       "        vertical-align: middle;\n",
       "    }\n",
       "\n",
       "    .dataframe tbody tr th {\n",
       "        vertical-align: top;\n",
       "    }\n",
       "\n",
       "    .dataframe thead th {\n",
       "        text-align: right;\n",
       "    }\n",
       "</style>\n",
       "<table border=\"1\" class=\"dataframe\">\n",
       "  <thead>\n",
       "    <tr style=\"text-align: right;\">\n",
       "      <th></th>\n",
       "      <th>nombre</th>\n",
       "      <th>edad</th>\n",
       "      <th>sexo</th>\n",
       "      <th>rubio/a</th>\n",
       "    </tr>\n",
       "  </thead>\n",
       "  <tbody>\n",
       "    <tr>\n",
       "      <th>0</th>\n",
       "      <td>Julio</td>\n",
       "      <td>22</td>\n",
       "      <td>Hombre</td>\n",
       "      <td>False</td>\n",
       "    </tr>\n",
       "    <tr>\n",
       "      <th>1</th>\n",
       "      <td>Nuria</td>\n",
       "      <td>26</td>\n",
       "      <td>Mujer</td>\n",
       "      <td>True</td>\n",
       "    </tr>\n",
       "    <tr>\n",
       "      <th>2</th>\n",
       "      <td>Jose</td>\n",
       "      <td>28</td>\n",
       "      <td>Hombre</td>\n",
       "      <td>False</td>\n",
       "    </tr>\n",
       "    <tr>\n",
       "      <th>3</th>\n",
       "      <td>Luis</td>\n",
       "      <td>25</td>\n",
       "      <td>Hombre</td>\n",
       "      <td>False</td>\n",
       "    </tr>\n",
       "    <tr>\n",
       "      <th>4</th>\n",
       "      <td>Daniel</td>\n",
       "      <td>24</td>\n",
       "      <td>Hombre</td>\n",
       "      <td>False</td>\n",
       "    </tr>\n",
       "    <tr>\n",
       "      <th>5</th>\n",
       "      <td>Javier</td>\n",
       "      <td>24</td>\n",
       "      <td>Hombre</td>\n",
       "      <td>True</td>\n",
       "    </tr>\n",
       "    <tr>\n",
       "      <th>6</th>\n",
       "      <td>Alberto</td>\n",
       "      <td>24</td>\n",
       "      <td>Hombre</td>\n",
       "      <td>False</td>\n",
       "    </tr>\n",
       "    <tr>\n",
       "      <th>7</th>\n",
       "      <td>Lourdes</td>\n",
       "      <td>26</td>\n",
       "      <td>Mujer</td>\n",
       "      <td>False</td>\n",
       "    </tr>\n",
       "  </tbody>\n",
       "</table>\n",
       "</div>"
      ],
      "text/plain": [
       "    nombre  edad    sexo  rubio/a\n",
       "0    Julio    22  Hombre    False\n",
       "1    Nuria    26   Mujer     True\n",
       "2     Jose    28  Hombre    False\n",
       "3     Luis    25  Hombre    False\n",
       "4   Daniel    24  Hombre    False\n",
       "5   Javier    24  Hombre     True\n",
       "6  Alberto    24  Hombre    False\n",
       "7  Lourdes    26   Mujer    False"
      ]
     },
     "execution_count": 35,
     "metadata": {},
     "output_type": "execute_result"
    }
   ],
   "source": [
    "otro_dataframe[\"rubio/a\"] = np.array([False, True, False, False, False, True, False, False])\n",
    "otro_dataframe"
   ]
  },
  {
   "cell_type": "markdown",
   "metadata": {},
   "source": [
    "Del mismo modo, podemos re-asignar valores a una columna del DataFrame en cualquier momento (aprovechando en gran medida las capacidades de Numpy):"
   ]
  },
  {
   "cell_type": "code",
   "execution_count": 36,
   "metadata": {},
   "outputs": [
    {
     "data": {
      "text/html": [
       "<div>\n",
       "<style scoped>\n",
       "    .dataframe tbody tr th:only-of-type {\n",
       "        vertical-align: middle;\n",
       "    }\n",
       "\n",
       "    .dataframe tbody tr th {\n",
       "        vertical-align: top;\n",
       "    }\n",
       "\n",
       "    .dataframe thead th {\n",
       "        text-align: right;\n",
       "    }\n",
       "</style>\n",
       "<table border=\"1\" class=\"dataframe\">\n",
       "  <thead>\n",
       "    <tr style=\"text-align: right;\">\n",
       "      <th></th>\n",
       "      <th>nombre</th>\n",
       "      <th>edad</th>\n",
       "      <th>sexo</th>\n",
       "      <th>rubio/a</th>\n",
       "    </tr>\n",
       "  </thead>\n",
       "  <tbody>\n",
       "    <tr>\n",
       "      <th>0</th>\n",
       "      <td>Julio</td>\n",
       "      <td>22</td>\n",
       "      <td>Hombre</td>\n",
       "      <td>True</td>\n",
       "    </tr>\n",
       "    <tr>\n",
       "      <th>1</th>\n",
       "      <td>Nuria</td>\n",
       "      <td>26</td>\n",
       "      <td>Mujer</td>\n",
       "      <td>True</td>\n",
       "    </tr>\n",
       "    <tr>\n",
       "      <th>2</th>\n",
       "      <td>Jose</td>\n",
       "      <td>28</td>\n",
       "      <td>Hombre</td>\n",
       "      <td>True</td>\n",
       "    </tr>\n",
       "    <tr>\n",
       "      <th>3</th>\n",
       "      <td>Luis</td>\n",
       "      <td>25</td>\n",
       "      <td>Hombre</td>\n",
       "      <td>True</td>\n",
       "    </tr>\n",
       "    <tr>\n",
       "      <th>4</th>\n",
       "      <td>Daniel</td>\n",
       "      <td>24</td>\n",
       "      <td>Hombre</td>\n",
       "      <td>True</td>\n",
       "    </tr>\n",
       "    <tr>\n",
       "      <th>5</th>\n",
       "      <td>Javier</td>\n",
       "      <td>24</td>\n",
       "      <td>Hombre</td>\n",
       "      <td>True</td>\n",
       "    </tr>\n",
       "    <tr>\n",
       "      <th>6</th>\n",
       "      <td>Alberto</td>\n",
       "      <td>24</td>\n",
       "      <td>Hombre</td>\n",
       "      <td>True</td>\n",
       "    </tr>\n",
       "    <tr>\n",
       "      <th>7</th>\n",
       "      <td>Lourdes</td>\n",
       "      <td>26</td>\n",
       "      <td>Mujer</td>\n",
       "      <td>True</td>\n",
       "    </tr>\n",
       "  </tbody>\n",
       "</table>\n",
       "</div>"
      ],
      "text/plain": [
       "    nombre  edad    sexo  rubio/a\n",
       "0    Julio    22  Hombre     True\n",
       "1    Nuria    26   Mujer     True\n",
       "2     Jose    28  Hombre     True\n",
       "3     Luis    25  Hombre     True\n",
       "4   Daniel    24  Hombre     True\n",
       "5   Javier    24  Hombre     True\n",
       "6  Alberto    24  Hombre     True\n",
       "7  Lourdes    26   Mujer     True"
      ]
     },
     "execution_count": 36,
     "metadata": {},
     "output_type": "execute_result"
    }
   ],
   "source": [
    "# Pongamos todos los valores de \n",
    "# la columna rubio/a a True:\n",
    "otro_dataframe[\"rubio/a\"] = True\n",
    "\n",
    "otro_dataframe"
   ]
  },
  {
   "cell_type": "markdown",
   "metadata": {},
   "source": [
    "Podemos obtener las dimensiones de un DataFrame exactamente igual que lo hacíamos con las matrices en Numpy:"
   ]
  },
  {
   "cell_type": "code",
   "execution_count": 37,
   "metadata": {},
   "outputs": [
    {
     "data": {
      "text/plain": [
       "(8, 4)"
      ]
     },
     "execution_count": 37,
     "metadata": {},
     "output_type": "execute_result"
    }
   ],
   "source": [
    "otro_dataframe.shape"
   ]
  },
  {
   "cell_type": "markdown",
   "metadata": {},
   "source": [
    "También podemos trasponer los DataFrames con mi_dataframe.T, al igual que hacíamos con las matrices de Numpy:"
   ]
  },
  {
   "cell_type": "code",
   "execution_count": 38,
   "metadata": {},
   "outputs": [
    {
     "data": {
      "text/html": [
       "<div>\n",
       "<style scoped>\n",
       "    .dataframe tbody tr th:only-of-type {\n",
       "        vertical-align: middle;\n",
       "    }\n",
       "\n",
       "    .dataframe tbody tr th {\n",
       "        vertical-align: top;\n",
       "    }\n",
       "\n",
       "    .dataframe thead th {\n",
       "        text-align: right;\n",
       "    }\n",
       "</style>\n",
       "<table border=\"1\" class=\"dataframe\">\n",
       "  <thead>\n",
       "    <tr style=\"text-align: right;\">\n",
       "      <th></th>\n",
       "      <th>0</th>\n",
       "      <th>1</th>\n",
       "      <th>2</th>\n",
       "      <th>3</th>\n",
       "      <th>4</th>\n",
       "      <th>5</th>\n",
       "      <th>6</th>\n",
       "      <th>7</th>\n",
       "    </tr>\n",
       "  </thead>\n",
       "  <tbody>\n",
       "    <tr>\n",
       "      <th>nombre</th>\n",
       "      <td>Julio</td>\n",
       "      <td>Nuria</td>\n",
       "      <td>Jose</td>\n",
       "      <td>Luis</td>\n",
       "      <td>Daniel</td>\n",
       "      <td>Javier</td>\n",
       "      <td>Alberto</td>\n",
       "      <td>Lourdes</td>\n",
       "    </tr>\n",
       "    <tr>\n",
       "      <th>edad</th>\n",
       "      <td>22</td>\n",
       "      <td>26</td>\n",
       "      <td>28</td>\n",
       "      <td>25</td>\n",
       "      <td>24</td>\n",
       "      <td>24</td>\n",
       "      <td>24</td>\n",
       "      <td>26</td>\n",
       "    </tr>\n",
       "    <tr>\n",
       "      <th>sexo</th>\n",
       "      <td>Hombre</td>\n",
       "      <td>Mujer</td>\n",
       "      <td>Hombre</td>\n",
       "      <td>Hombre</td>\n",
       "      <td>Hombre</td>\n",
       "      <td>Hombre</td>\n",
       "      <td>Hombre</td>\n",
       "      <td>Mujer</td>\n",
       "    </tr>\n",
       "    <tr>\n",
       "      <th>rubio/a</th>\n",
       "      <td>True</td>\n",
       "      <td>True</td>\n",
       "      <td>True</td>\n",
       "      <td>True</td>\n",
       "      <td>True</td>\n",
       "      <td>True</td>\n",
       "      <td>True</td>\n",
       "      <td>True</td>\n",
       "    </tr>\n",
       "  </tbody>\n",
       "</table>\n",
       "</div>"
      ],
      "text/plain": [
       "              0      1       2       3       4       5        6        7\n",
       "nombre    Julio  Nuria    Jose    Luis  Daniel  Javier  Alberto  Lourdes\n",
       "edad         22     26      28      25      24      24       24       26\n",
       "sexo     Hombre  Mujer  Hombre  Hombre  Hombre  Hombre   Hombre    Mujer\n",
       "rubio/a    True   True    True    True    True    True     True     True"
      ]
     },
     "execution_count": 38,
     "metadata": {},
     "output_type": "execute_result"
    }
   ],
   "source": [
    "otro_dataframe.T"
   ]
  },
  {
   "cell_type": "code",
   "execution_count": 39,
   "metadata": {},
   "outputs": [
    {
     "data": {
      "text/plain": [
       "(4, 8)"
      ]
     },
     "execution_count": 39,
     "metadata": {},
     "output_type": "execute_result"
    }
   ],
   "source": [
    "(otro_dataframe.T).shape"
   ]
  },
  {
   "cell_type": "markdown",
   "metadata": {},
   "source": [
    "Otra forma frecuente de construir DataFrames es pasando un diccionario de Series:"
   ]
  },
  {
   "cell_type": "code",
   "execution_count": 40,
   "metadata": {},
   "outputs": [
    {
     "data": {
      "text/plain": [
       "a    0\n",
       "b    1\n",
       "c    2\n",
       "d    3\n",
       "e    4\n",
       "f    5\n",
       "dtype: int64"
      ]
     },
     "execution_count": 40,
     "metadata": {},
     "output_type": "execute_result"
    }
   ],
   "source": [
    "# Recordamos la serie_uno que hicimos antes:\n",
    "serie_uno"
   ]
  },
  {
   "cell_type": "code",
   "execution_count": 41,
   "metadata": {},
   "outputs": [
    {
     "data": {
      "text/plain": [
       "b    10\n",
       "c    11\n",
       "a    12\n",
       "d    13\n",
       "f    14\n",
       "e    15\n",
       "dtype: int64"
      ]
     },
     "execution_count": 41,
     "metadata": {},
     "output_type": "execute_result"
    }
   ],
   "source": [
    "# Y la serie_dos:\n",
    "serie_dos"
   ]
  },
  {
   "cell_type": "code",
   "execution_count": 42,
   "metadata": {},
   "outputs": [
    {
     "data": {
      "text/html": [
       "<div>\n",
       "<style scoped>\n",
       "    .dataframe tbody tr th:only-of-type {\n",
       "        vertical-align: middle;\n",
       "    }\n",
       "\n",
       "    .dataframe tbody tr th {\n",
       "        vertical-align: top;\n",
       "    }\n",
       "\n",
       "    .dataframe thead th {\n",
       "        text-align: right;\n",
       "    }\n",
       "</style>\n",
       "<table border=\"1\" class=\"dataframe\">\n",
       "  <thead>\n",
       "    <tr style=\"text-align: right;\">\n",
       "      <th></th>\n",
       "      <th>primera</th>\n",
       "      <th>segunda</th>\n",
       "    </tr>\n",
       "  </thead>\n",
       "  <tbody>\n",
       "    <tr>\n",
       "      <th>a</th>\n",
       "      <td>0</td>\n",
       "      <td>12</td>\n",
       "    </tr>\n",
       "    <tr>\n",
       "      <th>b</th>\n",
       "      <td>1</td>\n",
       "      <td>10</td>\n",
       "    </tr>\n",
       "    <tr>\n",
       "      <th>c</th>\n",
       "      <td>2</td>\n",
       "      <td>11</td>\n",
       "    </tr>\n",
       "    <tr>\n",
       "      <th>d</th>\n",
       "      <td>3</td>\n",
       "      <td>13</td>\n",
       "    </tr>\n",
       "    <tr>\n",
       "      <th>e</th>\n",
       "      <td>4</td>\n",
       "      <td>15</td>\n",
       "    </tr>\n",
       "    <tr>\n",
       "      <th>f</th>\n",
       "      <td>5</td>\n",
       "      <td>14</td>\n",
       "    </tr>\n",
       "  </tbody>\n",
       "</table>\n",
       "</div>"
      ],
      "text/plain": [
       "   primera  segunda\n",
       "a        0       12\n",
       "b        1       10\n",
       "c        2       11\n",
       "d        3       13\n",
       "e        4       15\n",
       "f        5       14"
      ]
     },
     "execution_count": 42,
     "metadata": {},
     "output_type": "execute_result"
    }
   ],
   "source": [
    "pd.DataFrame({\"primera\": serie_uno,\n",
    "              \"segunda\":serie_dos}\n",
    "            )"
   ]
  },
  {
   "cell_type": "markdown",
   "metadata": {},
   "source": [
    "Existen otras muchas formas (quizás demasiadas) para construir DataFrames. [Aquí](http://pandas.pydata.org/pandas-docs/stable/dsintro.html#dataframe) puedes ver la lista completa."
   ]
  },
  {
   "cell_type": "markdown",
   "metadata": {},
   "source": [
    "Al igual que en las Series, podemos dar nombre al índice de nuestro DataFrame, al igual que al conjunto de columnas:"
   ]
  },
  {
   "cell_type": "code",
   "execution_count": 43,
   "metadata": {},
   "outputs": [
    {
     "data": {
      "text/html": [
       "<div>\n",
       "<style scoped>\n",
       "    .dataframe tbody tr th:only-of-type {\n",
       "        vertical-align: middle;\n",
       "    }\n",
       "\n",
       "    .dataframe tbody tr th {\n",
       "        vertical-align: top;\n",
       "    }\n",
       "\n",
       "    .dataframe thead th {\n",
       "        text-align: right;\n",
       "    }\n",
       "</style>\n",
       "<table border=\"1\" class=\"dataframe\">\n",
       "  <thead>\n",
       "    <tr style=\"text-align: right;\">\n",
       "      <th>variables</th>\n",
       "      <th>nombre</th>\n",
       "      <th>edad</th>\n",
       "      <th>sexo</th>\n",
       "      <th>rubio/a</th>\n",
       "    </tr>\n",
       "    <tr>\n",
       "      <th>id</th>\n",
       "      <th></th>\n",
       "      <th></th>\n",
       "      <th></th>\n",
       "      <th></th>\n",
       "    </tr>\n",
       "  </thead>\n",
       "  <tbody>\n",
       "    <tr>\n",
       "      <th>0</th>\n",
       "      <td>Julio</td>\n",
       "      <td>22</td>\n",
       "      <td>Hombre</td>\n",
       "      <td>True</td>\n",
       "    </tr>\n",
       "    <tr>\n",
       "      <th>1</th>\n",
       "      <td>Nuria</td>\n",
       "      <td>26</td>\n",
       "      <td>Mujer</td>\n",
       "      <td>True</td>\n",
       "    </tr>\n",
       "    <tr>\n",
       "      <th>2</th>\n",
       "      <td>Jose</td>\n",
       "      <td>28</td>\n",
       "      <td>Hombre</td>\n",
       "      <td>True</td>\n",
       "    </tr>\n",
       "    <tr>\n",
       "      <th>3</th>\n",
       "      <td>Luis</td>\n",
       "      <td>25</td>\n",
       "      <td>Hombre</td>\n",
       "      <td>True</td>\n",
       "    </tr>\n",
       "    <tr>\n",
       "      <th>4</th>\n",
       "      <td>Daniel</td>\n",
       "      <td>24</td>\n",
       "      <td>Hombre</td>\n",
       "      <td>True</td>\n",
       "    </tr>\n",
       "    <tr>\n",
       "      <th>5</th>\n",
       "      <td>Javier</td>\n",
       "      <td>24</td>\n",
       "      <td>Hombre</td>\n",
       "      <td>True</td>\n",
       "    </tr>\n",
       "    <tr>\n",
       "      <th>6</th>\n",
       "      <td>Alberto</td>\n",
       "      <td>24</td>\n",
       "      <td>Hombre</td>\n",
       "      <td>True</td>\n",
       "    </tr>\n",
       "    <tr>\n",
       "      <th>7</th>\n",
       "      <td>Lourdes</td>\n",
       "      <td>26</td>\n",
       "      <td>Mujer</td>\n",
       "      <td>True</td>\n",
       "    </tr>\n",
       "  </tbody>\n",
       "</table>\n",
       "</div>"
      ],
      "text/plain": [
       "variables   nombre  edad    sexo  rubio/a\n",
       "id                                       \n",
       "0            Julio    22  Hombre     True\n",
       "1            Nuria    26   Mujer     True\n",
       "2             Jose    28  Hombre     True\n",
       "3             Luis    25  Hombre     True\n",
       "4           Daniel    24  Hombre     True\n",
       "5           Javier    24  Hombre     True\n",
       "6          Alberto    24  Hombre     True\n",
       "7          Lourdes    26   Mujer     True"
      ]
     },
     "execution_count": 43,
     "metadata": {},
     "output_type": "execute_result"
    }
   ],
   "source": [
    "otro_dataframe.index.name = \"id\"\n",
    "otro_dataframe.columns.name = \"variables\"\n",
    "\n",
    "otro_dataframe"
   ]
  },
  {
   "cell_type": "markdown",
   "metadata": {},
   "source": [
    "Podemos también obtener los valores \"en crudo\" del DataFrame, quitando de por medio los índices, nombres de columnas y demás cosas con mi_dataframe.values:"
   ]
  },
  {
   "cell_type": "code",
   "execution_count": 44,
   "metadata": {},
   "outputs": [
    {
     "data": {
      "text/plain": [
       "array([['Julio', 22, 'Hombre', True],\n",
       "       ['Nuria', 26, 'Mujer', True],\n",
       "       ['Jose', 28, 'Hombre', True],\n",
       "       ['Luis', 25, 'Hombre', True],\n",
       "       ['Daniel', 24, 'Hombre', True],\n",
       "       ['Javier', 24, 'Hombre', True],\n",
       "       ['Alberto', 24, 'Hombre', True],\n",
       "       ['Lourdes', 26, 'Mujer', True]], dtype=object)"
      ]
     },
     "execution_count": 44,
     "metadata": {},
     "output_type": "execute_result"
    }
   ],
   "source": [
    "otro_dataframe.values"
   ]
  },
  {
   "cell_type": "markdown",
   "metadata": {},
   "source": [
    "Parece que nos ha devuelto un array de Numpy, con forma de matriz que cuadra con la estructura y dimensiones del DataFrame original. Polimorfismo de nuevo..."
   ]
  },
  {
   "cell_type": "markdown",
   "metadata": {},
   "source": [
    "**Como tenemos variados tipos de dato dentro de la matriz de Numpy generada, el dtype de la matriz es object.**"
   ]
  },
  {
   "cell_type": "markdown",
   "metadata": {},
   "source": [
    "### Indexado y slicing de DataFrames"
   ]
  },
  {
   "cell_type": "markdown",
   "metadata": {},
   "source": [
    "Ya hemos visto que podemos obtener una columna de un DataFrame con mi_dataframe[\"columna\"] o mi_dataframe.columna:"
   ]
  },
  {
   "cell_type": "code",
   "execution_count": 45,
   "metadata": {},
   "outputs": [
    {
     "data": {
      "text/plain": [
       "id\n",
       "0    Hombre\n",
       "1     Mujer\n",
       "2    Hombre\n",
       "3    Hombre\n",
       "4    Hombre\n",
       "5    Hombre\n",
       "6    Hombre\n",
       "7     Mujer\n",
       "Name: sexo, dtype: object"
      ]
     },
     "execution_count": 45,
     "metadata": {},
     "output_type": "execute_result"
    }
   ],
   "source": [
    "# Vamos a cambiar el nombre de nuestra\n",
    "# variable con el DataFrame, que otro_dataframe\n",
    "# es feo. Se suele usar mucho la abreviatura df:\n",
    "\n",
    "df = otro_dataframe\n",
    "\n",
    "df[\"sexo\"]"
   ]
  },
  {
   "cell_type": "markdown",
   "metadata": {},
   "source": [
    "Podemos también seleccionar varias columnas, pasando una lista con los nombres de las mismas:"
   ]
  },
  {
   "cell_type": "code",
   "execution_count": 46,
   "metadata": {},
   "outputs": [
    {
     "data": {
      "text/html": [
       "<div>\n",
       "<style scoped>\n",
       "    .dataframe tbody tr th:only-of-type {\n",
       "        vertical-align: middle;\n",
       "    }\n",
       "\n",
       "    .dataframe tbody tr th {\n",
       "        vertical-align: top;\n",
       "    }\n",
       "\n",
       "    .dataframe thead th {\n",
       "        text-align: right;\n",
       "    }\n",
       "</style>\n",
       "<table border=\"1\" class=\"dataframe\">\n",
       "  <thead>\n",
       "    <tr style=\"text-align: right;\">\n",
       "      <th>variables</th>\n",
       "      <th>nombre</th>\n",
       "      <th>sexo</th>\n",
       "    </tr>\n",
       "    <tr>\n",
       "      <th>id</th>\n",
       "      <th></th>\n",
       "      <th></th>\n",
       "    </tr>\n",
       "  </thead>\n",
       "  <tbody>\n",
       "    <tr>\n",
       "      <th>0</th>\n",
       "      <td>Julio</td>\n",
       "      <td>Hombre</td>\n",
       "    </tr>\n",
       "    <tr>\n",
       "      <th>1</th>\n",
       "      <td>Nuria</td>\n",
       "      <td>Mujer</td>\n",
       "    </tr>\n",
       "    <tr>\n",
       "      <th>2</th>\n",
       "      <td>Jose</td>\n",
       "      <td>Hombre</td>\n",
       "    </tr>\n",
       "    <tr>\n",
       "      <th>3</th>\n",
       "      <td>Luis</td>\n",
       "      <td>Hombre</td>\n",
       "    </tr>\n",
       "    <tr>\n",
       "      <th>4</th>\n",
       "      <td>Daniel</td>\n",
       "      <td>Hombre</td>\n",
       "    </tr>\n",
       "    <tr>\n",
       "      <th>5</th>\n",
       "      <td>Javier</td>\n",
       "      <td>Hombre</td>\n",
       "    </tr>\n",
       "    <tr>\n",
       "      <th>6</th>\n",
       "      <td>Alberto</td>\n",
       "      <td>Hombre</td>\n",
       "    </tr>\n",
       "    <tr>\n",
       "      <th>7</th>\n",
       "      <td>Lourdes</td>\n",
       "      <td>Mujer</td>\n",
       "    </tr>\n",
       "  </tbody>\n",
       "</table>\n",
       "</div>"
      ],
      "text/plain": [
       "variables   nombre    sexo\n",
       "id                        \n",
       "0            Julio  Hombre\n",
       "1            Nuria   Mujer\n",
       "2             Jose  Hombre\n",
       "3             Luis  Hombre\n",
       "4           Daniel  Hombre\n",
       "5           Javier  Hombre\n",
       "6          Alberto  Hombre\n",
       "7          Lourdes   Mujer"
      ]
     },
     "execution_count": 46,
     "metadata": {},
     "output_type": "execute_result"
    }
   ],
   "source": [
    "df[[\"nombre\", \"sexo\"]]"
   ]
  },
  {
   "cell_type": "markdown",
   "metadata": {},
   "source": [
    "Para obtener las primeras 3 filas de nuestro DataFrame hacemos:"
   ]
  },
  {
   "cell_type": "code",
   "execution_count": 47,
   "metadata": {},
   "outputs": [
    {
     "data": {
      "text/html": [
       "<div>\n",
       "<style scoped>\n",
       "    .dataframe tbody tr th:only-of-type {\n",
       "        vertical-align: middle;\n",
       "    }\n",
       "\n",
       "    .dataframe tbody tr th {\n",
       "        vertical-align: top;\n",
       "    }\n",
       "\n",
       "    .dataframe thead th {\n",
       "        text-align: right;\n",
       "    }\n",
       "</style>\n",
       "<table border=\"1\" class=\"dataframe\">\n",
       "  <thead>\n",
       "    <tr style=\"text-align: right;\">\n",
       "      <th>variables</th>\n",
       "      <th>nombre</th>\n",
       "      <th>edad</th>\n",
       "      <th>sexo</th>\n",
       "      <th>rubio/a</th>\n",
       "    </tr>\n",
       "    <tr>\n",
       "      <th>id</th>\n",
       "      <th></th>\n",
       "      <th></th>\n",
       "      <th></th>\n",
       "      <th></th>\n",
       "    </tr>\n",
       "  </thead>\n",
       "  <tbody>\n",
       "    <tr>\n",
       "      <th>0</th>\n",
       "      <td>Julio</td>\n",
       "      <td>22</td>\n",
       "      <td>Hombre</td>\n",
       "      <td>True</td>\n",
       "    </tr>\n",
       "    <tr>\n",
       "      <th>1</th>\n",
       "      <td>Nuria</td>\n",
       "      <td>26</td>\n",
       "      <td>Mujer</td>\n",
       "      <td>True</td>\n",
       "    </tr>\n",
       "    <tr>\n",
       "      <th>2</th>\n",
       "      <td>Jose</td>\n",
       "      <td>28</td>\n",
       "      <td>Hombre</td>\n",
       "      <td>True</td>\n",
       "    </tr>\n",
       "  </tbody>\n",
       "</table>\n",
       "</div>"
      ],
      "text/plain": [
       "variables nombre  edad    sexo  rubio/a\n",
       "id                                     \n",
       "0          Julio    22  Hombre     True\n",
       "1          Nuria    26   Mujer     True\n",
       "2           Jose    28  Hombre     True"
      ]
     },
     "execution_count": 47,
     "metadata": {},
     "output_type": "execute_result"
    }
   ],
   "source": [
    "df[:3]"
   ]
  },
  {
   "cell_type": "markdown",
   "metadata": {},
   "source": [
    "Quiero quedarme con las filas cuyos índices están entre 2 y 5:\n"
   ]
  },
  {
   "cell_type": "code",
   "execution_count": 48,
   "metadata": {},
   "outputs": [
    {
     "data": {
      "text/html": [
       "<div>\n",
       "<style scoped>\n",
       "    .dataframe tbody tr th:only-of-type {\n",
       "        vertical-align: middle;\n",
       "    }\n",
       "\n",
       "    .dataframe tbody tr th {\n",
       "        vertical-align: top;\n",
       "    }\n",
       "\n",
       "    .dataframe thead th {\n",
       "        text-align: right;\n",
       "    }\n",
       "</style>\n",
       "<table border=\"1\" class=\"dataframe\">\n",
       "  <thead>\n",
       "    <tr style=\"text-align: right;\">\n",
       "      <th>variables</th>\n",
       "      <th>nombre</th>\n",
       "      <th>edad</th>\n",
       "      <th>sexo</th>\n",
       "      <th>rubio/a</th>\n",
       "    </tr>\n",
       "    <tr>\n",
       "      <th>id</th>\n",
       "      <th></th>\n",
       "      <th></th>\n",
       "      <th></th>\n",
       "      <th></th>\n",
       "    </tr>\n",
       "  </thead>\n",
       "  <tbody>\n",
       "    <tr>\n",
       "      <th>2</th>\n",
       "      <td>Jose</td>\n",
       "      <td>28</td>\n",
       "      <td>Hombre</td>\n",
       "      <td>True</td>\n",
       "    </tr>\n",
       "    <tr>\n",
       "      <th>3</th>\n",
       "      <td>Luis</td>\n",
       "      <td>25</td>\n",
       "      <td>Hombre</td>\n",
       "      <td>True</td>\n",
       "    </tr>\n",
       "    <tr>\n",
       "      <th>4</th>\n",
       "      <td>Daniel</td>\n",
       "      <td>24</td>\n",
       "      <td>Hombre</td>\n",
       "      <td>True</td>\n",
       "    </tr>\n",
       "  </tbody>\n",
       "</table>\n",
       "</div>"
      ],
      "text/plain": [
       "variables  nombre  edad    sexo  rubio/a\n",
       "id                                      \n",
       "2            Jose    28  Hombre     True\n",
       "3            Luis    25  Hombre     True\n",
       "4          Daniel    24  Hombre     True"
      ]
     },
     "execution_count": 48,
     "metadata": {},
     "output_type": "execute_result"
    }
   ],
   "source": [
    "df.iloc[2:5]"
   ]
  },
  {
   "cell_type": "markdown",
   "metadata": {},
   "source": [
    "Una operación muy habitual es obtener aquellas filas en las que una columna cumple cierta condición. Por ejemplo: si queremos obterner las filas de las personas con edad mayor que 24, en SQL, sería: SELECT * FROM df WHERE edad > 24. Vamos a ver cómo se hace en pandas poco a poco.\n",
    "\n",
    "¿Recuerdas el indexado booleano de Numpy? Pues por ahí van los tiros. Si una Serie es básicamente un array de Numpy con índice, y al pedir una columna de un DataFrame obtenemos una Serie..."
   ]
  },
  {
   "cell_type": "code",
   "execution_count": 49,
   "metadata": {},
   "outputs": [
    {
     "data": {
      "text/plain": [
       "id\n",
       "0    22\n",
       "1    26\n",
       "2    28\n",
       "3    25\n",
       "4    24\n",
       "5    24\n",
       "6    24\n",
       "7    26\n",
       "Name: edad, dtype: int64"
      ]
     },
     "execution_count": 49,
     "metadata": {},
     "output_type": "execute_result"
    }
   ],
   "source": [
    "df[\"edad\"] # Esto es una Serie (array de Numpy gracias al polimorfismo)"
   ]
  },
  {
   "cell_type": "code",
   "execution_count": 50,
   "metadata": {},
   "outputs": [
    {
     "data": {
      "text/plain": [
       "id\n",
       "0    False\n",
       "1     True\n",
       "2     True\n",
       "3     True\n",
       "4    False\n",
       "5    False\n",
       "6    False\n",
       "7     True\n",
       "Name: edad, dtype: bool"
      ]
     },
     "execution_count": 50,
     "metadata": {},
     "output_type": "execute_result"
    }
   ],
   "source": [
    "df[\"edad\"] > 24 # Al poner la condición, generamos un array (o Serie) de booleanos:"
   ]
  },
  {
   "cell_type": "code",
   "execution_count": 51,
   "metadata": {},
   "outputs": [
    {
     "data": {
      "text/html": [
       "<div>\n",
       "<style scoped>\n",
       "    .dataframe tbody tr th:only-of-type {\n",
       "        vertical-align: middle;\n",
       "    }\n",
       "\n",
       "    .dataframe tbody tr th {\n",
       "        vertical-align: top;\n",
       "    }\n",
       "\n",
       "    .dataframe thead th {\n",
       "        text-align: right;\n",
       "    }\n",
       "</style>\n",
       "<table border=\"1\" class=\"dataframe\">\n",
       "  <thead>\n",
       "    <tr style=\"text-align: right;\">\n",
       "      <th>variables</th>\n",
       "      <th>nombre</th>\n",
       "      <th>edad</th>\n",
       "      <th>sexo</th>\n",
       "      <th>rubio/a</th>\n",
       "    </tr>\n",
       "    <tr>\n",
       "      <th>id</th>\n",
       "      <th></th>\n",
       "      <th></th>\n",
       "      <th></th>\n",
       "      <th></th>\n",
       "    </tr>\n",
       "  </thead>\n",
       "  <tbody>\n",
       "    <tr>\n",
       "      <th>1</th>\n",
       "      <td>Nuria</td>\n",
       "      <td>26</td>\n",
       "      <td>Mujer</td>\n",
       "      <td>True</td>\n",
       "    </tr>\n",
       "    <tr>\n",
       "      <th>2</th>\n",
       "      <td>Jose</td>\n",
       "      <td>28</td>\n",
       "      <td>Hombre</td>\n",
       "      <td>True</td>\n",
       "    </tr>\n",
       "    <tr>\n",
       "      <th>3</th>\n",
       "      <td>Luis</td>\n",
       "      <td>25</td>\n",
       "      <td>Hombre</td>\n",
       "      <td>True</td>\n",
       "    </tr>\n",
       "    <tr>\n",
       "      <th>7</th>\n",
       "      <td>Lourdes</td>\n",
       "      <td>26</td>\n",
       "      <td>Mujer</td>\n",
       "      <td>True</td>\n",
       "    </tr>\n",
       "  </tbody>\n",
       "</table>\n",
       "</div>"
      ],
      "text/plain": [
       "variables   nombre  edad    sexo  rubio/a\n",
       "id                                       \n",
       "1            Nuria    26   Mujer     True\n",
       "2             Jose    28  Hombre     True\n",
       "3             Luis    25  Hombre     True\n",
       "7          Lourdes    26   Mujer     True"
      ]
     },
     "execution_count": 51,
     "metadata": {},
     "output_type": "execute_result"
    }
   ],
   "source": [
    "# ¿Y si utilizamos esta Serie de booleanos\n",
    "# para hacer el slicing sobre el DataFrame?\n",
    "df[df[\"edad\"] > 24]"
   ]
  },
  {
   "cell_type": "markdown",
   "metadata": {},
   "source": [
    "Y nos devuelve un DataFrame con las filas que cumplen la condición. De nuevo, pandas es muy listo, y al pasarle la Serie de booleanos, podemos filtrar efectivamente el DataFrame. Pandas determina que queremos filtrar utilizando las referencias de los índices, y los correspondientes True y False. Los índices son útiles"
   ]
  },
  {
   "cell_type": "markdown",
   "metadata": {},
   "source": [
    "## Aplicación de funciones sobre DataFrames"
   ]
  },
  {
   "cell_type": "markdown",
   "metadata": {},
   "source": [
    "En el análisis de datos, es muy común tener que aplicar funciones sobre nuestros datos.\n",
    "\n",
    "Por ejemplo: podemos aplicar las ufuncs de Numpy directamente sobre un DataFrame. Comencemos por crear un DataFrame puramente numérico:"
   ]
  },
  {
   "cell_type": "code",
   "execution_count": 52,
   "metadata": {},
   "outputs": [
    {
     "data": {
      "text/html": [
       "<div>\n",
       "<style scoped>\n",
       "    .dataframe tbody tr th:only-of-type {\n",
       "        vertical-align: middle;\n",
       "    }\n",
       "\n",
       "    .dataframe tbody tr th {\n",
       "        vertical-align: top;\n",
       "    }\n",
       "\n",
       "    .dataframe thead th {\n",
       "        text-align: right;\n",
       "    }\n",
       "</style>\n",
       "<table border=\"1\" class=\"dataframe\">\n",
       "  <thead>\n",
       "    <tr style=\"text-align: right;\">\n",
       "      <th></th>\n",
       "      <th>a</th>\n",
       "      <th>b</th>\n",
       "      <th>c</th>\n",
       "      <th>d</th>\n",
       "      <th>e</th>\n",
       "    </tr>\n",
       "  </thead>\n",
       "  <tbody>\n",
       "    <tr>\n",
       "      <th>0</th>\n",
       "      <td>-0.404229</td>\n",
       "      <td>0.012941</td>\n",
       "      <td>5.611928</td>\n",
       "      <td>-3.350898</td>\n",
       "      <td>3.326519</td>\n",
       "    </tr>\n",
       "    <tr>\n",
       "      <th>1</th>\n",
       "      <td>1.093429</td>\n",
       "      <td>-3.415691</td>\n",
       "      <td>-0.708546</td>\n",
       "      <td>-0.776097</td>\n",
       "      <td>3.368552</td>\n",
       "    </tr>\n",
       "    <tr>\n",
       "      <th>2</th>\n",
       "      <td>0.406194</td>\n",
       "      <td>0.415151</td>\n",
       "      <td>8.622303</td>\n",
       "      <td>-3.893716</td>\n",
       "      <td>3.003105</td>\n",
       "    </tr>\n",
       "    <tr>\n",
       "      <th>3</th>\n",
       "      <td>0.238226</td>\n",
       "      <td>4.654450</td>\n",
       "      <td>2.574521</td>\n",
       "      <td>-3.351881</td>\n",
       "      <td>3.300749</td>\n",
       "    </tr>\n",
       "    <tr>\n",
       "      <th>4</th>\n",
       "      <td>0.074221</td>\n",
       "      <td>-0.889742</td>\n",
       "      <td>-6.360202</td>\n",
       "      <td>-4.413956</td>\n",
       "      <td>3.244255</td>\n",
       "    </tr>\n",
       "    <tr>\n",
       "      <th>5</th>\n",
       "      <td>-0.297907</td>\n",
       "      <td>4.263914</td>\n",
       "      <td>-4.299506</td>\n",
       "      <td>-5.624273</td>\n",
       "      <td>2.735053</td>\n",
       "    </tr>\n",
       "    <tr>\n",
       "      <th>6</th>\n",
       "      <td>-2.300710</td>\n",
       "      <td>0.948351</td>\n",
       "      <td>1.066087</td>\n",
       "      <td>-9.842222</td>\n",
       "      <td>2.927119</td>\n",
       "    </tr>\n",
       "  </tbody>\n",
       "</table>\n",
       "</div>"
      ],
      "text/plain": [
       "          a         b         c         d         e\n",
       "0 -0.404229  0.012941  5.611928 -3.350898  3.326519\n",
       "1  1.093429 -3.415691 -0.708546 -0.776097  3.368552\n",
       "2  0.406194  0.415151  8.622303 -3.893716  3.003105\n",
       "3  0.238226  4.654450  2.574521 -3.351881  3.300749\n",
       "4  0.074221 -0.889742 -6.360202 -4.413956  3.244255\n",
       "5 -0.297907  4.263914 -4.299506 -5.624273  2.735053\n",
       "6 -2.300710  0.948351  1.066087 -9.842222  2.927119"
      ]
     },
     "execution_count": 52,
     "metadata": {},
     "output_type": "execute_result"
    }
   ],
   "source": [
    "df_numerico = pd.DataFrame({\n",
    "        \"a\": np.random.normal(0,1, (7,)), # Generamos datos aleatorios\n",
    "        \"b\": np.random.normal(1,3, (7,)), # con np.random.normal, generando\n",
    "        \"c\": np.random.normal(2,5, (7,)), # arrays unidimensionales\n",
    "        \"d\": np.random.normal(-5,4,(7,)), # de longitud 7\n",
    "        \"e\": np.random.normal(3,0.5,(7,))\n",
    "    })\n",
    "\n",
    "df_numerico"
   ]
  },
  {
   "cell_type": "markdown",
   "metadata": {},
   "source": [
    "Y ahora podemos aplicar ufuncs de Numpy, por ejemplo: np.square(mi_dataframe) para elevar cada dato al cuadrado:"
   ]
  },
  {
   "cell_type": "code",
   "execution_count": 53,
   "metadata": {},
   "outputs": [
    {
     "data": {
      "text/html": [
       "<div>\n",
       "<style scoped>\n",
       "    .dataframe tbody tr th:only-of-type {\n",
       "        vertical-align: middle;\n",
       "    }\n",
       "\n",
       "    .dataframe tbody tr th {\n",
       "        vertical-align: top;\n",
       "    }\n",
       "\n",
       "    .dataframe thead th {\n",
       "        text-align: right;\n",
       "    }\n",
       "</style>\n",
       "<table border=\"1\" class=\"dataframe\">\n",
       "  <thead>\n",
       "    <tr style=\"text-align: right;\">\n",
       "      <th></th>\n",
       "      <th>a</th>\n",
       "      <th>b</th>\n",
       "      <th>c</th>\n",
       "      <th>d</th>\n",
       "      <th>e</th>\n",
       "    </tr>\n",
       "  </thead>\n",
       "  <tbody>\n",
       "    <tr>\n",
       "      <th>0</th>\n",
       "      <td>0.163401</td>\n",
       "      <td>0.000167</td>\n",
       "      <td>31.493739</td>\n",
       "      <td>11.228516</td>\n",
       "      <td>11.065730</td>\n",
       "    </tr>\n",
       "    <tr>\n",
       "      <th>1</th>\n",
       "      <td>1.195586</td>\n",
       "      <td>11.666943</td>\n",
       "      <td>0.502037</td>\n",
       "      <td>0.602326</td>\n",
       "      <td>11.347140</td>\n",
       "    </tr>\n",
       "    <tr>\n",
       "      <th>2</th>\n",
       "      <td>0.164994</td>\n",
       "      <td>0.172350</td>\n",
       "      <td>74.344117</td>\n",
       "      <td>15.161022</td>\n",
       "      <td>9.018642</td>\n",
       "    </tr>\n",
       "    <tr>\n",
       "      <th>3</th>\n",
       "      <td>0.056751</td>\n",
       "      <td>21.663906</td>\n",
       "      <td>6.628161</td>\n",
       "      <td>11.235103</td>\n",
       "      <td>10.894946</td>\n",
       "    </tr>\n",
       "    <tr>\n",
       "      <th>4</th>\n",
       "      <td>0.005509</td>\n",
       "      <td>0.791641</td>\n",
       "      <td>40.452166</td>\n",
       "      <td>19.483009</td>\n",
       "      <td>10.525193</td>\n",
       "    </tr>\n",
       "    <tr>\n",
       "      <th>5</th>\n",
       "      <td>0.088749</td>\n",
       "      <td>18.180964</td>\n",
       "      <td>18.485755</td>\n",
       "      <td>31.632451</td>\n",
       "      <td>7.480513</td>\n",
       "    </tr>\n",
       "    <tr>\n",
       "      <th>6</th>\n",
       "      <td>5.293268</td>\n",
       "      <td>0.899370</td>\n",
       "      <td>1.136541</td>\n",
       "      <td>96.869331</td>\n",
       "      <td>8.568027</td>\n",
       "    </tr>\n",
       "  </tbody>\n",
       "</table>\n",
       "</div>"
      ],
      "text/plain": [
       "          a          b          c          d          e\n",
       "0  0.163401   0.000167  31.493739  11.228516  11.065730\n",
       "1  1.195586  11.666943   0.502037   0.602326  11.347140\n",
       "2  0.164994   0.172350  74.344117  15.161022   9.018642\n",
       "3  0.056751  21.663906   6.628161  11.235103  10.894946\n",
       "4  0.005509   0.791641  40.452166  19.483009  10.525193\n",
       "5  0.088749  18.180964  18.485755  31.632451   7.480513\n",
       "6  5.293268   0.899370   1.136541  96.869331   8.568027"
      ]
     },
     "execution_count": 53,
     "metadata": {},
     "output_type": "execute_result"
    }
   ],
   "source": [
    "np.square(df_numerico)"
   ]
  },
  {
   "cell_type": "markdown",
   "metadata": {},
   "source": [
    "También suele ser útil aplicar nuestras propias funciones sobre cada fila/columna. Para hacerlo, utilizamos mi_dataframe.apply(funcion, axis=0/1), donde:\n",
    "\n",
    "- axis=0 aplica la función a cada columna\n",
    "- axis=1 aplica la función a cada fila\n",
    "La función puede ser cualquier función que podemos definir en Python, incluídas las funciones lambda (que de hecho, es una práctica muy común).\n",
    "\n",
    "Por ejemplo: si queremos obtener el valor máximo de cada columna, podemos hacer:"
   ]
  },
  {
   "cell_type": "code",
   "execution_count": 54,
   "metadata": {},
   "outputs": [
    {
     "data": {
      "text/plain": [
       "a    1.093429\n",
       "b    4.654450\n",
       "c    8.622303\n",
       "d   -0.776097\n",
       "e    3.368552\n",
       "dtype: float64"
      ]
     },
     "execution_count": 54,
     "metadata": {},
     "output_type": "execute_result"
    }
   ],
   "source": [
    "df_numerico.apply(lambda x: x.max(), axis=0) \n",
    "# Donde x es cada columna, tratada como un array de Numpy"
   ]
  },
  {
   "cell_type": "markdown",
   "metadata": {},
   "source": [
    "Que nos devuelve una Serie, donde cada índice es el resultado de cada columna."
   ]
  },
  {
   "cell_type": "markdown",
   "metadata": {},
   "source": [
    "Por el contrario, si queremos obtener el máximo de cada fila:"
   ]
  },
  {
   "cell_type": "code",
   "execution_count": 55,
   "metadata": {},
   "outputs": [
    {
     "data": {
      "text/plain": [
       "0    5.611928\n",
       "1    3.368552\n",
       "2    8.622303\n",
       "3    4.654450\n",
       "4    3.244255\n",
       "5    4.263914\n",
       "6    2.927119\n",
       "dtype: float64"
      ]
     },
     "execution_count": 55,
     "metadata": {},
     "output_type": "execute_result"
    }
   ],
   "source": [
    "df_numerico.apply(lambda x: x.max(), axis=1) \n",
    "# Donde x es cada fila, tratada como un array de Numpy"
   ]
  },
  {
   "cell_type": "markdown",
   "metadata": {},
   "source": [
    "Algunas de las funciones matemáticas y estadísticas más comunes (como puede ser max()) se pueden obtener de forma aún más sencilla en los DataFrames (lo veremos en el siguiente apartado), sin la necesidad de utilizar .apply(). No obstante, viene bien saber que podemos aplicar cualquier función que queramos a cada fila/columna con esta sintaxis."
   ]
  },
  {
   "cell_type": "markdown",
   "metadata": {},
   "source": [
    "También es frecuente querer aplicar una función a todos los valores del DataFrame. El método para hacerlo es con mi_dataframe.applymap(funcion). En este caso no tenemos que especificar si lo queremos hacer por filas o columnas, porque se hará sobre todos y cada uno de los valores del DataFrame.\n",
    "\n",
    "Vamos a escribir una función algo más compleja para el ejemplo de applymap():"
   ]
  },
  {
   "cell_type": "code",
   "execution_count": 56,
   "metadata": {},
   "outputs": [
    {
     "data": {
      "text/html": [
       "<div>\n",
       "<style scoped>\n",
       "    .dataframe tbody tr th:only-of-type {\n",
       "        vertical-align: middle;\n",
       "    }\n",
       "\n",
       "    .dataframe tbody tr th {\n",
       "        vertical-align: top;\n",
       "    }\n",
       "\n",
       "    .dataframe thead th {\n",
       "        text-align: right;\n",
       "    }\n",
       "</style>\n",
       "<table border=\"1\" class=\"dataframe\">\n",
       "  <thead>\n",
       "    <tr style=\"text-align: right;\">\n",
       "      <th></th>\n",
       "      <th>a</th>\n",
       "      <th>b</th>\n",
       "      <th>c</th>\n",
       "      <th>d</th>\n",
       "      <th>e</th>\n",
       "    </tr>\n",
       "  </thead>\n",
       "  <tbody>\n",
       "    <tr>\n",
       "      <th>0</th>\n",
       "      <td>Numero menor que 3</td>\n",
       "      <td>Numero menor que 3</td>\n",
       "      <td>5.61193</td>\n",
       "      <td>Numero menor que 3</td>\n",
       "      <td>3.32652</td>\n",
       "    </tr>\n",
       "    <tr>\n",
       "      <th>1</th>\n",
       "      <td>Numero menor que 3</td>\n",
       "      <td>Numero menor que 3</td>\n",
       "      <td>Numero menor que 3</td>\n",
       "      <td>Numero menor que 3</td>\n",
       "      <td>3.36855</td>\n",
       "    </tr>\n",
       "    <tr>\n",
       "      <th>2</th>\n",
       "      <td>Numero menor que 3</td>\n",
       "      <td>Numero menor que 3</td>\n",
       "      <td>8.6223</td>\n",
       "      <td>Numero menor que 3</td>\n",
       "      <td>3.00311</td>\n",
       "    </tr>\n",
       "    <tr>\n",
       "      <th>3</th>\n",
       "      <td>Numero menor que 3</td>\n",
       "      <td>4.65445</td>\n",
       "      <td>Numero menor que 3</td>\n",
       "      <td>Numero menor que 3</td>\n",
       "      <td>3.30075</td>\n",
       "    </tr>\n",
       "    <tr>\n",
       "      <th>4</th>\n",
       "      <td>Numero menor que 3</td>\n",
       "      <td>Numero menor que 3</td>\n",
       "      <td>Numero menor que 3</td>\n",
       "      <td>Numero menor que 3</td>\n",
       "      <td>3.24426</td>\n",
       "    </tr>\n",
       "    <tr>\n",
       "      <th>5</th>\n",
       "      <td>Numero menor que 3</td>\n",
       "      <td>4.26391</td>\n",
       "      <td>Numero menor que 3</td>\n",
       "      <td>Numero menor que 3</td>\n",
       "      <td>Numero menor que 3</td>\n",
       "    </tr>\n",
       "    <tr>\n",
       "      <th>6</th>\n",
       "      <td>Numero menor que 3</td>\n",
       "      <td>Numero menor que 3</td>\n",
       "      <td>Numero menor que 3</td>\n",
       "      <td>Numero menor que 3</td>\n",
       "      <td>Numero menor que 3</td>\n",
       "    </tr>\n",
       "  </tbody>\n",
       "</table>\n",
       "</div>"
      ],
      "text/plain": [
       "                    a                   b                   c  \\\n",
       "0  Numero menor que 3  Numero menor que 3             5.61193   \n",
       "1  Numero menor que 3  Numero menor que 3  Numero menor que 3   \n",
       "2  Numero menor que 3  Numero menor que 3              8.6223   \n",
       "3  Numero menor que 3             4.65445  Numero menor que 3   \n",
       "4  Numero menor que 3  Numero menor que 3  Numero menor que 3   \n",
       "5  Numero menor que 3             4.26391  Numero menor que 3   \n",
       "6  Numero menor que 3  Numero menor que 3  Numero menor que 3   \n",
       "\n",
       "                    d                   e  \n",
       "0  Numero menor que 3             3.32652  \n",
       "1  Numero menor que 3             3.36855  \n",
       "2  Numero menor que 3             3.00311  \n",
       "3  Numero menor que 3             3.30075  \n",
       "4  Numero menor que 3             3.24426  \n",
       "5  Numero menor que 3  Numero menor que 3  \n",
       "6  Numero menor que 3  Numero menor que 3  "
      ]
     },
     "execution_count": 56,
     "metadata": {},
     "output_type": "execute_result"
    }
   ],
   "source": [
    "def menor_que_tres(numero):\n",
    "    \"\"\"Devuelve un string en el que pone\n",
    "    \"Numero menor que 3\" si el numero\n",
    "    es menor que 3, y el numero original\n",
    "    en caso contrario.\"\"\"\n",
    "    if numero < 3:\n",
    "        return \"Numero menor que 3\"\n",
    "    else:\n",
    "        return numero\n",
    "    \n",
    "# Una vez definida la función, la pasamos\n",
    "# a applymap():\n",
    "df_numerico.applymap(menor_que_tres)"
   ]
  },
  {
   "cell_type": "markdown",
   "metadata": {},
   "source": [
    "**Aplicar funciones en las filas/columnas de los DataFrames es una técnica esencial, y merece la pena entender bien el funcionamiento de .apply() y .applymap(), puesto que son esenciales para realizar transformaciones sobre nuestros datasets.**"
   ]
  },
  {
   "cell_type": "markdown",
   "metadata": {},
   "source": [
    "### NaN"
   ]
  },
  {
   "cell_type": "markdown",
   "metadata": {},
   "source": [
    "En Numpy hemos visto cómo lidiar con los valores missing o NaNs. Resulta que en pandas hay métodos específicos para hacerlo de forma sencilla. Supongamos que tenemos:"
   ]
  },
  {
   "cell_type": "code",
   "execution_count": 57,
   "metadata": {},
   "outputs": [
    {
     "data": {
      "text/html": [
       "<div>\n",
       "<style scoped>\n",
       "    .dataframe tbody tr th:only-of-type {\n",
       "        vertical-align: middle;\n",
       "    }\n",
       "\n",
       "    .dataframe tbody tr th {\n",
       "        vertical-align: top;\n",
       "    }\n",
       "\n",
       "    .dataframe thead th {\n",
       "        text-align: right;\n",
       "    }\n",
       "</style>\n",
       "<table border=\"1\" class=\"dataframe\">\n",
       "  <thead>\n",
       "    <tr style=\"text-align: right;\">\n",
       "      <th></th>\n",
       "      <th>a</th>\n",
       "      <th>b</th>\n",
       "      <th>c</th>\n",
       "      <th>d</th>\n",
       "      <th>e</th>\n",
       "    </tr>\n",
       "  </thead>\n",
       "  <tbody>\n",
       "    <tr>\n",
       "      <th>0</th>\n",
       "      <td>22.0</td>\n",
       "      <td>23</td>\n",
       "      <td>24</td>\n",
       "      <td>25.0</td>\n",
       "      <td>26</td>\n",
       "    </tr>\n",
       "    <tr>\n",
       "      <th>1</th>\n",
       "      <td>22.0</td>\n",
       "      <td>23</td>\n",
       "      <td>24</td>\n",
       "      <td>NaN</td>\n",
       "      <td>26</td>\n",
       "    </tr>\n",
       "    <tr>\n",
       "      <th>2</th>\n",
       "      <td>NaN</td>\n",
       "      <td>23</td>\n",
       "      <td>24</td>\n",
       "      <td>25.0</td>\n",
       "      <td>26</td>\n",
       "    </tr>\n",
       "    <tr>\n",
       "      <th>3</th>\n",
       "      <td>22.0</td>\n",
       "      <td>23</td>\n",
       "      <td>24</td>\n",
       "      <td>NaN</td>\n",
       "      <td>26</td>\n",
       "    </tr>\n",
       "    <tr>\n",
       "      <th>4</th>\n",
       "      <td>NaN</td>\n",
       "      <td>23</td>\n",
       "      <td>24</td>\n",
       "      <td>25.0</td>\n",
       "      <td>26</td>\n",
       "    </tr>\n",
       "  </tbody>\n",
       "</table>\n",
       "</div>"
      ],
      "text/plain": [
       "      a   b   c     d   e\n",
       "0  22.0  23  24  25.0  26\n",
       "1  22.0  23  24   NaN  26\n",
       "2   NaN  23  24  25.0  26\n",
       "3  22.0  23  24   NaN  26\n",
       "4   NaN  23  24  25.0  26"
      ]
     },
     "execution_count": 57,
     "metadata": {},
     "output_type": "execute_result"
    }
   ],
   "source": [
    "# Nos inventamos unos cuantos datos y usamos applymap para crear NaNs:\n",
    "df_con_nan = (pd.DataFrame(np.array([[n+22]*5 for n in range(5)]).T,\n",
    "                           columns=[\"a\",\"b\",\"c\",\"d\",\"e\"])\n",
    "              .applymap(lambda x: x if np.random.randint(0,16) > 3 else np.nan)\n",
    "              )\n",
    "df_con_nan"
   ]
  },
  {
   "cell_type": "markdown",
   "metadata": {},
   "source": [
    "Podemos obtener qué datos están missing con el método .isnull():"
   ]
  },
  {
   "cell_type": "code",
   "execution_count": 58,
   "metadata": {},
   "outputs": [
    {
     "data": {
      "text/html": [
       "<div>\n",
       "<style scoped>\n",
       "    .dataframe tbody tr th:only-of-type {\n",
       "        vertical-align: middle;\n",
       "    }\n",
       "\n",
       "    .dataframe tbody tr th {\n",
       "        vertical-align: top;\n",
       "    }\n",
       "\n",
       "    .dataframe thead th {\n",
       "        text-align: right;\n",
       "    }\n",
       "</style>\n",
       "<table border=\"1\" class=\"dataframe\">\n",
       "  <thead>\n",
       "    <tr style=\"text-align: right;\">\n",
       "      <th></th>\n",
       "      <th>a</th>\n",
       "      <th>b</th>\n",
       "      <th>c</th>\n",
       "      <th>d</th>\n",
       "      <th>e</th>\n",
       "    </tr>\n",
       "  </thead>\n",
       "  <tbody>\n",
       "    <tr>\n",
       "      <th>0</th>\n",
       "      <td>False</td>\n",
       "      <td>False</td>\n",
       "      <td>False</td>\n",
       "      <td>False</td>\n",
       "      <td>False</td>\n",
       "    </tr>\n",
       "    <tr>\n",
       "      <th>1</th>\n",
       "      <td>False</td>\n",
       "      <td>False</td>\n",
       "      <td>False</td>\n",
       "      <td>True</td>\n",
       "      <td>False</td>\n",
       "    </tr>\n",
       "    <tr>\n",
       "      <th>2</th>\n",
       "      <td>True</td>\n",
       "      <td>False</td>\n",
       "      <td>False</td>\n",
       "      <td>False</td>\n",
       "      <td>False</td>\n",
       "    </tr>\n",
       "    <tr>\n",
       "      <th>3</th>\n",
       "      <td>False</td>\n",
       "      <td>False</td>\n",
       "      <td>False</td>\n",
       "      <td>True</td>\n",
       "      <td>False</td>\n",
       "    </tr>\n",
       "    <tr>\n",
       "      <th>4</th>\n",
       "      <td>True</td>\n",
       "      <td>False</td>\n",
       "      <td>False</td>\n",
       "      <td>False</td>\n",
       "      <td>False</td>\n",
       "    </tr>\n",
       "  </tbody>\n",
       "</table>\n",
       "</div>"
      ],
      "text/plain": [
       "       a      b      c      d      e\n",
       "0  False  False  False  False  False\n",
       "1  False  False  False   True  False\n",
       "2   True  False  False  False  False\n",
       "3  False  False  False   True  False\n",
       "4   True  False  False  False  False"
      ]
     },
     "execution_count": 58,
     "metadata": {},
     "output_type": "execute_result"
    }
   ],
   "source": [
    "df_con_nan.isnull()"
   ]
  },
  {
   "cell_type": "markdown",
   "metadata": {},
   "source": [
    "Supongamos que queremos filtrar si hay NaN. El método .dropna() nos permite hacerlo. Tiene varios argumentos listados [aquí](http://pandas.pydata.org/pandas-docs/stable/generated/pandas.DataFrame.dropna.html#pandas-dataframe-dropna), pero probablemente el más útil es how='any' o how='all' junto con axis=0 o 1, que nos permite definir si queremos quitar una fila/columna bien si se encuentra con un solo nulo, o bien si todos los valores de esa fila/columna son nulos:"
   ]
  },
  {
   "cell_type": "code",
   "execution_count": 59,
   "metadata": {},
   "outputs": [
    {
     "data": {
      "text/html": [
       "<div>\n",
       "<style scoped>\n",
       "    .dataframe tbody tr th:only-of-type {\n",
       "        vertical-align: middle;\n",
       "    }\n",
       "\n",
       "    .dataframe tbody tr th {\n",
       "        vertical-align: top;\n",
       "    }\n",
       "\n",
       "    .dataframe thead th {\n",
       "        text-align: right;\n",
       "    }\n",
       "</style>\n",
       "<table border=\"1\" class=\"dataframe\">\n",
       "  <thead>\n",
       "    <tr style=\"text-align: right;\">\n",
       "      <th></th>\n",
       "      <th>b</th>\n",
       "      <th>c</th>\n",
       "      <th>e</th>\n",
       "    </tr>\n",
       "  </thead>\n",
       "  <tbody>\n",
       "    <tr>\n",
       "      <th>0</th>\n",
       "      <td>23</td>\n",
       "      <td>24</td>\n",
       "      <td>26</td>\n",
       "    </tr>\n",
       "    <tr>\n",
       "      <th>1</th>\n",
       "      <td>23</td>\n",
       "      <td>24</td>\n",
       "      <td>26</td>\n",
       "    </tr>\n",
       "    <tr>\n",
       "      <th>2</th>\n",
       "      <td>23</td>\n",
       "      <td>24</td>\n",
       "      <td>26</td>\n",
       "    </tr>\n",
       "    <tr>\n",
       "      <th>3</th>\n",
       "      <td>23</td>\n",
       "      <td>24</td>\n",
       "      <td>26</td>\n",
       "    </tr>\n",
       "    <tr>\n",
       "      <th>4</th>\n",
       "      <td>23</td>\n",
       "      <td>24</td>\n",
       "      <td>26</td>\n",
       "    </tr>\n",
       "  </tbody>\n",
       "</table>\n",
       "</div>"
      ],
      "text/plain": [
       "    b   c   e\n",
       "0  23  24  26\n",
       "1  23  24  26\n",
       "2  23  24  26\n",
       "3  23  24  26\n",
       "4  23  24  26"
      ]
     },
     "execution_count": 59,
     "metadata": {},
     "output_type": "execute_result"
    }
   ],
   "source": [
    "df_con_nan.dropna(axis=1, how=\"any\") # Ojo: en este método, axis=0 es eliminar por fila,\n",
    "                                     # y axis=1 es eliminar por columna."
   ]
  },
  {
   "cell_type": "markdown",
   "metadata": {},
   "source": [
    "Por último, a veces nos puede interesar rellenar los missing con datos definidos por nosotros. Para eso está el método .fillna(). También toma varios argumentos mostrados [aquí](http://pandas.pydata.org/pandas-docs/stable/generated/pandas.DataFrame.fillna.html#pandas-dataframe-fillna), y permite rellenado dinámico. Un ejemplo podría ser rellenar con ceros:"
   ]
  },
  {
   "cell_type": "code",
   "execution_count": 60,
   "metadata": {},
   "outputs": [
    {
     "data": {
      "text/html": [
       "<div>\n",
       "<style scoped>\n",
       "    .dataframe tbody tr th:only-of-type {\n",
       "        vertical-align: middle;\n",
       "    }\n",
       "\n",
       "    .dataframe tbody tr th {\n",
       "        vertical-align: top;\n",
       "    }\n",
       "\n",
       "    .dataframe thead th {\n",
       "        text-align: right;\n",
       "    }\n",
       "</style>\n",
       "<table border=\"1\" class=\"dataframe\">\n",
       "  <thead>\n",
       "    <tr style=\"text-align: right;\">\n",
       "      <th></th>\n",
       "      <th>a</th>\n",
       "      <th>b</th>\n",
       "      <th>c</th>\n",
       "      <th>d</th>\n",
       "      <th>e</th>\n",
       "    </tr>\n",
       "  </thead>\n",
       "  <tbody>\n",
       "    <tr>\n",
       "      <th>0</th>\n",
       "      <td>22.0</td>\n",
       "      <td>23</td>\n",
       "      <td>24</td>\n",
       "      <td>25.0</td>\n",
       "      <td>26</td>\n",
       "    </tr>\n",
       "    <tr>\n",
       "      <th>1</th>\n",
       "      <td>22.0</td>\n",
       "      <td>23</td>\n",
       "      <td>24</td>\n",
       "      <td>0.0</td>\n",
       "      <td>26</td>\n",
       "    </tr>\n",
       "    <tr>\n",
       "      <th>2</th>\n",
       "      <td>0.0</td>\n",
       "      <td>23</td>\n",
       "      <td>24</td>\n",
       "      <td>25.0</td>\n",
       "      <td>26</td>\n",
       "    </tr>\n",
       "    <tr>\n",
       "      <th>3</th>\n",
       "      <td>22.0</td>\n",
       "      <td>23</td>\n",
       "      <td>24</td>\n",
       "      <td>0.0</td>\n",
       "      <td>26</td>\n",
       "    </tr>\n",
       "    <tr>\n",
       "      <th>4</th>\n",
       "      <td>0.0</td>\n",
       "      <td>23</td>\n",
       "      <td>24</td>\n",
       "      <td>25.0</td>\n",
       "      <td>26</td>\n",
       "    </tr>\n",
       "  </tbody>\n",
       "</table>\n",
       "</div>"
      ],
      "text/plain": [
       "      a   b   c     d   e\n",
       "0  22.0  23  24  25.0  26\n",
       "1  22.0  23  24   0.0  26\n",
       "2   0.0  23  24  25.0  26\n",
       "3  22.0  23  24   0.0  26\n",
       "4   0.0  23  24  25.0  26"
      ]
     },
     "execution_count": 60,
     "metadata": {},
     "output_type": "execute_result"
    }
   ],
   "source": [
    "df_con_nan.fillna(value=0)"
   ]
  },
  {
   "cell_type": "markdown",
   "metadata": {},
   "source": [
    "Y otro puede ser rellenar con la media de cada columna:"
   ]
  },
  {
   "cell_type": "code",
   "execution_count": 61,
   "metadata": {},
   "outputs": [
    {
     "data": {
      "text/html": [
       "<div>\n",
       "<style scoped>\n",
       "    .dataframe tbody tr th:only-of-type {\n",
       "        vertical-align: middle;\n",
       "    }\n",
       "\n",
       "    .dataframe tbody tr th {\n",
       "        vertical-align: top;\n",
       "    }\n",
       "\n",
       "    .dataframe thead th {\n",
       "        text-align: right;\n",
       "    }\n",
       "</style>\n",
       "<table border=\"1\" class=\"dataframe\">\n",
       "  <thead>\n",
       "    <tr style=\"text-align: right;\">\n",
       "      <th></th>\n",
       "      <th>a</th>\n",
       "      <th>b</th>\n",
       "      <th>c</th>\n",
       "      <th>d</th>\n",
       "      <th>e</th>\n",
       "    </tr>\n",
       "  </thead>\n",
       "  <tbody>\n",
       "    <tr>\n",
       "      <th>0</th>\n",
       "      <td>22.0</td>\n",
       "      <td>23</td>\n",
       "      <td>24</td>\n",
       "      <td>25.0</td>\n",
       "      <td>26</td>\n",
       "    </tr>\n",
       "    <tr>\n",
       "      <th>1</th>\n",
       "      <td>22.0</td>\n",
       "      <td>23</td>\n",
       "      <td>24</td>\n",
       "      <td>25.0</td>\n",
       "      <td>26</td>\n",
       "    </tr>\n",
       "    <tr>\n",
       "      <th>2</th>\n",
       "      <td>22.0</td>\n",
       "      <td>23</td>\n",
       "      <td>24</td>\n",
       "      <td>25.0</td>\n",
       "      <td>26</td>\n",
       "    </tr>\n",
       "    <tr>\n",
       "      <th>3</th>\n",
       "      <td>22.0</td>\n",
       "      <td>23</td>\n",
       "      <td>24</td>\n",
       "      <td>25.0</td>\n",
       "      <td>26</td>\n",
       "    </tr>\n",
       "    <tr>\n",
       "      <th>4</th>\n",
       "      <td>22.0</td>\n",
       "      <td>23</td>\n",
       "      <td>24</td>\n",
       "      <td>25.0</td>\n",
       "      <td>26</td>\n",
       "    </tr>\n",
       "  </tbody>\n",
       "</table>\n",
       "</div>"
      ],
      "text/plain": [
       "      a   b   c     d   e\n",
       "0  22.0  23  24  25.0  26\n",
       "1  22.0  23  24  25.0  26\n",
       "2  22.0  23  24  25.0  26\n",
       "3  22.0  23  24  25.0  26\n",
       "4  22.0  23  24  25.0  26"
      ]
     },
     "execution_count": 61,
     "metadata": {},
     "output_type": "execute_result"
    }
   ],
   "source": [
    "df_con_nan.fillna(value=df_con_nan.mean())"
   ]
  },
  {
   "cell_type": "markdown",
   "metadata": {},
   "source": [
    "### DataFrames jerárquicos y nesteados"
   ]
  },
  {
   "cell_type": "code",
   "execution_count": 62,
   "metadata": {},
   "outputs": [],
   "source": [
    "dataframe_cualquiera = pd.DataFrame({\"nombre\":[\"Julio\", \"Nuria\", \"Pedro\", u\"María\", \"Lola\"],\n",
    "                                     \"edad\":[22, 27, 24, 31, 19],\n",
    "                                     \"altura (cm)\":[175.0, 169.0, 184.0, 162.0, 166.0],\n",
    "                                     \"ciudad\":[\"Madrid\",\"Madrid\",\"Barcelona\",\"Valencia\",\"Barcelona\"],\n",
    "                                     \"sexo\":[\"V\",\"M\",\"V\",\"M\",\"M\"],\n",
    "                                     \"casado/a\":[False, False, True, False, True]})\n",
    "dataframe_cualquiera.index.name = \"id\""
   ]
  },
  {
   "cell_type": "code",
   "execution_count": 63,
   "metadata": {},
   "outputs": [
    {
     "data": {
      "text/html": [
       "<div>\n",
       "<style scoped>\n",
       "    .dataframe tbody tr th:only-of-type {\n",
       "        vertical-align: middle;\n",
       "    }\n",
       "\n",
       "    .dataframe tbody tr th {\n",
       "        vertical-align: top;\n",
       "    }\n",
       "\n",
       "    .dataframe thead th {\n",
       "        text-align: right;\n",
       "    }\n",
       "</style>\n",
       "<table border=\"1\" class=\"dataframe\">\n",
       "  <thead>\n",
       "    <tr style=\"text-align: right;\">\n",
       "      <th></th>\n",
       "      <th>nombre</th>\n",
       "      <th>edad</th>\n",
       "      <th>altura (cm)</th>\n",
       "      <th>ciudad</th>\n",
       "      <th>sexo</th>\n",
       "      <th>casado/a</th>\n",
       "    </tr>\n",
       "    <tr>\n",
       "      <th>id</th>\n",
       "      <th></th>\n",
       "      <th></th>\n",
       "      <th></th>\n",
       "      <th></th>\n",
       "      <th></th>\n",
       "      <th></th>\n",
       "    </tr>\n",
       "  </thead>\n",
       "  <tbody>\n",
       "    <tr>\n",
       "      <th>0</th>\n",
       "      <td>Julio</td>\n",
       "      <td>22</td>\n",
       "      <td>175.0</td>\n",
       "      <td>Madrid</td>\n",
       "      <td>V</td>\n",
       "      <td>False</td>\n",
       "    </tr>\n",
       "    <tr>\n",
       "      <th>1</th>\n",
       "      <td>Nuria</td>\n",
       "      <td>27</td>\n",
       "      <td>169.0</td>\n",
       "      <td>Madrid</td>\n",
       "      <td>M</td>\n",
       "      <td>False</td>\n",
       "    </tr>\n",
       "    <tr>\n",
       "      <th>2</th>\n",
       "      <td>Pedro</td>\n",
       "      <td>24</td>\n",
       "      <td>184.0</td>\n",
       "      <td>Barcelona</td>\n",
       "      <td>V</td>\n",
       "      <td>True</td>\n",
       "    </tr>\n",
       "    <tr>\n",
       "      <th>3</th>\n",
       "      <td>María</td>\n",
       "      <td>31</td>\n",
       "      <td>162.0</td>\n",
       "      <td>Valencia</td>\n",
       "      <td>M</td>\n",
       "      <td>False</td>\n",
       "    </tr>\n",
       "    <tr>\n",
       "      <th>4</th>\n",
       "      <td>Lola</td>\n",
       "      <td>19</td>\n",
       "      <td>166.0</td>\n",
       "      <td>Barcelona</td>\n",
       "      <td>M</td>\n",
       "      <td>True</td>\n",
       "    </tr>\n",
       "  </tbody>\n",
       "</table>\n",
       "</div>"
      ],
      "text/plain": [
       "   nombre  edad  altura (cm)     ciudad sexo  casado/a\n",
       "id                                                    \n",
       "0   Julio    22        175.0     Madrid    V     False\n",
       "1   Nuria    27        169.0     Madrid    M     False\n",
       "2   Pedro    24        184.0  Barcelona    V      True\n",
       "3   María    31        162.0   Valencia    M     False\n",
       "4    Lola    19        166.0  Barcelona    M      True"
      ]
     },
     "execution_count": 63,
     "metadata": {},
     "output_type": "execute_result"
    }
   ],
   "source": [
    "dataframe_cualquiera"
   ]
  },
  {
   "cell_type": "markdown",
   "metadata": {},
   "source": [
    "Hasta ahora hemos visto siempre los DataFrames como estructuras con filas y columnas. No obstante, podemos crear lo que se llaman \"DataFrames jerárquicos\", en los que podemos tener un conjunto de columnas o de índices, ordenados jerárquicamente. Para construirlos, debemos utilizar un objeto de pandas que se llama MultiIndex. Podemos crear un MultiIndex de tres formas:\n",
    "\n",
    "- from_tuples, donde pasamos un array de tuplas ordenadas tal y como vienen los datos en el DataFrame original\n",
    "- from_arrays, donde pasamos un array de arrays\n",
    "- from_product, donde el MultiIndex se crea con el producto cartesiano de los elementos de dos o más listas\n",
    "\n",
    "Por lo general, el from_tuples() es el más utilizado. Veámoslo en acción a partir del DataFrame generado antes:"
   ]
  },
  {
   "cell_type": "code",
   "execution_count": 64,
   "metadata": {},
   "outputs": [],
   "source": [
    "# Generamos un MultiIndex así:\n",
    "nuevas_columnas_jerarquicas = pd.MultiIndex.from_tuples([(\"fisiologicas\", \"altura (cm)\"),\n",
    "                                                        (\"sociodemograficas\", \"casado/a\"),\n",
    "                                                        (\"sociodemograficas\",\"ciudad\"),\n",
    "                                                        (\"fisiologicas\",\"edad\"),\n",
    "                                                        (\"sociodemograficas\",\"nombre\"),\n",
    "                                                        (\"fisiologicas\",\"sexo\")])\n",
    "\n",
    "# Ahora definimos este MultiIndex como las nuevas columnas\n",
    "# de nuestro DataFrame:\n",
    "dataframe_cualquiera.columns = nuevas_columnas_jerarquicas"
   ]
  },
  {
   "cell_type": "code",
   "execution_count": 65,
   "metadata": {},
   "outputs": [
    {
     "data": {
      "text/html": [
       "<div>\n",
       "<style scoped>\n",
       "    .dataframe tbody tr th:only-of-type {\n",
       "        vertical-align: middle;\n",
       "    }\n",
       "\n",
       "    .dataframe tbody tr th {\n",
       "        vertical-align: top;\n",
       "    }\n",
       "\n",
       "    .dataframe thead tr th {\n",
       "        text-align: left;\n",
       "    }\n",
       "\n",
       "    .dataframe thead tr:last-of-type th {\n",
       "        text-align: right;\n",
       "    }\n",
       "</style>\n",
       "<table border=\"1\" class=\"dataframe\">\n",
       "  <thead>\n",
       "    <tr>\n",
       "      <th></th>\n",
       "      <th>fisiologicas</th>\n",
       "      <th colspan=\"2\" halign=\"left\">sociodemograficas</th>\n",
       "      <th>fisiologicas</th>\n",
       "      <th>sociodemograficas</th>\n",
       "      <th>fisiologicas</th>\n",
       "    </tr>\n",
       "    <tr>\n",
       "      <th></th>\n",
       "      <th>altura (cm)</th>\n",
       "      <th>casado/a</th>\n",
       "      <th>ciudad</th>\n",
       "      <th>edad</th>\n",
       "      <th>nombre</th>\n",
       "      <th>sexo</th>\n",
       "    </tr>\n",
       "    <tr>\n",
       "      <th>id</th>\n",
       "      <th></th>\n",
       "      <th></th>\n",
       "      <th></th>\n",
       "      <th></th>\n",
       "      <th></th>\n",
       "      <th></th>\n",
       "    </tr>\n",
       "  </thead>\n",
       "  <tbody>\n",
       "    <tr>\n",
       "      <th>0</th>\n",
       "      <td>Julio</td>\n",
       "      <td>22</td>\n",
       "      <td>175.0</td>\n",
       "      <td>Madrid</td>\n",
       "      <td>V</td>\n",
       "      <td>False</td>\n",
       "    </tr>\n",
       "    <tr>\n",
       "      <th>1</th>\n",
       "      <td>Nuria</td>\n",
       "      <td>27</td>\n",
       "      <td>169.0</td>\n",
       "      <td>Madrid</td>\n",
       "      <td>M</td>\n",
       "      <td>False</td>\n",
       "    </tr>\n",
       "    <tr>\n",
       "      <th>2</th>\n",
       "      <td>Pedro</td>\n",
       "      <td>24</td>\n",
       "      <td>184.0</td>\n",
       "      <td>Barcelona</td>\n",
       "      <td>V</td>\n",
       "      <td>True</td>\n",
       "    </tr>\n",
       "    <tr>\n",
       "      <th>3</th>\n",
       "      <td>María</td>\n",
       "      <td>31</td>\n",
       "      <td>162.0</td>\n",
       "      <td>Valencia</td>\n",
       "      <td>M</td>\n",
       "      <td>False</td>\n",
       "    </tr>\n",
       "    <tr>\n",
       "      <th>4</th>\n",
       "      <td>Lola</td>\n",
       "      <td>19</td>\n",
       "      <td>166.0</td>\n",
       "      <td>Barcelona</td>\n",
       "      <td>M</td>\n",
       "      <td>True</td>\n",
       "    </tr>\n",
       "  </tbody>\n",
       "</table>\n",
       "</div>"
      ],
      "text/plain": [
       "   fisiologicas sociodemograficas        fisiologicas sociodemograficas  \\\n",
       "    altura (cm)          casado/a ciudad         edad            nombre   \n",
       "id                                                                        \n",
       "0         Julio                22  175.0       Madrid                 V   \n",
       "1         Nuria                27  169.0       Madrid                 M   \n",
       "2         Pedro                24  184.0    Barcelona                 V   \n",
       "3         María                31  162.0     Valencia                 M   \n",
       "4          Lola                19  166.0    Barcelona                 M   \n",
       "\n",
       "   fisiologicas  \n",
       "           sexo  \n",
       "id               \n",
       "0         False  \n",
       "1         False  \n",
       "2          True  \n",
       "3         False  \n",
       "4          True  "
      ]
     },
     "execution_count": 65,
     "metadata": {},
     "output_type": "execute_result"
    }
   ],
   "source": [
    "dataframe_cualquiera"
   ]
  },
  {
   "cell_type": "markdown",
   "metadata": {},
   "source": [
    "Podemos ver que se ha generado lo que se puede llamar \"DataFrame jerárquico\", con varias jerarquías de columnas, siendo fisiológicas/sociodemográficas el nivel 0 (lo más alto en la jerarquía), y siendo el nivel 1 altura, casado/a, ciudad, edad, nombre y sexo (lo más bajo en la jerarquía).\n",
    "\n"
   ]
  },
  {
   "cell_type": "markdown",
   "metadata": {},
   "source": [
    "Tanto los Index normales, como las columnas (que a ojos de pandas son objetos también de tipo Index), como los MultiIndex, tienen muchos métodos que permiten re-ordenar y alterar los índices y columnas de una Serie o DataFrame. Los puedes encontrar [aquí](http://pandas.pydata.org/pandas-docs/stable/generated/pandas.MultiIndex.html#pandas.MultiIndex)."
   ]
  },
  {
   "cell_type": "markdown",
   "metadata": {},
   "source": [
    "Por ejemplo, si queremos re-ordenar las columnas para que aparezcan agrupadas/ordenadas por la primera jerarquía, podemos aplicar un .sortlevel(level=0) (0 por ser el lo más alto en la jerarquía de columnas; el nivel 0) sobre el DataFrame jerárquico."
   ]
  },
  {
   "cell_type": "markdown",
   "metadata": {},
   "source": [
    "Parece complejo (y lo es), pero con leer un poco la API y tener un poco de ingenio, podemos obtener unas estructuras de dato muy pontentes. Ordenarlo sería entonces así:"
   ]
  },
  {
   "cell_type": "code",
   "execution_count": 66,
   "metadata": {},
   "outputs": [
    {
     "data": {
      "text/html": [
       "<div>\n",
       "<style scoped>\n",
       "    .dataframe tbody tr th:only-of-type {\n",
       "        vertical-align: middle;\n",
       "    }\n",
       "\n",
       "    .dataframe tbody tr th {\n",
       "        vertical-align: top;\n",
       "    }\n",
       "\n",
       "    .dataframe thead tr th {\n",
       "        text-align: left;\n",
       "    }\n",
       "\n",
       "    .dataframe thead tr:last-of-type th {\n",
       "        text-align: right;\n",
       "    }\n",
       "</style>\n",
       "<table border=\"1\" class=\"dataframe\">\n",
       "  <thead>\n",
       "    <tr>\n",
       "      <th></th>\n",
       "      <th colspan=\"3\" halign=\"left\">fisiologicas</th>\n",
       "      <th colspan=\"3\" halign=\"left\">sociodemograficas</th>\n",
       "    </tr>\n",
       "    <tr>\n",
       "      <th></th>\n",
       "      <th>altura (cm)</th>\n",
       "      <th>edad</th>\n",
       "      <th>sexo</th>\n",
       "      <th>casado/a</th>\n",
       "      <th>ciudad</th>\n",
       "      <th>nombre</th>\n",
       "    </tr>\n",
       "    <tr>\n",
       "      <th>id</th>\n",
       "      <th></th>\n",
       "      <th></th>\n",
       "      <th></th>\n",
       "      <th></th>\n",
       "      <th></th>\n",
       "      <th></th>\n",
       "    </tr>\n",
       "  </thead>\n",
       "  <tbody>\n",
       "    <tr>\n",
       "      <th>0</th>\n",
       "      <td>Julio</td>\n",
       "      <td>Madrid</td>\n",
       "      <td>False</td>\n",
       "      <td>22</td>\n",
       "      <td>175.0</td>\n",
       "      <td>V</td>\n",
       "    </tr>\n",
       "    <tr>\n",
       "      <th>1</th>\n",
       "      <td>Nuria</td>\n",
       "      <td>Madrid</td>\n",
       "      <td>False</td>\n",
       "      <td>27</td>\n",
       "      <td>169.0</td>\n",
       "      <td>M</td>\n",
       "    </tr>\n",
       "    <tr>\n",
       "      <th>2</th>\n",
       "      <td>Pedro</td>\n",
       "      <td>Barcelona</td>\n",
       "      <td>True</td>\n",
       "      <td>24</td>\n",
       "      <td>184.0</td>\n",
       "      <td>V</td>\n",
       "    </tr>\n",
       "    <tr>\n",
       "      <th>3</th>\n",
       "      <td>María</td>\n",
       "      <td>Valencia</td>\n",
       "      <td>False</td>\n",
       "      <td>31</td>\n",
       "      <td>162.0</td>\n",
       "      <td>M</td>\n",
       "    </tr>\n",
       "    <tr>\n",
       "      <th>4</th>\n",
       "      <td>Lola</td>\n",
       "      <td>Barcelona</td>\n",
       "      <td>True</td>\n",
       "      <td>19</td>\n",
       "      <td>166.0</td>\n",
       "      <td>M</td>\n",
       "    </tr>\n",
       "  </tbody>\n",
       "</table>\n",
       "</div>"
      ],
      "text/plain": [
       "   fisiologicas                   sociodemograficas              \n",
       "    altura (cm)       edad   sexo          casado/a ciudad nombre\n",
       "id                                                               \n",
       "0         Julio     Madrid  False                22  175.0      V\n",
       "1         Nuria     Madrid  False                27  169.0      M\n",
       "2         Pedro  Barcelona   True                24  184.0      V\n",
       "3         María   Valencia  False                31  162.0      M\n",
       "4          Lola  Barcelona   True                19  166.0      M"
      ]
     },
     "execution_count": 66,
     "metadata": {},
     "output_type": "execute_result"
    }
   ],
   "source": [
    "dataframe_cualquiera_ordenado = dataframe_cualquiera.sort_index(level=0, axis=1) # axis=1 para que ordene\n",
    "                                                                                # columnas, en vez de\n",
    "                                                                                # filas/índices.\n",
    "dataframe_cualquiera_ordenado"
   ]
  },
  {
   "cell_type": "markdown",
   "metadata": {},
   "source": [
    "Obtenemos un resultado muy intuitivo y útil. Ahora, para seleccionar todas las variables sociodemográficas, es tan sencillo como:"
   ]
  },
  {
   "cell_type": "code",
   "execution_count": 67,
   "metadata": {},
   "outputs": [
    {
     "data": {
      "text/html": [
       "<div>\n",
       "<style scoped>\n",
       "    .dataframe tbody tr th:only-of-type {\n",
       "        vertical-align: middle;\n",
       "    }\n",
       "\n",
       "    .dataframe tbody tr th {\n",
       "        vertical-align: top;\n",
       "    }\n",
       "\n",
       "    .dataframe thead th {\n",
       "        text-align: right;\n",
       "    }\n",
       "</style>\n",
       "<table border=\"1\" class=\"dataframe\">\n",
       "  <thead>\n",
       "    <tr style=\"text-align: right;\">\n",
       "      <th></th>\n",
       "      <th>casado/a</th>\n",
       "      <th>ciudad</th>\n",
       "      <th>nombre</th>\n",
       "    </tr>\n",
       "    <tr>\n",
       "      <th>id</th>\n",
       "      <th></th>\n",
       "      <th></th>\n",
       "      <th></th>\n",
       "    </tr>\n",
       "  </thead>\n",
       "  <tbody>\n",
       "    <tr>\n",
       "      <th>0</th>\n",
       "      <td>22</td>\n",
       "      <td>175.0</td>\n",
       "      <td>V</td>\n",
       "    </tr>\n",
       "    <tr>\n",
       "      <th>1</th>\n",
       "      <td>27</td>\n",
       "      <td>169.0</td>\n",
       "      <td>M</td>\n",
       "    </tr>\n",
       "    <tr>\n",
       "      <th>2</th>\n",
       "      <td>24</td>\n",
       "      <td>184.0</td>\n",
       "      <td>V</td>\n",
       "    </tr>\n",
       "    <tr>\n",
       "      <th>3</th>\n",
       "      <td>31</td>\n",
       "      <td>162.0</td>\n",
       "      <td>M</td>\n",
       "    </tr>\n",
       "    <tr>\n",
       "      <th>4</th>\n",
       "      <td>19</td>\n",
       "      <td>166.0</td>\n",
       "      <td>M</td>\n",
       "    </tr>\n",
       "  </tbody>\n",
       "</table>\n",
       "</div>"
      ],
      "text/plain": [
       "    casado/a  ciudad nombre\n",
       "id                         \n",
       "0         22   175.0      V\n",
       "1         27   169.0      M\n",
       "2         24   184.0      V\n",
       "3         31   162.0      M\n",
       "4         19   166.0      M"
      ]
     },
     "execution_count": 67,
     "metadata": {},
     "output_type": "execute_result"
    }
   ],
   "source": [
    "dataframe_cualquiera_ordenado[\"sociodemograficas\"]"
   ]
  },
  {
   "cell_type": "markdown",
   "metadata": {},
   "source": [
    "Y para coger solo la variable ciudad, podemos utilizar indexado y slicing al estilo de Numpy:"
   ]
  },
  {
   "cell_type": "code",
   "execution_count": 68,
   "metadata": {},
   "outputs": [
    {
     "data": {
      "text/plain": [
       "id\n",
       "0    175.0\n",
       "1    169.0\n",
       "2    184.0\n",
       "3    162.0\n",
       "4    166.0\n",
       "Name: (sociodemograficas, ciudad), dtype: float64"
      ]
     },
     "execution_count": 68,
     "metadata": {},
     "output_type": "execute_result"
    }
   ],
   "source": [
    "dataframe_cualquiera_ordenado[\"sociodemograficas\",\"ciudad\"]\n",
    "# Equivalente a dataframe_cualquiera_ordenado[\"sociodemograficas\"][\"ciudad\"]"
   ]
  },
  {
   "cell_type": "markdown",
   "metadata": {},
   "source": [
    "Y por ejemplo, también podemos obtener así estadística descriptiva muy bien ordenada:"
   ]
  },
  {
   "cell_type": "code",
   "execution_count": 69,
   "metadata": {},
   "outputs": [
    {
     "data": {
      "text/html": [
       "<div>\n",
       "<style scoped>\n",
       "    .dataframe tbody tr th:only-of-type {\n",
       "        vertical-align: middle;\n",
       "    }\n",
       "\n",
       "    .dataframe tbody tr th {\n",
       "        vertical-align: top;\n",
       "    }\n",
       "\n",
       "    .dataframe thead tr th {\n",
       "        text-align: left;\n",
       "    }\n",
       "</style>\n",
       "<table border=\"1\" class=\"dataframe\">\n",
       "  <thead>\n",
       "    <tr>\n",
       "      <th></th>\n",
       "      <th colspan=\"3\" halign=\"left\">fisiologicas</th>\n",
       "      <th colspan=\"3\" halign=\"left\">sociodemograficas</th>\n",
       "    </tr>\n",
       "    <tr>\n",
       "      <th></th>\n",
       "      <th>altura (cm)</th>\n",
       "      <th>edad</th>\n",
       "      <th>sexo</th>\n",
       "      <th>casado/a</th>\n",
       "      <th>ciudad</th>\n",
       "      <th>nombre</th>\n",
       "    </tr>\n",
       "  </thead>\n",
       "  <tbody>\n",
       "    <tr>\n",
       "      <th>count</th>\n",
       "      <td>5</td>\n",
       "      <td>5</td>\n",
       "      <td>5</td>\n",
       "      <td>5.000000</td>\n",
       "      <td>5.00000</td>\n",
       "      <td>5</td>\n",
       "    </tr>\n",
       "    <tr>\n",
       "      <th>unique</th>\n",
       "      <td>5</td>\n",
       "      <td>3</td>\n",
       "      <td>2</td>\n",
       "      <td>NaN</td>\n",
       "      <td>NaN</td>\n",
       "      <td>2</td>\n",
       "    </tr>\n",
       "    <tr>\n",
       "      <th>top</th>\n",
       "      <td>María</td>\n",
       "      <td>Barcelona</td>\n",
       "      <td>False</td>\n",
       "      <td>NaN</td>\n",
       "      <td>NaN</td>\n",
       "      <td>M</td>\n",
       "    </tr>\n",
       "    <tr>\n",
       "      <th>freq</th>\n",
       "      <td>1</td>\n",
       "      <td>2</td>\n",
       "      <td>3</td>\n",
       "      <td>NaN</td>\n",
       "      <td>NaN</td>\n",
       "      <td>3</td>\n",
       "    </tr>\n",
       "    <tr>\n",
       "      <th>mean</th>\n",
       "      <td>NaN</td>\n",
       "      <td>NaN</td>\n",
       "      <td>NaN</td>\n",
       "      <td>24.600000</td>\n",
       "      <td>171.20000</td>\n",
       "      <td>NaN</td>\n",
       "    </tr>\n",
       "    <tr>\n",
       "      <th>std</th>\n",
       "      <td>NaN</td>\n",
       "      <td>NaN</td>\n",
       "      <td>NaN</td>\n",
       "      <td>4.615192</td>\n",
       "      <td>8.58487</td>\n",
       "      <td>NaN</td>\n",
       "    </tr>\n",
       "    <tr>\n",
       "      <th>min</th>\n",
       "      <td>NaN</td>\n",
       "      <td>NaN</td>\n",
       "      <td>NaN</td>\n",
       "      <td>19.000000</td>\n",
       "      <td>162.00000</td>\n",
       "      <td>NaN</td>\n",
       "    </tr>\n",
       "    <tr>\n",
       "      <th>25%</th>\n",
       "      <td>NaN</td>\n",
       "      <td>NaN</td>\n",
       "      <td>NaN</td>\n",
       "      <td>22.000000</td>\n",
       "      <td>166.00000</td>\n",
       "      <td>NaN</td>\n",
       "    </tr>\n",
       "    <tr>\n",
       "      <th>50%</th>\n",
       "      <td>NaN</td>\n",
       "      <td>NaN</td>\n",
       "      <td>NaN</td>\n",
       "      <td>24.000000</td>\n",
       "      <td>169.00000</td>\n",
       "      <td>NaN</td>\n",
       "    </tr>\n",
       "    <tr>\n",
       "      <th>75%</th>\n",
       "      <td>NaN</td>\n",
       "      <td>NaN</td>\n",
       "      <td>NaN</td>\n",
       "      <td>27.000000</td>\n",
       "      <td>175.00000</td>\n",
       "      <td>NaN</td>\n",
       "    </tr>\n",
       "    <tr>\n",
       "      <th>max</th>\n",
       "      <td>NaN</td>\n",
       "      <td>NaN</td>\n",
       "      <td>NaN</td>\n",
       "      <td>31.000000</td>\n",
       "      <td>184.00000</td>\n",
       "      <td>NaN</td>\n",
       "    </tr>\n",
       "  </tbody>\n",
       "</table>\n",
       "</div>"
      ],
      "text/plain": [
       "       fisiologicas                   sociodemograficas                  \n",
       "        altura (cm)       edad   sexo          casado/a     ciudad nombre\n",
       "count             5          5      5          5.000000    5.00000      5\n",
       "unique            5          3      2               NaN        NaN      2\n",
       "top           María  Barcelona  False               NaN        NaN      M\n",
       "freq              1          2      3               NaN        NaN      3\n",
       "mean            NaN        NaN    NaN         24.600000  171.20000    NaN\n",
       "std             NaN        NaN    NaN          4.615192    8.58487    NaN\n",
       "min             NaN        NaN    NaN         19.000000  162.00000    NaN\n",
       "25%             NaN        NaN    NaN         22.000000  166.00000    NaN\n",
       "50%             NaN        NaN    NaN         24.000000  169.00000    NaN\n",
       "75%             NaN        NaN    NaN         27.000000  175.00000    NaN\n",
       "max             NaN        NaN    NaN         31.000000  184.00000    NaN"
      ]
     },
     "execution_count": 69,
     "metadata": {},
     "output_type": "execute_result"
    }
   ],
   "source": [
    "dataframe_cualquiera_ordenado.describe(include=\"all\") # include=\"all\" en el .describe() nos permite\n",
    "                                                      # ver datos tanto de variables numéricas como\n",
    "                                                      # categóricas, en el mismo resultado."
   ]
  },
  {
   "cell_type": "markdown",
   "metadata": {},
   "source": [
    "### JOINS sobre DataFrames"
   ]
  },
  {
   "cell_type": "markdown",
   "metadata": {},
   "source": [
    "Una operación esencial en el mundo de datos estructurados y en SQL es el tema de los joins, es decir, unir dos tablas, cruzando por un determinado campo. Supongamos que tenemos dos DataFrames:"
   ]
  },
  {
   "cell_type": "code",
   "execution_count": 70,
   "metadata": {},
   "outputs": [],
   "source": [
    "df_uno = pd.DataFrame({\"nombre\":[\"Julio\", \"Nuria\", \"Pedro\", u\"María\", \"Lola\"],\n",
    "                       \"edad\":[22, 27, 24, 31, 19],\n",
    "                       \"altura (cm)\":[175.0, 169.0, 184.0, 162.0, 166.0],\n",
    "                       \"ciudad\":[\"Madrid\",\"Madrid\",\"Barcelona\",\"Valencia\",\"Barcelona\"],\n",
    "                       \"sexo\":[\"V\",\"M\",\"V\",\"M\",\"M\"],\n",
    "                       \"casado/a\":[False, False, True, False, True]})\n",
    "\n",
    "df_dos = pd.DataFrame({\"numero de gatos\":[0,0,2,1,8,0],\n",
    "                       \"nombre\":[\"Pedro\", \"Julio\", \"Lola\", \"Nuria\", \"Elisa\", \"Manuel\"],\n",
    "                       \"rubio/a\":[False, False, True, True, False, True]})"
   ]
  },
  {
   "cell_type": "code",
   "execution_count": 71,
   "metadata": {},
   "outputs": [
    {
     "data": {
      "text/html": [
       "<div>\n",
       "<style scoped>\n",
       "    .dataframe tbody tr th:only-of-type {\n",
       "        vertical-align: middle;\n",
       "    }\n",
       "\n",
       "    .dataframe tbody tr th {\n",
       "        vertical-align: top;\n",
       "    }\n",
       "\n",
       "    .dataframe thead th {\n",
       "        text-align: right;\n",
       "    }\n",
       "</style>\n",
       "<table border=\"1\" class=\"dataframe\">\n",
       "  <thead>\n",
       "    <tr style=\"text-align: right;\">\n",
       "      <th></th>\n",
       "      <th>nombre</th>\n",
       "      <th>edad</th>\n",
       "      <th>altura (cm)</th>\n",
       "      <th>ciudad</th>\n",
       "      <th>sexo</th>\n",
       "      <th>casado/a</th>\n",
       "    </tr>\n",
       "  </thead>\n",
       "  <tbody>\n",
       "    <tr>\n",
       "      <th>0</th>\n",
       "      <td>Julio</td>\n",
       "      <td>22</td>\n",
       "      <td>175.0</td>\n",
       "      <td>Madrid</td>\n",
       "      <td>V</td>\n",
       "      <td>False</td>\n",
       "    </tr>\n",
       "    <tr>\n",
       "      <th>1</th>\n",
       "      <td>Nuria</td>\n",
       "      <td>27</td>\n",
       "      <td>169.0</td>\n",
       "      <td>Madrid</td>\n",
       "      <td>M</td>\n",
       "      <td>False</td>\n",
       "    </tr>\n",
       "    <tr>\n",
       "      <th>2</th>\n",
       "      <td>Pedro</td>\n",
       "      <td>24</td>\n",
       "      <td>184.0</td>\n",
       "      <td>Barcelona</td>\n",
       "      <td>V</td>\n",
       "      <td>True</td>\n",
       "    </tr>\n",
       "    <tr>\n",
       "      <th>3</th>\n",
       "      <td>María</td>\n",
       "      <td>31</td>\n",
       "      <td>162.0</td>\n",
       "      <td>Valencia</td>\n",
       "      <td>M</td>\n",
       "      <td>False</td>\n",
       "    </tr>\n",
       "    <tr>\n",
       "      <th>4</th>\n",
       "      <td>Lola</td>\n",
       "      <td>19</td>\n",
       "      <td>166.0</td>\n",
       "      <td>Barcelona</td>\n",
       "      <td>M</td>\n",
       "      <td>True</td>\n",
       "    </tr>\n",
       "  </tbody>\n",
       "</table>\n",
       "</div>"
      ],
      "text/plain": [
       "  nombre  edad  altura (cm)     ciudad sexo  casado/a\n",
       "0  Julio    22        175.0     Madrid    V     False\n",
       "1  Nuria    27        169.0     Madrid    M     False\n",
       "2  Pedro    24        184.0  Barcelona    V      True\n",
       "3  María    31        162.0   Valencia    M     False\n",
       "4   Lola    19        166.0  Barcelona    M      True"
      ]
     },
     "execution_count": 71,
     "metadata": {},
     "output_type": "execute_result"
    }
   ],
   "source": [
    "df_uno"
   ]
  },
  {
   "cell_type": "code",
   "execution_count": 72,
   "metadata": {},
   "outputs": [
    {
     "data": {
      "text/html": [
       "<div>\n",
       "<style scoped>\n",
       "    .dataframe tbody tr th:only-of-type {\n",
       "        vertical-align: middle;\n",
       "    }\n",
       "\n",
       "    .dataframe tbody tr th {\n",
       "        vertical-align: top;\n",
       "    }\n",
       "\n",
       "    .dataframe thead th {\n",
       "        text-align: right;\n",
       "    }\n",
       "</style>\n",
       "<table border=\"1\" class=\"dataframe\">\n",
       "  <thead>\n",
       "    <tr style=\"text-align: right;\">\n",
       "      <th></th>\n",
       "      <th>numero de gatos</th>\n",
       "      <th>nombre</th>\n",
       "      <th>rubio/a</th>\n",
       "    </tr>\n",
       "  </thead>\n",
       "  <tbody>\n",
       "    <tr>\n",
       "      <th>0</th>\n",
       "      <td>0</td>\n",
       "      <td>Pedro</td>\n",
       "      <td>False</td>\n",
       "    </tr>\n",
       "    <tr>\n",
       "      <th>1</th>\n",
       "      <td>0</td>\n",
       "      <td>Julio</td>\n",
       "      <td>False</td>\n",
       "    </tr>\n",
       "    <tr>\n",
       "      <th>2</th>\n",
       "      <td>2</td>\n",
       "      <td>Lola</td>\n",
       "      <td>True</td>\n",
       "    </tr>\n",
       "    <tr>\n",
       "      <th>3</th>\n",
       "      <td>1</td>\n",
       "      <td>Nuria</td>\n",
       "      <td>True</td>\n",
       "    </tr>\n",
       "    <tr>\n",
       "      <th>4</th>\n",
       "      <td>8</td>\n",
       "      <td>Elisa</td>\n",
       "      <td>False</td>\n",
       "    </tr>\n",
       "    <tr>\n",
       "      <th>5</th>\n",
       "      <td>0</td>\n",
       "      <td>Manuel</td>\n",
       "      <td>True</td>\n",
       "    </tr>\n",
       "  </tbody>\n",
       "</table>\n",
       "</div>"
      ],
      "text/plain": [
       "   numero de gatos  nombre  rubio/a\n",
       "0                0   Pedro    False\n",
       "1                0   Julio    False\n",
       "2                2    Lola     True\n",
       "3                1   Nuria     True\n",
       "4                8   Elisa    False\n",
       "5                0  Manuel     True"
      ]
     },
     "execution_count": 72,
     "metadata": {},
     "output_type": "execute_result"
    }
   ],
   "source": [
    "df_dos"
   ]
  },
  {
   "cell_type": "markdown",
   "metadata": {},
   "source": [
    "Y queremos unir ambos DataFrames en uno solo. Pues bien, en el mundo SQL, esto se realiza a través de las operaciones JOIN. Pandas ofrece esta misma funcionalidad a través del método .merge() aplicado a uno de los DataFrames, y que toma como argumento el otro. Cuando hacemos un JOIN en SQL, debemos especificar por qué columna queremos realizarlo. En pandas es opcional (él solo lo deduce), no obstante, podemos pasárselo como argumento opcional al .merge(on=\"nombre_de_columna\"). Recomiendo hacerlo siempre, para evitar sorpresas inesperadas."
   ]
  },
  {
   "cell_type": "markdown",
   "metadata": {},
   "source": [
    "Resulta que hay varios tipos de JOINS o merges, dependiendo de cómo se quieran tratar los valores que aparecen en la columna de un DataFrame y no en las de otro. [Esta página](https://blog.codinghorror.com/a-visual-explanation-of-sql-joins/) explica muy bien los diferentes tipos de JOIN\n",
    "\n"
   ]
  },
  {
   "cell_type": "markdown",
   "metadata": {},
   "source": [
    "Vamos uno por uno, utilizando .merge(). Comencemos por el INNER JOIN, y dados los dos DataFrames, vemos que lo lógico sería cruzarlos por el campo \"nombre\", puesto que es el único común a ambos DataFrames:\n",
    "\n"
   ]
  },
  {
   "cell_type": "code",
   "execution_count": 73,
   "metadata": {},
   "outputs": [
    {
     "data": {
      "text/html": [
       "<div>\n",
       "<style scoped>\n",
       "    .dataframe tbody tr th:only-of-type {\n",
       "        vertical-align: middle;\n",
       "    }\n",
       "\n",
       "    .dataframe tbody tr th {\n",
       "        vertical-align: top;\n",
       "    }\n",
       "\n",
       "    .dataframe thead th {\n",
       "        text-align: right;\n",
       "    }\n",
       "</style>\n",
       "<table border=\"1\" class=\"dataframe\">\n",
       "  <thead>\n",
       "    <tr style=\"text-align: right;\">\n",
       "      <th></th>\n",
       "      <th>nombre</th>\n",
       "      <th>edad</th>\n",
       "      <th>altura (cm)</th>\n",
       "      <th>ciudad</th>\n",
       "      <th>sexo</th>\n",
       "      <th>casado/a</th>\n",
       "      <th>numero de gatos</th>\n",
       "      <th>rubio/a</th>\n",
       "    </tr>\n",
       "  </thead>\n",
       "  <tbody>\n",
       "    <tr>\n",
       "      <th>0</th>\n",
       "      <td>Julio</td>\n",
       "      <td>22</td>\n",
       "      <td>175.0</td>\n",
       "      <td>Madrid</td>\n",
       "      <td>V</td>\n",
       "      <td>False</td>\n",
       "      <td>0</td>\n",
       "      <td>False</td>\n",
       "    </tr>\n",
       "    <tr>\n",
       "      <th>1</th>\n",
       "      <td>Nuria</td>\n",
       "      <td>27</td>\n",
       "      <td>169.0</td>\n",
       "      <td>Madrid</td>\n",
       "      <td>M</td>\n",
       "      <td>False</td>\n",
       "      <td>1</td>\n",
       "      <td>True</td>\n",
       "    </tr>\n",
       "    <tr>\n",
       "      <th>2</th>\n",
       "      <td>Pedro</td>\n",
       "      <td>24</td>\n",
       "      <td>184.0</td>\n",
       "      <td>Barcelona</td>\n",
       "      <td>V</td>\n",
       "      <td>True</td>\n",
       "      <td>0</td>\n",
       "      <td>False</td>\n",
       "    </tr>\n",
       "    <tr>\n",
       "      <th>3</th>\n",
       "      <td>Lola</td>\n",
       "      <td>19</td>\n",
       "      <td>166.0</td>\n",
       "      <td>Barcelona</td>\n",
       "      <td>M</td>\n",
       "      <td>True</td>\n",
       "      <td>2</td>\n",
       "      <td>True</td>\n",
       "    </tr>\n",
       "  </tbody>\n",
       "</table>\n",
       "</div>"
      ],
      "text/plain": [
       "  nombre  edad  altura (cm)     ciudad sexo  casado/a  numero de gatos  \\\n",
       "0  Julio    22        175.0     Madrid    V     False                0   \n",
       "1  Nuria    27        169.0     Madrid    M     False                1   \n",
       "2  Pedro    24        184.0  Barcelona    V      True                0   \n",
       "3   Lola    19        166.0  Barcelona    M      True                2   \n",
       "\n",
       "   rubio/a  \n",
       "0    False  \n",
       "1     True  \n",
       "2    False  \n",
       "3     True  "
      ]
     },
     "execution_count": 73,
     "metadata": {},
     "output_type": "execute_result"
    }
   ],
   "source": [
    "df_uno.merge(df_dos, how=\"inner\", on=\"nombre\")"
   ]
  },
  {
   "cell_type": "markdown",
   "metadata": {},
   "source": [
    "Ahora el LEFT OUTER JOIN (o LEFT JOIN que es lo mismo):"
   ]
  },
  {
   "cell_type": "code",
   "execution_count": 74,
   "metadata": {},
   "outputs": [
    {
     "data": {
      "text/html": [
       "<div>\n",
       "<style scoped>\n",
       "    .dataframe tbody tr th:only-of-type {\n",
       "        vertical-align: middle;\n",
       "    }\n",
       "\n",
       "    .dataframe tbody tr th {\n",
       "        vertical-align: top;\n",
       "    }\n",
       "\n",
       "    .dataframe thead th {\n",
       "        text-align: right;\n",
       "    }\n",
       "</style>\n",
       "<table border=\"1\" class=\"dataframe\">\n",
       "  <thead>\n",
       "    <tr style=\"text-align: right;\">\n",
       "      <th></th>\n",
       "      <th>nombre</th>\n",
       "      <th>edad</th>\n",
       "      <th>altura (cm)</th>\n",
       "      <th>ciudad</th>\n",
       "      <th>sexo</th>\n",
       "      <th>casado/a</th>\n",
       "      <th>numero de gatos</th>\n",
       "      <th>rubio/a</th>\n",
       "    </tr>\n",
       "  </thead>\n",
       "  <tbody>\n",
       "    <tr>\n",
       "      <th>0</th>\n",
       "      <td>Julio</td>\n",
       "      <td>22</td>\n",
       "      <td>175.0</td>\n",
       "      <td>Madrid</td>\n",
       "      <td>V</td>\n",
       "      <td>False</td>\n",
       "      <td>0.0</td>\n",
       "      <td>False</td>\n",
       "    </tr>\n",
       "    <tr>\n",
       "      <th>1</th>\n",
       "      <td>Nuria</td>\n",
       "      <td>27</td>\n",
       "      <td>169.0</td>\n",
       "      <td>Madrid</td>\n",
       "      <td>M</td>\n",
       "      <td>False</td>\n",
       "      <td>1.0</td>\n",
       "      <td>True</td>\n",
       "    </tr>\n",
       "    <tr>\n",
       "      <th>2</th>\n",
       "      <td>Pedro</td>\n",
       "      <td>24</td>\n",
       "      <td>184.0</td>\n",
       "      <td>Barcelona</td>\n",
       "      <td>V</td>\n",
       "      <td>True</td>\n",
       "      <td>0.0</td>\n",
       "      <td>False</td>\n",
       "    </tr>\n",
       "    <tr>\n",
       "      <th>3</th>\n",
       "      <td>María</td>\n",
       "      <td>31</td>\n",
       "      <td>162.0</td>\n",
       "      <td>Valencia</td>\n",
       "      <td>M</td>\n",
       "      <td>False</td>\n",
       "      <td>NaN</td>\n",
       "      <td>NaN</td>\n",
       "    </tr>\n",
       "    <tr>\n",
       "      <th>4</th>\n",
       "      <td>Lola</td>\n",
       "      <td>19</td>\n",
       "      <td>166.0</td>\n",
       "      <td>Barcelona</td>\n",
       "      <td>M</td>\n",
       "      <td>True</td>\n",
       "      <td>2.0</td>\n",
       "      <td>True</td>\n",
       "    </tr>\n",
       "  </tbody>\n",
       "</table>\n",
       "</div>"
      ],
      "text/plain": [
       "  nombre  edad  altura (cm)     ciudad sexo  casado/a  numero de gatos rubio/a\n",
       "0  Julio    22        175.0     Madrid    V     False              0.0   False\n",
       "1  Nuria    27        169.0     Madrid    M     False              1.0    True\n",
       "2  Pedro    24        184.0  Barcelona    V      True              0.0   False\n",
       "3  María    31        162.0   Valencia    M     False              NaN     NaN\n",
       "4   Lola    19        166.0  Barcelona    M      True              2.0    True"
      ]
     },
     "execution_count": 74,
     "metadata": {},
     "output_type": "execute_result"
    }
   ],
   "source": [
    "df_uno.merge(df_dos, how=\"left\", on=\"nombre\")"
   ]
  },
  {
   "cell_type": "markdown",
   "metadata": {},
   "source": [
    "Ahora el RIGHT OUTER JOIN (o RIGHT JOIN que es lo mismo):"
   ]
  },
  {
   "cell_type": "code",
   "execution_count": 75,
   "metadata": {},
   "outputs": [
    {
     "data": {
      "text/html": [
       "<div>\n",
       "<style scoped>\n",
       "    .dataframe tbody tr th:only-of-type {\n",
       "        vertical-align: middle;\n",
       "    }\n",
       "\n",
       "    .dataframe tbody tr th {\n",
       "        vertical-align: top;\n",
       "    }\n",
       "\n",
       "    .dataframe thead th {\n",
       "        text-align: right;\n",
       "    }\n",
       "</style>\n",
       "<table border=\"1\" class=\"dataframe\">\n",
       "  <thead>\n",
       "    <tr style=\"text-align: right;\">\n",
       "      <th></th>\n",
       "      <th>nombre</th>\n",
       "      <th>edad</th>\n",
       "      <th>altura (cm)</th>\n",
       "      <th>ciudad</th>\n",
       "      <th>sexo</th>\n",
       "      <th>casado/a</th>\n",
       "      <th>numero de gatos</th>\n",
       "      <th>rubio/a</th>\n",
       "    </tr>\n",
       "  </thead>\n",
       "  <tbody>\n",
       "    <tr>\n",
       "      <th>0</th>\n",
       "      <td>Julio</td>\n",
       "      <td>22.0</td>\n",
       "      <td>175.0</td>\n",
       "      <td>Madrid</td>\n",
       "      <td>V</td>\n",
       "      <td>False</td>\n",
       "      <td>0</td>\n",
       "      <td>False</td>\n",
       "    </tr>\n",
       "    <tr>\n",
       "      <th>1</th>\n",
       "      <td>Nuria</td>\n",
       "      <td>27.0</td>\n",
       "      <td>169.0</td>\n",
       "      <td>Madrid</td>\n",
       "      <td>M</td>\n",
       "      <td>False</td>\n",
       "      <td>1</td>\n",
       "      <td>True</td>\n",
       "    </tr>\n",
       "    <tr>\n",
       "      <th>2</th>\n",
       "      <td>Pedro</td>\n",
       "      <td>24.0</td>\n",
       "      <td>184.0</td>\n",
       "      <td>Barcelona</td>\n",
       "      <td>V</td>\n",
       "      <td>True</td>\n",
       "      <td>0</td>\n",
       "      <td>False</td>\n",
       "    </tr>\n",
       "    <tr>\n",
       "      <th>3</th>\n",
       "      <td>Lola</td>\n",
       "      <td>19.0</td>\n",
       "      <td>166.0</td>\n",
       "      <td>Barcelona</td>\n",
       "      <td>M</td>\n",
       "      <td>True</td>\n",
       "      <td>2</td>\n",
       "      <td>True</td>\n",
       "    </tr>\n",
       "    <tr>\n",
       "      <th>4</th>\n",
       "      <td>Elisa</td>\n",
       "      <td>NaN</td>\n",
       "      <td>NaN</td>\n",
       "      <td>NaN</td>\n",
       "      <td>NaN</td>\n",
       "      <td>NaN</td>\n",
       "      <td>8</td>\n",
       "      <td>False</td>\n",
       "    </tr>\n",
       "    <tr>\n",
       "      <th>5</th>\n",
       "      <td>Manuel</td>\n",
       "      <td>NaN</td>\n",
       "      <td>NaN</td>\n",
       "      <td>NaN</td>\n",
       "      <td>NaN</td>\n",
       "      <td>NaN</td>\n",
       "      <td>0</td>\n",
       "      <td>True</td>\n",
       "    </tr>\n",
       "  </tbody>\n",
       "</table>\n",
       "</div>"
      ],
      "text/plain": [
       "   nombre  edad  altura (cm)     ciudad sexo casado/a  numero de gatos  \\\n",
       "0   Julio  22.0        175.0     Madrid    V    False                0   \n",
       "1   Nuria  27.0        169.0     Madrid    M    False                1   \n",
       "2   Pedro  24.0        184.0  Barcelona    V     True                0   \n",
       "3    Lola  19.0        166.0  Barcelona    M     True                2   \n",
       "4   Elisa   NaN          NaN        NaN  NaN      NaN                8   \n",
       "5  Manuel   NaN          NaN        NaN  NaN      NaN                0   \n",
       "\n",
       "   rubio/a  \n",
       "0    False  \n",
       "1     True  \n",
       "2    False  \n",
       "3     True  \n",
       "4    False  \n",
       "5     True  "
      ]
     },
     "execution_count": 75,
     "metadata": {},
     "output_type": "execute_result"
    }
   ],
   "source": [
    "df_uno.merge(df_dos, how=\"right\", on=\"nombre\")"
   ]
  },
  {
   "cell_type": "markdown",
   "metadata": {},
   "source": [
    "Y por último, el OUTER JOIN (o FULL OUTER JOIN):\n",
    "\n"
   ]
  },
  {
   "cell_type": "code",
   "execution_count": 76,
   "metadata": {},
   "outputs": [
    {
     "data": {
      "text/html": [
       "<div>\n",
       "<style scoped>\n",
       "    .dataframe tbody tr th:only-of-type {\n",
       "        vertical-align: middle;\n",
       "    }\n",
       "\n",
       "    .dataframe tbody tr th {\n",
       "        vertical-align: top;\n",
       "    }\n",
       "\n",
       "    .dataframe thead th {\n",
       "        text-align: right;\n",
       "    }\n",
       "</style>\n",
       "<table border=\"1\" class=\"dataframe\">\n",
       "  <thead>\n",
       "    <tr style=\"text-align: right;\">\n",
       "      <th></th>\n",
       "      <th>nombre</th>\n",
       "      <th>edad</th>\n",
       "      <th>altura (cm)</th>\n",
       "      <th>ciudad</th>\n",
       "      <th>sexo</th>\n",
       "      <th>casado/a</th>\n",
       "      <th>numero de gatos</th>\n",
       "      <th>rubio/a</th>\n",
       "    </tr>\n",
       "  </thead>\n",
       "  <tbody>\n",
       "    <tr>\n",
       "      <th>0</th>\n",
       "      <td>Julio</td>\n",
       "      <td>22.0</td>\n",
       "      <td>175.0</td>\n",
       "      <td>Madrid</td>\n",
       "      <td>V</td>\n",
       "      <td>False</td>\n",
       "      <td>0.0</td>\n",
       "      <td>False</td>\n",
       "    </tr>\n",
       "    <tr>\n",
       "      <th>1</th>\n",
       "      <td>Nuria</td>\n",
       "      <td>27.0</td>\n",
       "      <td>169.0</td>\n",
       "      <td>Madrid</td>\n",
       "      <td>M</td>\n",
       "      <td>False</td>\n",
       "      <td>1.0</td>\n",
       "      <td>True</td>\n",
       "    </tr>\n",
       "    <tr>\n",
       "      <th>2</th>\n",
       "      <td>Pedro</td>\n",
       "      <td>24.0</td>\n",
       "      <td>184.0</td>\n",
       "      <td>Barcelona</td>\n",
       "      <td>V</td>\n",
       "      <td>True</td>\n",
       "      <td>0.0</td>\n",
       "      <td>False</td>\n",
       "    </tr>\n",
       "    <tr>\n",
       "      <th>3</th>\n",
       "      <td>María</td>\n",
       "      <td>31.0</td>\n",
       "      <td>162.0</td>\n",
       "      <td>Valencia</td>\n",
       "      <td>M</td>\n",
       "      <td>False</td>\n",
       "      <td>NaN</td>\n",
       "      <td>NaN</td>\n",
       "    </tr>\n",
       "    <tr>\n",
       "      <th>4</th>\n",
       "      <td>Lola</td>\n",
       "      <td>19.0</td>\n",
       "      <td>166.0</td>\n",
       "      <td>Barcelona</td>\n",
       "      <td>M</td>\n",
       "      <td>True</td>\n",
       "      <td>2.0</td>\n",
       "      <td>True</td>\n",
       "    </tr>\n",
       "    <tr>\n",
       "      <th>5</th>\n",
       "      <td>Elisa</td>\n",
       "      <td>NaN</td>\n",
       "      <td>NaN</td>\n",
       "      <td>NaN</td>\n",
       "      <td>NaN</td>\n",
       "      <td>NaN</td>\n",
       "      <td>8.0</td>\n",
       "      <td>False</td>\n",
       "    </tr>\n",
       "    <tr>\n",
       "      <th>6</th>\n",
       "      <td>Manuel</td>\n",
       "      <td>NaN</td>\n",
       "      <td>NaN</td>\n",
       "      <td>NaN</td>\n",
       "      <td>NaN</td>\n",
       "      <td>NaN</td>\n",
       "      <td>0.0</td>\n",
       "      <td>True</td>\n",
       "    </tr>\n",
       "  </tbody>\n",
       "</table>\n",
       "</div>"
      ],
      "text/plain": [
       "   nombre  edad  altura (cm)     ciudad sexo casado/a  numero de gatos rubio/a\n",
       "0   Julio  22.0        175.0     Madrid    V    False              0.0   False\n",
       "1   Nuria  27.0        169.0     Madrid    M    False              1.0    True\n",
       "2   Pedro  24.0        184.0  Barcelona    V     True              0.0   False\n",
       "3   María  31.0        162.0   Valencia    M    False              NaN     NaN\n",
       "4    Lola  19.0        166.0  Barcelona    M     True              2.0    True\n",
       "5   Elisa   NaN          NaN        NaN  NaN      NaN              8.0   False\n",
       "6  Manuel   NaN          NaN        NaN  NaN      NaN              0.0    True"
      ]
     },
     "execution_count": 76,
     "metadata": {},
     "output_type": "execute_result"
    }
   ],
   "source": [
    "df_uno.merge(df_dos, how=\"outer\", on=\"nombre\")"
   ]
  },
  {
   "cell_type": "markdown",
   "metadata": {},
   "source": [
    "### Agregaciones sobre DataFrames"
   ]
  },
  {
   "cell_type": "markdown",
   "metadata": {},
   "source": [
    "En el mundo del análisis de datos tabulares es muy frecuente querer generar agregados más allá de simples medias y varianzas. Agregar agrupando por un campo es una operación muy frecuente en SQL. Es muy probable que hayas visto este tipo de sintaxtis en SQL:\n",
    "\n",
    "> SELECT COUNT(*) FROM mitabla GROUP BY ciudad;\n",
    "pandas ofrece una gran variedad de funciones (todas las de SQL y más) para realizar este tipo de agregados.\n",
    "\n",
    "Comencemos por crear un DataFrame que nos sea útil para este tipo de agrupaciones:"
   ]
  },
  {
   "cell_type": "code",
   "execution_count": 77,
   "metadata": {},
   "outputs": [
    {
     "data": {
      "text/html": [
       "<div>\n",
       "<style scoped>\n",
       "    .dataframe tbody tr th:only-of-type {\n",
       "        vertical-align: middle;\n",
       "    }\n",
       "\n",
       "    .dataframe tbody tr th {\n",
       "        vertical-align: top;\n",
       "    }\n",
       "\n",
       "    .dataframe thead th {\n",
       "        text-align: right;\n",
       "    }\n",
       "</style>\n",
       "<table border=\"1\" class=\"dataframe\">\n",
       "  <thead>\n",
       "    <tr style=\"text-align: right;\">\n",
       "      <th></th>\n",
       "      <th>importe</th>\n",
       "      <th>ciudad</th>\n",
       "      <th>modelo</th>\n",
       "      <th>caballos</th>\n",
       "      <th>gasolina</th>\n",
       "      <th>id</th>\n",
       "    </tr>\n",
       "  </thead>\n",
       "  <tbody>\n",
       "    <tr>\n",
       "      <th>0</th>\n",
       "      <td>32000.2</td>\n",
       "      <td>Madrid</td>\n",
       "      <td>coupé</td>\n",
       "      <td>215</td>\n",
       "      <td>True</td>\n",
       "      <td>131</td>\n",
       "    </tr>\n",
       "    <tr>\n",
       "      <th>1</th>\n",
       "      <td>12800.4</td>\n",
       "      <td>Barcelona</td>\n",
       "      <td>coupé</td>\n",
       "      <td>134</td>\n",
       "      <td>False</td>\n",
       "      <td>12</td>\n",
       "    </tr>\n",
       "    <tr>\n",
       "      <th>2</th>\n",
       "      <td>80034.0</td>\n",
       "      <td>Valencia</td>\n",
       "      <td>cabrio</td>\n",
       "      <td>380</td>\n",
       "      <td>True</td>\n",
       "      <td>152</td>\n",
       "    </tr>\n",
       "    <tr>\n",
       "      <th>3</th>\n",
       "      <td>39103.5</td>\n",
       "      <td>Madrid</td>\n",
       "      <td>berlina</td>\n",
       "      <td>235</td>\n",
       "      <td>False</td>\n",
       "      <td>241</td>\n",
       "    </tr>\n",
       "    <tr>\n",
       "      <th>4</th>\n",
       "      <td>6900.0</td>\n",
       "      <td>Barcelona</td>\n",
       "      <td>cabrio</td>\n",
       "      <td>90</td>\n",
       "      <td>False</td>\n",
       "      <td>369</td>\n",
       "    </tr>\n",
       "    <tr>\n",
       "      <th>5</th>\n",
       "      <td>93802.5</td>\n",
       "      <td>Valencia</td>\n",
       "      <td>coupé</td>\n",
       "      <td>420</td>\n",
       "      <td>True</td>\n",
       "      <td>832</td>\n",
       "    </tr>\n",
       "    <tr>\n",
       "      <th>6</th>\n",
       "      <td>19900.0</td>\n",
       "      <td>Barcelona</td>\n",
       "      <td>coupé</td>\n",
       "      <td>110</td>\n",
       "      <td>False</td>\n",
       "      <td>16</td>\n",
       "    </tr>\n",
       "  </tbody>\n",
       "</table>\n",
       "</div>"
      ],
      "text/plain": [
       "   importe     ciudad   modelo  caballos  gasolina   id\n",
       "0  32000.2     Madrid    coupé       215      True  131\n",
       "1  12800.4  Barcelona    coupé       134     False   12\n",
       "2  80034.0   Valencia   cabrio       380      True  152\n",
       "3  39103.5     Madrid  berlina       235     False  241\n",
       "4   6900.0  Barcelona   cabrio        90     False  369\n",
       "5  93802.5   Valencia    coupé       420      True  832\n",
       "6  19900.0  Barcelona    coupé       110     False   16"
      ]
     },
     "execution_count": 77,
     "metadata": {},
     "output_type": "execute_result"
    }
   ],
   "source": [
    "df_para_agrupar = pd.DataFrame({\"importe\": [32000.2, 12800.4, 80034, 39103.5, 6900, 93802.5, 19900],\n",
    "                                \"ciudad\": [\"Madrid\", \"Barcelona\", \"Valencia\", \"Madrid\", \"Barcelona\", \"Valencia\", \"Barcelona\"],\n",
    "                                \"modelo\": [u\"coupé\", u\"coupé\", \"cabrio\", \"berlina\", \"cabrio\", u\"coupé\", u\"coupé\"],\n",
    "                                \"caballos\": [215, 134, 380, 235, 90, 420, 110],\n",
    "                                \"gasolina\": [True, False, True, False, False, True, False],\n",
    "                                \"id\": [131, 12, 152, 241, 369, 832, 16]\n",
    "                               })\n",
    "\n",
    "df_para_agrupar"
   ]
  },
  {
   "cell_type": "markdown",
   "metadata": {},
   "source": [
    "Este DataFrame contiene datos de compras de coches (solo 7 compras), en distintas comunidades autónomas. Antes de nada, vamos a poner la columna id como el index del DataFrame (que es una práctica común):"
   ]
  },
  {
   "cell_type": "code",
   "execution_count": 78,
   "metadata": {},
   "outputs": [
    {
     "data": {
      "text/html": [
       "<div>\n",
       "<style scoped>\n",
       "    .dataframe tbody tr th:only-of-type {\n",
       "        vertical-align: middle;\n",
       "    }\n",
       "\n",
       "    .dataframe tbody tr th {\n",
       "        vertical-align: top;\n",
       "    }\n",
       "\n",
       "    .dataframe thead th {\n",
       "        text-align: right;\n",
       "    }\n",
       "</style>\n",
       "<table border=\"1\" class=\"dataframe\">\n",
       "  <thead>\n",
       "    <tr style=\"text-align: right;\">\n",
       "      <th></th>\n",
       "      <th>importe</th>\n",
       "      <th>ciudad</th>\n",
       "      <th>modelo</th>\n",
       "      <th>caballos</th>\n",
       "      <th>gasolina</th>\n",
       "    </tr>\n",
       "    <tr>\n",
       "      <th>id</th>\n",
       "      <th></th>\n",
       "      <th></th>\n",
       "      <th></th>\n",
       "      <th></th>\n",
       "      <th></th>\n",
       "    </tr>\n",
       "  </thead>\n",
       "  <tbody>\n",
       "    <tr>\n",
       "      <th>12</th>\n",
       "      <td>12800.4</td>\n",
       "      <td>Barcelona</td>\n",
       "      <td>coupé</td>\n",
       "      <td>134</td>\n",
       "      <td>False</td>\n",
       "    </tr>\n",
       "    <tr>\n",
       "      <th>16</th>\n",
       "      <td>19900.0</td>\n",
       "      <td>Barcelona</td>\n",
       "      <td>coupé</td>\n",
       "      <td>110</td>\n",
       "      <td>False</td>\n",
       "    </tr>\n",
       "    <tr>\n",
       "      <th>131</th>\n",
       "      <td>32000.2</td>\n",
       "      <td>Madrid</td>\n",
       "      <td>coupé</td>\n",
       "      <td>215</td>\n",
       "      <td>True</td>\n",
       "    </tr>\n",
       "    <tr>\n",
       "      <th>152</th>\n",
       "      <td>80034.0</td>\n",
       "      <td>Valencia</td>\n",
       "      <td>cabrio</td>\n",
       "      <td>380</td>\n",
       "      <td>True</td>\n",
       "    </tr>\n",
       "    <tr>\n",
       "      <th>241</th>\n",
       "      <td>39103.5</td>\n",
       "      <td>Madrid</td>\n",
       "      <td>berlina</td>\n",
       "      <td>235</td>\n",
       "      <td>False</td>\n",
       "    </tr>\n",
       "    <tr>\n",
       "      <th>369</th>\n",
       "      <td>6900.0</td>\n",
       "      <td>Barcelona</td>\n",
       "      <td>cabrio</td>\n",
       "      <td>90</td>\n",
       "      <td>False</td>\n",
       "    </tr>\n",
       "    <tr>\n",
       "      <th>832</th>\n",
       "      <td>93802.5</td>\n",
       "      <td>Valencia</td>\n",
       "      <td>coupé</td>\n",
       "      <td>420</td>\n",
       "      <td>True</td>\n",
       "    </tr>\n",
       "  </tbody>\n",
       "</table>\n",
       "</div>"
      ],
      "text/plain": [
       "     importe     ciudad   modelo  caballos  gasolina\n",
       "id                                                  \n",
       "12   12800.4  Barcelona    coupé       134     False\n",
       "16   19900.0  Barcelona    coupé       110     False\n",
       "131  32000.2     Madrid    coupé       215      True\n",
       "152  80034.0   Valencia   cabrio       380      True\n",
       "241  39103.5     Madrid  berlina       235     False\n",
       "369   6900.0  Barcelona   cabrio        90     False\n",
       "832  93802.5   Valencia    coupé       420      True"
      ]
     },
     "execution_count": 78,
     "metadata": {},
     "output_type": "execute_result"
    }
   ],
   "source": [
    "# Ponemos la columna \"id\" como index del DataFrame:\n",
    "df_para_agrupar.index = df_para_agrupar[\"id\"]\n",
    "\n",
    "# Y la eliminamos de las columnas. Para eliminar\n",
    "# columnas de un DataFrame, podemos utilizar la\n",
    "# keyword del de python, que elimina variables,\n",
    "# o campos dentro de una lista, diccionario... O\n",
    "# en este caso, columnas de un DataFrame:\n",
    "del df_para_agrupar[\"id\"]\n",
    "\n",
    "# Ordenamos las filas de menor a mayor index.\n",
    "# Para ello, utilizamos el metodo sort_index():\n",
    "df_para_agrupar.sort_index(inplace=True)\n",
    "\n",
    "# Y lo mostramos:\n",
    "df_para_agrupar"
   ]
  },
  {
   "cell_type": "markdown",
   "metadata": {},
   "source": [
    "Una forma de agrupar los datos por un campo es creando un index jerárquico, igual que hicimos anteriormente con las columnas, pero en este caso con el index. Para añadir otro index, podemos hacerlo con el método .set_index(y_una_lista_de_los_indices_que_queremos). El índice más arriba en la jerarquía lo ponemos como primer valor de la lista, y el de más abajo, como el último.\n",
    "\n",
    "Vamos a probar por agrupar las transacciones de los coches por la ciudad en la que ocurrieron:\n",
    "    "
   ]
  },
  {
   "cell_type": "code",
   "execution_count": 79,
   "metadata": {},
   "outputs": [
    {
     "data": {
      "text/html": [
       "<div>\n",
       "<style scoped>\n",
       "    .dataframe tbody tr th:only-of-type {\n",
       "        vertical-align: middle;\n",
       "    }\n",
       "\n",
       "    .dataframe tbody tr th {\n",
       "        vertical-align: top;\n",
       "    }\n",
       "\n",
       "    .dataframe thead th {\n",
       "        text-align: right;\n",
       "    }\n",
       "</style>\n",
       "<table border=\"1\" class=\"dataframe\">\n",
       "  <thead>\n",
       "    <tr style=\"text-align: right;\">\n",
       "      <th></th>\n",
       "      <th></th>\n",
       "      <th>importe</th>\n",
       "      <th>ciudad</th>\n",
       "      <th>modelo</th>\n",
       "      <th>caballos</th>\n",
       "      <th>gasolina</th>\n",
       "    </tr>\n",
       "    <tr>\n",
       "      <th>ciudad</th>\n",
       "      <th>id</th>\n",
       "      <th></th>\n",
       "      <th></th>\n",
       "      <th></th>\n",
       "      <th></th>\n",
       "      <th></th>\n",
       "    </tr>\n",
       "  </thead>\n",
       "  <tbody>\n",
       "    <tr>\n",
       "      <th rowspan=\"2\" valign=\"top\">Barcelona</th>\n",
       "      <th>12</th>\n",
       "      <td>12800.4</td>\n",
       "      <td>Barcelona</td>\n",
       "      <td>coupé</td>\n",
       "      <td>134</td>\n",
       "      <td>False</td>\n",
       "    </tr>\n",
       "    <tr>\n",
       "      <th>16</th>\n",
       "      <td>19900.0</td>\n",
       "      <td>Barcelona</td>\n",
       "      <td>coupé</td>\n",
       "      <td>110</td>\n",
       "      <td>False</td>\n",
       "    </tr>\n",
       "    <tr>\n",
       "      <th>Madrid</th>\n",
       "      <th>131</th>\n",
       "      <td>32000.2</td>\n",
       "      <td>Madrid</td>\n",
       "      <td>coupé</td>\n",
       "      <td>215</td>\n",
       "      <td>True</td>\n",
       "    </tr>\n",
       "    <tr>\n",
       "      <th>Valencia</th>\n",
       "      <th>152</th>\n",
       "      <td>80034.0</td>\n",
       "      <td>Valencia</td>\n",
       "      <td>cabrio</td>\n",
       "      <td>380</td>\n",
       "      <td>True</td>\n",
       "    </tr>\n",
       "    <tr>\n",
       "      <th>Madrid</th>\n",
       "      <th>241</th>\n",
       "      <td>39103.5</td>\n",
       "      <td>Madrid</td>\n",
       "      <td>berlina</td>\n",
       "      <td>235</td>\n",
       "      <td>False</td>\n",
       "    </tr>\n",
       "    <tr>\n",
       "      <th>Barcelona</th>\n",
       "      <th>369</th>\n",
       "      <td>6900.0</td>\n",
       "      <td>Barcelona</td>\n",
       "      <td>cabrio</td>\n",
       "      <td>90</td>\n",
       "      <td>False</td>\n",
       "    </tr>\n",
       "    <tr>\n",
       "      <th>Valencia</th>\n",
       "      <th>832</th>\n",
       "      <td>93802.5</td>\n",
       "      <td>Valencia</td>\n",
       "      <td>coupé</td>\n",
       "      <td>420</td>\n",
       "      <td>True</td>\n",
       "    </tr>\n",
       "  </tbody>\n",
       "</table>\n",
       "</div>"
      ],
      "text/plain": [
       "               importe     ciudad   modelo  caballos  gasolina\n",
       "ciudad    id                                                  \n",
       "Barcelona 12   12800.4  Barcelona    coupé       134     False\n",
       "          16   19900.0  Barcelona    coupé       110     False\n",
       "Madrid    131  32000.2     Madrid    coupé       215      True\n",
       "Valencia  152  80034.0   Valencia   cabrio       380      True\n",
       "Madrid    241  39103.5     Madrid  berlina       235     False\n",
       "Barcelona 369   6900.0  Barcelona   cabrio        90     False\n",
       "Valencia  832  93802.5   Valencia    coupé       420      True"
      ]
     },
     "execution_count": 79,
     "metadata": {},
     "output_type": "execute_result"
    }
   ],
   "source": [
    "# El índice más arriba de la jerarquía será la ciudad, y el\n",
    "# de más abajo, el index actual del DataFrame (es decir, el \"id\"):\n",
    "df_agrupado_ciudad = df_para_agrupar.set_index([df_para_agrupar[\"ciudad\"], df_para_agrupar.index])\n",
    "df_agrupado_ciudad"
   ]
  },
  {
   "cell_type": "markdown",
   "metadata": {},
   "source": [
    "Para que nos quede más bonito, vamos a ordenar de nuevo el index con sort_index(). Si no le pasamos un nivel de jerarquía al método, por defecto nos ordenará por el nivel más elevado, que es justo lo que queremos aquí:"
   ]
  },
  {
   "cell_type": "code",
   "execution_count": 80,
   "metadata": {},
   "outputs": [
    {
     "data": {
      "text/html": [
       "<div>\n",
       "<style scoped>\n",
       "    .dataframe tbody tr th:only-of-type {\n",
       "        vertical-align: middle;\n",
       "    }\n",
       "\n",
       "    .dataframe tbody tr th {\n",
       "        vertical-align: top;\n",
       "    }\n",
       "\n",
       "    .dataframe thead th {\n",
       "        text-align: right;\n",
       "    }\n",
       "</style>\n",
       "<table border=\"1\" class=\"dataframe\">\n",
       "  <thead>\n",
       "    <tr style=\"text-align: right;\">\n",
       "      <th></th>\n",
       "      <th></th>\n",
       "      <th>importe</th>\n",
       "      <th>ciudad</th>\n",
       "      <th>modelo</th>\n",
       "      <th>caballos</th>\n",
       "      <th>gasolina</th>\n",
       "    </tr>\n",
       "    <tr>\n",
       "      <th>ciudad</th>\n",
       "      <th>id</th>\n",
       "      <th></th>\n",
       "      <th></th>\n",
       "      <th></th>\n",
       "      <th></th>\n",
       "      <th></th>\n",
       "    </tr>\n",
       "  </thead>\n",
       "  <tbody>\n",
       "    <tr>\n",
       "      <th rowspan=\"3\" valign=\"top\">Barcelona</th>\n",
       "      <th>12</th>\n",
       "      <td>12800.4</td>\n",
       "      <td>Barcelona</td>\n",
       "      <td>coupé</td>\n",
       "      <td>134</td>\n",
       "      <td>False</td>\n",
       "    </tr>\n",
       "    <tr>\n",
       "      <th>16</th>\n",
       "      <td>19900.0</td>\n",
       "      <td>Barcelona</td>\n",
       "      <td>coupé</td>\n",
       "      <td>110</td>\n",
       "      <td>False</td>\n",
       "    </tr>\n",
       "    <tr>\n",
       "      <th>369</th>\n",
       "      <td>6900.0</td>\n",
       "      <td>Barcelona</td>\n",
       "      <td>cabrio</td>\n",
       "      <td>90</td>\n",
       "      <td>False</td>\n",
       "    </tr>\n",
       "    <tr>\n",
       "      <th rowspan=\"2\" valign=\"top\">Madrid</th>\n",
       "      <th>131</th>\n",
       "      <td>32000.2</td>\n",
       "      <td>Madrid</td>\n",
       "      <td>coupé</td>\n",
       "      <td>215</td>\n",
       "      <td>True</td>\n",
       "    </tr>\n",
       "    <tr>\n",
       "      <th>241</th>\n",
       "      <td>39103.5</td>\n",
       "      <td>Madrid</td>\n",
       "      <td>berlina</td>\n",
       "      <td>235</td>\n",
       "      <td>False</td>\n",
       "    </tr>\n",
       "    <tr>\n",
       "      <th rowspan=\"2\" valign=\"top\">Valencia</th>\n",
       "      <th>152</th>\n",
       "      <td>80034.0</td>\n",
       "      <td>Valencia</td>\n",
       "      <td>cabrio</td>\n",
       "      <td>380</td>\n",
       "      <td>True</td>\n",
       "    </tr>\n",
       "    <tr>\n",
       "      <th>832</th>\n",
       "      <td>93802.5</td>\n",
       "      <td>Valencia</td>\n",
       "      <td>coupé</td>\n",
       "      <td>420</td>\n",
       "      <td>True</td>\n",
       "    </tr>\n",
       "  </tbody>\n",
       "</table>\n",
       "</div>"
      ],
      "text/plain": [
       "               importe     ciudad   modelo  caballos  gasolina\n",
       "ciudad    id                                                  \n",
       "Barcelona 12   12800.4  Barcelona    coupé       134     False\n",
       "          16   19900.0  Barcelona    coupé       110     False\n",
       "          369   6900.0  Barcelona   cabrio        90     False\n",
       "Madrid    131  32000.2     Madrid    coupé       215      True\n",
       "          241  39103.5     Madrid  berlina       235     False\n",
       "Valencia  152  80034.0   Valencia   cabrio       380      True\n",
       "          832  93802.5   Valencia    coupé       420      True"
      ]
     },
     "execution_count": 80,
     "metadata": {},
     "output_type": "execute_result"
    }
   ],
   "source": [
    "df_agrupado_ciudad_ordenado = df_agrupado_ciudad.sort_index(inplace=False) # inplace=False \n",
    "                                                                           # crea un nuevo DataFrame;\n",
    "df_agrupado_ciudad_ordenado                                                # True ordena el actual.   "
   ]
  },
  {
   "cell_type": "markdown",
   "metadata": {},
   "source": [
    "Ya no tiene sentido que ciudad siga siendo también una columna. La quitamos:"
   ]
  },
  {
   "cell_type": "code",
   "execution_count": 81,
   "metadata": {},
   "outputs": [
    {
     "data": {
      "text/html": [
       "<div>\n",
       "<style scoped>\n",
       "    .dataframe tbody tr th:only-of-type {\n",
       "        vertical-align: middle;\n",
       "    }\n",
       "\n",
       "    .dataframe tbody tr th {\n",
       "        vertical-align: top;\n",
       "    }\n",
       "\n",
       "    .dataframe thead th {\n",
       "        text-align: right;\n",
       "    }\n",
       "</style>\n",
       "<table border=\"1\" class=\"dataframe\">\n",
       "  <thead>\n",
       "    <tr style=\"text-align: right;\">\n",
       "      <th></th>\n",
       "      <th></th>\n",
       "      <th>importe</th>\n",
       "      <th>modelo</th>\n",
       "      <th>caballos</th>\n",
       "      <th>gasolina</th>\n",
       "    </tr>\n",
       "    <tr>\n",
       "      <th>ciudad</th>\n",
       "      <th>id</th>\n",
       "      <th></th>\n",
       "      <th></th>\n",
       "      <th></th>\n",
       "      <th></th>\n",
       "    </tr>\n",
       "  </thead>\n",
       "  <tbody>\n",
       "    <tr>\n",
       "      <th rowspan=\"3\" valign=\"top\">Barcelona</th>\n",
       "      <th>12</th>\n",
       "      <td>12800.4</td>\n",
       "      <td>coupé</td>\n",
       "      <td>134</td>\n",
       "      <td>False</td>\n",
       "    </tr>\n",
       "    <tr>\n",
       "      <th>16</th>\n",
       "      <td>19900.0</td>\n",
       "      <td>coupé</td>\n",
       "      <td>110</td>\n",
       "      <td>False</td>\n",
       "    </tr>\n",
       "    <tr>\n",
       "      <th>369</th>\n",
       "      <td>6900.0</td>\n",
       "      <td>cabrio</td>\n",
       "      <td>90</td>\n",
       "      <td>False</td>\n",
       "    </tr>\n",
       "    <tr>\n",
       "      <th rowspan=\"2\" valign=\"top\">Madrid</th>\n",
       "      <th>131</th>\n",
       "      <td>32000.2</td>\n",
       "      <td>coupé</td>\n",
       "      <td>215</td>\n",
       "      <td>True</td>\n",
       "    </tr>\n",
       "    <tr>\n",
       "      <th>241</th>\n",
       "      <td>39103.5</td>\n",
       "      <td>berlina</td>\n",
       "      <td>235</td>\n",
       "      <td>False</td>\n",
       "    </tr>\n",
       "    <tr>\n",
       "      <th rowspan=\"2\" valign=\"top\">Valencia</th>\n",
       "      <th>152</th>\n",
       "      <td>80034.0</td>\n",
       "      <td>cabrio</td>\n",
       "      <td>380</td>\n",
       "      <td>True</td>\n",
       "    </tr>\n",
       "    <tr>\n",
       "      <th>832</th>\n",
       "      <td>93802.5</td>\n",
       "      <td>coupé</td>\n",
       "      <td>420</td>\n",
       "      <td>True</td>\n",
       "    </tr>\n",
       "  </tbody>\n",
       "</table>\n",
       "</div>"
      ],
      "text/plain": [
       "               importe   modelo  caballos  gasolina\n",
       "ciudad    id                                       \n",
       "Barcelona 12   12800.4    coupé       134     False\n",
       "          16   19900.0    coupé       110     False\n",
       "          369   6900.0   cabrio        90     False\n",
       "Madrid    131  32000.2    coupé       215      True\n",
       "          241  39103.5  berlina       235     False\n",
       "Valencia  152  80034.0   cabrio       380      True\n",
       "          832  93802.5    coupé       420      True"
      ]
     },
     "execution_count": 81,
     "metadata": {},
     "output_type": "execute_result"
    }
   ],
   "source": [
    "del df_agrupado_ciudad_ordenado[\"ciudad\"]\n",
    "df_agrupado_ciudad_ordenado"
   ]
  },
  {
   "cell_type": "markdown",
   "metadata": {},
   "source": [
    "¡Tenemos nuestros valores agrupados por ciudad! ¿Qué pasará si utilizamos las funciones de agregación de pandas (por ejemplo, count()), pasándole el nivel de jerarquía que queremos?"
   ]
  },
  {
   "cell_type": "code",
   "execution_count": 82,
   "metadata": {},
   "outputs": [
    {
     "data": {
      "text/html": [
       "<div>\n",
       "<style scoped>\n",
       "    .dataframe tbody tr th:only-of-type {\n",
       "        vertical-align: middle;\n",
       "    }\n",
       "\n",
       "    .dataframe tbody tr th {\n",
       "        vertical-align: top;\n",
       "    }\n",
       "\n",
       "    .dataframe thead th {\n",
       "        text-align: right;\n",
       "    }\n",
       "</style>\n",
       "<table border=\"1\" class=\"dataframe\">\n",
       "  <thead>\n",
       "    <tr style=\"text-align: right;\">\n",
       "      <th></th>\n",
       "      <th>importe</th>\n",
       "      <th>modelo</th>\n",
       "      <th>caballos</th>\n",
       "      <th>gasolina</th>\n",
       "    </tr>\n",
       "    <tr>\n",
       "      <th>ciudad</th>\n",
       "      <th></th>\n",
       "      <th></th>\n",
       "      <th></th>\n",
       "      <th></th>\n",
       "    </tr>\n",
       "  </thead>\n",
       "  <tbody>\n",
       "    <tr>\n",
       "      <th>Barcelona</th>\n",
       "      <td>3</td>\n",
       "      <td>3</td>\n",
       "      <td>3</td>\n",
       "      <td>3</td>\n",
       "    </tr>\n",
       "    <tr>\n",
       "      <th>Madrid</th>\n",
       "      <td>2</td>\n",
       "      <td>2</td>\n",
       "      <td>2</td>\n",
       "      <td>2</td>\n",
       "    </tr>\n",
       "    <tr>\n",
       "      <th>Valencia</th>\n",
       "      <td>2</td>\n",
       "      <td>2</td>\n",
       "      <td>2</td>\n",
       "      <td>2</td>\n",
       "    </tr>\n",
       "  </tbody>\n",
       "</table>\n",
       "</div>"
      ],
      "text/plain": [
       "           importe  modelo  caballos  gasolina\n",
       "ciudad                                        \n",
       "Barcelona        3       3         3         3\n",
       "Madrid           2       2         2         2\n",
       "Valencia         2       2         2         2"
      ]
     },
     "execution_count": 82,
     "metadata": {},
     "output_type": "execute_result"
    }
   ],
   "source": [
    "# Una cuenta de registros por ciudad.\n",
    "# Puesto que ciudad es el nivel de mayor\n",
    "# jerarquía de nuestro index, es el level 0:\n",
    "df_agrupado_ciudad_ordenado.count(level=0)"
   ]
  },
  {
   "cell_type": "code",
   "execution_count": 83,
   "metadata": {},
   "outputs": [
    {
     "data": {
      "text/html": [
       "<div>\n",
       "<style scoped>\n",
       "    .dataframe tbody tr th:only-of-type {\n",
       "        vertical-align: middle;\n",
       "    }\n",
       "\n",
       "    .dataframe tbody tr th {\n",
       "        vertical-align: top;\n",
       "    }\n",
       "\n",
       "    .dataframe thead th {\n",
       "        text-align: right;\n",
       "    }\n",
       "</style>\n",
       "<table border=\"1\" class=\"dataframe\">\n",
       "  <thead>\n",
       "    <tr style=\"text-align: right;\">\n",
       "      <th></th>\n",
       "      <th>importe</th>\n",
       "      <th>caballos</th>\n",
       "      <th>gasolina</th>\n",
       "    </tr>\n",
       "    <tr>\n",
       "      <th>ciudad</th>\n",
       "      <th></th>\n",
       "      <th></th>\n",
       "      <th></th>\n",
       "    </tr>\n",
       "  </thead>\n",
       "  <tbody>\n",
       "    <tr>\n",
       "      <th>Barcelona</th>\n",
       "      <td>13200.133333</td>\n",
       "      <td>111.333333</td>\n",
       "      <td>0.0</td>\n",
       "    </tr>\n",
       "    <tr>\n",
       "      <th>Madrid</th>\n",
       "      <td>35551.850000</td>\n",
       "      <td>225.000000</td>\n",
       "      <td>0.5</td>\n",
       "    </tr>\n",
       "    <tr>\n",
       "      <th>Valencia</th>\n",
       "      <td>86918.250000</td>\n",
       "      <td>400.000000</td>\n",
       "      <td>1.0</td>\n",
       "    </tr>\n",
       "  </tbody>\n",
       "</table>\n",
       "</div>"
      ],
      "text/plain": [
       "                importe    caballos  gasolina\n",
       "ciudad                                       \n",
       "Barcelona  13200.133333  111.333333       0.0\n",
       "Madrid     35551.850000  225.000000       0.5\n",
       "Valencia   86918.250000  400.000000       1.0"
      ]
     },
     "execution_count": 83,
     "metadata": {},
     "output_type": "execute_result"
    }
   ],
   "source": [
    "# Y una media de los valores:\n",
    "df_agrupado_ciudad_ordenado.mean(level=0)"
   ]
  },
  {
   "cell_type": "markdown",
   "metadata": {},
   "source": [
    "Muy útil. No obstante, hemos visto que es un proceso bastante manual. Todo se puede automatizar, pero existe una forma más sencilla de conseguir los mismos resultados con pandas. Para ello, existe el método .groupby().\n",
    "\n",
    ".groubpy(\"nombre_de_columna\") tiene un funcionamiento curioso. Vamos a intentar utilizarlo para hacer lo mismo: agrupar los datos por ciudad:"
   ]
  },
  {
   "cell_type": "code",
   "execution_count": 84,
   "metadata": {},
   "outputs": [
    {
     "data": {
      "text/plain": [
       "<pandas.core.groupby.generic.DataFrameGroupBy object at 0x7f155fe22198>"
      ]
     },
     "execution_count": 84,
     "metadata": {},
     "output_type": "execute_result"
    }
   ],
   "source": [
    "# Partimos de nuevo de df_para_agrupar:\n",
    "df_para_agrupar.groupby(\"ciudad\")"
   ]
  },
  {
   "cell_type": "markdown",
   "metadata": {},
   "source": [
    "pandas nos devuelve un objeto curioso: un DataFrameGroupBy. Parece poco útil, pero... ¿Qué pasa si tras ese .groupby(\"ciudad\") escribimos un .count()?"
   ]
  },
  {
   "cell_type": "code",
   "execution_count": 85,
   "metadata": {},
   "outputs": [
    {
     "data": {
      "text/html": [
       "<div>\n",
       "<style scoped>\n",
       "    .dataframe tbody tr th:only-of-type {\n",
       "        vertical-align: middle;\n",
       "    }\n",
       "\n",
       "    .dataframe tbody tr th {\n",
       "        vertical-align: top;\n",
       "    }\n",
       "\n",
       "    .dataframe thead th {\n",
       "        text-align: right;\n",
       "    }\n",
       "</style>\n",
       "<table border=\"1\" class=\"dataframe\">\n",
       "  <thead>\n",
       "    <tr style=\"text-align: right;\">\n",
       "      <th></th>\n",
       "      <th>importe</th>\n",
       "      <th>modelo</th>\n",
       "      <th>caballos</th>\n",
       "      <th>gasolina</th>\n",
       "    </tr>\n",
       "    <tr>\n",
       "      <th>ciudad</th>\n",
       "      <th></th>\n",
       "      <th></th>\n",
       "      <th></th>\n",
       "      <th></th>\n",
       "    </tr>\n",
       "  </thead>\n",
       "  <tbody>\n",
       "    <tr>\n",
       "      <th>Barcelona</th>\n",
       "      <td>3</td>\n",
       "      <td>3</td>\n",
       "      <td>3</td>\n",
       "      <td>3</td>\n",
       "    </tr>\n",
       "    <tr>\n",
       "      <th>Madrid</th>\n",
       "      <td>2</td>\n",
       "      <td>2</td>\n",
       "      <td>2</td>\n",
       "      <td>2</td>\n",
       "    </tr>\n",
       "    <tr>\n",
       "      <th>Valencia</th>\n",
       "      <td>2</td>\n",
       "      <td>2</td>\n",
       "      <td>2</td>\n",
       "      <td>2</td>\n",
       "    </tr>\n",
       "  </tbody>\n",
       "</table>\n",
       "</div>"
      ],
      "text/plain": [
       "           importe  modelo  caballos  gasolina\n",
       "ciudad                                        \n",
       "Barcelona        3       3         3         3\n",
       "Madrid           2       2         2         2\n",
       "Valencia         2       2         2         2"
      ]
     },
     "execution_count": 85,
     "metadata": {},
     "output_type": "execute_result"
    }
   ],
   "source": [
    "df_para_agrupar.groupby(\"ciudad\").count()"
   ]
  },
  {
   "cell_type": "markdown",
   "metadata": {},
   "source": [
    "¡Nos ha devuelto el mismo resultado que obtuvimos de forma más manual!\n",
    "\n",
    "A un objeto DataFrameGroupBy podemos pasarle cualquier función de agregación:"
   ]
  },
  {
   "cell_type": "code",
   "execution_count": 86,
   "metadata": {},
   "outputs": [
    {
     "data": {
      "text/html": [
       "<div>\n",
       "<style scoped>\n",
       "    .dataframe tbody tr th:only-of-type {\n",
       "        vertical-align: middle;\n",
       "    }\n",
       "\n",
       "    .dataframe tbody tr th {\n",
       "        vertical-align: top;\n",
       "    }\n",
       "\n",
       "    .dataframe thead th {\n",
       "        text-align: right;\n",
       "    }\n",
       "</style>\n",
       "<table border=\"1\" class=\"dataframe\">\n",
       "  <thead>\n",
       "    <tr style=\"text-align: right;\">\n",
       "      <th></th>\n",
       "      <th>importe</th>\n",
       "      <th>caballos</th>\n",
       "      <th>gasolina</th>\n",
       "    </tr>\n",
       "    <tr>\n",
       "      <th>ciudad</th>\n",
       "      <th></th>\n",
       "      <th></th>\n",
       "      <th></th>\n",
       "    </tr>\n",
       "  </thead>\n",
       "  <tbody>\n",
       "    <tr>\n",
       "      <th>Barcelona</th>\n",
       "      <td>13200.133333</td>\n",
       "      <td>111.333333</td>\n",
       "      <td>0.0</td>\n",
       "    </tr>\n",
       "    <tr>\n",
       "      <th>Madrid</th>\n",
       "      <td>35551.850000</td>\n",
       "      <td>225.000000</td>\n",
       "      <td>0.5</td>\n",
       "    </tr>\n",
       "    <tr>\n",
       "      <th>Valencia</th>\n",
       "      <td>86918.250000</td>\n",
       "      <td>400.000000</td>\n",
       "      <td>1.0</td>\n",
       "    </tr>\n",
       "  </tbody>\n",
       "</table>\n",
       "</div>"
      ],
      "text/plain": [
       "                importe    caballos  gasolina\n",
       "ciudad                                       \n",
       "Barcelona  13200.133333  111.333333       0.0\n",
       "Madrid     35551.850000  225.000000       0.5\n",
       "Valencia   86918.250000  400.000000       1.0"
      ]
     },
     "execution_count": 86,
     "metadata": {},
     "output_type": "execute_result"
    }
   ],
   "source": [
    "df_para_agrupar.groupby(\"ciudad\").mean()"
   ]
  },
  {
   "cell_type": "markdown",
   "metadata": {},
   "source": [
    "También el mismo resultado de antes. Podemos hasta hacer un .describe():"
   ]
  },
  {
   "cell_type": "code",
   "execution_count": 87,
   "metadata": {},
   "outputs": [
    {
     "data": {
      "text/html": [
       "<div>\n",
       "<style scoped>\n",
       "    .dataframe tbody tr th:only-of-type {\n",
       "        vertical-align: middle;\n",
       "    }\n",
       "\n",
       "    .dataframe tbody tr th {\n",
       "        vertical-align: top;\n",
       "    }\n",
       "\n",
       "    .dataframe thead tr th {\n",
       "        text-align: left;\n",
       "    }\n",
       "\n",
       "    .dataframe thead tr:last-of-type th {\n",
       "        text-align: right;\n",
       "    }\n",
       "</style>\n",
       "<table border=\"1\" class=\"dataframe\">\n",
       "  <thead>\n",
       "    <tr>\n",
       "      <th></th>\n",
       "      <th colspan=\"8\" halign=\"left\">importe</th>\n",
       "      <th colspan=\"8\" halign=\"left\">caballos</th>\n",
       "    </tr>\n",
       "    <tr>\n",
       "      <th></th>\n",
       "      <th>count</th>\n",
       "      <th>mean</th>\n",
       "      <th>std</th>\n",
       "      <th>min</th>\n",
       "      <th>25%</th>\n",
       "      <th>50%</th>\n",
       "      <th>75%</th>\n",
       "      <th>max</th>\n",
       "      <th>count</th>\n",
       "      <th>mean</th>\n",
       "      <th>std</th>\n",
       "      <th>min</th>\n",
       "      <th>25%</th>\n",
       "      <th>50%</th>\n",
       "      <th>75%</th>\n",
       "      <th>max</th>\n",
       "    </tr>\n",
       "    <tr>\n",
       "      <th>ciudad</th>\n",
       "      <th></th>\n",
       "      <th></th>\n",
       "      <th></th>\n",
       "      <th></th>\n",
       "      <th></th>\n",
       "      <th></th>\n",
       "      <th></th>\n",
       "      <th></th>\n",
       "      <th></th>\n",
       "      <th></th>\n",
       "      <th></th>\n",
       "      <th></th>\n",
       "      <th></th>\n",
       "      <th></th>\n",
       "      <th></th>\n",
       "      <th></th>\n",
       "    </tr>\n",
       "  </thead>\n",
       "  <tbody>\n",
       "    <tr>\n",
       "      <th>Barcelona</th>\n",
       "      <td>3.0</td>\n",
       "      <td>13200.133333</td>\n",
       "      <td>6509.211938</td>\n",
       "      <td>6900.0</td>\n",
       "      <td>9850.200</td>\n",
       "      <td>12800.40</td>\n",
       "      <td>16350.200</td>\n",
       "      <td>19900.0</td>\n",
       "      <td>3.0</td>\n",
       "      <td>111.333333</td>\n",
       "      <td>22.030282</td>\n",
       "      <td>90.0</td>\n",
       "      <td>100.0</td>\n",
       "      <td>110.0</td>\n",
       "      <td>122.0</td>\n",
       "      <td>134.0</td>\n",
       "    </tr>\n",
       "    <tr>\n",
       "      <th>Madrid</th>\n",
       "      <td>2.0</td>\n",
       "      <td>35551.850000</td>\n",
       "      <td>5022.791599</td>\n",
       "      <td>32000.2</td>\n",
       "      <td>33776.025</td>\n",
       "      <td>35551.85</td>\n",
       "      <td>37327.675</td>\n",
       "      <td>39103.5</td>\n",
       "      <td>2.0</td>\n",
       "      <td>225.000000</td>\n",
       "      <td>14.142136</td>\n",
       "      <td>215.0</td>\n",
       "      <td>220.0</td>\n",
       "      <td>225.0</td>\n",
       "      <td>230.0</td>\n",
       "      <td>235.0</td>\n",
       "    </tr>\n",
       "    <tr>\n",
       "      <th>Valencia</th>\n",
       "      <td>2.0</td>\n",
       "      <td>86918.250000</td>\n",
       "      <td>9735.799717</td>\n",
       "      <td>80034.0</td>\n",
       "      <td>83476.125</td>\n",
       "      <td>86918.25</td>\n",
       "      <td>90360.375</td>\n",
       "      <td>93802.5</td>\n",
       "      <td>2.0</td>\n",
       "      <td>400.000000</td>\n",
       "      <td>28.284271</td>\n",
       "      <td>380.0</td>\n",
       "      <td>390.0</td>\n",
       "      <td>400.0</td>\n",
       "      <td>410.0</td>\n",
       "      <td>420.0</td>\n",
       "    </tr>\n",
       "  </tbody>\n",
       "</table>\n",
       "</div>"
      ],
      "text/plain": [
       "          importe                                                           \\\n",
       "            count          mean          std      min        25%       50%   \n",
       "ciudad                                                                       \n",
       "Barcelona     3.0  13200.133333  6509.211938   6900.0   9850.200  12800.40   \n",
       "Madrid        2.0  35551.850000  5022.791599  32000.2  33776.025  35551.85   \n",
       "Valencia      2.0  86918.250000  9735.799717  80034.0  83476.125  86918.25   \n",
       "\n",
       "                              caballos                                       \\\n",
       "                 75%      max    count        mean        std    min    25%   \n",
       "ciudad                                                                        \n",
       "Barcelona  16350.200  19900.0      3.0  111.333333  22.030282   90.0  100.0   \n",
       "Madrid     37327.675  39103.5      2.0  225.000000  14.142136  215.0  220.0   \n",
       "Valencia   90360.375  93802.5      2.0  400.000000  28.284271  380.0  390.0   \n",
       "\n",
       "                                \n",
       "             50%    75%    max  \n",
       "ciudad                          \n",
       "Barcelona  110.0  122.0  134.0  \n",
       "Madrid     225.0  230.0  235.0  \n",
       "Valencia   400.0  410.0  420.0  "
      ]
     },
     "execution_count": 87,
     "metadata": {},
     "output_type": "execute_result"
    }
   ],
   "source": [
    "df_para_agrupar.groupby(\"ciudad\").describe()"
   ]
  },
  {
   "cell_type": "markdown",
   "metadata": {},
   "source": [
    "df_para_agrupar.groupby(\"ciudad\").describe()"
   ]
  },
  {
   "cell_type": "markdown",
   "metadata": {},
   "source": [
    "Un objeto DataFrameGroupBy solo sirve si queremos obtener una agregación justo después. No puede \"solo agrupar\" y devolvernos el DataFrame resultante. Ver [este issue](https://github.com/pandas-dev/pandas/issues/4883)."
   ]
  },
  {
   "cell_type": "markdown",
   "metadata": {},
   "source": [
    "Cosa que sí podemos (y hemos hecho) a mano con .set_index([df[\"columna\"], df.index]), .sort_index() y del df[\"columna\"]\n",
    "\n",
    "Esa es la diferencia. No obstante, en la mayoría de los casos solo vamos a querer agrupar por una columna para luego obtener agregados y estadísticos; para lo cual podemos utilizar sencillamente .groupby(\"columna\").una_agregacion()"
   ]
  },
  {
   "cell_type": "markdown",
   "metadata": {},
   "source": [
    "Podemos agrupar por más de una columna, si las pasamos como una lista:"
   ]
  },
  {
   "cell_type": "code",
   "execution_count": 88,
   "metadata": {},
   "outputs": [
    {
     "data": {
      "text/html": [
       "<div>\n",
       "<style scoped>\n",
       "    .dataframe tbody tr th:only-of-type {\n",
       "        vertical-align: middle;\n",
       "    }\n",
       "\n",
       "    .dataframe tbody tr th {\n",
       "        vertical-align: top;\n",
       "    }\n",
       "\n",
       "    .dataframe thead th {\n",
       "        text-align: right;\n",
       "    }\n",
       "</style>\n",
       "<table border=\"1\" class=\"dataframe\">\n",
       "  <thead>\n",
       "    <tr style=\"text-align: right;\">\n",
       "      <th></th>\n",
       "      <th></th>\n",
       "      <th>importe</th>\n",
       "      <th>caballos</th>\n",
       "      <th>gasolina</th>\n",
       "    </tr>\n",
       "    <tr>\n",
       "      <th>ciudad</th>\n",
       "      <th>modelo</th>\n",
       "      <th></th>\n",
       "      <th></th>\n",
       "      <th></th>\n",
       "    </tr>\n",
       "  </thead>\n",
       "  <tbody>\n",
       "    <tr>\n",
       "      <th rowspan=\"2\" valign=\"top\">Barcelona</th>\n",
       "      <th>cabrio</th>\n",
       "      <td>6900.0</td>\n",
       "      <td>90</td>\n",
       "      <td>False</td>\n",
       "    </tr>\n",
       "    <tr>\n",
       "      <th>coupé</th>\n",
       "      <td>16350.2</td>\n",
       "      <td>122</td>\n",
       "      <td>False</td>\n",
       "    </tr>\n",
       "    <tr>\n",
       "      <th rowspan=\"2\" valign=\"top\">Madrid</th>\n",
       "      <th>berlina</th>\n",
       "      <td>39103.5</td>\n",
       "      <td>235</td>\n",
       "      <td>False</td>\n",
       "    </tr>\n",
       "    <tr>\n",
       "      <th>coupé</th>\n",
       "      <td>32000.2</td>\n",
       "      <td>215</td>\n",
       "      <td>True</td>\n",
       "    </tr>\n",
       "    <tr>\n",
       "      <th rowspan=\"2\" valign=\"top\">Valencia</th>\n",
       "      <th>cabrio</th>\n",
       "      <td>80034.0</td>\n",
       "      <td>380</td>\n",
       "      <td>True</td>\n",
       "    </tr>\n",
       "    <tr>\n",
       "      <th>coupé</th>\n",
       "      <td>93802.5</td>\n",
       "      <td>420</td>\n",
       "      <td>True</td>\n",
       "    </tr>\n",
       "  </tbody>\n",
       "</table>\n",
       "</div>"
      ],
      "text/plain": [
       "                   importe  caballos  gasolina\n",
       "ciudad    modelo                              \n",
       "Barcelona cabrio    6900.0        90     False\n",
       "          coupé    16350.2       122     False\n",
       "Madrid    berlina  39103.5       235     False\n",
       "          coupé    32000.2       215      True\n",
       "Valencia  cabrio   80034.0       380      True\n",
       "          coupé    93802.5       420      True"
      ]
     },
     "execution_count": 88,
     "metadata": {},
     "output_type": "execute_result"
    }
   ],
   "source": [
    "df_para_agrupar.groupby([\"ciudad\", \"modelo\"]).mean()"
   ]
  },
  {
   "cell_type": "markdown",
   "metadata": {},
   "source": [
    "Incluso podemos utilizar el método .agg() para incluir una función customizada (por ejemplo, con una función lambda) para la agrecación. Dicha función funcionará siempre y cuando solo nos devuelva un resultado por cada grupo. Esto ya es menos intutivo, y en la práctica no se utiliza demasiado:"
   ]
  },
  {
   "cell_type": "code",
   "execution_count": 89,
   "metadata": {},
   "outputs": [
    {
     "data": {
      "text/html": [
       "<div>\n",
       "<style scoped>\n",
       "    .dataframe tbody tr th:only-of-type {\n",
       "        vertical-align: middle;\n",
       "    }\n",
       "\n",
       "    .dataframe tbody tr th {\n",
       "        vertical-align: top;\n",
       "    }\n",
       "\n",
       "    .dataframe thead th {\n",
       "        text-align: right;\n",
       "    }\n",
       "</style>\n",
       "<table border=\"1\" class=\"dataframe\">\n",
       "  <thead>\n",
       "    <tr style=\"text-align: right;\">\n",
       "      <th></th>\n",
       "      <th></th>\n",
       "      <th>importe</th>\n",
       "      <th>caballos</th>\n",
       "      <th>gasolina</th>\n",
       "    </tr>\n",
       "    <tr>\n",
       "      <th>ciudad</th>\n",
       "      <th>modelo</th>\n",
       "      <th></th>\n",
       "      <th></th>\n",
       "      <th></th>\n",
       "    </tr>\n",
       "  </thead>\n",
       "  <tbody>\n",
       "    <tr>\n",
       "      <th rowspan=\"2\" valign=\"top\">Barcelona</th>\n",
       "      <th>cabrio</th>\n",
       "      <td>83.066239</td>\n",
       "      <td>9.486833</td>\n",
       "      <td>False</td>\n",
       "    </tr>\n",
       "    <tr>\n",
       "      <th>coupé</th>\n",
       "      <td>127.103106</td>\n",
       "      <td>11.031963</td>\n",
       "      <td>False</td>\n",
       "    </tr>\n",
       "    <tr>\n",
       "      <th rowspan=\"2\" valign=\"top\">Madrid</th>\n",
       "      <th>berlina</th>\n",
       "      <td>197.746049</td>\n",
       "      <td>15.329710</td>\n",
       "      <td>False</td>\n",
       "    </tr>\n",
       "    <tr>\n",
       "      <th>coupé</th>\n",
       "      <td>178.885997</td>\n",
       "      <td>14.662878</td>\n",
       "      <td>True</td>\n",
       "    </tr>\n",
       "    <tr>\n",
       "      <th rowspan=\"2\" valign=\"top\">Valencia</th>\n",
       "      <th>cabrio</th>\n",
       "      <td>282.902810</td>\n",
       "      <td>19.493589</td>\n",
       "      <td>True</td>\n",
       "    </tr>\n",
       "    <tr>\n",
       "      <th>coupé</th>\n",
       "      <td>306.271938</td>\n",
       "      <td>20.493902</td>\n",
       "      <td>True</td>\n",
       "    </tr>\n",
       "  </tbody>\n",
       "</table>\n",
       "</div>"
      ],
      "text/plain": [
       "                      importe   caballos  gasolina\n",
       "ciudad    modelo                                  \n",
       "Barcelona cabrio    83.066239   9.486833     False\n",
       "          coupé    127.103106  11.031963     False\n",
       "Madrid    berlina  197.746049  15.329710     False\n",
       "          coupé    178.885997  14.662878      True\n",
       "Valencia  cabrio   282.902810  19.493589      True\n",
       "          coupé    306.271938  20.493902      True"
      ]
     },
     "execution_count": 89,
     "metadata": {},
     "output_type": "execute_result"
    }
   ],
   "source": [
    "# Queremos aplicar la raíz cuadrada de cada valor y luego\n",
    "# obtener la media, agrupando por los mismos campos que \n",
    "# antes. La raíz cuadrada la hacemos con la ufunc de Numpy\n",
    "# np.sqrt:\n",
    "df_para_agrupar.groupby([\"ciudad\", \"modelo\"]).agg(lambda grupo: np.sqrt(grupo).mean())"
   ]
  },
  {
   "cell_type": "markdown",
   "metadata": {},
   "source": [
    "Efectivamente, los resultados son la raíz cuadrada."
   ]
  },
  {
   "cell_type": "markdown",
   "metadata": {},
   "source": [
    "## ¡Hay mucho más!"
   ]
  },
  {
   "cell_type": "markdown",
   "metadata": {},
   "source": [
    "Tanto pandas como Numpy son bibliotecas muy extensas. Abarcar todo lo que se puede hacer sin copiar y pegar directamente de la documentación es casi imposible.\n",
    "\n",
    "No obstante, mientras sepamos detectar el problema a resolver, sepamos formularlo y conozcamos las capacidades de las bibliotecas, no deberíamos tener demasiados problemas para conseguir nuestros objetivos.\n",
    "\n",
    "- **Recuerda:** a veces, una sencilla búsqueda en Internet nos puede simplificar la tarea en gran medida.\n",
    "\n",
    "- **Recuerda:** ver el tipo de dato que devuelve una función o método nos da mucha información sobre lo que podemos hacer con ella, y cómo hacerlo. Acostumbrarse a utilizar type(objeto_devuelto) nunca viene mal.\n",
    "\n",
    "- **Recuerda:** si no estás seguro de cómo funciona una función o método, prueba a ejecutarlo en pocos datos, de los cuales puedas sacar la solución y entender el comportamiento de la función aplicada fácilmente. Si funciona para pocos datos, funcionará para tus datasets reales (siempre y cuando los datos quepan en tu ordenador...)"
   ]
  },
  {
   "cell_type": "markdown",
   "metadata": {},
   "source": [
    "### Ejercicios "
   ]
  },
  {
   "cell_type": "markdown",
   "metadata": {},
   "source": [
    "Diccionario Python y lista de labels:"
   ]
  },
  {
   "cell_type": "code",
   "execution_count": 90,
   "metadata": {},
   "outputs": [],
   "source": [
    "data = {'animal': ['cat', 'cat', 'snake', 'dog', 'dog', 'cat', 'snake', 'cat', 'dog', 'dog'],\n",
    "        'age': [2.5, 3, 0.5, np.nan, 5, 2, 4.5, np.nan, 7, 3],\n",
    "        'visits': [1, 3, 2, 3, 2, 3, 1, 1, 2, 1],\n",
    "        'priority': ['yes', 'yes', 'no', 'yes', 'no', 'no', 'no', 'yes', 'no', 'no']}\n",
    "\n",
    "labels = ['a', 'b', 'c', 'd', 'e', 'f', 'g', 'h', 'i', 'j']"
   ]
  },
  {
   "cell_type": "markdown",
   "metadata": {},
   "source": [
    "#### 1. Create a DataFrame df from this dictionary data which has the index labels."
   ]
  },
  {
   "cell_type": "code",
   "execution_count": null,
   "metadata": {},
   "outputs": [],
   "source": []
  },
  {
   "cell_type": "markdown",
   "metadata": {},
   "source": [
    "#### 2. Display a summary of the basic information about this DataFrame and its data."
   ]
  },
  {
   "cell_type": "code",
   "execution_count": null,
   "metadata": {},
   "outputs": [],
   "source": []
  },
  {
   "cell_type": "markdown",
   "metadata": {},
   "source": [
    "#### 3. Return the first 3 rows of the DataFrame df."
   ]
  },
  {
   "cell_type": "code",
   "execution_count": null,
   "metadata": {},
   "outputs": [],
   "source": []
  },
  {
   "cell_type": "markdown",
   "metadata": {},
   "source": [
    "#### 4. Select the data in rows [3, 4, 8] and in columns ['animal', 'age']."
   ]
  },
  {
   "cell_type": "code",
   "execution_count": null,
   "metadata": {},
   "outputs": [],
   "source": []
  },
  {
   "cell_type": "markdown",
   "metadata": {},
   "source": [
    "#### 5. Select the rows where the animal is a cat and the age is less than 3."
   ]
  },
  {
   "cell_type": "code",
   "execution_count": null,
   "metadata": {},
   "outputs": [],
   "source": []
  },
  {
   "cell_type": "markdown",
   "metadata": {},
   "source": [
    "#### 6.  Select the rows the age is between 2 and 4 (inclusive)."
   ]
  },
  {
   "cell_type": "code",
   "execution_count": null,
   "metadata": {},
   "outputs": [],
   "source": []
  },
  {
   "cell_type": "markdown",
   "metadata": {},
   "source": [
    "#### 7. Calculate the sum of all visits (the total number of visits)."
   ]
  },
  {
   "cell_type": "code",
   "execution_count": null,
   "metadata": {},
   "outputs": [],
   "source": []
  },
  {
   "cell_type": "markdown",
   "metadata": {},
   "source": [
    "#### 8. Calculate the mean age for each different animal in df."
   ]
  },
  {
   "cell_type": "code",
   "execution_count": null,
   "metadata": {},
   "outputs": [],
   "source": []
  },
  {
   "cell_type": "markdown",
   "metadata": {},
   "source": [
    "#### 9.Sort df first by the values in the 'age' in decending order, then by the value in the 'visit' column in ascending order."
   ]
  },
  {
   "cell_type": "code",
   "execution_count": null,
   "metadata": {},
   "outputs": [],
   "source": []
  },
  {
   "cell_type": "markdown",
   "metadata": {},
   "source": [
    "#### 10. You have a DataFrame df with a column 'A' of integers. For example:\n"
   ]
  },
  {
   "cell_type": "code",
   "execution_count": 91,
   "metadata": {},
   "outputs": [],
   "source": [
    "df = pd.DataFrame({'A': [1, 2, 2, 3, 4, 5, 5, 5, 6, 7, 7]})"
   ]
  },
  {
   "cell_type": "markdown",
   "metadata": {},
   "source": [
    "How do you filter out rows which contain the same integer as the row immediately above?"
   ]
  },
  {
   "cell_type": "code",
   "execution_count": null,
   "metadata": {},
   "outputs": [],
   "source": []
  },
  {
   "cell_type": "markdown",
   "metadata": {},
   "source": [
    "#### 11.Suppose you have DataFrame with 10 columns of real numbers, for example:"
   ]
  },
  {
   "cell_type": "code",
   "execution_count": 92,
   "metadata": {},
   "outputs": [],
   "source": [
    "df = pd.DataFrame(np.random.random(size=(5, 10)), columns=list('abcdefghij'))\n"
   ]
  },
  {
   "cell_type": "markdown",
   "metadata": {},
   "source": [
    "Which column of numbers has the smallest sum? (Find that column's label.)"
   ]
  },
  {
   "cell_type": "code",
   "execution_count": null,
   "metadata": {},
   "outputs": [],
   "source": []
  },
  {
   "cell_type": "markdown",
   "metadata": {},
   "source": [
    "**DataFrame for the following exercises**"
   ]
  },
  {
   "cell_type": "code",
   "execution_count": 93,
   "metadata": {},
   "outputs": [],
   "source": [
    "df = pd.DataFrame({'From_To': ['LoNDon_paris', 'MAdrid_miLAN', 'londON_StockhOlm', \n",
    "                               'Budapest_PaRis', 'Brussels_londOn'],\n",
    "              'FlightNumber': [10045, np.nan, 10065, np.nan, 10085],\n",
    "              'RecentDelays': [[23, 47], [], [24, 43, 87], [13], [67, 32]],\n",
    "                   'Airline': ['KLM(!)', '<Air France> (12)', '(British Airways. )', \n",
    "                               '12. Air France', '\"Swiss Air\"']})\n"
   ]
  },
  {
   "cell_type": "markdown",
   "metadata": {},
   "source": [
    "#### 12. Some values in the the FlightNumber column are missing. These numbers are meant to increase by 10 with each row so 10055 and 10075 need to be put in place. Fill in these missing numbers and make the column an integer column (instead of a float column).\n",
    "\n"
   ]
  },
  {
   "cell_type": "code",
   "execution_count": null,
   "metadata": {},
   "outputs": [],
   "source": []
  },
  {
   "cell_type": "markdown",
   "metadata": {},
   "source": [
    "#### 13. The From_To column would be better as two separate columns! Split each string on the underscore delimiter _ to give a new temporary DataFrame with the correct values. Assign the correct column names to this temporary DataFrame."
   ]
  },
  {
   "cell_type": "code",
   "execution_count": null,
   "metadata": {},
   "outputs": [],
   "source": []
  },
  {
   "cell_type": "markdown",
   "metadata": {},
   "source": [
    "#### 14. Notice how the capitalisation of the city names is all mixed up in this temporary DataFrame. Standardise the strings so that only the first letter is uppercase (e.g. \"londON\" should become \"London\".)"
   ]
  },
  {
   "cell_type": "code",
   "execution_count": null,
   "metadata": {},
   "outputs": [],
   "source": []
  },
  {
   "cell_type": "markdown",
   "metadata": {},
   "source": [
    "#### 15. In the Airline column, you can see some extra puctuation and symbols have appeared around the airline names. Pull out just the airline name. E.g. '(British Airways. )' should become 'British Airways'."
   ]
  },
  {
   "cell_type": "code",
   "execution_count": null,
   "metadata": {},
   "outputs": [],
   "source": []
  }
 ],
 "metadata": {
  "kernelspec": {
   "display_name": "Python 3",
   "language": "python",
   "name": "python3"
  },
  "language_info": {
   "codemirror_mode": {
    "name": "ipython",
    "version": 3
   },
   "file_extension": ".py",
   "mimetype": "text/x-python",
   "name": "python",
   "nbconvert_exporter": "python",
   "pygments_lexer": "ipython3",
   "version": "3.6.8"
  }
 },
 "nbformat": 4,
 "nbformat_minor": 2
}
