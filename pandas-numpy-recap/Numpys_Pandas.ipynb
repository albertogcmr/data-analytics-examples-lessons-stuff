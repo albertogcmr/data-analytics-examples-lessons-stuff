{
 "cells": [
  {
   "cell_type": "markdown",
   "metadata": {},
   "source": [
    "# Numpy"
   ]
  },
  {
   "cell_type": "markdown",
   "metadata": {},
   "source": [
    "[Biblioteca Numpy](https://docs.scipy.org/doc/numpy-1.10.0/index.html)"
   ]
  },
  {
   "cell_type": "code",
   "execution_count": 1,
   "metadata": {},
   "outputs": [],
   "source": [
    "import numpy as np"
   ]
  },
  {
   "cell_type": "code",
   "execution_count": 2,
   "metadata": {},
   "outputs": [
    {
     "name": "stdout",
     "output_type": "stream",
     "text": [
      "[2, 4, 6, 8]\n"
     ]
    }
   ],
   "source": [
    "escalar = 2\n",
    "vector = [1,2,3,4]\n",
    "resultado = []\n",
    "\n",
    "for elemento in vector:\n",
    "    resultado.append(escalar * elemento)\n",
    "    \n",
    "print(resultado)"
   ]
  },
  {
   "cell_type": "markdown",
   "metadata": {},
   "source": [
    "Sencillo no? Ahora queremos operar con matrices "
   ]
  },
  {
   "cell_type": "code",
   "execution_count": 3,
   "metadata": {},
   "outputs": [
    {
     "name": "stdout",
     "output_type": "stream",
     "text": [
      "[[1, 2, 3, 4], [5, 6, 7, 8], [9, 10, 11, 12]]\n"
     ]
    }
   ],
   "source": [
    "matriz = [[1,2,3,4],[5,6,7,8],[9,10,11,12]]\n",
    "print(matriz)"
   ]
  },
  {
   "cell_type": "markdown",
   "metadata": {},
   "source": [
    "Vamos a intentar hacer lo mismo: multiplicar un escalar, pero esta vez por nuestra matriz: "
   ]
  },
  {
   "cell_type": "code",
   "execution_count": 4,
   "metadata": {},
   "outputs": [
    {
     "name": "stdout",
     "output_type": "stream",
     "text": [
      "[[2, 4, 6, 8], [10, 12, 14, 16], [18, 20, 22, 24]]\n"
     ]
    }
   ],
   "source": [
    "# Aquí la cosa ya se complica. Tenemos que utilizar dos iteraciones\n",
    "# (bucles for) y utilizar dos listas distintas para ir\n",
    "# guardando los resultados:\n",
    "\n",
    "escalar = 2\n",
    "resultado_final = []\n",
    "resultado_de_cada_fila = []\n",
    "\n",
    "for fila in matriz:\n",
    "    for elemento in fila:\n",
    "        resultado_de_cada_fila.append(escalar * elemento)\n",
    "    # Una vez generados los resultados de cada fila\n",
    "    # de la matriz, la añadimos a nuestra matriz resultado\n",
    "    # final:\n",
    "    resultado_final.append(resultado_de_cada_fila)\n",
    "    # Y \"limpiamos\" la lista resultado_de_cada_fila,\n",
    "    # volviendo a definirla como una lista vacía:\n",
    "    resultado_de_cada_fila = []\n",
    "\n",
    "print(resultado_final)"
   ]
  },
  {
   "cell_type": "markdown",
   "metadata": {},
   "source": [
    " ### ¡Numpy al rescate!\n",
    "\n"
   ]
  },
  {
   "cell_type": "markdown",
   "metadata": {},
   "source": [
    "Numpy fue diseñado para hacer este tipo de cálculos mucho más sencillos y rápidos.\n",
    "Numpy nos ofrece una serie de objetos nuevos. El más importante es el array (que también verás por Internet como ndarray). Un array es similar a las listas de Python. De hecho, se puede construir un array con numpy.array(y_una_lista_de_python):"
   ]
  },
  {
   "cell_type": "code",
   "execution_count": 5,
   "metadata": {},
   "outputs": [],
   "source": [
    "array = np.array([1,2,3,4])"
   ]
  },
  {
   "cell_type": "code",
   "execution_count": 6,
   "metadata": {},
   "outputs": [
    {
     "name": "stdout",
     "output_type": "stream",
     "text": [
      "[2 4 6 8]\n"
     ]
    }
   ],
   "source": [
    "# Numpy es muy listo, e infiere que si multiplicas\n",
    "# un escalar por un array, es que quieres hacer\n",
    "# una multiplicación de escalar x vector:\n",
    "escalar = 2\n",
    "resultado = escalar * array\n",
    "\n",
    "print(resultado)"
   ]
  },
  {
   "cell_type": "code",
   "execution_count": 7,
   "metadata": {},
   "outputs": [
    {
     "name": "stdout",
     "output_type": "stream",
     "text": [
      "[[ 2  4  6  8]\n",
      " [10 12 14 16]\n",
      " [18 20 22 24]]\n"
     ]
    }
   ],
   "source": [
    "escalar = 2\n",
    "matriz = np.array([[1,2,3,4],[5,6,7,8],[9,10,11,12]])\n",
    "\n",
    "resultado = escalar * matriz\n",
    "print(resultado)"
   ]
  },
  {
   "cell_type": "markdown",
   "metadata": {},
   "source": [
    "No solo es mucho más agradable de escribir, sino que encima, los Notebooks son muy listos y \"reconocen\" los objetos de Numpy, ve que es una matriz, y lo imprime con su forma matricial (lo cual facilita la lectura de los resultados). Y encima, resulta que la ejecución del código es mucho más rápida..."
   ]
  },
  {
   "cell_type": "markdown",
   "metadata": {},
   "source": [
    "## Los tiempos de ejecución"
   ]
  },
  {
   "cell_type": "markdown",
   "metadata": {},
   "source": [
    "Muchas veces nos interesa saber lo rápido que es el código que escribimos. Python nos ofrece muchas formas de medir cuánto tarda en ejecutarse un trozo de nuestro código; la forma más sencilla si estamos trabajando desde un notebook, es con el \"magic method\" **%timeit.**"
   ]
  },
  {
   "cell_type": "markdown",
   "metadata": {},
   "source": [
    "¿Cuánto tarda la ejecución de nuestro producto de escalar por matriz hecha \"a mano\" con listas de Python:"
   ]
  },
  {
   "cell_type": "code",
   "execution_count": 8,
   "metadata": {},
   "outputs": [],
   "source": [
    "# Vamos a meter el código dentro de una función,\n",
    "# para poder pasarlo por %timeit más fácilmente.\n",
    "# Pero el código es exactamente el mismo:\n",
    "def escalar_por_matriz(escalar, matriz):\n",
    "    resultado_final = []\n",
    "    resultado_de_cada_fila = []\n",
    "    for fila in matriz:\n",
    "        for elemento in fila:\n",
    "            resultado_de_cada_fila.append(escalar * elemento)\n",
    "        resultado_final.append(resultado_de_cada_fila)\n",
    "        resultado_de_cada_fila = []\n",
    "    return resultado_final"
   ]
  },
  {
   "cell_type": "code",
   "execution_count": 9,
   "metadata": {},
   "outputs": [
    {
     "name": "stdout",
     "output_type": "stream",
     "text": [
      "4.23 µs ± 736 ns per loop (mean ± std. dev. of 7 runs, 100000 loops each)\n"
     ]
    }
   ],
   "source": [
    "%timeit escalar_por_matriz(2, [[1,2,3,4],[5,6,7,8],[9,10,11,12]])"
   ]
  },
  {
   "cell_type": "markdown",
   "metadata": {},
   "source": [
    "¿Cuánto tarda con Numpy?"
   ]
  },
  {
   "cell_type": "code",
   "execution_count": 10,
   "metadata": {},
   "outputs": [],
   "source": [
    "# En el caso de Numpy, el código es mucho\n",
    "# más cortito. No merece la pena hacer\n",
    "# una función...\n",
    "escalar = 2\n",
    "matriz = np.array([[1,2,3,4],[5,6,7,8],[9,10,11,12]])"
   ]
  },
  {
   "cell_type": "code",
   "execution_count": 11,
   "metadata": {},
   "outputs": [
    {
     "name": "stdout",
     "output_type": "stream",
     "text": [
      "2.08 µs ± 367 ns per loop (mean ± std. dev. of 7 runs, 100000 loops each)\n"
     ]
    }
   ],
   "source": [
    "%timeit escalar * matriz"
   ]
  },
  {
   "cell_type": "markdown",
   "metadata": {},
   "source": [
    "Podemos ver que el código de Numpy es algo más rápido que el escrito a mano con listas de Python. \n",
    "Además, podría salirnos un aviso del tipo \n",
    "**The slowest run took 6.16 times longer than the fastest. This could mean that an intermediate result is being cached.100000 loops, best of 3: 14.4 µs per** \n",
    "de que resultados intermedios están siendo cacheados (lo cual indica que están teniendo lugar optimizaciones a nivel de la CPU)."
   ]
  },
  {
   "cell_type": "markdown",
   "metadata": {},
   "source": [
    "Si nuestra matriz en vez de ser de dimensiones  3×4  (tres filas x cuatro columnas), fuera de dimensiones  100×100  por ejemplo... La diferencia de rendimiento es ya de órdenes de magnitud. Comprobémoslo..."
   ]
  },
  {
   "cell_type": "code",
   "execution_count": 12,
   "metadata": {},
   "outputs": [],
   "source": [
    "# Generamos una matriz 100x100 de Python con listas \"a mano\":\n",
    "matriz_100x100 = []\n",
    "fila_de_la_matriz = []\n",
    "\n",
    "for fila in range(100):\n",
    "    for elemento in range(100):\n",
    "        fila_de_la_matriz.append(elemento)\n",
    "    matriz_100x100.append(fila_de_la_matriz)\n",
    "    fila_de_la_matriz = []"
   ]
  },
  {
   "cell_type": "markdown",
   "metadata": {},
   "source": [
    "Aplicamos nuestra función escalar "
   ]
  },
  {
   "cell_type": "code",
   "execution_count": 13,
   "metadata": {},
   "outputs": [
    {
     "name": "stdout",
     "output_type": "stream",
     "text": [
      "1.77 ms ± 88.3 µs per loop (mean ± std. dev. of 7 runs, 1000 loops each)\n"
     ]
    }
   ],
   "source": [
    "%timeit escalar_por_matriz(2, matriz_100x100)"
   ]
  },
  {
   "cell_type": "markdown",
   "metadata": {},
   "source": [
    "Y ahora multipliquemos con Numpy convirtiendo antes la matriz a arrays de Numpy"
   ]
  },
  {
   "cell_type": "code",
   "execution_count": 14,
   "metadata": {},
   "outputs": [],
   "source": [
    "matriz_100x100_numpy = np.array(matriz_100x100)"
   ]
  },
  {
   "cell_type": "code",
   "execution_count": 15,
   "metadata": {},
   "outputs": [
    {
     "name": "stdout",
     "output_type": "stream",
     "text": [
      "15.4 µs ± 664 ns per loop (mean ± std. dev. of 7 runs, 100000 loops each)\n"
     ]
    }
   ],
   "source": [
    "%timeit 2 * matriz_100x100_numpy"
   ]
  },
  {
   "cell_type": "markdown",
   "metadata": {},
   "source": [
    "## ¿Por qué es Numpy tan rápido?"
   ]
  },
  {
   "cell_type": "markdown",
   "metadata": {},
   "source": [
    "Numpy es una bilbioteca escrita en una mezcla de **Python, C, Fortran y Cython**, principalmente. La gracia de esto es que nos trae lo mejor de ambos mundos:\n",
    "\n",
    "Por un lado, su interfaz de alto nivel escrita en Python nos permite utilizar Numpy fácilmente desde Python (tal y como estamos viendo).\n",
    "Por otro lado, el núcleo de Numpy está escrito en C, Fortran y Cython, lo cual nos ofrece enormes ganacias de velocidad y eficiencia en memoria RAM para nuestras operaciones matemáticas complejas.\n",
    "Y no solo eso: Numpy es una biblioteca que, a su vez, utiliza otras bibliotecas a muy bajo nivel (literalmente escritas en ceros y unos en algunos casos) que permiten exprimir todo el rendimiento de nuestro procesador. Ejemplos de estas bilbiotecas son LAPACK, BLAS e Intel MKL. Estas bibliotecas permiten optimizar las operaciones a nivel de procesador, evitando bucles for internos, y organizando nuestros vectores y matrices de forma contigua en los transistores de la CPU, incluso paralelizando automáticamente el código para aprovechar todos los núcleos de nuestro ordenador sin que nosotros tengamos que hacer nada.\n",
    "\n",
    "Así que a niveles efectivos, Numpy no es solo mucho más rápido que las listas de Python, sino que llega a ser más rápido que una implementación de operaciones matriciales escrita a mano en C o C++ (a menos que seas un/una experto/a en C y computación científica a bajo nivel).\n",
    "\n"
   ]
  },
  {
   "cell_type": "markdown",
   "metadata": {},
   "source": [
    "## ¿Y comparado con otros lenguajes?"
   ]
  },
  {
   "cell_type": "markdown",
   "metadata": {},
   "source": [
    "R: Depende de con qué comparemos. No obstante, incluso comparando contra soluciones comerciales, el rendimiento de Numpy es excepcional. Vamos uno por uno:\n",
    "\n",
    "R: El núcleo de R está también programado en lenguajes de bajo nivel como C, C++ y Fortran. De hecho, algunas partes del lenguaje también aprovechan Atlas y BLAS. El rendimiento de R es difícil de medir, puesto que hay una gran cantidad de pequeñas bibliotecas; a diferencia de Python, donde las bibliotecas para computación científica y matemática son menos en número, pero más extensas. Para operaciones sencillas de álgebra lineal, Python con Numpy es en mis pruebas entre 3 y 10 veces más rápido; principalmente porque la gestión de memoria de R no es la más eficiente del mundo (los tipos de datos de R tienen un poco de overhead, lamentablemente). La guerra entre R y Python por el trono de mejor lenguaje para análisis de datos se libra día a día; en Internet podrás ver cientos de foros y discusiones de estilo: \"R vs Python\", o: \"Por qué mi-lenguaje-favorito-de-los-dos es mucho mejor que el-otro\". Aquí hay un ejemplo (bastante abierto al diálogo comparado con otros).\n",
    "\n",
    "**MATLAB**: MATLAB, al igual que R y Python, es un lenguaje interpretado que aprovecha bilbiotecas de C. No obstante, la base de código de MATLAB tiene ya más de 30 años, y se nota. Existen partes del compilador escritas en ensamblador, en C, Java e incluso Python. En la práctica, MATLAB es del orden de 20 y 50 veces más lento que Numpy con multiplicación de matrices. MATLAB destaca por su sencillez y bibliotecas externas visuales y de automatización, lo cual lo hace un lenguaje ideal para prototipar y experimentar.\n",
    "\n",
    "**SAS Base**: Misma historia que con MATLAB, solo que para encontrar el origen de la base de código para el compilador SAS no tenemos que remontarnos treinta años atrás, sino casi cuarenta. Si bien resulta complicado hacer pruebas con código equivalente (debido a la completamente distinta sintaxis de Base), mi experiencia en clientes que tenían SAS me dice que es probablemente el entorno de ejecución más lento de esta lista. SAS destaca sobre todo por su sencillez de uso, entorno integrado y soporte técnico; pero no es una herramienta de computación al nivel del resto de las mencionadas aquí.\n",
    "\n",
    "**Spark**: en realidad, Spark juega en una liga distinta en lo que a análisis de datos se refiere. Spark está pensando para cantidades de datos que el resto de programas listados no pueden digerir. Regla común: si tus datos son analizables con R/Python(Numpy) sin obtener preciosos MemoryError o similares, olvídate de Spark, porque será más lento que los dos lenguajes. Si obtienes los MemoryError, Spark es la solución (recomendación así a muy grandes rasgos).\n",
    "\n",
    "Para entender mejor el rendimiento de Numpy y de la computación matricial en sí, recomiendo leer **High Performance Python, de Micha Gorelick e Ian Ozsvald (O'Reilly Media), Capítulo 6.**"
   ]
  },
  {
   "cell_type": "markdown",
   "metadata": {},
   "source": [
    "## ¿Funciones Básicas?"
   ]
  },
  {
   "cell_type": "markdown",
   "metadata": {},
   "source": [
    "#### Creación de arrays"
   ]
  },
  {
   "cell_type": "code",
   "execution_count": 16,
   "metadata": {},
   "outputs": [
    {
     "name": "stdout",
     "output_type": "stream",
     "text": [
      "[1.  2.3 5.  6.7]\n"
     ]
    }
   ],
   "source": [
    "enteros_y_decimales = np.array([1, 2.3, 5, 6.7])\n",
    "print(enteros_y_decimales)"
   ]
  },
  {
   "cell_type": "markdown",
   "metadata": {},
   "source": [
    "#### Tipo de dato de elementos de un array"
   ]
  },
  {
   "cell_type": "code",
   "execution_count": 17,
   "metadata": {},
   "outputs": [
    {
     "data": {
      "text/plain": [
       "dtype('float64')"
      ]
     },
     "execution_count": 17,
     "metadata": {},
     "output_type": "execute_result"
    }
   ],
   "source": [
    "enteros_y_decimales.dtype"
   ]
  },
  {
   "cell_type": "markdown",
   "metadata": {},
   "source": [
    "#### Dimensiones de una matriz"
   ]
  },
  {
   "cell_type": "code",
   "execution_count": 18,
   "metadata": {},
   "outputs": [
    {
     "name": "stdout",
     "output_type": "stream",
     "text": [
      "[[1 2]\n",
      " [3 4]\n",
      " [5 6]]\n"
     ]
    },
    {
     "data": {
      "text/plain": [
       "(3, 2)"
      ]
     },
     "execution_count": 18,
     "metadata": {},
     "output_type": "execute_result"
    }
   ],
   "source": [
    "mi_matriz = np.array([[1,2], [3,4], [5,6]])\n",
    "print(mi_matriz)\n",
    "mi_matriz.shape"
   ]
  },
  {
   "cell_type": "markdown",
   "metadata": {},
   "source": [
    "### Otras formas de crear arrays"
   ]
  },
  {
   "cell_type": "code",
   "execution_count": 19,
   "metadata": {},
   "outputs": [
    {
     "data": {
      "text/plain": [
       "array([[0., 0., 0., 0.],\n",
       "       [0., 0., 0., 0.],\n",
       "       [0., 0., 0., 0.]])"
      ]
     },
     "execution_count": 19,
     "metadata": {},
     "output_type": "execute_result"
    }
   ],
   "source": [
    "#Matriz de ceros\n",
    "np.zeros((3,4))"
   ]
  },
  {
   "cell_type": "code",
   "execution_count": 20,
   "metadata": {},
   "outputs": [
    {
     "data": {
      "text/plain": [
       "array([[1., 1., 1., 1.],\n",
       "       [1., 1., 1., 1.],\n",
       "       [1., 1., 1., 1.]])"
      ]
     },
     "execution_count": 20,
     "metadata": {},
     "output_type": "execute_result"
    }
   ],
   "source": [
    "# Matriz de unos\n",
    "np.ones((3,4))"
   ]
  },
  {
   "cell_type": "code",
   "execution_count": 21,
   "metadata": {},
   "outputs": [
    {
     "data": {
      "text/plain": [
       "array([[1., 0., 0., 0., 0.],\n",
       "       [0., 1., 0., 0., 0.],\n",
       "       [0., 0., 1., 0., 0.],\n",
       "       [0., 0., 0., 1., 0.],\n",
       "       [0., 0., 0., 0., 1.]])"
      ]
     },
     "execution_count": 21,
     "metadata": {},
     "output_type": "execute_result"
    }
   ],
   "source": [
    "#Matriz identidad\n",
    "np.identity(5)"
   ]
  },
  {
   "cell_type": "code",
   "execution_count": 22,
   "metadata": {},
   "outputs": [
    {
     "data": {
      "text/plain": [
       "array([ 3,  4,  5,  6,  7,  8,  9, 10, 11, 12, 13])"
      ]
     },
     "execution_count": 22,
     "metadata": {},
     "output_type": "execute_result"
    }
   ],
   "source": [
    "# Generación de datos uniformes \n",
    "np.arange(3,14)"
   ]
  },
  {
   "cell_type": "code",
   "execution_count": 23,
   "metadata": {},
   "outputs": [
    {
     "data": {
      "text/plain": [
       "array([ 3,  5,  7,  9, 11, 13])"
      ]
     },
     "execution_count": 23,
     "metadata": {},
     "output_type": "execute_result"
    }
   ],
   "source": [
    "#Podemos pasarle un tercer argumento para definir que vaya saltando. \n",
    "#Funcionaría como la built-in range de Python\n",
    "np.arange(3,14,2)"
   ]
  },
  {
   "cell_type": "code",
   "execution_count": 28,
   "metadata": {},
   "outputs": [
    {
     "name": "stdout",
     "output_type": "stream",
     "text": [
      "[ 0  1  2  3  4  5  6  7  8  9 10 11 12 13 14]\n"
     ]
    },
    {
     "data": {
      "text/plain": [
       "array([[ 0,  1,  2],\n",
       "       [ 3,  4,  5],\n",
       "       [ 6,  7,  8],\n",
       "       [ 9, 10, 11],\n",
       "       [12, 13, 14]])"
      ]
     },
     "execution_count": 28,
     "metadata": {},
     "output_type": "execute_result"
    }
   ],
   "source": [
    "# Transformar array unidimensional en una matriz \n",
    "mi_vector = np.arange(0,15)\n",
    "print(mi_vector)\n",
    "mi_vector.reshape((5,3))"
   ]
  },
  {
   "cell_type": "code",
   "execution_count": 29,
   "metadata": {},
   "outputs": [
    {
     "data": {
      "text/plain": [
       "array([[ 0,  1,  2,  3,  4],\n",
       "       [ 5,  6,  7,  8,  9],\n",
       "       [10, 11, 12, 13, 14]])"
      ]
     },
     "execution_count": 29,
     "metadata": {},
     "output_type": "execute_result"
    }
   ],
   "source": [
    "mi_vector.reshape((3,5))"
   ]
  },
  {
   "cell_type": "markdown",
   "metadata": {},
   "source": [
    "## Operaciones con Numpy"
   ]
  },
  {
   "cell_type": "code",
   "execution_count": 30,
   "metadata": {},
   "outputs": [
    {
     "data": {
      "text/plain": [
       "array([[ 5,  6],\n",
       "       [ 7,  8],\n",
       "       [ 9, 10],\n",
       "       [11, 12],\n",
       "       [13, 14]])"
      ]
     },
     "execution_count": 30,
     "metadata": {},
     "output_type": "execute_result"
    }
   ],
   "source": [
    "# Transponer una matriz\n",
    "mi_matriz = np.arange(5,15).reshape((5,2))\n",
    "mi_matriz"
   ]
  },
  {
   "cell_type": "code",
   "execution_count": 31,
   "metadata": {},
   "outputs": [
    {
     "data": {
      "text/plain": [
       "array([[ 5,  7,  9, 11, 13],\n",
       "       [ 6,  8, 10, 12, 14]])"
      ]
     },
     "execution_count": 31,
     "metadata": {},
     "output_type": "execute_result"
    }
   ],
   "source": [
    "mi_matriz.T"
   ]
  },
  {
   "cell_type": "markdown",
   "metadata": {},
   "source": [
    "En Numpy existen una serie de funciones llamadas funciones universales o ufuncs. Estas funciones pueden actuar sobre uno o más arrays (dependiendo de cuál), que nos permiten hacer operaciones frecuentes sobre cada uno de los elementos del array"
   ]
  },
  {
   "cell_type": "markdown",
   "metadata": {},
   "source": [
    "#### Raiz Cuadrada"
   ]
  },
  {
   "cell_type": "code",
   "execution_count": 32,
   "metadata": {},
   "outputs": [
    {
     "data": {
      "text/plain": [
       "array([[2.23606798, 2.44948974],\n",
       "       [2.64575131, 2.82842712],\n",
       "       [3.        , 3.16227766],\n",
       "       [3.31662479, 3.46410162],\n",
       "       [3.60555128, 3.74165739]])"
      ]
     },
     "execution_count": 32,
     "metadata": {},
     "output_type": "execute_result"
    }
   ],
   "source": [
    "# La raíz cuadrada de cada elemento de la matriz la \n",
    "# obtenemos con np.sqrt(array):\n",
    "np.sqrt(mi_matriz)"
   ]
  },
  {
   "cell_type": "markdown",
   "metadata": {},
   "source": [
    "### Máximo elemento de dos matrices"
   ]
  },
  {
   "cell_type": "code",
   "execution_count": 33,
   "metadata": {},
   "outputs": [
    {
     "name": "stdout",
     "output_type": "stream",
     "text": [
      "[[ 5  6]\n",
      " [ 7  8]\n",
      " [ 9 10]\n",
      " [11 12]\n",
      " [13 14]]\n",
      "\n",
      "[[ 1 18]\n",
      " [12  6]\n",
      " [ 9 11]\n",
      " [13 15]\n",
      " [ 0  1]]\n"
     ]
    }
   ],
   "source": [
    "# Otras ufuncs necesitan de varios arrays.\n",
    "# generamos otra de las mismas dimensiones\n",
    "# que mi_matriz (5 x 2):\n",
    "mi_otra_matriz = np.array([[1,18], # Aprovecho para mostrar que\n",
    "                           [12,6], # podemos escribir así las\n",
    "                           [9,11], # matrices; nos puede ayudar\n",
    "                           [13,15],# a ver mejor lo que ponemos.\n",
    "                           [0,1]]\n",
    "                         )\n",
    "print(mi_matriz)\n",
    "print(\"\")\n",
    "print(mi_otra_matriz)"
   ]
  },
  {
   "cell_type": "code",
   "execution_count": 34,
   "metadata": {},
   "outputs": [
    {
     "data": {
      "text/plain": [
       "array([[ 5, 18],\n",
       "       [12,  8],\n",
       "       [ 9, 11],\n",
       "       [13, 15],\n",
       "       [13, 14]])"
      ]
     },
     "execution_count": 34,
     "metadata": {},
     "output_type": "execute_result"
    }
   ],
   "source": [
    "# Usamos la ufunc np.maximum\n",
    "np.maximum(mi_matriz, mi_otra_matriz)"
   ]
  },
  {
   "cell_type": "markdown",
   "metadata": {},
   "source": [
    "Existen bastantes más funciones universales(ufuncs) , lista completa [aquí](https://docs.scipy.org/doc/numpy-1.10.0/reference/ufuncs.html#available-ufuncs)"
   ]
  },
  {
   "cell_type": "markdown",
   "metadata": {},
   "source": [
    "## Indexado y slicing"
   ]
  },
  {
   "cell_type": "markdown",
   "metadata": {},
   "source": [
    "Ya sabemos cómo acceder al elemento número n de una lista de Python. Si tenemos una lista, y queremos obtener el tercero:"
   ]
  },
  {
   "cell_type": "code",
   "execution_count": 35,
   "metadata": {},
   "outputs": [
    {
     "data": {
      "text/plain": [
       "'loro'"
      ]
     },
     "execution_count": 35,
     "metadata": {},
     "output_type": "execute_result"
    }
   ],
   "source": [
    "mi_lista = [\"perro\", \"gato\", \"loro\", \"lince\", \"python\", \"oso\", \"equidna\"]\n",
    "\n",
    "# Tanto las lista de Python como los\n",
    "# arrays de Numpy empiezan contando\n",
    "# por 0. Así que para acceder al\n",
    "# tercer elemento, será el que\n",
    "# tiene el índice 2:\n",
    "mi_lista[2]\n"
   ]
  },
  {
   "cell_type": "markdown",
   "metadata": {},
   "source": [
    "Y sabemos hacer slices:"
   ]
  },
  {
   "cell_type": "code",
   "execution_count": 36,
   "metadata": {},
   "outputs": [
    {
     "data": {
      "text/plain": [
       "['lince', 'python', 'oso']"
      ]
     },
     "execution_count": 36,
     "metadata": {},
     "output_type": "execute_result"
    }
   ],
   "source": [
    "# Un slice coge el elemento de la izquierda\n",
    "# incluído, y el de la derecha sin incluir:\n",
    "mi_lista[3:6]"
   ]
  },
  {
   "cell_type": "markdown",
   "metadata": {},
   "source": [
    "En Numpy, estas operaciones son muy similares:"
   ]
  },
  {
   "cell_type": "code",
   "execution_count": 37,
   "metadata": {},
   "outputs": [
    {
     "data": {
      "text/plain": [
       "array(['perro', 'gato', 'loro', 'lince', 'python', 'oso', 'equidna'],\n",
       "      dtype='<U7')"
      ]
     },
     "execution_count": 37,
     "metadata": {},
     "output_type": "execute_result"
    }
   ],
   "source": [
    "mi_array = np.array(mi_lista)\n",
    "mi_array"
   ]
  },
  {
   "cell_type": "code",
   "execution_count": 38,
   "metadata": {},
   "outputs": [
    {
     "name": "stdout",
     "output_type": "stream",
     "text": [
      "loro\n",
      "['lince' 'python' 'oso']\n"
     ]
    }
   ],
   "source": [
    "print(mi_array[2])\n",
    "print(mi_array[3:6])"
   ]
  },
  {
   "cell_type": "markdown",
   "metadata": {},
   "source": [
    "También podemos sobreescribir elementos de un array utilizando slices:"
   ]
  },
  {
   "cell_type": "code",
   "execution_count": 39,
   "metadata": {},
   "outputs": [
    {
     "name": "stdout",
     "output_type": "stream",
     "text": [
      "['perro' 'gato' 'loro' 'tigre' 'tigre' 'tigre' 'equidna']\n"
     ]
    }
   ],
   "source": [
    "mi_array[3:6] = \"tigre\"\n",
    "print(mi_array)"
   ]
  },
  {
   "cell_type": "markdown",
   "metadata": {},
   "source": [
    "Lo interesante viene cuando tenemos arrays de mayor orden dimensional (es decir, matrices). Podemos ver que:"
   ]
  },
  {
   "cell_type": "code",
   "execution_count": 40,
   "metadata": {},
   "outputs": [
    {
     "data": {
      "text/plain": [
       "array([[ 5,  6],\n",
       "       [ 7,  8],\n",
       "       [ 9, 10],\n",
       "       [11, 12],\n",
       "       [13, 14]])"
      ]
     },
     "execution_count": 40,
     "metadata": {},
     "output_type": "execute_result"
    }
   ],
   "source": [
    "# Recordamos una de nuestras matrices de antes:\n",
    "mi_matriz"
   ]
  },
  {
   "cell_type": "code",
   "execution_count": 41,
   "metadata": {},
   "outputs": [
    {
     "data": {
      "text/plain": [
       "array([ 9, 10])"
      ]
     },
     "execution_count": 41,
     "metadata": {},
     "output_type": "execute_result"
    }
   ],
   "source": [
    "mi_matriz[2]"
   ]
  },
  {
   "cell_type": "markdown",
   "metadata": {},
   "source": [
    "Al igual que en Python cuando teníamos una lista de listas, podemos acceder a un elemento en particular en Numpy con doble indexado:"
   ]
  },
  {
   "cell_type": "code",
   "execution_count": 42,
   "metadata": {},
   "outputs": [
    {
     "data": {
      "text/plain": [
       "10"
      ]
     },
     "execution_count": 42,
     "metadata": {},
     "output_type": "execute_result"
    }
   ],
   "source": [
    "# Si quiero el segundo elemento de\n",
    "# la tercera fila:\n",
    "mi_matriz[2][1]"
   ]
  },
  {
   "cell_type": "markdown",
   "metadata": {},
   "source": [
    "En Numpy además, podemos ahorrarnos corchetes utilizando la siguiente notación equivalente con comas:"
   ]
  },
  {
   "cell_type": "code",
   "execution_count": 43,
   "metadata": {},
   "outputs": [
    {
     "data": {
      "text/plain": [
       "10"
      ]
     },
     "execution_count": 43,
     "metadata": {},
     "output_type": "execute_result"
    }
   ],
   "source": [
    "# Equivalente a mi_matriz[2][1]:\n",
    "mi_matriz[2,1]"
   ]
  },
  {
   "cell_type": "markdown",
   "metadata": {},
   "source": [
    "La sintaxis para llegar desde/hasta X elemento, es igual que en listas de Python también:"
   ]
  },
  {
   "cell_type": "code",
   "execution_count": 44,
   "metadata": {},
   "outputs": [
    {
     "name": "stdout",
     "output_type": "stream",
     "text": [
      "['perro' 'gato' 'loro' 'tigre' 'tigre' 'tigre' 'equidna']\n",
      "['perro' 'gato' 'loro' 'tigre']\n",
      "['perro' 'gato' 'loro' 'tigre' 'tigre' 'tigre' 'equidna']\n"
     ]
    }
   ],
   "source": [
    "print(mi_array)\n",
    "print(mi_array[:4])\n",
    "# Si ponemos [:] sin más, nos\n",
    "# devolverá el array íntegro:\n",
    "print(mi_array[:])"
   ]
  },
  {
   "cell_type": "markdown",
   "metadata": {},
   "source": [
    "Y es igual en más dimensiones, solo que requiere pensarlo bien:"
   ]
  },
  {
   "cell_type": "code",
   "execution_count": 45,
   "metadata": {},
   "outputs": [
    {
     "data": {
      "text/plain": [
       "array([ 5,  7,  9, 11, 13])"
      ]
     },
     "execution_count": 45,
     "metadata": {},
     "output_type": "execute_result"
    }
   ],
   "source": [
    "# Queremos que nos devuelva solo la primera columna,\n",
    "# de forma que queremos que el primer índice (el de\n",
    "# las filas) nos lo deje íntegro, y que nos haga el\n",
    "# slicing por el elemento 0 (primero) del segundo \n",
    "# índice, que es el de las columnas. Quizás te cueste\n",
    "# un poco verlo, pero es así:\n",
    "mi_matriz[:,0]"
   ]
  },
  {
   "cell_type": "markdown",
   "metadata": {},
   "source": [
    "#### Indexado Booleano"
   ]
  },
  {
   "cell_type": "markdown",
   "metadata": {},
   "source": [
    "El indexado en Numpy es una herramienta mucho más potente que en el Python estándar. Podemos utilizarlo por ejemplo para hacer \"preguntas\" a los arrays. Supongamos el siguiente array:"
   ]
  },
  {
   "cell_type": "code",
   "execution_count": 46,
   "metadata": {},
   "outputs": [
    {
     "data": {
      "text/plain": [
       "array(['Julio', 'Jose', 'Alberto', 'Julio', 'Nuria', 'Daniel'],\n",
       "      dtype='<U7')"
      ]
     },
     "execution_count": 46,
     "metadata": {},
     "output_type": "execute_result"
    }
   ],
   "source": [
    "un_array = np.array([\"Julio\", \"Jose\", \"Alberto\", \"Julio\", \"Nuria\", \"Daniel\"])\n",
    "un_array"
   ]
  },
  {
   "cell_type": "markdown",
   "metadata": {},
   "source": [
    "Con la siguiente notación, podemos preguntarle al array: ¿Cuáles de tus elementos cumplen X condición?\n",
    "\n",
    "El resultado es un array, de las dimensiones y tamaño de la original, con True y False en cada posición:"
   ]
  },
  {
   "cell_type": "code",
   "execution_count": 47,
   "metadata": {},
   "outputs": [
    {
     "data": {
      "text/plain": [
       "array([ True, False, False,  True, False, False])"
      ]
     },
     "execution_count": 47,
     "metadata": {},
     "output_type": "execute_result"
    }
   ],
   "source": [
    "un_array == \"Julio\""
   ]
  },
  {
   "cell_type": "markdown",
   "metadata": {},
   "source": [
    "Los arrays pueden utilizarse para indexar arrays:"
   ]
  },
  {
   "cell_type": "code",
   "execution_count": 48,
   "metadata": {},
   "outputs": [
    {
     "data": {
      "text/plain": [
       "array([0, 2])"
      ]
     },
     "execution_count": 48,
     "metadata": {},
     "output_type": "execute_result"
    }
   ],
   "source": [
    "# Si pasamos a un array como argumento de slice\n",
    "# (es decir, dentro de [ ]) un array de booleanos,\n",
    "# el resultado es un array filtrado, únicamente con\n",
    "# los elementos que por posición, quedaría en un True.\n",
    "# Para verlo, vamos a crear a mano un array sencillito,\n",
    "# y otro de booleanos:\n",
    "array_corto = np.array([0,1,2,3])\n",
    "array_booleanos = np.array([True, False, True, False])\n",
    "\n",
    "# De la misma longitud. Qué sucede si hacemos:\n",
    "array_corto[array_booleanos]"
   ]
  },
  {
   "cell_type": "markdown",
   "metadata": {},
   "source": [
    "Podemos utilizar esta combinación de \"hacer preguntas\" a los arrays (lo cual genera un nuevo array de booleanos) junto con el slicing para filtrar de forma muy rápida (y eficiente) un array de cualquier tipo. Volviendo al ejemplo del array de nombres:"
   ]
  },
  {
   "cell_type": "code",
   "execution_count": 49,
   "metadata": {},
   "outputs": [
    {
     "data": {
      "text/plain": [
       "array(['Julio', 'Jose', 'Alberto', 'Julio', 'Nuria', 'Daniel'],\n",
       "      dtype='<U7')"
      ]
     },
     "execution_count": 49,
     "metadata": {},
     "output_type": "execute_result"
    }
   ],
   "source": [
    "un_array"
   ]
  },
  {
   "cell_type": "code",
   "execution_count": 50,
   "metadata": {},
   "outputs": [
    {
     "data": {
      "text/plain": [
       "array(['Julio', 'Julio'], dtype='<U7')"
      ]
     },
     "execution_count": 50,
     "metadata": {},
     "output_type": "execute_result"
    }
   ],
   "source": [
    "# Me quiero quedar solo con los elementos que sean \"Julio\":\n",
    "un_array[un_array == \"Julio\"]"
   ]
  },
  {
   "cell_type": "markdown",
   "metadata": {},
   "source": [
    "Evidentemente, también es ultraútil para realizar filtrados numéricos:"
   ]
  },
  {
   "cell_type": "code",
   "execution_count": 51,
   "metadata": {},
   "outputs": [
    {
     "data": {
      "text/plain": [
       "array([20, 21, 22, 23, 24, 25, 26, 27, 28, 29, 30, 31, 32, 33, 34, 35, 36,\n",
       "       37, 38, 39, 40, 41, 42, 43, 44, 45, 46, 47, 48, 49])"
      ]
     },
     "execution_count": 51,
     "metadata": {},
     "output_type": "execute_result"
    }
   ],
   "source": [
    "array_numerico = np.arange(20, 50)\n",
    "array_numerico"
   ]
  },
  {
   "cell_type": "code",
   "execution_count": 52,
   "metadata": {},
   "outputs": [
    {
     "data": {
      "text/plain": [
       "array([32, 33, 34, 35, 36, 37, 38, 39, 40, 41, 42, 43, 44, 45, 46, 47, 48,\n",
       "       49])"
      ]
     },
     "execution_count": 52,
     "metadata": {},
     "output_type": "execute_result"
    }
   ],
   "source": [
    "# Quiero filtrar y quedarme con números mayores que 31.5:\n",
    "array_numerico[array_numerico >= 31.5]"
   ]
  },
  {
   "cell_type": "markdown",
   "metadata": {},
   "source": [
    "Si quiero encadenar condiciones en estas preguntas a los arrays"
   ]
  },
  {
   "cell_type": "code",
   "execution_count": 53,
   "metadata": {},
   "outputs": [
    {
     "data": {
      "text/plain": [
       "array([32, 33, 34, 35, 36, 37, 38, 39, 40, 41])"
      ]
     },
     "execution_count": 53,
     "metadata": {},
     "output_type": "execute_result"
    }
   ],
   "source": [
    "#Me quiero quedar con los números entre 31.5 y 42:\n",
    "array_numerico[(array_numerico >= 31.5) & (array_numerico < 42)]"
   ]
  },
  {
   "cell_type": "markdown",
   "metadata": {},
   "source": [
    "Podemos utilizar esta técnica para una operación muy común, que puede ser convertir los números negativos de un dataset a 0:"
   ]
  },
  {
   "cell_type": "code",
   "execution_count": 54,
   "metadata": {},
   "outputs": [
    {
     "data": {
      "text/plain": [
       "array([[-15, -14, -13, -12, -11, -10],\n",
       "       [ -9,  -8,  -7,  -6,  -5,  -4],\n",
       "       [ -3,  -2,  -1,   0,   1,   2],\n",
       "       [  3,   4,   5,   6,   7,   8],\n",
       "       [  9,  10,  11,  12,  13,  14]])"
      ]
     },
     "execution_count": 54,
     "metadata": {},
     "output_type": "execute_result"
    }
   ],
   "source": [
    "mi_matriz = np.arange(-15, 15).reshape((5,6))\n",
    "mi_matriz"
   ]
  },
  {
   "cell_type": "code",
   "execution_count": 55,
   "metadata": {},
   "outputs": [
    {
     "data": {
      "text/plain": [
       "array([[ 0,  0,  0,  0,  0,  0],\n",
       "       [ 0,  0,  0,  0,  0,  0],\n",
       "       [ 0,  0,  0,  0,  1,  2],\n",
       "       [ 3,  4,  5,  6,  7,  8],\n",
       "       [ 9, 10, 11, 12, 13, 14]])"
      ]
     },
     "execution_count": 55,
     "metadata": {},
     "output_type": "execute_result"
    }
   ],
   "source": [
    "mi_matriz[mi_matriz < 0] = 0 # Hago el slice, y reasigno a 0 dichos valores\n",
    "mi_matriz"
   ]
  },
  {
   "cell_type": "markdown",
   "metadata": {},
   "source": [
    "Dominar el slicing e indexing en Numpy es una herramienta esencial, que nos puede quitar muchos quebraderos de cabeza en el futuro. En el caso particular de slicing e indexado, la práctica lleva a la perfección.\n",
    "\n"
   ]
  },
  {
   "cell_type": "markdown",
   "metadata": {},
   "source": [
    "## Métodos estadísticos con Numpy"
   ]
  },
  {
   "cell_type": "code",
   "execution_count": 56,
   "metadata": {},
   "outputs": [
    {
     "data": {
      "text/plain": [
       "array([ 0,  1,  2,  3,  4,  5,  6,  7,  8,  9, 10])"
      ]
     },
     "execution_count": 56,
     "metadata": {},
     "output_type": "execute_result"
    }
   ],
   "source": [
    "mi_array = np.arange(0,11)\n",
    "mi_array"
   ]
  },
  {
   "cell_type": "code",
   "execution_count": 57,
   "metadata": {},
   "outputs": [
    {
     "name": "stdout",
     "output_type": "stream",
     "text": [
      "55\n",
      "5.0\n",
      "10.0\n",
      "3.1622776601683795\n",
      "0\n",
      "10\n"
     ]
    }
   ],
   "source": [
    "print(mi_array.sum()) # Suma\n",
    "print(mi_array.mean())# Media\n",
    "print(mi_array.var()) # Varianza\n",
    "print(mi_array.std()) # Desviación típica\n",
    "print(mi_array.min()) # Mínimo\n",
    "print(mi_array.max()) # Máximo"
   ]
  },
  {
   "cell_type": "markdown",
   "metadata": {},
   "source": [
    "También podemos ordenar los elementos de un array "
   ]
  },
  {
   "cell_type": "code",
   "execution_count": 58,
   "metadata": {},
   "outputs": [
    {
     "data": {
      "text/plain": [
       "array([ 3, 12,  4, 54, 34, 12,  1,  0, -4,  3])"
      ]
     },
     "execution_count": 58,
     "metadata": {},
     "output_type": "execute_result"
    }
   ],
   "source": [
    "un_array = np.array([3,12,4,54,34,12,1,0,-4,3])\n",
    "un_array"
   ]
  },
  {
   "cell_type": "code",
   "execution_count": 59,
   "metadata": {},
   "outputs": [
    {
     "data": {
      "text/plain": [
       "array([-4,  0,  1,  3,  3,  4, 12, 12, 34, 54])"
      ]
     },
     "execution_count": 59,
     "metadata": {},
     "output_type": "execute_result"
    }
   ],
   "source": [
    "np.sort(un_array)"
   ]
  },
  {
   "cell_type": "markdown",
   "metadata": {},
   "source": [
    "Si la queremos de mayor a menor, nos toca revertir el array. "
   ]
  },
  {
   "cell_type": "code",
   "execution_count": 60,
   "metadata": {},
   "outputs": [
    {
     "data": {
      "text/plain": [
       "array([54, 34, 12, 12,  4,  3,  3,  1,  0, -4])"
      ]
     },
     "execution_count": 60,
     "metadata": {},
     "output_type": "execute_result"
    }
   ],
   "source": [
    "np.sort(un_array)[::-1]"
   ]
  },
  {
   "cell_type": "markdown",
   "metadata": {},
   "source": [
    "[Segundo Ejemplo de este link](https://docs.scipy.org/doc/numpy-1.10.1/reference/arrays.indexing.html#basic-slicing-and-indexing)"
   ]
  },
  {
   "cell_type": "markdown",
   "metadata": {},
   "source": [
    "## Algebra Lineal con Numpy"
   ]
  },
  {
   "cell_type": "markdown",
   "metadata": {},
   "source": [
    "#### Multiplicación de Matrices"
   ]
  },
  {
   "cell_type": "code",
   "execution_count": 61,
   "metadata": {},
   "outputs": [
    {
     "name": "stdout",
     "output_type": "stream",
     "text": [
      "[[ 1  2  3  4]\n",
      " [ 5  6  7  8]\n",
      " [ 9 10 11 12]]\n",
      "\n",
      "[[ 1  2  3]\n",
      " [ 4  5  6]\n",
      " [ 7  8  9]\n",
      " [10 11 12]]\n"
     ]
    }
   ],
   "source": [
    "# Creamos las matrices A y B:\n",
    "A = np.arange(1,13).reshape((3,4))\n",
    "B = np.arange(1,13).reshape((4,3))\n",
    "print(A)\n",
    "print(\"\")\n",
    "print(B)"
   ]
  },
  {
   "cell_type": "code",
   "execution_count": 62,
   "metadata": {},
   "outputs": [
    {
     "data": {
      "text/plain": [
       "array([[ 70,  80,  90],\n",
       "       [158, 184, 210],\n",
       "       [246, 288, 330]])"
      ]
     },
     "execution_count": 62,
     "metadata": {},
     "output_type": "execute_result"
    }
   ],
   "source": [
    "A_por_B = A.dot(B)\n",
    "A_por_B"
   ]
  },
  {
   "cell_type": "code",
   "execution_count": 63,
   "metadata": {},
   "outputs": [
    {
     "data": {
      "text/plain": [
       "(3, 3)"
      ]
     },
     "execution_count": 63,
     "metadata": {},
     "output_type": "execute_result"
    }
   ],
   "source": [
    "# Efectivamente el resultado es una\n",
    "# matriz de dimensiones 3x3:\n",
    "A_por_B.shape"
   ]
  },
  {
   "cell_type": "markdown",
   "metadata": {},
   "source": [
    "La multiplicación de matrices, a diferencia de la de escalares, NO es conmutativa. Es decir: no es lo mismo  A⋅B  que  B⋅A :"
   ]
  },
  {
   "cell_type": "code",
   "execution_count": 64,
   "metadata": {},
   "outputs": [
    {
     "data": {
      "text/plain": [
       "array([[ 38,  44,  50,  56],\n",
       "       [ 83,  98, 113, 128],\n",
       "       [128, 152, 176, 200],\n",
       "       [173, 206, 239, 272]])"
      ]
     },
     "execution_count": 64,
     "metadata": {},
     "output_type": "execute_result"
    }
   ],
   "source": [
    "B.dot(A)"
   ]
  },
  {
   "cell_type": "markdown",
   "metadata": {},
   "source": [
    "Cambia tanto el resultado como las dimensiones de la matriz resultado."
   ]
  },
  {
   "cell_type": "markdown",
   "metadata": {},
   "source": [
    "### Inversa de una matriz"
   ]
  },
  {
   "cell_type": "code",
   "execution_count": 70,
   "metadata": {},
   "outputs": [
    {
     "data": {
      "text/plain": [
       "array([[1., 2.],\n",
       "       [3., 4.]])"
      ]
     },
     "execution_count": 70,
     "metadata": {},
     "output_type": "execute_result"
    }
   ],
   "source": [
    "matriz_cuadrada = a = np.array([[1., 2.], [3., 4.]])\n",
    "matriz_cuadrada"
   ]
  },
  {
   "cell_type": "code",
   "execution_count": 71,
   "metadata": {},
   "outputs": [
    {
     "data": {
      "text/plain": [
       "array([[-2. ,  1. ],\n",
       "       [ 1.5, -0.5]])"
      ]
     },
     "execution_count": 71,
     "metadata": {},
     "output_type": "execute_result"
    }
   ],
   "source": [
    "# Utilizamos np.linalg.inv(la_matriz):\n",
    "np.linalg.inv(matriz_cuadrada)"
   ]
  },
  {
   "cell_type": "markdown",
   "metadata": {},
   "source": [
    "Otras funciones de álgebra lineal realizables desde Numpy [aquí](https://docs.scipy.org/doc/numpy-1.10.0/reference/routines.linalg.html)"
   ]
  },
  {
   "cell_type": "markdown",
   "metadata": {},
   "source": [
    "### Concatenado de arrays y matrices"
   ]
  },
  {
   "cell_type": "code",
   "execution_count": 72,
   "metadata": {},
   "outputs": [
    {
     "data": {
      "text/plain": [
       "array([[1, 2, 3],\n",
       "       [4, 5, 6],\n",
       "       [7, 8, 9]])"
      ]
     },
     "execution_count": 72,
     "metadata": {},
     "output_type": "execute_result"
    }
   ],
   "source": [
    "una_matriz = np.array([[1,2,3],[4,5,6],[7,8,9]])\n",
    "una_matriz"
   ]
  },
  {
   "cell_type": "markdown",
   "metadata": {},
   "source": [
    "Y tenemos un vector "
   ]
  },
  {
   "cell_type": "code",
   "execution_count": 73,
   "metadata": {},
   "outputs": [
    {
     "data": {
      "text/plain": [
       "array([41, 42, 43])"
      ]
     },
     "execution_count": 73,
     "metadata": {},
     "output_type": "execute_result"
    }
   ],
   "source": [
    "un_vector = np.array([41,42,43])\n",
    "un_vector"
   ]
  },
  {
   "cell_type": "markdown",
   "metadata": {},
   "source": [
    "Y queremos añadirlo como cuarta columna en este caso. "
   ]
  },
  {
   "cell_type": "code",
   "execution_count": 74,
   "metadata": {},
   "outputs": [
    {
     "data": {
      "text/plain": [
       "array([[ 1,  2,  3, 41],\n",
       "       [ 4,  5,  6, 42],\n",
       "       [ 7,  8,  9, 43]])"
      ]
     },
     "execution_count": 74,
     "metadata": {},
     "output_type": "execute_result"
    }
   ],
   "source": [
    "np.concatenate((una_matriz, un_vector.reshape(3,1)), axis=1)"
   ]
  },
  {
   "cell_type": "markdown",
   "metadata": {},
   "source": [
    "Ojo: Probablemente hayas visto que hemos hecho un .reshape() en nuestro vector, y te preguntes por qué. Resulta que para Numpy, el siguiente vector:"
   ]
  },
  {
   "cell_type": "code",
   "execution_count": 75,
   "metadata": {},
   "outputs": [
    {
     "data": {
      "text/plain": [
       "array([41, 42, 43])"
      ]
     },
     "execution_count": 75,
     "metadata": {},
     "output_type": "execute_result"
    }
   ],
   "source": [
    "un_vector"
   ]
  },
  {
   "cell_type": "code",
   "execution_count": 76,
   "metadata": {},
   "outputs": [
    {
     "data": {
      "text/plain": [
       "array([[41],\n",
       "       [42],\n",
       "       [43]])"
      ]
     },
     "execution_count": 76,
     "metadata": {},
     "output_type": "execute_result"
    }
   ],
   "source": [
    "un_vector.reshape(3,1)"
   ]
  },
  {
   "cell_type": "markdown",
   "metadata": {},
   "source": [
    "No son exactamente iguales. El primero es un array de dimensiones (3,), donde la segunda dimensión está vacía; mientras que el segundo es un array de dimensiones (3,1), es decir, una matriz hecha y derecha, que resulta tener una única columna.\n",
    "\n",
    "Si bien en lenguaje popular y notación matemática ambos elementos son básicamente lo mismo (un vector con tres elementos), Numpy se nos puede quejar, porque para él el primero es un array sin dimensión que resulta tener tres elementos, y el segundo es una matriz real.\n",
    "\n",
    "En muchas ocasiones podemos toparnos con errores y excepciones relacionados con la dimensión de nuestros arrays (al intentar sumar, concatenar, multiplicar, etcétera). Para solucionar estos problemas, suele ser útil tener en cuenta esta distinción, y hacer reshape() para convertir entre ambos formatos."
   ]
  },
  {
   "cell_type": "markdown",
   "metadata": {},
   "source": [
    "Vemos que para añadir columnas, se hace con axis=1 como hemos visto, para añadir el vector como fila, se hace con axis=0:"
   ]
  },
  {
   "cell_type": "code",
   "execution_count": 77,
   "metadata": {},
   "outputs": [
    {
     "data": {
      "text/plain": [
       "array([[ 1,  2,  3],\n",
       "       [ 4,  5,  6],\n",
       "       [ 7,  8,  9],\n",
       "       [41, 42, 43]])"
      ]
     },
     "execution_count": 77,
     "metadata": {},
     "output_type": "execute_result"
    }
   ],
   "source": [
    "np.concatenate((una_matriz, un_vector.reshape(1,3)), axis=0)"
   ]
  },
  {
   "cell_type": "markdown",
   "metadata": {},
   "source": [
    "Y en este caso, necesitamos hacer el .reshape() al revés, como acabamos de ver.\n",
    "\n",
    "La concatenación es muy importante y se utiliza mucho para añadir columnas/filas a una matriz o dataset ya existente."
   ]
  },
  {
   "cell_type": "markdown",
   "metadata": {},
   "source": [
    "## Operaciones con números aleatorios"
   ]
  },
  {
   "cell_type": "markdown",
   "metadata": {},
   "source": [
    "Al igual que la biblioteca estándar de Python, Numpy tiene su propio módulo para generar números aleatorios y pseudoaleatorios a través de np.random. Por ejemplo: podemos generar datos pertenecientes a una distribución normal con np.random.normal(media, desvtip, (filas, columnas)):"
   ]
  },
  {
   "cell_type": "code",
   "execution_count": 78,
   "metadata": {},
   "outputs": [
    {
     "data": {
      "text/plain": [
       "array([[-0.52561629, -0.75361863,  0.72260561],\n",
       "       [-0.15581166, -1.8302789 ,  0.12212706],\n",
       "       [ 0.55985875,  0.68052592,  3.39332986],\n",
       "       [-0.32566485,  0.3455661 ,  0.08800869],\n",
       "       [ 0.17399685, -1.69198096,  1.17613952],\n",
       "       [-1.45490233, -1.4418313 , -0.98946443],\n",
       "       [ 2.22465942, -1.74721964,  0.20133817],\n",
       "       [-0.69562639, -0.73194508,  0.4022099 ],\n",
       "       [-0.75779397,  0.5389513 ,  0.95142337],\n",
       "       [-0.22190644,  0.98273588,  2.08184045]])"
      ]
     },
     "execution_count": 78,
     "metadata": {},
     "output_type": "execute_result"
    }
   ],
   "source": [
    "normal = np.random.normal(0, 1, (10,3))\n",
    "normal"
   ]
  },
  {
   "cell_type": "code",
   "execution_count": 79,
   "metadata": {},
   "outputs": [
    {
     "name": "stdout",
     "output_type": "stream",
     "text": [
      "0.04405519893645685\n",
      "1.197436075079502\n"
     ]
    }
   ],
   "source": [
    "# Comprobamos que la media está cercana a 0,\n",
    "# y la desviación típica a 1:\n",
    "print(normal.mean())\n",
    "print(normal.std())"
   ]
  },
  {
   "cell_type": "markdown",
   "metadata": {},
   "source": [
    "También podemos generar arrays de números enteros entre dos valores con np.random.randint(minimo, maximo, (filas, columnas)) (mínimo incluido, máximo excluído):"
   ]
  },
  {
   "cell_type": "code",
   "execution_count": 80,
   "metadata": {},
   "outputs": [
    {
     "data": {
      "text/plain": [
       "array([[ 1,  6,  9],\n",
       "       [ 3,  2,  6],\n",
       "       [10,  8,  3],\n",
       "       [10,  3,  2]])"
      ]
     },
     "execution_count": 80,
     "metadata": {},
     "output_type": "execute_result"
    }
   ],
   "source": [
    "numeros_entre_0_y_10 = np.random.randint(0,11, (4,3))\n",
    "numeros_entre_0_y_10"
   ]
  },
  {
   "cell_type": "markdown",
   "metadata": {},
   "source": [
    "Otra función muy útil es generar distribuciones aleatorias uniformes entre dos valores (similar a np.random.randint, pero con números decimales)."
   ]
  },
  {
   "cell_type": "markdown",
   "metadata": {},
   "source": [
    "La lista completa de numpy.random está [aquí](https://docs.scipy.org/doc/numpy-1.10.0/reference/routines.random.html). \n",
    "No obstante, Scipy también es capaz de generar dichas distribuciones, y obtener mucho más partido de ellas con su módulo estadístico [scipy.stats](https://docs.scipy.org/doc/scipy/reference/stats.html)"
   ]
  },
  {
   "cell_type": "markdown",
   "metadata": {},
   "source": [
    "## Algunos ejercicios para el que quiera practicar Numpy"
   ]
  },
  {
   "cell_type": "markdown",
   "metadata": {},
   "source": [
    "### 1. Multiply a 5x3 matrix by a 3x2 matrix "
   ]
  },
  {
   "cell_type": "code",
   "execution_count": null,
   "metadata": {},
   "outputs": [],
   "source": []
  },
  {
   "cell_type": "markdown",
   "metadata": {},
   "source": [
    "### 2. How to round away from zero a float array ?"
   ]
  },
  {
   "cell_type": "code",
   "execution_count": null,
   "metadata": {},
   "outputs": [],
   "source": [
    "Z = np.random.uniform(-10,+10,10)"
   ]
  },
  {
   "cell_type": "code",
   "execution_count": null,
   "metadata": {},
   "outputs": [],
   "source": []
  },
  {
   "cell_type": "markdown",
   "metadata": {},
   "source": [
    "### 3. Extract the integer part of a random array using 5 different methods"
   ]
  },
  {
   "cell_type": "code",
   "execution_count": null,
   "metadata": {},
   "outputs": [],
   "source": [
    "Z = np.random.uniform(0,10,10)"
   ]
  },
  {
   "cell_type": "code",
   "execution_count": null,
   "metadata": {},
   "outputs": [],
   "source": []
  },
  {
   "cell_type": "markdown",
   "metadata": {},
   "source": [
    "### 4. Create a 5x5 matrix with row values ranging from 0 to 4"
   ]
  },
  {
   "cell_type": "code",
   "execution_count": null,
   "metadata": {},
   "outputs": [],
   "source": []
  },
  {
   "cell_type": "markdown",
   "metadata": {},
   "source": [
    "### 5. Consider a generator function that generates 10 integers and use it to build an array"
   ]
  },
  {
   "cell_type": "code",
   "execution_count": null,
   "metadata": {},
   "outputs": [],
   "source": []
  },
  {
   "cell_type": "markdown",
   "metadata": {},
   "source": [
    "### 6. Create a vector of size 10 with values ranging from 0 to 1, both excluded"
   ]
  },
  {
   "cell_type": "code",
   "execution_count": null,
   "metadata": {},
   "outputs": [],
   "source": []
  },
  {
   "cell_type": "markdown",
   "metadata": {},
   "source": [
    "### 7. Create a random vector of size 10 and sort it"
   ]
  },
  {
   "cell_type": "code",
   "execution_count": null,
   "metadata": {},
   "outputs": [],
   "source": []
  },
  {
   "cell_type": "markdown",
   "metadata": {},
   "source": [
    "### 8. How to sum a small array faster than np.sum?"
   ]
  },
  {
   "cell_type": "code",
   "execution_count": null,
   "metadata": {},
   "outputs": [],
   "source": []
  },
  {
   "cell_type": "markdown",
   "metadata": {},
   "source": [
    "### 9. Make an array immutable (read-only)"
   ]
  },
  {
   "cell_type": "code",
   "execution_count": null,
   "metadata": {},
   "outputs": [],
   "source": []
  },
  {
   "cell_type": "markdown",
   "metadata": {},
   "source": [
    "### 10. Consider a random 10x2 matrix representing cartesian coordinates, convert them to polar coordinates"
   ]
  },
  {
   "cell_type": "code",
   "execution_count": null,
   "metadata": {},
   "outputs": [],
   "source": []
  },
  {
   "cell_type": "markdown",
   "metadata": {},
   "source": [
    "### 11. Given two arrays, X and Y, construct the Cauchy matrix C (Cij = 1/(xi - yj))"
   ]
  },
  {
   "cell_type": "code",
   "execution_count": null,
   "metadata": {},
   "outputs": [],
   "source": []
  },
  {
   "cell_type": "markdown",
   "metadata": {},
   "source": [
    "### 12. How to find the closest value (to a given scalar) in an array?"
   ]
  },
  {
   "cell_type": "code",
   "execution_count": null,
   "metadata": {},
   "outputs": [],
   "source": []
  },
  {
   "cell_type": "markdown",
   "metadata": {},
   "source": [
    "### 13. How to convert a float (32 bits) array into an integer (32 bits) in place?"
   ]
  },
  {
   "cell_type": "code",
   "execution_count": null,
   "metadata": {},
   "outputs": [],
   "source": []
  },
  {
   "cell_type": "markdown",
   "metadata": {},
   "source": [
    "### 14. Subtract the mean of each row of a matrix"
   ]
  },
  {
   "cell_type": "code",
   "execution_count": null,
   "metadata": {},
   "outputs": [],
   "source": [
    "X = np.random.rand(5, 10)"
   ]
  },
  {
   "cell_type": "code",
   "execution_count": null,
   "metadata": {},
   "outputs": [],
   "source": []
  },
  {
   "cell_type": "markdown",
   "metadata": {},
   "source": [
    "### 15. How to tell if a given 2D array has null columns?"
   ]
  },
  {
   "cell_type": "code",
   "execution_count": null,
   "metadata": {},
   "outputs": [],
   "source": [
    "Z = np.random.randint(0,3,(3,10))"
   ]
  },
  {
   "cell_type": "code",
   "execution_count": null,
   "metadata": {},
   "outputs": [],
   "source": []
  }
 ],
 "metadata": {
  "kernelspec": {
   "display_name": "Python 3",
   "language": "python",
   "name": "python3"
  },
  "language_info": {
   "codemirror_mode": {
    "name": "ipython",
    "version": 3
   },
   "file_extension": ".py",
   "mimetype": "text/x-python",
   "name": "python",
   "nbconvert_exporter": "python",
   "pygments_lexer": "ipython3",
   "version": "3.6.8"
  }
 },
 "nbformat": 4,
 "nbformat_minor": 2
}
