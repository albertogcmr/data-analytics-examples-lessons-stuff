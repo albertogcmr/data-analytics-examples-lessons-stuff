{
 "cells": [
  {
   "cell_type": "code",
   "execution_count": 42,
   "metadata": {},
   "outputs": [],
   "source": [
    "from selenium import webdriver\n",
    "from bs4 import BeautifulSoup \n",
    "import time\n",
    "\n",
    "class PageGetter:\n",
    "    driver = False\n",
    "    def __init__(self, defaultBrowser='firefox'):\n",
    "        if defaultBrowser == 'firefox':\n",
    "            self.driver = webdriver.Firefox()\n",
    "        elif defaultBrowser == 'chrome':\n",
    "            self.driver = webdriver.Chrome()\n",
    "        else:\n",
    "            raise Exception('Not a browser')\n",
    "    \n",
    "    def getPage(self, url):\n",
    "        if not self.driver:\n",
    "            raise Exception(\"You should start a browser connection\")\n",
    "        # https://selenium-python.readthedocs.io/waits.html\n",
    "        self.driver.implicitly_wait(5)\n",
    "        self.driver.get(url)\n",
    "        time.sleep(5)\n",
    "        html = self.driver.page_source\n",
    "        soup = BeautifulSoup(html, 'html.parser')\n",
    "        return soup\n",
    "    \n",
    "    def close(self):\n",
    "        self.driver.quit()"
   ]
  },
  {
   "cell_type": "code",
   "execution_count": 43,
   "metadata": {},
   "outputs": [],
   "source": [
    "\n",
    "browser = PageGetter()\n",
    "\n",
    "soup = browser.getPage(\"https://es.wikipedia.org/wiki/Copa_Mundial_de_F%C3%BAtbol_de_2002\")\n",
    "browser.close()\n"
   ]
  },
  {
   "cell_type": "code",
   "execution_count": 46,
   "metadata": {},
   "outputs": [
    {
     "data": {
      "text/plain": [
       "\"\\n\\n21 de junio de 2002, 20:30\\n\\nAlemania \\n\\n1:0 (1:0) \\n\\n Estados Unidos\\n\\nEstadio Munsu, Ulsan\\n\\n[mostrar]\\n\\n\\n\\n\\nBallack \\xa039'\\n\\nReporte\\n\\n\\n\\nAsistencia: 37 337 espectadoresÁrbitro:  Hugh Dallas\\n\\n\\n\\n\\n\\n\\n\""
      ]
     },
     "execution_count": 46,
     "metadata": {},
     "output_type": "execute_result"
    }
   ],
   "source": [
    "soup.select(\"#collapsibleTable57\")[0].text"
   ]
  },
  {
   "cell_type": "code",
   "execution_count": null,
   "metadata": {},
   "outputs": [],
   "source": []
  },
  {
   "cell_type": "code",
   "execution_count": null,
   "metadata": {},
   "outputs": [],
   "source": []
  }
 ],
 "metadata": {
  "kernelspec": {
   "display_name": "Python 3",
   "language": "python",
   "name": "python3"
  },
  "language_info": {
   "codemirror_mode": {
    "name": "ipython",
    "version": 3
   },
   "file_extension": ".py",
   "mimetype": "text/x-python",
   "name": "python",
   "nbconvert_exporter": "python",
   "pygments_lexer": "ipython3",
   "version": "3.6.7"
  }
 },
 "nbformat": 4,
 "nbformat_minor": 2
}
