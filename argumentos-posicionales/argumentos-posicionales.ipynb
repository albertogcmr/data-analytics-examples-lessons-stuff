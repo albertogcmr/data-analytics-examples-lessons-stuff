{
 "cells": [
  {
   "cell_type": "code",
   "execution_count": 18,
   "metadata": {},
   "outputs": [
    {
     "name": "stdout",
     "output_type": "stream",
     "text": [
      "1 2 3 4\n",
      "(5, 4, 4, 4, 4, 4)\n",
      "{'valor': 77, 'precio': 33}\n"
     ]
    }
   ],
   "source": [
    "\n",
    "\n",
    "def funcion(a, b, c=0, d=10, *args, **kwargs): \n",
    "    print(a, b, c, d)\n",
    "    print(args)\n",
    "    print(kwargs)\n",
    "    \n",
    "funcion(1,2,3,4,5,4,4,4,4,4, **{'valor': 77, 'precio': 33})"
   ]
  },
  {
   "cell_type": "code",
   "execution_count": 19,
   "metadata": {},
   "outputs": [
    {
     "name": "stdout",
     "output_type": "stream",
     "text": [
      "([2, 5], 5, 4)\n",
      "{'juan': 33, 'pepe': 23}\n"
     ]
    }
   ],
   "source": [
    "def fn(*args, **kwargs): \n",
    "    print(args)\n",
    "    print(kwargs)\n",
    "    \n",
    "fn([2,5],5,4,juan=33, pepe=23)"
   ]
  },
  {
   "cell_type": "code",
   "execution_count": 20,
   "metadata": {},
   "outputs": [
    {
     "ename": "SyntaxError",
     "evalue": "positional argument follows keyword argument (<ipython-input-20-baf005bf2acb>, line 1)",
     "output_type": "error",
     "traceback": [
      "\u001b[0;36m  File \u001b[0;32m\"<ipython-input-20-baf005bf2acb>\"\u001b[0;36m, line \u001b[0;32m1\u001b[0m\n\u001b[0;31m    fn([2,5],5,4,juan=33, pepe=23, {'cosa': 23, 'cosa2': 55})\u001b[0m\n\u001b[0m                                  ^\u001b[0m\n\u001b[0;31mSyntaxError\u001b[0m\u001b[0;31m:\u001b[0m positional argument follows keyword argument\n"
     ]
    }
   ],
   "source": [
    "fn([2,5],5,4,juan=33, pepe=23, {'cosa': 23, 'cosa2': 55})"
   ]
  },
  {
   "cell_type": "code",
   "execution_count": 21,
   "metadata": {},
   "outputs": [
    {
     "name": "stdout",
     "output_type": "stream",
     "text": [
      "([2, 5], 5, 4, 'cosa', 'cosa2')\n",
      "{'juan': 33, 'pepe': 23}\n"
     ]
    }
   ],
   "source": [
    "fn([2,5],5,4,juan=33, pepe=23, *{'cosa': 23, 'cosa2': 55})"
   ]
  },
  {
   "cell_type": "code",
   "execution_count": 22,
   "metadata": {},
   "outputs": [
    {
     "name": "stdout",
     "output_type": "stream",
     "text": [
      "([2, 5], 5, 4)\n",
      "{'juan': 33, 'pepe': 23, 'cosa': 23, 'cosa2': 55}\n"
     ]
    }
   ],
   "source": [
    "fn([2,5],5,4,juan=33, pepe=23, **{'cosa': 23, 'cosa2': 55})"
   ]
  },
  {
   "cell_type": "code",
   "execution_count": null,
   "metadata": {},
   "outputs": [],
   "source": []
  },
  {
   "cell_type": "code",
   "execution_count": null,
   "metadata": {},
   "outputs": [],
   "source": []
  },
  {
   "cell_type": "code",
   "execution_count": null,
   "metadata": {},
   "outputs": [],
   "source": []
  }
 ],
 "metadata": {
  "kernelspec": {
   "display_name": "Python 3",
   "language": "python",
   "name": "python3"
  },
  "language_info": {
   "codemirror_mode": {
    "name": "ipython",
    "version": 3
   },
   "file_extension": ".py",
   "mimetype": "text/x-python",
   "name": "python",
   "nbconvert_exporter": "python",
   "pygments_lexer": "ipython3",
   "version": "3.6.8"
  }
 },
 "nbformat": 4,
 "nbformat_minor": 2
}
