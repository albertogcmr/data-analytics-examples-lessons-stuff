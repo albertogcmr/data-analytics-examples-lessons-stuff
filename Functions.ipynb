{
 "cells": [
  {
   "cell_type": "markdown",
   "metadata": {},
   "source": [
    "# How to define functions in Python"
   ]
  },
  {
   "cell_type": "code",
   "execution_count": null,
   "metadata": {},
   "outputs": [],
   "source": [
    "def list2string(lst):\n",
    "    string = ' '.join(lst)\n",
    "    return string"
   ]
  },
  {
   "cell_type": "code",
   "execution_count": null,
   "metadata": {},
   "outputs": [],
   "source": [
    "to_string = ['John', 'was', 'a', 'man', 'of', 'many', 'talents']\n",
    "list2string(to_string)"
   ]
  },
  {
   "cell_type": "code",
   "execution_count": null,
   "metadata": {},
   "outputs": [],
   "source": [
    "def square(num):\n",
    "    sqr = num ** 2\n",
    "    return sqr"
   ]
  },
  {
   "cell_type": "code",
   "execution_count": null,
   "metadata": {},
   "outputs": [],
   "source": [
    "square(5)"
   ]
  },
  {
   "cell_type": "markdown",
   "metadata": {},
   "source": [
    "# Global vs Local Variables"
   ]
  },
  {
   "cell_type": "code",
   "execution_count": null,
   "metadata": {},
   "outputs": [],
   "source": [
    "a = 1\n",
    "b = 2\n",
    "def suma(a,b): \n",
    "    c = a + b\n",
    "    return c\n"
   ]
  },
  {
   "cell_type": "code",
   "execution_count": null,
   "metadata": {},
   "outputs": [],
   "source": [
    "c = suma(a,b)\n",
    "print(c)"
   ]
  },
  {
   "cell_type": "code",
   "execution_count": null,
   "metadata": {},
   "outputs": [],
   "source": [
    "print(a)"
   ]
  },
  {
   "cell_type": "code",
   "execution_count": null,
   "metadata": {},
   "outputs": [],
   "source": [
    "print(c)"
   ]
  },
  {
   "cell_type": "code",
   "execution_count": null,
   "metadata": {},
   "outputs": [],
   "source": [
    "a = c\n",
    "\n",
    "def multiply(number, multiplier=2):\n",
    "    b = number * multiplier\n",
    "    return b\n",
    "\n",
    "c = multiply(a)\n",
    "\n",
    "print(a, c)\n"
   ]
  },
  {
   "cell_type": "code",
   "execution_count": null,
   "metadata": {},
   "outputs": [],
   "source": [
    "import pandas as pd\n",
    "\n",
    "# Import the dataset vehicles\n",
    "data = pd.read_csv('./vehicles.csv')\n",
    "\n",
    "def get_means(df):\n",
    "    numeric = df._get_numeric_data()\n",
    "    means = pd.DataFrame(numeric.mean()).reset_index()\n",
    "    means.columns = ['Column', 'Mean']\n",
    "    return means\n",
    "\n",
    "mean_df = get_means(data)\n",
    "mean_df"
   ]
  },
  {
   "cell_type": "markdown",
   "metadata": {},
   "source": [
    "# Some Exercises"
   ]
  },
  {
   "cell_type": "markdown",
   "metadata": {},
   "source": [
    "#### 1. Escribe una función `hipotenusa` que tome como argumentos posicionales los dos catetos de un triángulo rectángulo y devuelva la hipotenusa de dicho triángulo."
   ]
  },
  {
   "cell_type": "code",
   "execution_count": null,
   "metadata": {},
   "outputs": [],
   "source": [
    "def hipotenusa(a,b):\n",
    "    sqrt = (a**2 + b**2)**0.5\n",
    "    return int(sqrt)"
   ]
  },
  {
   "cell_type": "code",
   "execution_count": null,
   "metadata": {},
   "outputs": [],
   "source": [
    "hipotenusa(3,4)"
   ]
  },
  {
   "cell_type": "markdown",
   "metadata": {},
   "source": [
    "#### 2. Escribe una función llamada `wordcount` que tome como argumento un solo string con varias palabras (separadas por espacios en blanco) y devuelva el número de palabras del string pasado:"
   ]
  },
  {
   "cell_type": "code",
   "execution_count": null,
   "metadata": {},
   "outputs": [],
   "source": [
    "import re"
   ]
  },
  {
   "cell_type": "code",
   "execution_count": null,
   "metadata": {},
   "outputs": [],
   "source": [
    "#Procedural way\n",
    "string1 = \"Hola Mundo,el perro de mi vecino ladra mucho pero me da igual porque hoy es viernes\"\n",
    "string2 = \"Hola Mundo,el perro de mi vecino ladra mucho pero me da igual porque hoy es viernes;me llamo Belen\"\n",
    "words1=string1.replace(',',' ').split(' ')\n",
    "words2=string2.replace(',',' ').split(' ')\n",
    "print(words1)\n",
    "print(words2)\n",
    "print(len(words1))\n",
    "print(len(words2))"
   ]
  },
  {
   "cell_type": "code",
   "execution_count": null,
   "metadata": {},
   "outputs": [],
   "source": [
    "def wordcount(string):\n",
    "    words = len(re.findall('\\w+',string))\n",
    "    return words"
   ]
  },
  {
   "cell_type": "code",
   "execution_count": null,
   "metadata": {},
   "outputs": [],
   "source": [
    "print(wordcount(string1))\n",
    "print(wordcount(string2))"
   ]
  },
  {
   "cell_type": "markdown",
   "metadata": {},
   "source": [
    "#### 3. Escribe una función `desv_tipica` que tome como argumento una distribución (lista) de números y devuelva la desviación típica. *Nota: aquí no vale utilizar Numpy ni pandas*:"
   ]
  },
  {
   "cell_type": "code",
   "execution_count": null,
   "metadata": {},
   "outputs": [],
   "source": [
    "import statistics\n",
    "def desv_tipica(lista):\n",
    "    mean = sum(lista)/len(lista)\n",
    "    desv = (sum([(item-mean)**2 for item in lista])/(len(lista)-1))**0.5\n",
    "    return desv"
   ]
  },
  {
   "cell_type": "code",
   "execution_count": null,
   "metadata": {},
   "outputs": [],
   "source": [
    "lista= [1,2,3,4,5,6,7,8,9,10]\n",
    "desv_tipica(lista)"
   ]
  },
  {
   "cell_type": "markdown",
   "metadata": {},
   "source": [
    "#### 4. Escribe una función llamada `divisibles_por_7` que tome como argumentos un número arbitrario de números enteros y devuelva una lista con solo aquellos que sean divisibles por 7 (sin dar decimales):"
   ]
  },
  {
   "cell_type": "code",
   "execution_count": null,
   "metadata": {},
   "outputs": [],
   "source": [
    "numbers=[1,2,3,7,49,67,98,74,83,54,49,7,14,64]"
   ]
  },
  {
   "cell_type": "code",
   "execution_count": null,
   "metadata": {},
   "outputs": [],
   "source": [
    "def divisibles_por_7 (lista): \n",
    "    numbers = [item for item in lista if item % 7 ==0]\n",
    "    return numbers"
   ]
  },
  {
   "cell_type": "code",
   "execution_count": null,
   "metadata": {},
   "outputs": [],
   "source": [
    "divisibles_por_7(numbers)"
   ]
  },
  {
   "cell_type": "markdown",
   "metadata": {},
   "source": [
    "####  5. Escribe una función `manhattan` que compute la distancia de Manhattan entre dos puntos bidimensionales (donde cada uno de estos puntos tiene coordenadas de la forma `(x,y)`):"
   ]
  },
  {
   "cell_type": "code",
   "execution_count": null,
   "metadata": {},
   "outputs": [],
   "source": [
    "import math"
   ]
  },
  {
   "cell_type": "code",
   "execution_count": null,
   "metadata": {},
   "outputs": [],
   "source": [
    "def manhattan(x1,x2,y1,y2):\n",
    "    distance = math.sqrt((x2-x1)**2 + (y2-y1)**2)\n",
    "    return distance"
   ]
  },
  {
   "cell_type": "code",
   "execution_count": null,
   "metadata": {},
   "outputs": [],
   "source": [
    "manhattan(2,3,5,8)"
   ]
  },
  {
   "cell_type": "markdown",
   "metadata": {},
   "source": [
    "#### 6. Define una función `filtrar_palabras_largas` que tome como argumento una lista de palabras (strings), y una longitud máxima `n`. Esta función debe devolver una lista solo con las palabras que son más cortas que `n`:"
   ]
  },
  {
   "cell_type": "code",
   "execution_count": null,
   "metadata": {},
   "outputs": [],
   "source": [
    "def filter_long_words(list,n):\n",
    "    long_words = []\n",
    "    for word in list:\n",
    "        if len(word) < n:\n",
    "            long_words.append(word)\n",
    "    return long_words"
   ]
  },
  {
   "cell_type": "code",
   "execution_count": null,
   "metadata": {},
   "outputs": [],
   "source": [
    "lista = [\"casa\", \"mesa\", \"cama\", \"mayusculas\", \"minusculas\", \n",
    "        \"supercalifragilisticoespiralidoso\", \"España\", \"esdrujula\"]"
   ]
  },
  {
   "cell_type": "code",
   "execution_count": null,
   "metadata": {},
   "outputs": [],
   "source": [
    "filter_long_words(list,5)"
   ]
  },
  {
   "cell_type": "code",
   "execution_count": null,
   "metadata": {},
   "outputs": [],
   "source": [
    "#List comprehension\n",
    "[word for word in lista if len(word) <5]"
   ]
  },
  {
   "cell_type": "markdown",
   "metadata": {},
   "source": [
    "#### 7. Escribe una función `factorial` que devuelva el factorial de un número entero."
   ]
  },
  {
   "cell_type": "code",
   "execution_count": null,
   "metadata": {},
   "outputs": [],
   "source": [
    "def factorial(n):\n",
    "    if n == 0:\n",
    "        return 1\n",
    "    else:\n",
    "        return n*factorial(n-1)"
   ]
  },
  {
   "cell_type": "code",
   "execution_count": null,
   "metadata": {},
   "outputs": [],
   "source": [
    "factorial (5)"
   ]
  },
  {
   "cell_type": "code",
   "execution_count": null,
   "metadata": {},
   "outputs": [],
   "source": [
    "#List Comprehension\n",
    "numbers_list = [1,2,3,4,5,6,7,8,9]\n",
    "[number*factorial((len(numbers_list)-1)) for number in numbers_list]"
   ]
  },
  {
   "cell_type": "markdown",
   "metadata": {},
   "source": [
    "####  8. Escribe una función `juego_de_numero` que:\n",
    "+ Tome como argumento un número (entero).\n",
    "+ Si el número es par, divídelo por 2.\n",
    "+ Si es impar, multiplícalo por 3 y súmale 1.\n",
    "+ Continúa haciéndolo hasta que tu resultado sea 1.\n",
    "+ Devuelve el número de \"números visitados\", incluyendo el inicial y el 1.\n",
    "\n",
    "Por ejemplo: si llamamos a `juego_de_numero(3)`, la secuencia es 3-10-5-16-8-4-2-1."
   ]
  },
  {
   "cell_type": "code",
   "execution_count": 3,
   "metadata": {},
   "outputs": [],
   "source": [
    "def is_even(num):\n",
    "    if num % 2 == 0:\n",
    "        return True\n",
    "    else:\n",
    "        return False\n",
    "    \n",
    "def juego_de_numero(num):\n",
    "    results = [num]\n",
    "    for num in results:\n",
    "        if(num != 1):\n",
    "            if is_even(num): \n",
    "                #even number \n",
    "                results.append(int(num / 2))\n",
    "            else: \n",
    "                ##odd number\n",
    "                results.append(int((num * 3) + 1))\n",
    "        elif(num == 1):\n",
    "            return results\n",
    "            break"
   ]
  },
  {
   "cell_type": "code",
   "execution_count": 4,
   "metadata": {},
   "outputs": [
    {
     "data": {
      "text/plain": [
       "[3, 10, 5, 16, 8, 4, 2, 1]"
      ]
     },
     "execution_count": 4,
     "metadata": {},
     "output_type": "execute_result"
    }
   ],
   "source": [
    "juego_de_numero(3)"
   ]
  },
  {
   "cell_type": "markdown",
   "metadata": {},
   "source": [
    "#### 9. Escribe una función `word_frequency` en la que, dada una colección (lista) de palabras (que pueden repetirse), devuelva un conjunto de pares (`palabra`, `número de veces que aparece dicha palabra en la colección`):"
   ]
  },
  {
   "cell_type": "code",
   "execution_count": 5,
   "metadata": {},
   "outputs": [],
   "source": [
    "from collections import Counter"
   ]
  },
  {
   "cell_type": "code",
   "execution_count": 6,
   "metadata": {},
   "outputs": [],
   "source": [
    "words=[\"ana\",\"ana\",\"huevo\",\"gallina\",\"mesa\",\"casa\",\"pelota\",\"pelota\",\"casa\"]\n",
    "def word_frequency(words):\n",
    "    count = Counter(words)\n",
    "    print(count)"
   ]
  },
  {
   "cell_type": "code",
   "execution_count": 7,
   "metadata": {},
   "outputs": [
    {
     "name": "stdout",
     "output_type": "stream",
     "text": [
      "Counter({'ana': 2, 'casa': 2, 'pelota': 2, 'huevo': 1, 'gallina': 1, 'mesa': 1})\n"
     ]
    }
   ],
   "source": [
    "word_frequency(words)"
   ]
  },
  {
   "cell_type": "markdown",
   "metadata": {},
   "source": [
    "#### 10. Consigue en una sola línea de código averiguar cuántos elementos distintos hay en la siguiente lista de 300 elementos:"
   ]
  },
  {
   "cell_type": "code",
   "execution_count": 9,
   "metadata": {},
   "outputs": [],
   "source": [
    "la_lista = ['da', 'e', 'e', 'eccebd', 'fdfdce', 'ad', 'dadcd', 'baadede', 'ebb', 'f', 'acbdf', 'eeccb', 'fe', \n",
    "            'fcffbcc', 'dffadd', 'cbdeca', 'ff', 'aa', 'cbfe', 'aedaaf', 'd', 'efbfd', 'efaaee', 'dae', \n",
    "            'befdeb', 'daaecd', 'b', 'dddd', 'cae', 'ac', 'fee', 'ada', 'dbae', 'adfedd', 'e', 'ddaefca', \n",
    "            'bf', 'ddeceee', 'aae', 'bedbe', 'caafddf', 'ba', 'dcdf', 'edefcbd', 'cfdcb', 'dcbf', \n",
    "            'cfccefe', 'fd', 'fdae', 'eb', 'add', 'afaa', 'cdedabf', 'fdbebe', 'dfeae', 'debcca', \n",
    "            'eae', 'bfeddec', 'ccbbbb', 'af', 'c', 'ddcea', 'dabddf', 'efcaec', 'cec', 'bdfce', \n",
    "            'bacccdd', 'af', 'dd', 'c', 'acfdea', 'bacfc', 'bedaf', 'dfc', 'cefdbc', 'ebefc', 'cee', \n",
    "            'decacef', 'cfccddb', 'c', 'ebfb', 'acfb', 'c', 'aeede', 'fed', 'fabc', 'fcfb', 'ad', 'bc', \n",
    "            'aaadcd', 'cf', 'a', 'bc', 'ecaabcc', 'eeebce', 'eba', 'dfcaf', 'f', 'bcd', 'cc', 'daecffd', \n",
    "            'f', 'def', 'ebc', 'bcbcd', 'a', 'dbae', 'a', 'dbfdd', 'bdbbff', 'bacacdc', 'd', 'acfaab', 'f', \n",
    "            'dccfeba', 'dccf', 'defcce', 'cbbfbce', 'abddf', 'aaed', 'abfc', 'acab', 'bdceae', 'fc', 'cfdb', \n",
    "            'adbdb', 'e', 'cdbabf', 'fbaae', 'eaabda', 'bcdfea', 'bdcfaeb', 'afaccb', 'aa', 'fbdd', 'bae', \n",
    "            'b', 'ccdefc', 'c', 'fcffaa', 'aadeeb', 'ea', 'fcdfbf', 'fa', 'eccf', 'dcbcee', 'cbbd', 'fedcd', \n",
    "            'eeeec', 'aaafcbb', 'fafa', 'beaab', 'ecdf', 'cceaaf', 'dafdcf', 'cbfe', 'ff', 'd', 'e', 'ebcdb', \n",
    "            'ecb', 'f', 'bafb', 'dacdbf', 'ccd', 'abcc', 'ed', 'ddcdeb', 'bcb', 'cefbec', 'e', 'cddeb', \n",
    "            'eacccea', 'f', 'faeaaef', 'ddd', 'dfb', 'bda', 'acdf', 'fcffa', 'a', 'fc', 'baffac', 'efadfca', \n",
    "            'e', 'fb', 'bedfbd', 'eb', 'ceaece', 'fdcbfea', 'fda', 'fbbebf', 'cecbffa', 'beabecc', 'eddfc', \n",
    "            'bab', 'abfe', 'ab', 'bdada', 'ccdf', 'bfeaeaa', 'ac', 'eb', 'fbbbf', 'ddab', 'baddadd', 'bcbebec', \n",
    "            'afbaca', 'aa', 'db', 'aafcff', 'eabcadb', 'fe', 'adc', 'eabacbd', 'ffccdd', 'dbfdcc', 'cff', 'fbb', \n",
    "            'fadd', 'cbcb', 'bfeacde', 'feed', 'fbae', 'debb', 'dffe', 'de', 'eaeefc', 'ccedfb', 'eefb', \n",
    "            'fdddfd', 'fdfee', 'cbecfd', 'f', 'e', 'e', 'bcfafe', 'fdfaef', 'ddbad', 'cbee', 'a', 'dec', 'fd', \n",
    "            'd', 'dee', 'daadcd', 'fbaaab', 'b', 'f', 'cabffd', 'edfd', 'fafccbc', 'cbdbad', 'ceaadae', \n",
    "            'eafdfd', 'abebfc', 'b', 'bdbeffe', 'aabcabd', 'fcbaab', 'dae', 'd', 'fdccbd', 'eaedfd', 'dbbc', \n",
    "            'fb', 'bcddb', 'abddac', 'da', 'abedf', 'fa', 'ccbaa', 'efae', 'abd', 'aebe', 'cdcd', 'd', 'abcc', \n",
    "            'edccba', 'dedd', 'a', 'b', 'a', 'd', 'fbbdefd', 'ccfdcae', 'aaabd', 'cdbffb', 'fcdfcef', 'cfbae', \n",
    "            'a', 'ebe', 'c', 'b', 'afdcacb', 'ad', 'ffaeb', 'a', 'dfffdea', 'bfa']\n",
    "\n",
    "# En una sola línea, ¿eh?:\n"
   ]
  },
  {
   "cell_type": "code",
   "execution_count": 10,
   "metadata": {},
   "outputs": [
    {
     "name": "stdout",
     "output_type": "stream",
     "text": [
      "241\n"
     ]
    }
   ],
   "source": [
    "print(len(set(la_lista)))"
   ]
  },
  {
   "cell_type": "markdown",
   "metadata": {},
   "source": [
    "#### 11. Define una función `overlapping` que tome como argumento dos colecciones. Si ambas colecciones tienen al menos un elemento en común, debe devolver `True`. Si no es así, debe devolver `False`:"
   ]
  },
  {
   "cell_type": "markdown",
   "metadata": {},
   "source": [
    "# Lambda Functions"
   ]
  },
  {
   "cell_type": "markdown",
   "metadata": {},
   "source": [
    "We have seen that functions in Python are defined this way:\n",
    "\n",
    "```Python\n",
    "def my_function(arguments):\n",
    "    some_stuff_done\n",
    "    return something\n",
    "````"
   ]
  },
  {
   "cell_type": "markdown",
   "metadata": {},
   "source": [
    "Well then, there is another way of building functions in Python: lambda functions. A lambda function works as a conventional one; There are only two differences: \n",
    "\n",
    "- They are anonymous functions, they don't have a name as in conventional def functions.\n",
    "- Their syntax is different\n"
   ]
  },
  {
   "cell_type": "markdown",
   "metadata": {},
   "source": [
    "We define a conventional function that multiplies a number by 2: "
   ]
  },
  {
   "cell_type": "code",
   "execution_count": 11,
   "metadata": {},
   "outputs": [],
   "source": [
    "def multiply_by_two(number):\n",
    "    return number * 2"
   ]
  },
  {
   "cell_type": "code",
   "execution_count": 12,
   "metadata": {},
   "outputs": [
    {
     "data": {
      "text/plain": [
       "10"
      ]
     },
     "execution_count": 12,
     "metadata": {},
     "output_type": "execute_result"
    }
   ],
   "source": [
    "multiply_by_two(5)"
   ]
  },
  {
   "cell_type": "markdown",
   "metadata": {},
   "source": [
    "Now we are going to define the same function as a lambda function"
   ]
  },
  {
   "cell_type": "code",
   "execution_count": 19,
   "metadata": {},
   "outputs": [
    {
     "data": {
      "text/plain": [
       "10"
      ]
     },
     "execution_count": 19,
     "metadata": {},
     "output_type": "execute_result"
    }
   ],
   "source": [
    "multiply_by_two_lambda = lambda number: number * 2\n",
    "multiply_by_two_lambda(5)"
   ]
  },
  {
   "cell_type": "markdown",
   "metadata": {},
   "source": [
    "Both functions do the same thing..."
   ]
  },
  {
   "cell_type": "code",
   "execution_count": 21,
   "metadata": {},
   "outputs": [
    {
     "name": "stdout",
     "output_type": "stream",
     "text": [
      "True\n"
     ]
    }
   ],
   "source": [
    "print(multiply_by_two(5) == multiply_by_two_lambda(5))"
   ]
  },
  {
   "cell_type": "markdown",
   "metadata": {},
   "source": [
    "***The question is:*** Why would I want to define a lambda function? Writing the complex logic of a conventional function in a simple way using lambda is not easy. However,  \n",
    "\n",
    "\n",
    "- For simple functionalities we can reduce our code.\n",
    "- They are useful in places where a function is going to be used just once.\n",
    "- We don't need to think about a name as they are anonymous\n"
   ]
  },
  {
   "cell_type": "markdown",
   "metadata": {},
   "source": [
    "Each time you feel stuck defining lambda functions you can use a conventional one. Lambda functions should make life easier. Don't make life even more difficult!!\n",
    "\n"
   ]
  },
  {
   "cell_type": "markdown",
   "metadata": {},
   "source": [
    "Lambda functions are really useful when we have a function that takes as argument other functions. "
   ]
  },
  {
   "cell_type": "code",
   "execution_count": 22,
   "metadata": {},
   "outputs": [],
   "source": [
    "def apply_to_all(list, function):\n",
    "    \"\"\"\n",
    "    Applied the function passed as argument to\n",
    "    all the elements of a list (as the first argument).\n",
    "    The output is the modified list. \n",
    "    \"\"\"\n",
    "    results = []\n",
    "    for element in list:\n",
    "        results.append(function(element))\n",
    "    return results"
   ]
  },
  {
   "cell_type": "code",
   "execution_count": 25,
   "metadata": {},
   "outputs": [
    {
     "name": "stdout",
     "output_type": "stream",
     "text": [
      "[0, 2, 4, 6, 8, 10, 12, 14, 16, 18]\n"
     ]
    }
   ],
   "source": [
    "#We want to apply our above multiply_by_two to all the elements of this list\n",
    "my_list= [0, 1, 2, 3, 4, 5, 6, 7, 8, 9]\n",
    "print(apply_to_all(my_list, multiply_by_two))"
   ]
  },
  {
   "cell_type": "code",
   "execution_count": 26,
   "metadata": {},
   "outputs": [
    {
     "name": "stdout",
     "output_type": "stream",
     "text": [
      "[0, 2, 4, 6, 8, 10, 12, 14, 16, 18]\n"
     ]
    }
   ],
   "source": [
    "# We can use a lambda expression in this way \n",
    "print(apply_to_all(my_list,lambda number : number * 2))"
   ]
  },
  {
   "cell_type": "markdown",
   "metadata": {},
   "source": [
    "***Lambda is confusing because: ***\n",
    "- ***First:*** The requirement that a lambda can take only a single expression raises the question: What is an expression? “In Python, what’s the difference between an expression and a statement?”<br>One good answer is that an expression returns (or evaluates to) a value, whereas a statement does not.\n",
    "- ***Second:*** The specification that a lambda can take only a single expression raises the question: Why? Why only one expression? Why not multiple expressions? Why not statements?<br>Lambda was a relatively late addition to Python. By the time that it was added, Python syntax had become well established. Under the circumstances, the syntax for lambda had to be shoe-horned into the established Python syntax in a “pythonic” way. And that placed certain limitations on the kinds of things that could be done in lambdas. \n",
    "- ***Third:*** lambda is usually described as a tool for creating functions, but a lambda specification does not contain a return statement.<br>The return statement is, in a sense, implicit in a lambda. Since a lambda specification must contain only a single expression, and that expression must return a value, an anonymous function created by lambda implicitly returns the value returned by the expression.\n",
    "- ***Fourth:*** tutorials on lambda typically introduce lambda as a tool for creating anonymous functions, when in fact the most common use of lambda is for creating anonymous procedures.<br>Back in the High Old Times, we recognized two different kinds of subroutines: procedures and functions. Procedures were for doing stuff, and did not return anything. Functions were for calculating and returning values. The difference between functions and procedures was even built into some programming languages. <br>The most common use for lambda is to create anonymous procedures for use in GUI callbacks. In those use cases, we don’t care about what the lambda returns, we care about what it does.This explains why most explanations of lambda are confusing for the typical Python programmer. Lambda tutorial should begin with \"Lambda is a tool for building callback handlers\" instead of \"Lambda is a tool for building anonymous functions.\" \n",
    "[Python Conquers the Universe](https://pythonconquerstheuniverse.wordpress.com/2011/08/29/lambda_tutorial/)\n"
   ]
  },
  {
   "cell_type": "markdown",
   "metadata": {},
   "source": [
    "### The advantage of the lambda operator can be seen when it is used in combination with the map(), filter(), reduce() functions."
   ]
  },
  {
   "cell_type": "markdown",
   "metadata": {},
   "source": [
    " ### ***map()*** function"
   ]
  },
  {
   "cell_type": "markdown",
   "metadata": {},
   "source": [
    "***r = map(func, seq)***<br>The first argument func is the name of a function and the second a sequence (e.g. a list) seq. map() applies the function func to all the elements of the sequence seq. Before Python3, map() used to return a list, where each element of the result list was the result of the function func applied on the corresponding element of the list or tuple \"seq\". With Python 3, map() returns an iterator"
   ]
  },
  {
   "cell_type": "code",
   "execution_count": 28,
   "metadata": {},
   "outputs": [
    {
     "name": "stdout",
     "output_type": "stream",
     "text": [
      "[102.56, 97.7, 99.14, 100.4, 100.03999999999999]\n",
      "[39.2, 36.5, 37.300000000000004, 38.00000000000001, 37.8]\n"
     ]
    }
   ],
   "source": [
    "# Fahrenheit to Celsius and viceversa\n",
    "C = [39.2, 36.5, 37.3, 38, 37.8] \n",
    "F = list(map(lambda x: (float(9)/5)*x + 32, C))\n",
    "print(F)\n",
    "C = list(map(lambda x: (float(5)/9)*(x-32), F))\n",
    "print(C) "
   ]
  },
  {
   "cell_type": "markdown",
   "metadata": {},
   "source": [
    "map() can be applied to more than one list. The lists don't have to have the same length. map() will apply its lambda function to the elements of the argument lists, i.e. it first applies to the elements with the 0th index, then to the elements with the 1st index until the n-th index is reached: \n"
   ]
  },
  {
   "cell_type": "code",
   "execution_count": 30,
   "metadata": {},
   "outputs": [
    {
     "name": "stdout",
     "output_type": "stream",
     "text": [
      "[18, 14, 14, 14]\n",
      "[17, 10, 19, 23]\n",
      "[37.5, 33.0, 24.5, 21.0]\n"
     ]
    }
   ],
   "source": [
    "a = [1, 2, 3, 4]\n",
    "b = [17, 12, 11, 10]\n",
    "c = [-1, -4, 5, 9]\n",
    "print(list(map(lambda x, y : x+y, a, b)))\n",
    "print(list(map(lambda x, y, z : x+y+z, a, b, c)))\n",
    "print(list(map(lambda x, y, z : 2.5*x + 2*y - z, a, b, c)))"
   ]
  },
  {
   "cell_type": "markdown",
   "metadata": {},
   "source": [
    "If one list has less elements than the others, map will stop, when the shortest list has been consumed"
   ]
  },
  {
   "cell_type": "code",
   "execution_count": 31,
   "metadata": {},
   "outputs": [
    {
     "data": {
      "text/plain": [
       "[37.5, 33.0, 24.5, 21.0]"
      ]
     },
     "execution_count": 31,
     "metadata": {},
     "output_type": "execute_result"
    }
   ],
   "source": [
    "list(map(lambda x, y, z : 2.5*x + 2*y - z, a, b, c))"
   ]
  },
  {
   "cell_type": "markdown",
   "metadata": {},
   "source": [
    "We can map a bunch of functions"
   ]
  },
  {
   "cell_type": "code",
   "execution_count": 33,
   "metadata": {},
   "outputs": [
    {
     "name": "stdout",
     "output_type": "stream",
     "text": [
      "[1.2246467991473532e-16, -1.0, -1.2246467991473532e-16]\n"
     ]
    }
   ],
   "source": [
    "from math import sin, cos, tan, pi\n",
    "\n",
    "def map_functions(x, functions):\n",
    "     \"\"\" map an iterable of functions on the the object x \"\"\"\n",
    "     results = []\n",
    "     for func in functions:\n",
    "         results.append(func(x))\n",
    "     return results\n",
    "\n",
    "family_of_functions = (sin, cos, tan)\n",
    "print(map_functions(pi, family_of_functions))"
   ]
  },
  {
   "cell_type": "markdown",
   "metadata": {},
   "source": [
    "### filter() function"
   ]
  },
  {
   "cell_type": "markdown",
   "metadata": {},
   "source": [
    "***filter(function, sequence)*** \n",
    "The function filter(f,l) needs a function f as its first argument. f has to return a Boolean value, i.e. either True or False. This function will be applied to every element of the list l. Only if f returns True will the element be produced by the iterator, which is the return value of filter(function, sequence).\n",
    "\n",
    "In the following example, we filter out first the odd and then the even elements of the sequence of the first 11 Fibonacci numbers:"
   ]
  },
  {
   "cell_type": "code",
   "execution_count": 34,
   "metadata": {},
   "outputs": [
    {
     "name": "stdout",
     "output_type": "stream",
     "text": [
      "[1, 1, 3, 5, 13, 21, 55]\n",
      "[0, 2, 8, 34]\n"
     ]
    }
   ],
   "source": [
    "fibonacci = [0,1,1,2,3,5,8,13,21,34,55]\n",
    "odd_numbers = list(filter(lambda x: x % 2, fibonacci))\n",
    "print(odd_numbers)\n",
    "even_numbers = list(filter(lambda x: x % 2 == 0, fibonacci))\n",
    "print(even_numbers)"
   ]
  },
  {
   "cell_type": "markdown",
   "metadata": {},
   "source": [
    "### reduce() function"
   ]
  },
  {
   "cell_type": "markdown",
   "metadata": {},
   "source": [
    "reduce() had been dropped from the core of Python when migrating to Python 3, it was moved into the module functools.<br>This function continually applies the function func() to the sequence seq. It returns a single value. ***reduce(func,seq)***\n",
    "The way reduce works is:\n",
    "- At first the first two elements of seq will be applied to func\n",
    "- In the next step func will be applied on the previous result and the third element of the seq\n",
    "- Continue like this until just one element is left and return this element as the result of reduce()"
   ]
  },
  {
   "cell_type": "code",
   "execution_count": 35,
   "metadata": {},
   "outputs": [
    {
     "data": {
      "text/plain": [
       "113"
      ]
     },
     "execution_count": 35,
     "metadata": {},
     "output_type": "execute_result"
    }
   ],
   "source": [
    "import functools\n",
    "functools.reduce(lambda x,y: x+y, [47,11,42,13])"
   ]
  },
  {
   "cell_type": "markdown",
   "metadata": {},
   "source": [
    "#### Examples of reduce()"
   ]
  },
  {
   "cell_type": "code",
   "execution_count": 38,
   "metadata": {},
   "outputs": [],
   "source": [
    "from functools import reduce"
   ]
  },
  {
   "cell_type": "code",
   "execution_count": 39,
   "metadata": {},
   "outputs": [
    {
     "data": {
      "text/plain": [
       "102"
      ]
     },
     "execution_count": 39,
     "metadata": {},
     "output_type": "execute_result"
    }
   ],
   "source": [
    "#Determining the maximum of a list of numerical values by using reduce:\n",
    "f = lambda a,b: a if (a > b) else b\n",
    "reduce(f, [47,11,42,102,13])"
   ]
  },
  {
   "cell_type": "code",
   "execution_count": 41,
   "metadata": {},
   "outputs": [
    {
     "data": {
      "text/plain": [
       "5050"
      ]
     },
     "execution_count": 41,
     "metadata": {},
     "output_type": "execute_result"
    }
   ],
   "source": [
    "#Calculating the sum of the numbers from 1 to 100:\n",
    "reduce(lambda x, y: x+y, range(1,101))"
   ]
  },
  {
   "cell_type": "code",
   "execution_count": 42,
   "metadata": {},
   "outputs": [
    {
     "data": {
      "text/plain": [
       "13983816.0"
      ]
     },
     "execution_count": 42,
     "metadata": {},
     "output_type": "execute_result"
    }
   ],
   "source": [
    "#The chances to win a 6 out of 49 in lottery \n",
    "reduce(lambda x, y: x*y, range(44,50))/reduce(lambda x, y: x*y, range(1,7))"
   ]
  },
  {
   "cell_type": "code",
   "execution_count": null,
   "metadata": {},
   "outputs": [],
   "source": []
  }
 ],
 "metadata": {
  "kernelspec": {
   "display_name": "Python 3",
   "language": "python",
   "name": "python3"
  },
  "language_info": {
   "codemirror_mode": {
    "name": "ipython",
    "version": 3
   },
   "file_extension": ".py",
   "mimetype": "text/x-python",
   "name": "python",
   "nbconvert_exporter": "python",
   "pygments_lexer": "ipython3",
   "version": "3.6.5"
  }
 },
 "nbformat": 4,
 "nbformat_minor": 2
}
