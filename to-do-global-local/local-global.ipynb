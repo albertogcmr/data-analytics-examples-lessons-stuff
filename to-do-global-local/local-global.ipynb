{
 "cells": [
  {
   "cell_type": "code",
   "execution_count": 13,
   "metadata": {},
   "outputs": [
    {
     "name": "stdout",
     "output_type": "stream",
     "text": [
      "[5, 6, 7, 4]\n",
      "[5, 6, 7]\n"
     ]
    }
   ],
   "source": [
    "x = [5,6,7]\n",
    "\n",
    "def encadena_4(x): \n",
    "    x = x + [4]\n",
    "    return x\n",
    "\n",
    "print(encadena_4(x))\n",
    "print(x)"
   ]
  },
  {
   "cell_type": "code",
   "execution_count": 14,
   "metadata": {},
   "outputs": [
    {
     "name": "stdout",
     "output_type": "stream",
     "text": [
      "[5, 6, 7, 4]\n",
      "[5, 6, 7, 4]\n"
     ]
    }
   ],
   "source": [
    "x = [5,6,7]\n",
    "\n",
    "def encadena_4(x): \n",
    "    x.append(4)\n",
    "    return x\n",
    "\n",
    "print(encadena_4(x))\n",
    "print(x)"
   ]
  },
  {
   "cell_type": "code",
   "execution_count": null,
   "metadata": {},
   "outputs": [],
   "source": []
  }
 ],
 "metadata": {
  "kernelspec": {
   "display_name": "Python 3",
   "language": "python",
   "name": "python3"
  },
  "language_info": {
   "codemirror_mode": {
    "name": "ipython",
    "version": 3
   },
   "file_extension": ".py",
   "mimetype": "text/x-python",
   "name": "python",
   "nbconvert_exporter": "python",
   "pygments_lexer": "ipython3",
   "version": "3.6.8"
  }
 },
 "nbformat": 4,
 "nbformat_minor": 2
}
