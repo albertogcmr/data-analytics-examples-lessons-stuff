{
 "cells": [
  {
   "cell_type": "code",
   "execution_count": 1,
   "metadata": {},
   "outputs": [
    {
     "data": {
      "text/plain": [
       "[5, 6, 7, 1, 2, 3, '@']"
      ]
     },
     "execution_count": 1,
     "metadata": {},
     "output_type": "execute_result"
    }
   ],
   "source": [
    "lista = [1,2,3]\n",
    "\n",
    "def encadena_y(x): \n",
    "    lista.append('@')\n",
    "    x = x + lista\n",
    "    return x\n",
    "\n",
    "\n",
    "\n",
    "x = [5,6,7]\n",
    "\n",
    "print(encadena_y(x))\n",
    "print(lista)"
   ]
  },
  {
   "cell_type": "code",
   "execution_count": 2,
   "metadata": {},
   "outputs": [
    {
     "name": "stdout",
     "output_type": "stream",
     "text": [
      "[1, 2, 3, '@']\n"
     ]
    }
   ],
   "source": []
  },
  {
   "cell_type": "code",
   "execution_count": 8,
   "metadata": {},
   "outputs": [
    {
     "name": "stdout",
     "output_type": "stream",
     "text": [
      "[5, 6, 7, 4]\n",
      "[5, 6, 7]\n"
     ]
    }
   ],
   "source": [
    "x = [5,6,7]\n",
    "\n",
    "def encadena_4(x): \n",
    "    x = x + [4]\n",
    "    return x\n",
    "\n",
    "print(encadena_4(x))\n",
    "print(x)"
   ]
  },
  {
   "cell_type": "code",
   "execution_count": 4,
   "metadata": {},
   "outputs": [
    {
     "name": "stdout",
     "output_type": "stream",
     "text": [
      "['x', 'x', 'y', 'y']\n",
      "['x', 'x']\n",
      "['y', 'y']\n"
     ]
    }
   ],
   "source": [
    "# x no se ve modificado\n",
    "\n",
    "x = ['x', 'x']\n",
    "y = ['y', 'y']\n",
    "\n",
    "def funcion(x, y): \n",
    "    x = x + y\n",
    "    return x\n",
    "\n",
    "print(funcion(x, y))\n",
    "print(x)\n",
    "print(y)"
   ]
  },
  {
   "cell_type": "code",
   "execution_count": 5,
   "metadata": {},
   "outputs": [
    {
     "name": "stdout",
     "output_type": "stream",
     "text": [
      "['x', 'x', 'y', 'y']\n",
      "['x', 'x']\n",
      "['y', 'y']\n"
     ]
    }
   ],
   "source": [
    "# x no se ve modificado\n",
    "\n",
    "x = ['x', 'x']\n",
    "y = ['y', 'y']\n",
    "\n",
    "def funcion(a, b): \n",
    "    a = a + b\n",
    "    return a\n",
    "\n",
    "print(funcion(x, y))\n",
    "print(x)\n",
    "print(y)"
   ]
  },
  {
   "cell_type": "code",
   "execution_count": 6,
   "metadata": {},
   "outputs": [
    {
     "name": "stdout",
     "output_type": "stream",
     "text": [
      "['x', 'x', 'y', 'y']\n",
      "['x', 'x', 'y', 'y']\n",
      "['y', 'y']\n"
     ]
    }
   ],
   "source": [
    "# x se ve modificado\n",
    "\n",
    "x = ['x', 'x']\n",
    "y = ['y', 'y']\n",
    "\n",
    "def funcion2(x, y): \n",
    "    x.extend(y)\n",
    "    return x\n",
    "\n",
    "print(funcion2(x, y))\n",
    "print(x)\n",
    "print(y)"
   ]
  },
  {
   "cell_type": "code",
   "execution_count": 7,
   "metadata": {},
   "outputs": [
    {
     "name": "stdout",
     "output_type": "stream",
     "text": [
      "['x', 'x', 'y', 'y']\n",
      "['x', 'x', 'y', 'y']\n",
      "['y', 'y']\n"
     ]
    }
   ],
   "source": [
    "# x se ve modificado\n",
    "\n",
    "x = ['x', 'x']\n",
    "y = ['y', 'y']\n",
    "\n",
    "def funcion2(a, b): \n",
    "    a.extend(b)\n",
    "    return a\n",
    "\n",
    "print(funcion2(x, y))\n",
    "print(x)\n",
    "print(y)"
   ]
  },
  {
   "cell_type": "code",
   "execution_count": null,
   "metadata": {},
   "outputs": [],
   "source": []
  }
 ],
 "metadata": {
  "kernelspec": {
   "display_name": "Python 3",
   "language": "python",
   "name": "python3"
  },
  "language_info": {
   "codemirror_mode": {
    "name": "ipython",
    "version": 3
   },
   "file_extension": ".py",
   "mimetype": "text/x-python",
   "name": "python",
   "nbconvert_exporter": "python",
   "pygments_lexer": "ipython3",
   "version": "3.6.8"
  }
 },
 "nbformat": 4,
 "nbformat_minor": 2
}
