{
 "cells": [
  {
   "cell_type": "code",
   "execution_count": 2,
   "metadata": {},
   "outputs": [],
   "source": [
    "import pandas as pd\n",
    "\n",
    "df = pd.read_csv('tableau_project.csv')\n"
   ]
  },
  {
   "cell_type": "code",
   "execution_count": 7,
   "metadata": {},
   "outputs": [
    {
     "data": {
      "text/html": [
       "<div>\n",
       "<style scoped>\n",
       "    .dataframe tbody tr th:only-of-type {\n",
       "        vertical-align: middle;\n",
       "    }\n",
       "\n",
       "    .dataframe tbody tr th {\n",
       "        vertical-align: top;\n",
       "    }\n",
       "\n",
       "    .dataframe thead th {\n",
       "        text-align: right;\n",
       "    }\n",
       "</style>\n",
       "<table border=\"1\" class=\"dataframe\">\n",
       "  <thead>\n",
       "    <tr style=\"text-align: right;\">\n",
       "      <th></th>\n",
       "      <th>Unnamed: 0</th>\n",
       "      <th>journey_id</th>\n",
       "      <th>vehicle_type_id</th>\n",
       "      <th>start_type</th>\n",
       "      <th>start_at</th>\n",
       "      <th>start_lat</th>\n",
       "      <th>start_lon</th>\n",
       "      <th>end_at</th>\n",
       "      <th>end_lat</th>\n",
       "      <th>end_lon</th>\n",
       "      <th>...</th>\n",
       "      <th>price_distance</th>\n",
       "      <th>price_duration</th>\n",
       "      <th>distance</th>\n",
       "      <th>duration</th>\n",
       "      <th>source</th>\n",
       "      <th>rider_waiting_time</th>\n",
       "      <th>driver_waiting_time</th>\n",
       "      <th>price_supplements</th>\n",
       "      <th>discount</th>\n",
       "      <th>rating</th>\n",
       "    </tr>\n",
       "  </thead>\n",
       "  <tbody>\n",
       "    <tr>\n",
       "      <th>0</th>\n",
       "      <td>0</td>\n",
       "      <td>93e6d216088af74c32183283d4bb2953</td>\n",
       "      <td>077866c3fd1a75f51ca7f8eae166ae32</td>\n",
       "      <td>asap</td>\n",
       "      <td>2017-12-16 11:08:59</td>\n",
       "      <td>19.431363</td>\n",
       "      <td>-99.195362</td>\n",
       "      <td>2017-12-16 11:37:32</td>\n",
       "      <td>19.406438</td>\n",
       "      <td>-99.175260</td>\n",
       "      <td>...</td>\n",
       "      <td>5,204</td>\n",
       "      <td>0</td>\n",
       "      <td>7,943</td>\n",
       "      <td>1,058</td>\n",
       "      <td>Android</td>\n",
       "      <td>590</td>\n",
       "      <td>48</td>\n",
       "      <td>662</td>\n",
       "      <td>0</td>\n",
       "      <td>9.0</td>\n",
       "    </tr>\n",
       "    <tr>\n",
       "      <th>1</th>\n",
       "      <td>1</td>\n",
       "      <td>444b084ec64244919afadfba879876a3</td>\n",
       "      <td>077866c3fd1a75f51ca7f8eae166ae32</td>\n",
       "      <td>asap</td>\n",
       "      <td>2017-12-16 11:06:16</td>\n",
       "      <td>19.431567</td>\n",
       "      <td>-99.195368</td>\n",
       "      <td>2017-12-16 11:07:21</td>\n",
       "      <td>NaN</td>\n",
       "      <td>NaN</td>\n",
       "      <td>...</td>\n",
       "      <td>0</td>\n",
       "      <td>0</td>\n",
       "      <td>0</td>\n",
       "      <td>0</td>\n",
       "      <td>iPhone</td>\n",
       "      <td>NaN</td>\n",
       "      <td>NaN</td>\n",
       "      <td>0</td>\n",
       "      <td>0</td>\n",
       "      <td>9.0</td>\n",
       "    </tr>\n",
       "    <tr>\n",
       "      <th>2</th>\n",
       "      <td>2</td>\n",
       "      <td>dbcc57f4e7606a71c74c6e4666a977a4</td>\n",
       "      <td>077866c3fd1a75f51ca7f8eae166ae32</td>\n",
       "      <td>asap</td>\n",
       "      <td>2017-11-24 22:58:37</td>\n",
       "      <td>19.422052</td>\n",
       "      <td>-99.174499</td>\n",
       "      <td>2017-11-24 23:27:05</td>\n",
       "      <td>19.438666</td>\n",
       "      <td>-99.180821</td>\n",
       "      <td>...</td>\n",
       "      <td>3,552</td>\n",
       "      <td>0</td>\n",
       "      <td>3,054</td>\n",
       "      <td>689</td>\n",
       "      <td>Android</td>\n",
       "      <td>923</td>\n",
       "      <td>4</td>\n",
       "      <td>0</td>\n",
       "      <td>0</td>\n",
       "      <td>10.0</td>\n",
       "    </tr>\n",
       "    <tr>\n",
       "      <th>3</th>\n",
       "      <td>3</td>\n",
       "      <td>1ffe9a24033847148c683574985df56c</td>\n",
       "      <td>077866c3fd1a75f51ca7f8eae166ae32</td>\n",
       "      <td>asap</td>\n",
       "      <td>2017-12-16 09:17:08</td>\n",
       "      <td>19.433119</td>\n",
       "      <td>-99.154844</td>\n",
       "      <td>2017-12-16 09:17:30</td>\n",
       "      <td>19.290148</td>\n",
       "      <td>-99.144407</td>\n",
       "      <td>...</td>\n",
       "      <td>0</td>\n",
       "      <td>0</td>\n",
       "      <td>0</td>\n",
       "      <td>0</td>\n",
       "      <td>iPhone</td>\n",
       "      <td>NaN</td>\n",
       "      <td>NaN</td>\n",
       "      <td>0</td>\n",
       "      <td>0</td>\n",
       "      <td>9.0</td>\n",
       "    </tr>\n",
       "    <tr>\n",
       "      <th>4</th>\n",
       "      <td>4</td>\n",
       "      <td>fb1ef7d070724482a33be41f27737ea5</td>\n",
       "      <td>077866c3fd1a75f51ca7f8eae166ae32</td>\n",
       "      <td>asap</td>\n",
       "      <td>2017-11-24 18:11:00</td>\n",
       "      <td>19.440996</td>\n",
       "      <td>-99.183581</td>\n",
       "      <td>2017-11-24 18:31:31</td>\n",
       "      <td>19.422815</td>\n",
       "      <td>-99.174865</td>\n",
       "      <td>...</td>\n",
       "      <td>2,974</td>\n",
       "      <td>12</td>\n",
       "      <td>2,859</td>\n",
       "      <td>887</td>\n",
       "      <td>iPhone</td>\n",
       "      <td>329</td>\n",
       "      <td>36</td>\n",
       "      <td>0</td>\n",
       "      <td>0</td>\n",
       "      <td>8.0</td>\n",
       "    </tr>\n",
       "  </tbody>\n",
       "</table>\n",
       "<p>5 rows × 22 columns</p>\n",
       "</div>"
      ],
      "text/plain": [
       "   Unnamed: 0                        journey_id  \\\n",
       "0           0  93e6d216088af74c32183283d4bb2953   \n",
       "1           1  444b084ec64244919afadfba879876a3   \n",
       "2           2  dbcc57f4e7606a71c74c6e4666a977a4   \n",
       "3           3  1ffe9a24033847148c683574985df56c   \n",
       "4           4  fb1ef7d070724482a33be41f27737ea5   \n",
       "\n",
       "                    vehicle_type_id start_type             start_at  \\\n",
       "0  077866c3fd1a75f51ca7f8eae166ae32       asap  2017-12-16 11:08:59   \n",
       "1  077866c3fd1a75f51ca7f8eae166ae32       asap  2017-12-16 11:06:16   \n",
       "2  077866c3fd1a75f51ca7f8eae166ae32       asap  2017-11-24 22:58:37   \n",
       "3  077866c3fd1a75f51ca7f8eae166ae32       asap  2017-12-16 09:17:08   \n",
       "4  077866c3fd1a75f51ca7f8eae166ae32       asap  2017-11-24 18:11:00   \n",
       "\n",
       "   start_lat  start_lon               end_at    end_lat    end_lon  ...    \\\n",
       "0  19.431363 -99.195362  2017-12-16 11:37:32  19.406438 -99.175260  ...     \n",
       "1  19.431567 -99.195368  2017-12-16 11:07:21        NaN        NaN  ...     \n",
       "2  19.422052 -99.174499  2017-11-24 23:27:05  19.438666 -99.180821  ...     \n",
       "3  19.433119 -99.154844  2017-12-16 09:17:30  19.290148 -99.144407  ...     \n",
       "4  19.440996 -99.183581  2017-11-24 18:31:31  19.422815 -99.174865  ...     \n",
       "\n",
       "  price_distance price_duration distance duration   source rider_waiting_time  \\\n",
       "0          5,204              0    7,943    1,058  Android                590   \n",
       "1              0              0        0        0   iPhone                NaN   \n",
       "2          3,552              0    3,054      689  Android                923   \n",
       "3              0              0        0        0   iPhone                NaN   \n",
       "4          2,974             12    2,859      887   iPhone                329   \n",
       "\n",
       "  driver_waiting_time price_supplements discount rating  \n",
       "0                  48               662        0    9.0  \n",
       "1                 NaN                 0        0    9.0  \n",
       "2                   4                 0        0   10.0  \n",
       "3                 NaN                 0        0    9.0  \n",
       "4                  36                 0        0    8.0  \n",
       "\n",
       "[5 rows x 22 columns]"
      ]
     },
     "execution_count": 7,
     "metadata": {},
     "output_type": "execute_result"
    }
   ],
   "source": [
    "df.head()"
   ]
  },
  {
   "cell_type": "code",
   "execution_count": 5,
   "metadata": {},
   "outputs": [
    {
     "data": {
      "text/plain": [
       "Unnamed: 0               int64\n",
       "journey_id              object\n",
       "vehicle_type_id         object\n",
       "start_type              object\n",
       "start_at                object\n",
       "start_lat              float64\n",
       "start_lon              float64\n",
       "end_at                  object\n",
       "end_lat                float64\n",
       "end_lon                float64\n",
       "end_state               object\n",
       "price                   object\n",
       "price_distance          object\n",
       "price_duration          object\n",
       "distance                object\n",
       "duration                object\n",
       "source                  object\n",
       "rider_waiting_time      object\n",
       "driver_waiting_time     object\n",
       "price_supplements       object\n",
       "discount                object\n",
       "rating                 float64\n",
       "dtype: object"
      ]
     },
     "execution_count": 5,
     "metadata": {},
     "output_type": "execute_result"
    }
   ],
   "source": [
    "df.dtypes"
   ]
  },
  {
   "cell_type": "code",
   "execution_count": 8,
   "metadata": {},
   "outputs": [
    {
     "data": {
      "text/html": [
       "<div>\n",
       "<style scoped>\n",
       "    .dataframe tbody tr th:only-of-type {\n",
       "        vertical-align: middle;\n",
       "    }\n",
       "\n",
       "    .dataframe tbody tr th {\n",
       "        vertical-align: top;\n",
       "    }\n",
       "\n",
       "    .dataframe thead th {\n",
       "        text-align: right;\n",
       "    }\n",
       "</style>\n",
       "<table border=\"1\" class=\"dataframe\">\n",
       "  <thead>\n",
       "    <tr style=\"text-align: right;\">\n",
       "      <th></th>\n",
       "      <th>Unnamed: 0</th>\n",
       "      <th>start_lat</th>\n",
       "      <th>start_lon</th>\n",
       "      <th>end_lat</th>\n",
       "      <th>end_lon</th>\n",
       "      <th>rating</th>\n",
       "    </tr>\n",
       "  </thead>\n",
       "  <tbody>\n",
       "    <tr>\n",
       "      <th>count</th>\n",
       "      <td>3864.000000</td>\n",
       "      <td>3864.000000</td>\n",
       "      <td>3864.000000</td>\n",
       "      <td>3807.000000</td>\n",
       "      <td>3807.000000</td>\n",
       "      <td>3864.000000</td>\n",
       "    </tr>\n",
       "    <tr>\n",
       "      <th>mean</th>\n",
       "      <td>1931.500000</td>\n",
       "      <td>19.412159</td>\n",
       "      <td>-99.195443</td>\n",
       "      <td>19.410835</td>\n",
       "      <td>-99.197221</td>\n",
       "      <td>8.289596</td>\n",
       "    </tr>\n",
       "    <tr>\n",
       "      <th>std</th>\n",
       "      <td>1115.585048</td>\n",
       "      <td>0.028146</td>\n",
       "      <td>0.040832</td>\n",
       "      <td>0.030001</td>\n",
       "      <td>0.044896</td>\n",
       "      <td>1.265744</td>\n",
       "    </tr>\n",
       "    <tr>\n",
       "      <th>min</th>\n",
       "      <td>0.000000</td>\n",
       "      <td>19.290513</td>\n",
       "      <td>-99.288274</td>\n",
       "      <td>19.196463</td>\n",
       "      <td>-99.655665</td>\n",
       "      <td>4.000000</td>\n",
       "    </tr>\n",
       "    <tr>\n",
       "      <th>25%</th>\n",
       "      <td>965.750000</td>\n",
       "      <td>19.405320</td>\n",
       "      <td>-99.207814</td>\n",
       "      <td>19.379486</td>\n",
       "      <td>-99.253980</td>\n",
       "      <td>8.000000</td>\n",
       "    </tr>\n",
       "    <tr>\n",
       "      <th>50%</th>\n",
       "      <td>1931.500000</td>\n",
       "      <td>19.422749</td>\n",
       "      <td>-99.175834</td>\n",
       "      <td>19.422749</td>\n",
       "      <td>-99.178435</td>\n",
       "      <td>9.000000</td>\n",
       "    </tr>\n",
       "    <tr>\n",
       "      <th>75%</th>\n",
       "      <td>2897.250000</td>\n",
       "      <td>19.426613</td>\n",
       "      <td>-99.170483</td>\n",
       "      <td>19.429759</td>\n",
       "      <td>-99.171955</td>\n",
       "      <td>9.000000</td>\n",
       "    </tr>\n",
       "    <tr>\n",
       "      <th>max</th>\n",
       "      <td>3863.000000</td>\n",
       "      <td>19.513544</td>\n",
       "      <td>-99.051114</td>\n",
       "      <td>19.517451</td>\n",
       "      <td>-99.048817</td>\n",
       "      <td>10.000000</td>\n",
       "    </tr>\n",
       "  </tbody>\n",
       "</table>\n",
       "</div>"
      ],
      "text/plain": [
       "        Unnamed: 0    start_lat    start_lon      end_lat      end_lon  \\\n",
       "count  3864.000000  3864.000000  3864.000000  3807.000000  3807.000000   \n",
       "mean   1931.500000    19.412159   -99.195443    19.410835   -99.197221   \n",
       "std    1115.585048     0.028146     0.040832     0.030001     0.044896   \n",
       "min       0.000000    19.290513   -99.288274    19.196463   -99.655665   \n",
       "25%     965.750000    19.405320   -99.207814    19.379486   -99.253980   \n",
       "50%    1931.500000    19.422749   -99.175834    19.422749   -99.178435   \n",
       "75%    2897.250000    19.426613   -99.170483    19.429759   -99.171955   \n",
       "max    3863.000000    19.513544   -99.051114    19.517451   -99.048817   \n",
       "\n",
       "            rating  \n",
       "count  3864.000000  \n",
       "mean      8.289596  \n",
       "std       1.265744  \n",
       "min       4.000000  \n",
       "25%       8.000000  \n",
       "50%       9.000000  \n",
       "75%       9.000000  \n",
       "max      10.000000  "
      ]
     },
     "execution_count": 8,
     "metadata": {},
     "output_type": "execute_result"
    }
   ],
   "source": [
    "df.describe()"
   ]
  },
  {
   "cell_type": "code",
   "execution_count": 10,
   "metadata": {},
   "outputs": [
    {
     "data": {
      "text/plain": [
       "Index(['Unnamed: 0', 'journey_id', 'vehicle_type_id', 'start_type', 'start_at',\n",
       "       'start_lat', 'start_lon', 'end_at', 'end_lat', 'end_lon', 'end_state',\n",
       "       'price', 'price_distance', 'price_duration', 'distance', 'duration',\n",
       "       'source', 'rider_waiting_time', 'driver_waiting_time',\n",
       "       'price_supplements', 'discount', 'rating'],\n",
       "      dtype='object')"
      ]
     },
     "execution_count": 10,
     "metadata": {},
     "output_type": "execute_result"
    }
   ],
   "source": [
    "df.columns"
   ]
  },
  {
   "cell_type": "code",
   "execution_count": null,
   "metadata": {},
   "outputs": [],
   "source": [
    "df.head()"
   ]
  },
  {
   "cell_type": "code",
   "execution_count": 15,
   "metadata": {
    "scrolled": true
   },
   "outputs": [
    {
     "data": {
      "text/plain": [
       "True"
      ]
     },
     "execution_count": 15,
     "metadata": {},
     "output_type": "execute_result"
    }
   ],
   "source": [
    "all(df['Unnamed: 0'] == df.index)"
   ]
  },
  {
   "cell_type": "code",
   "execution_count": 17,
   "metadata": {},
   "outputs": [],
   "source": [
    "df.drop(columns='Unnamed: 0', inplace=True)"
   ]
  },
  {
   "cell_type": "code",
   "execution_count": 18,
   "metadata": {},
   "outputs": [
    {
     "data": {
      "text/plain": [
       "Index(['journey_id', 'vehicle_type_id', 'start_type', 'start_at', 'start_lat',\n",
       "       'start_lon', 'end_at', 'end_lat', 'end_lon', 'end_state', 'price',\n",
       "       'price_distance', 'price_duration', 'distance', 'duration', 'source',\n",
       "       'rider_waiting_time', 'driver_waiting_time', 'price_supplements',\n",
       "       'discount', 'rating'],\n",
       "      dtype='object')"
      ]
     },
     "execution_count": 18,
     "metadata": {},
     "output_type": "execute_result"
    }
   ],
   "source": [
    "df.columns"
   ]
  },
  {
   "cell_type": "code",
   "execution_count": 19,
   "metadata": {},
   "outputs": [
    {
     "data": {
      "text/plain": [
       "True"
      ]
     },
     "execution_count": 19,
     "metadata": {},
     "output_type": "execute_result"
    }
   ],
   "source": [
    "len(set(df.journey_id)) == len(df.journey_id)"
   ]
  },
  {
   "cell_type": "code",
   "execution_count": 20,
   "metadata": {},
   "outputs": [],
   "source": [
    "df.set_index('journey_id', inplace=True)"
   ]
  },
  {
   "cell_type": "code",
   "execution_count": null,
   "metadata": {},
   "outputs": [],
   "source": [
    "df.head()"
   ]
  },
  {
   "cell_type": "code",
   "execution_count": 24,
   "metadata": {},
   "outputs": [
    {
     "ename": "ValueError",
     "evalue": "('Unable to parse string \"5,866\" at position 0', 'occurred at index price')",
     "output_type": "error",
     "traceback": [
      "\u001b[0;31m---------------------------------------------------------------------------\u001b[0m",
      "\u001b[0;31mValueError\u001b[0m                                Traceback (most recent call last)",
      "\u001b[0;32mpandas/_libs/src/inference.pyx\u001b[0m in \u001b[0;36mpandas._libs.lib.maybe_convert_numeric\u001b[0;34m()\u001b[0m\n",
      "\u001b[0;31mValueError\u001b[0m: Unable to parse string \"5,866\"",
      "\nDuring handling of the above exception, another exception occurred:\n",
      "\u001b[0;31mValueError\u001b[0m                                Traceback (most recent call last)",
      "\u001b[0;32m<ipython-input-24-471b56352dcc>\u001b[0m in \u001b[0;36m<module>\u001b[0;34m\u001b[0m\n\u001b[1;32m      3\u001b[0m                 'rider_waiting_time', 'price_supplements', 'discount', 'rating']\n\u001b[1;32m      4\u001b[0m \u001b[0;34m\u001b[0m\u001b[0m\n\u001b[0;32m----> 5\u001b[0;31m \u001b[0mdf\u001b[0m\u001b[0;34m[\u001b[0m\u001b[0mnumeric_cols\u001b[0m\u001b[0;34m]\u001b[0m \u001b[0;34m=\u001b[0m \u001b[0mdf\u001b[0m\u001b[0;34m[\u001b[0m\u001b[0mnumeric_cols\u001b[0m\u001b[0;34m]\u001b[0m\u001b[0;34m.\u001b[0m\u001b[0mapply\u001b[0m\u001b[0;34m(\u001b[0m\u001b[0mpd\u001b[0m\u001b[0;34m.\u001b[0m\u001b[0mto_numeric\u001b[0m\u001b[0;34m)\u001b[0m\u001b[0;34m\u001b[0m\u001b[0;34m\u001b[0m\u001b[0m\n\u001b[0m\u001b[1;32m      6\u001b[0m \u001b[0mdf\u001b[0m\u001b[0;34m.\u001b[0m\u001b[0mdtypes\u001b[0m\u001b[0;34m\u001b[0m\u001b[0;34m\u001b[0m\u001b[0m\n",
      "\u001b[0;32m~/.local/lib/python3.6/site-packages/pandas/core/frame.py\u001b[0m in \u001b[0;36mapply\u001b[0;34m(self, func, axis, broadcast, raw, reduce, result_type, args, **kwds)\u001b[0m\n\u001b[1;32m   6012\u001b[0m                          \u001b[0margs\u001b[0m\u001b[0;34m=\u001b[0m\u001b[0margs\u001b[0m\u001b[0;34m,\u001b[0m\u001b[0;34m\u001b[0m\u001b[0;34m\u001b[0m\u001b[0m\n\u001b[1;32m   6013\u001b[0m                          kwds=kwds)\n\u001b[0;32m-> 6014\u001b[0;31m         \u001b[0;32mreturn\u001b[0m \u001b[0mop\u001b[0m\u001b[0;34m.\u001b[0m\u001b[0mget_result\u001b[0m\u001b[0;34m(\u001b[0m\u001b[0;34m)\u001b[0m\u001b[0;34m\u001b[0m\u001b[0;34m\u001b[0m\u001b[0m\n\u001b[0m\u001b[1;32m   6015\u001b[0m \u001b[0;34m\u001b[0m\u001b[0m\n\u001b[1;32m   6016\u001b[0m     \u001b[0;32mdef\u001b[0m \u001b[0mapplymap\u001b[0m\u001b[0;34m(\u001b[0m\u001b[0mself\u001b[0m\u001b[0;34m,\u001b[0m \u001b[0mfunc\u001b[0m\u001b[0;34m)\u001b[0m\u001b[0;34m:\u001b[0m\u001b[0;34m\u001b[0m\u001b[0;34m\u001b[0m\u001b[0m\n",
      "\u001b[0;32m~/.local/lib/python3.6/site-packages/pandas/core/apply.py\u001b[0m in \u001b[0;36mget_result\u001b[0;34m(self)\u001b[0m\n\u001b[1;32m    316\u001b[0m                                       *self.args, **self.kwds)\n\u001b[1;32m    317\u001b[0m \u001b[0;34m\u001b[0m\u001b[0m\n\u001b[0;32m--> 318\u001b[0;31m         \u001b[0;32mreturn\u001b[0m \u001b[0msuper\u001b[0m\u001b[0;34m(\u001b[0m\u001b[0mFrameRowApply\u001b[0m\u001b[0;34m,\u001b[0m \u001b[0mself\u001b[0m\u001b[0;34m)\u001b[0m\u001b[0;34m.\u001b[0m\u001b[0mget_result\u001b[0m\u001b[0;34m(\u001b[0m\u001b[0;34m)\u001b[0m\u001b[0;34m\u001b[0m\u001b[0;34m\u001b[0m\u001b[0m\n\u001b[0m\u001b[1;32m    319\u001b[0m \u001b[0;34m\u001b[0m\u001b[0m\n\u001b[1;32m    320\u001b[0m     \u001b[0;32mdef\u001b[0m \u001b[0mapply_broadcast\u001b[0m\u001b[0;34m(\u001b[0m\u001b[0mself\u001b[0m\u001b[0;34m)\u001b[0m\u001b[0;34m:\u001b[0m\u001b[0;34m\u001b[0m\u001b[0;34m\u001b[0m\u001b[0m\n",
      "\u001b[0;32m~/.local/lib/python3.6/site-packages/pandas/core/apply.py\u001b[0m in \u001b[0;36mget_result\u001b[0;34m(self)\u001b[0m\n\u001b[1;32m    140\u001b[0m             \u001b[0;32mreturn\u001b[0m \u001b[0mself\u001b[0m\u001b[0;34m.\u001b[0m\u001b[0mapply_raw\u001b[0m\u001b[0;34m(\u001b[0m\u001b[0;34m)\u001b[0m\u001b[0;34m\u001b[0m\u001b[0;34m\u001b[0m\u001b[0m\n\u001b[1;32m    141\u001b[0m \u001b[0;34m\u001b[0m\u001b[0m\n\u001b[0;32m--> 142\u001b[0;31m         \u001b[0;32mreturn\u001b[0m \u001b[0mself\u001b[0m\u001b[0;34m.\u001b[0m\u001b[0mapply_standard\u001b[0m\u001b[0;34m(\u001b[0m\u001b[0;34m)\u001b[0m\u001b[0;34m\u001b[0m\u001b[0;34m\u001b[0m\u001b[0m\n\u001b[0m\u001b[1;32m    143\u001b[0m \u001b[0;34m\u001b[0m\u001b[0m\n\u001b[1;32m    144\u001b[0m     \u001b[0;32mdef\u001b[0m \u001b[0mapply_empty_result\u001b[0m\u001b[0;34m(\u001b[0m\u001b[0mself\u001b[0m\u001b[0;34m)\u001b[0m\u001b[0;34m:\u001b[0m\u001b[0;34m\u001b[0m\u001b[0;34m\u001b[0m\u001b[0m\n",
      "\u001b[0;32m~/.local/lib/python3.6/site-packages/pandas/core/apply.py\u001b[0m in \u001b[0;36mapply_standard\u001b[0;34m(self)\u001b[0m\n\u001b[1;32m    246\u001b[0m \u001b[0;34m\u001b[0m\u001b[0m\n\u001b[1;32m    247\u001b[0m         \u001b[0;31m# compute the result using the series generator\u001b[0m\u001b[0;34m\u001b[0m\u001b[0;34m\u001b[0m\u001b[0;34m\u001b[0m\u001b[0m\n\u001b[0;32m--> 248\u001b[0;31m         \u001b[0mself\u001b[0m\u001b[0;34m.\u001b[0m\u001b[0mapply_series_generator\u001b[0m\u001b[0;34m(\u001b[0m\u001b[0;34m)\u001b[0m\u001b[0;34m\u001b[0m\u001b[0;34m\u001b[0m\u001b[0m\n\u001b[0m\u001b[1;32m    249\u001b[0m \u001b[0;34m\u001b[0m\u001b[0m\n\u001b[1;32m    250\u001b[0m         \u001b[0;31m# wrap results\u001b[0m\u001b[0;34m\u001b[0m\u001b[0;34m\u001b[0m\u001b[0;34m\u001b[0m\u001b[0m\n",
      "\u001b[0;32m~/.local/lib/python3.6/site-packages/pandas/core/apply.py\u001b[0m in \u001b[0;36mapply_series_generator\u001b[0;34m(self)\u001b[0m\n\u001b[1;32m    275\u001b[0m             \u001b[0;32mtry\u001b[0m\u001b[0;34m:\u001b[0m\u001b[0;34m\u001b[0m\u001b[0;34m\u001b[0m\u001b[0m\n\u001b[1;32m    276\u001b[0m                 \u001b[0;32mfor\u001b[0m \u001b[0mi\u001b[0m\u001b[0;34m,\u001b[0m \u001b[0mv\u001b[0m \u001b[0;32min\u001b[0m \u001b[0menumerate\u001b[0m\u001b[0;34m(\u001b[0m\u001b[0mseries_gen\u001b[0m\u001b[0;34m)\u001b[0m\u001b[0;34m:\u001b[0m\u001b[0;34m\u001b[0m\u001b[0;34m\u001b[0m\u001b[0m\n\u001b[0;32m--> 277\u001b[0;31m                     \u001b[0mresults\u001b[0m\u001b[0;34m[\u001b[0m\u001b[0mi\u001b[0m\u001b[0;34m]\u001b[0m \u001b[0;34m=\u001b[0m \u001b[0mself\u001b[0m\u001b[0;34m.\u001b[0m\u001b[0mf\u001b[0m\u001b[0;34m(\u001b[0m\u001b[0mv\u001b[0m\u001b[0;34m)\u001b[0m\u001b[0;34m\u001b[0m\u001b[0;34m\u001b[0m\u001b[0m\n\u001b[0m\u001b[1;32m    278\u001b[0m                     \u001b[0mkeys\u001b[0m\u001b[0;34m.\u001b[0m\u001b[0mappend\u001b[0m\u001b[0;34m(\u001b[0m\u001b[0mv\u001b[0m\u001b[0;34m.\u001b[0m\u001b[0mname\u001b[0m\u001b[0;34m)\u001b[0m\u001b[0;34m\u001b[0m\u001b[0;34m\u001b[0m\u001b[0m\n\u001b[1;32m    279\u001b[0m             \u001b[0;32mexcept\u001b[0m \u001b[0mException\u001b[0m \u001b[0;32mas\u001b[0m \u001b[0me\u001b[0m\u001b[0;34m:\u001b[0m\u001b[0;34m\u001b[0m\u001b[0;34m\u001b[0m\u001b[0m\n",
      "\u001b[0;32m~/.local/lib/python3.6/site-packages/pandas/core/tools/numeric.py\u001b[0m in \u001b[0;36mto_numeric\u001b[0;34m(arg, errors, downcast)\u001b[0m\n\u001b[1;32m    131\u001b[0m             \u001b[0mcoerce_numeric\u001b[0m \u001b[0;34m=\u001b[0m \u001b[0;32mFalse\u001b[0m \u001b[0;32mif\u001b[0m \u001b[0merrors\u001b[0m \u001b[0;32min\u001b[0m \u001b[0;34m(\u001b[0m\u001b[0;34m'ignore'\u001b[0m\u001b[0;34m,\u001b[0m \u001b[0;34m'raise'\u001b[0m\u001b[0;34m)\u001b[0m \u001b[0;32melse\u001b[0m \u001b[0;32mTrue\u001b[0m\u001b[0;34m\u001b[0m\u001b[0;34m\u001b[0m\u001b[0m\n\u001b[1;32m    132\u001b[0m             values = lib.maybe_convert_numeric(values, set(),\n\u001b[0;32m--> 133\u001b[0;31m                                                coerce_numeric=coerce_numeric)\n\u001b[0m\u001b[1;32m    134\u001b[0m \u001b[0;34m\u001b[0m\u001b[0m\n\u001b[1;32m    135\u001b[0m     \u001b[0;32mexcept\u001b[0m \u001b[0mException\u001b[0m\u001b[0;34m:\u001b[0m\u001b[0;34m\u001b[0m\u001b[0;34m\u001b[0m\u001b[0m\n",
      "\u001b[0;32mpandas/_libs/src/inference.pyx\u001b[0m in \u001b[0;36mpandas._libs.lib.maybe_convert_numeric\u001b[0;34m()\u001b[0m\n",
      "\u001b[0;31mValueError\u001b[0m: ('Unable to parse string \"5,866\" at position 0', 'occurred at index price')"
     ]
    }
   ],
   "source": [
    "numeric_cols = ['start_lat', 'start_lon', 'end_lat', 'end_lon', 'price', \n",
    "                'price_duration', 'distance', 'duration', \n",
    "                'rider_waiting_time', 'price_supplements', 'discount', 'rating']\n",
    "\n",
    "df[numeric_cols] = df[numeric_cols].apply(pd.to_numeric)\n",
    "df.dtypes"
   ]
  },
  {
   "cell_type": "code",
   "execution_count": null,
   "metadata": {},
   "outputs": [],
   "source": []
  }
 ],
 "metadata": {
  "kernelspec": {
   "display_name": "Python 3",
   "language": "python",
   "name": "python3"
  },
  "language_info": {
   "codemirror_mode": {
    "name": "ipython",
    "version": 3
   },
   "file_extension": ".py",
   "mimetype": "text/x-python",
   "name": "python",
   "nbconvert_exporter": "python",
   "pygments_lexer": "ipython3",
   "version": "3.6.8"
  }
 },
 "nbformat": 4,
 "nbformat_minor": 2
}
