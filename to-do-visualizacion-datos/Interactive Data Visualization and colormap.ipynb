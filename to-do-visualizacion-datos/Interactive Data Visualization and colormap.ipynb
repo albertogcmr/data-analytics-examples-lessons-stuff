{
 "cells": [
  {
   "cell_type": "markdown",
   "metadata": {},
   "source": [
    "# Plotly. Gráficos interactivos"
   ]
  },
  {
   "cell_type": "code",
   "execution_count": null,
   "metadata": {},
   "outputs": [],
   "source": [
    "# imports\n",
    "\n",
    "import plotly.plotly as py\n",
    "import matplotlib.pyplot as plt\n",
    "import cufflinks as cf\n",
    "import pandas as pd\n",
    "import numpy as np\n",
    "\n",
    "cf.go_offline()"
   ]
  },
  {
   "cell_type": "code",
   "execution_count": null,
   "metadata": {},
   "outputs": [],
   "source": [
    "df = pd.read_csv('churn.csv')\n",
    "df.head()"
   ]
  },
  {
   "cell_type": "code",
   "execution_count": null,
   "metadata": {},
   "outputs": [],
   "source": [
    "df.columns"
   ]
  },
  {
   "cell_type": "code",
   "execution_count": null,
   "metadata": {},
   "outputs": [],
   "source": [
    "data = df['TotalCharges']\n",
    "type(data)"
   ]
  },
  {
   "cell_type": "code",
   "execution_count": null,
   "metadata": {},
   "outputs": [],
   "source": [
    "data.iplot(kind='hist', xTitle='Total Charges', yTitle='Count', \n",
    "           title='Total Charges Distribution')\n",
    "\n",
    "# pasa el ratón por las barras"
   ]
  },
  {
   "cell_type": "code",
   "execution_count": null,
   "metadata": {},
   "outputs": [],
   "source": [
    "data = df.pivot_table(values='MonthlyCharges', columns='InternetService', \n",
    "                      index='customerID', aggfunc='sum')\n",
    "\n",
    "data.head()"
   ]
  },
  {
   "cell_type": "code",
   "execution_count": null,
   "metadata": {},
   "outputs": [],
   "source": [
    "data.iplot(kind='hist', histnorm='percent', xTitle='Value', \n",
    "           yTitle='Percent', title='Monthly Charge by Internet Service') # , subplots=True)\n",
    "\n",
    "# se puede mostrar/ocultar elementos haciendo clic en leyenda"
   ]
  },
  {
   "cell_type": "code",
   "execution_count": null,
   "metadata": {},
   "outputs": [],
   "source": [
    "data = df.pivot_table(values='MonthlyCharges', columns='PaymentMethod', index='customerID', aggfunc='sum')\n",
    "data.head(10)"
   ]
  },
  {
   "cell_type": "code",
   "execution_count": null,
   "metadata": {},
   "outputs": [],
   "source": [
    "data = df.pivot_table(values='MonthlyCharges', columns='PaymentMethod', index='customerID', aggfunc='sum')"
   ]
  },
  {
   "cell_type": "code",
   "execution_count": null,
   "metadata": {},
   "outputs": [],
   "source": [
    "data.iplot(kind='hist', histnorm='percent', xTitle='Value', subplots=True,\n",
    "yTitle='Percent', title='Monthly Charge by Payment Method')\n",
    "\n",
    "# Subplots = True/False"
   ]
  },
  {
   "cell_type": "code",
   "execution_count": null,
   "metadata": {},
   "outputs": [],
   "source": [
    "data.iplot(kind='hist', histnorm='percent', xTitle='Value', subplots=False,\n",
    "yTitle='Percent', title='Monthly Charge by Payment Method')"
   ]
  },
  {
   "cell_type": "code",
   "execution_count": null,
   "metadata": {},
   "outputs": [],
   "source": [
    "data = df.groupby('PaymentMethod', as_index=False).agg({'ChurnBinary':'mean'})\n",
    "\n",
    "data.iplot(kind='bar', x='PaymentMethod', xTitle='Payment Method', color='green',\n",
    "           yTitle='Avg. Churn %', title='Avg. Churn Rate by Payment Method')"
   ]
  },
  {
   "cell_type": "code",
   "execution_count": null,
   "metadata": {},
   "outputs": [],
   "source": [
    "gender = df.pivot_table(values='MonthlyCharges', columns='gender', \n",
    "                        index='TenureLevel', aggfunc='mean')\n",
    "\n",
    "senior = df.pivot_table(values='MonthlyCharges', columns='SeniorCitizen', \n",
    "                        index='TenureLevel', aggfunc='mean')\n",
    "\n",
    "partner = df.pivot_table(values='MonthlyCharges', columns='Partner', \n",
    "                         index='TenureLevel', aggfunc='mean')"
   ]
  },
  {
   "cell_type": "code",
   "execution_count": null,
   "metadata": {},
   "outputs": [],
   "source": [
    "gender.head()"
   ]
  },
  {
   "cell_type": "code",
   "execution_count": null,
   "metadata": {},
   "outputs": [],
   "source": [
    "data = pd.concat([gender, senior, partner], axis=1)\n",
    "data.columns = ['Female', 'Male', 'NonSenior', 'Senior', 'Single', 'Partner']\n",
    "data = data.reset_index()\n",
    "\n",
    "custom_dict = {'New': 0, 'Regular': 1, 'Loyal': 2, 'Very Loyal' : 3}  \n",
    "data = data.iloc[data['TenureLevel'].map(custom_dict).argsort()]"
   ]
  },
  {
   "cell_type": "code",
   "execution_count": null,
   "metadata": {},
   "outputs": [],
   "source": [
    "data.iplot(kind='bar', x='TenureLevel', xTitle='Tenure Level', \n",
    "           yTitle='Avg. Monthly Charge', title='Avg. Monthly Charge by Demographics')\n"
   ]
  },
  {
   "cell_type": "code",
   "execution_count": null,
   "metadata": {},
   "outputs": [],
   "source": [
    "data.head()"
   ]
  },
  {
   "cell_type": "code",
   "execution_count": null,
   "metadata": {},
   "outputs": [],
   "source": [
    "data = df.groupby('tenure', as_index=False).agg({'ChurnBinary':'mean'})\n",
    "\n",
    "data.iplot(kind='line', x='tenure', xTitle='Tenure', color='blue',\n",
    "           yTitle='Avg. Churn Rate', title='Avg. Churn Rate by Tenure')"
   ]
  },
  {
   "cell_type": "code",
   "execution_count": null,
   "metadata": {},
   "outputs": [],
   "source": [
    "gender = df.pivot_table(values='ChurnBinary', columns='gender', \n",
    "                        index='tenure', aggfunc='mean')\n",
    "\n",
    "senior = df.pivot_table(values='ChurnBinary', columns='SeniorCitizen', \n",
    "                        index='tenure', aggfunc='mean')\n",
    "\n",
    "partner = df.pivot_table(values='ChurnBinary', columns='Partner', \n",
    "                         index='tenure', aggfunc='mean')\n",
    "\n",
    "data = pd.concat([gender, senior, partner], axis=1)\n",
    "data.columns = ['Female', 'Male', 'NonSenior', 'Senior', 'Single', 'Partner']\n",
    "data = data.reset_index()"
   ]
  },
  {
   "cell_type": "code",
   "execution_count": null,
   "metadata": {},
   "outputs": [],
   "source": [
    "data.head(10)"
   ]
  },
  {
   "cell_type": "code",
   "execution_count": null,
   "metadata": {},
   "outputs": [],
   "source": [
    "data.iplot(kind='line', x='tenure', xTitle='Tenure', \n",
    "           yTitle='Avg. Churn Rate', title='Avg. Churn Rate by Demographics')"
   ]
  },
  {
   "cell_type": "code",
   "execution_count": null,
   "metadata": {},
   "outputs": [],
   "source": [
    "data = df[(df['Contract']=='One year') & (df['PaymentMethod']=='Credit card (automatic)')]\n",
    "data.head()"
   ]
  },
  {
   "cell_type": "code",
   "execution_count": null,
   "metadata": {},
   "outputs": [],
   "source": [
    "data[['tenure', 'TotalCharges', 'InternetService']].head()"
   ]
  },
  {
   "cell_type": "code",
   "execution_count": null,
   "metadata": {},
   "outputs": [],
   "source": [
    "data.iplot(x='tenure', y='TotalCharges', categories='InternetService',\n",
    "           xTitle='Tenure', yTitle='Total Charges',\n",
    "           title='Charges vs. Tenure: One Year Contract, Credit Card Customers')"
   ]
  },
  {
   "cell_type": "code",
   "execution_count": null,
   "metadata": {},
   "outputs": [],
   "source": [
    "data = data[data['PhoneService']=='No']\n",
    "\n",
    "data.iplot(kind='bubble', x='tenure', y='MonthlyCharges', size='TotalCharges',\n",
    "           categories='gender', xTitle='Tenure', yTitle='Total Charges',\n",
    "           title='Charges vs. Tenure: One Year Contract, Credit Card Customers')\n"
   ]
  },
  {
   "cell_type": "code",
   "execution_count": null,
   "metadata": {},
   "outputs": [],
   "source": [
    "data = df.pivot_table(values='ChurnBinary', columns='MonthLevel', \n",
    "                      index='tenure', aggfunc='mean')\n",
    "data.iplot(kind='heatmap', colorscale='YlOrRd', xTitle='Tenure', \n",
    "           yTitle='Month Level', title='Avg. Churn Rates by Month Level & Tenure')"
   ]
  },
  {
   "cell_type": "markdown",
   "metadata": {},
   "source": [
    "# Improving Plot Aesthetics"
   ]
  },
  {
   "cell_type": "code",
   "execution_count": null,
   "metadata": {},
   "outputs": [],
   "source": [
    "vehicles = pd.read_csv('vehicles.csv')\n"
   ]
  },
  {
   "cell_type": "code",
   "execution_count": null,
   "metadata": {},
   "outputs": [],
   "source": [
    "vehicles['Drivetrain'].value_counts().plot(kind=\"bar\", title=\"Count of Vehicles by Type of Drivetrain\", figsize=(10, 2), legend=True)"
   ]
  },
  {
   "cell_type": "code",
   "execution_count": null,
   "metadata": {},
   "outputs": [],
   "source": [
    "vehicles.Drivetrain.nunique()"
   ]
  },
  {
   "cell_type": "code",
   "execution_count": null,
   "metadata": {},
   "outputs": [],
   "source": [
    "x = np.arange(vehicles.Drivetrain.nunique())"
   ]
  },
  {
   "cell_type": "code",
   "execution_count": null,
   "metadata": {},
   "outputs": [],
   "source": [
    "x = plt.cm.tab20b(x) # errata en la learning unit\n",
    "x"
   ]
  },
  {
   "cell_type": "code",
   "execution_count": null,
   "metadata": {},
   "outputs": [],
   "source": [
    "vehicles['Drivetrain'].value_counts().plot(kind=\"bar\", color=x)"
   ]
  },
  {
   "cell_type": "code",
   "execution_count": null,
   "metadata": {},
   "outputs": [],
   "source": [
    "x[0][3] = 0.4 # bajamos la solidez de la primera barra"
   ]
  },
  {
   "cell_type": "code",
   "execution_count": null,
   "metadata": {},
   "outputs": [],
   "source": [
    "vehicles['Drivetrain'].value_counts().plot(kind=\"bar\", color=x)"
   ]
  },
  {
   "cell_type": "code",
   "execution_count": null,
   "metadata": {},
   "outputs": [],
   "source": [
    "vehicles.plot.scatter(x=\"CO2 Emission Grams/Mile\", y=\"Fuel Barrels/Year\")"
   ]
  },
  {
   "cell_type": "code",
   "execution_count": null,
   "metadata": {},
   "outputs": [],
   "source": [
    "vehicles.plot.scatter(x=\"CO2 Emission Grams/Mile\", \n",
    "                      y=\"Fuel Barrels/Year\", \n",
    "                      alpha=0.05, \n",
    "                      grid=True)"
   ]
  },
  {
   "cell_type": "code",
   "execution_count": null,
   "metadata": {},
   "outputs": [],
   "source": []
  }
 ],
 "metadata": {
  "kernelspec": {
   "display_name": "Python 3",
   "language": "python",
   "name": "python3"
  },
  "language_info": {
   "codemirror_mode": {
    "name": "ipython",
    "version": 3
   },
   "file_extension": ".py",
   "mimetype": "text/x-python",
   "name": "python",
   "nbconvert_exporter": "python",
   "pygments_lexer": "ipython3",
   "version": "3.6.7"
  }
 },
 "nbformat": 4,
 "nbformat_minor": 2
}
