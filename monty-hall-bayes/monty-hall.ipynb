{
 "cells": [
  {
   "cell_type": "code",
   "execution_count": 1,
   "metadata": {},
   "outputs": [],
   "source": [
    "# monty all simulation\n",
    "\n",
    "#import\n",
    "import random\n",
    "\n",
    "#variables\n",
    "SIMULACIONES = 1000\n",
    "\n",
    "\n",
    "def concurso(): \n",
    "    \"\"\" Iniciamos el escenario \"\"\"\n",
    "    puertas = {1: 'cabra', 2: 'cabra', 3: 'cabra'}\n",
    "    coche = random.choice([1,2,3])\n",
    "    puertas[coche] = 'coche'\n",
    "    return puertas\n",
    "\n",
    "\n",
    "def abre_puerta_cabra(game, player): \n",
    "    \"\"\" Monty abre una puerta que no contiene el premio \"\"\"\n",
    "    opciones = [puerta for puerta, objeto in game.items() if objeto == 'cabra' and puerta != player]\n",
    "    return random.choice(opciones)\n",
    "\n",
    "\n",
    "def primera_ronda(): \n",
    "    game = concurso()\n",
    "    player = random.choice([1,2,3])\n",
    "    puerta_abierta = abre_puerta_cabra(game, player)\n",
    "    return game, player, puerta_abierta\n",
    "\n",
    "\n",
    "def segunda_ronda(game, player, puerta_abierta, change=True): \n",
    "    if not change: \n",
    "        return game.get(player)\n",
    "    else: \n",
    "        player = [puerta for puerta in game.keys() if puerta != player and puerta != puerta_abierta][0]\n",
    "        return game.get(player)\n",
    "    \n",
    "\n",
    "def results(n=1000, change=True): \n",
    "    wins = []\n",
    "    for x in range(n): \n",
    "        game, player, puerta_abierta = primera_ronda()\n",
    "        if 'coche' == segunda_ronda(game, player, puerta_abierta, change): \n",
    "            wins.append(True)\n",
    "        else: \n",
    "            wins.append(False)\n",
    "    return wins\n",
    "   \n",
    "    \n",
    "def recount(wins): \n",
    "    return sum(wins)/len(wins)\n"
   ]
  },
  {
   "cell_type": "code",
   "execution_count": 2,
   "metadata": {},
   "outputs": [
    {
     "name": "stdout",
     "output_type": "stream",
     "text": [
      "0.655\n",
      "0.335\n"
     ]
    }
   ],
   "source": [
    "# Simulación del concurso cambiando\n",
    "\n",
    "seq = results(n=SIMULACIONES, change=True)\n",
    "wins = recount(seq)\n",
    "print(wins)\n",
    "\n",
    "# Simulación del concurso SIN cambiar\n",
    "\n",
    "seq = results(n=SIMULACIONES, change=False)\n",
    "wins = recount(seq)\n",
    "print(wins)\n"
   ]
  },
  {
   "cell_type": "code",
   "execution_count": null,
   "metadata": {},
   "outputs": [],
   "source": []
  }
 ],
 "metadata": {
  "kernelspec": {
   "display_name": "Python 3",
   "language": "python",
   "name": "python3"
  },
  "language_info": {
   "codemirror_mode": {
    "name": "ipython",
    "version": 3
   },
   "file_extension": ".py",
   "mimetype": "text/x-python",
   "name": "python",
   "nbconvert_exporter": "python",
   "pygments_lexer": "ipython3",
   "version": "3.6.8"
  }
 },
 "nbformat": 4,
 "nbformat_minor": 2
}
