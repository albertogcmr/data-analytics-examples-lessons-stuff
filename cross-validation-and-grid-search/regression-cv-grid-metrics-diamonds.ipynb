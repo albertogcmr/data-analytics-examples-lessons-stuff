{
 "cells": [
  {
   "cell_type": "code",
   "execution_count": null,
   "metadata": {},
   "outputs": [],
   "source": [
    "# sobre el dataset de la competición de kaggle de diamantes de méxico\n",
    "\n",
    "# https://www.kaggle.com/c/datamex0719\n",
    "# Supervised Learning Model Evaluation: http://learn.ironhack.com/#/learning_unit/7800\n",
    "\n",
    "# imports\n",
    "import pandas as pd\n",
    "from sklearn.model_selection import train_test_split\n",
    "from sklearn.ensemble import RandomForestRegressor\n",
    "import pandas_profiling\n",
    "\n",
    "# read CSV\n",
    "df = pd.read_csv('data/diamonds_train.csv')\n",
    "# df.profile_report(style={'full_width':True})\n",
    "df.head(10)"
   ]
  },
  {
   "cell_type": "code",
   "execution_count": null,
   "metadata": {},
   "outputs": [],
   "source": [
    "df.color.unique()"
   ]
  },
  {
   "cell_type": "code",
   "execution_count": null,
   "metadata": {},
   "outputs": [],
   "source": [
    "# Analize\n",
    "\n",
    "df.dtypes"
   ]
  },
  {
   "cell_type": "code",
   "execution_count": null,
   "metadata": {},
   "outputs": [],
   "source": [
    "# Transformation: Label encoding\n",
    "\n",
    "from sklearn.preprocessing import LabelEncoder\n",
    "\n",
    "labelencoder = LabelEncoder()\n",
    "\n",
    "for col in ('clarity', 'color'): \n",
    "    # se le debe pasar un dict al labelencoder\n",
    "    df[col] = labelencoder.fit_transform(df[col])   \n",
    "\n",
    "df.head(10)"
   ]
  },
  {
   "cell_type": "code",
   "execution_count": null,
   "metadata": {},
   "outputs": [],
   "source": [
    "# Transformation: One hot encoding\n",
    "\n",
    "# from sklearn.preprocessing import OneHotEncoder\n",
    "# ohe = OneHotEncoder(handle_unknown='ignore')\n",
    "\n",
    "df = pd.get_dummies(df, prefix='cut', columns=['cut'], drop_first=True)  \n",
    "df.head()"
   ]
  },
  {
   "cell_type": "code",
   "execution_count": null,
   "metadata": {},
   "outputs": [],
   "source": [
    "df.dtypes"
   ]
  },
  {
   "cell_type": "code",
   "execution_count": null,
   "metadata": {},
   "outputs": [],
   "source": [
    "target_col = 'price'\n",
    "X = df[[col for col in df.columns if col != target_col]]\n",
    "y = df[target_col]\n",
    "\n",
    "X.shape, y.shape"
   ]
  },
  {
   "cell_type": "code",
   "execution_count": null,
   "metadata": {},
   "outputs": [],
   "source": [
    "# split: https://scikit-learn.org/stable/modules/generated/sklearn.model_selection.train_test_split.html\n",
    "\n",
    "SIZE_PERC = 0.2\n",
    "STATE = 42\n",
    "X_train, X_test, y_train, y_test = train_test_split(X, y, test_size=SIZE_PERC, random_state=STATE)"
   ]
  },
  {
   "cell_type": "code",
   "execution_count": null,
   "metadata": {},
   "outputs": [],
   "source": [
    "regr = RandomForestRegressor()\n",
    "regr"
   ]
  },
  {
   "cell_type": "code",
   "execution_count": null,
   "metadata": {},
   "outputs": [],
   "source": [
    "regr = RandomForestRegressor()\n",
    "param_grid = {\n",
    "    'n_estimators': [20, 10], # buen valor\n",
    "    # 'n_estimators': [600], # mal valor\n",
    "    'min_samples_split': [2],\n",
    "    'min_samples_leaf': [4],\n",
    "    # 'max_depth': [5, 10]\n",
    "    'max_depth': [5]\n",
    "}\n",
    "\n",
    "from sklearn.model_selection import GridSearchCV\n",
    "\n",
    "grid_search = GridSearchCV(estimator=regr, param_grid=param_grid, cv=5, verbose=2)\n",
    "grid_search.fit(X_train, y_train)\n",
    "# grid_search.fit(X, y)"
   ]
  },
  {
   "cell_type": "code",
   "execution_count": null,
   "metadata": {},
   "outputs": [],
   "source": [
    "best = grid_search.best_estimator_ # .fit(X_train, y_train)\n",
    "best"
   ]
  },
  {
   "cell_type": "code",
   "execution_count": null,
   "metadata": {},
   "outputs": [],
   "source": [
    "# y_pred = grid_search.best_estimator_.predict(X_test)\n",
    "# y_pred = grid_search.best_estimator_.predict(X_test)\n",
    "y_pred = grid_search.best_estimator_.predict(X_test)\n",
    "\n",
    "y_pred"
   ]
  },
  {
   "cell_type": "code",
   "execution_count": null,
   "metadata": {},
   "outputs": [],
   "source": [
    "# X_test"
   ]
  },
  {
   "cell_type": "code",
   "execution_count": null,
   "metadata": {},
   "outputs": [],
   "source": [
    "y_pred"
   ]
  },
  {
   "cell_type": "code",
   "execution_count": null,
   "metadata": {},
   "outputs": [],
   "source": [
    "# r2 score\n",
    "\n",
    "from sklearn.metrics import r2_score\n",
    "\n",
    "score = r2_score(y_test, y_pred)\n",
    "score"
   ]
  },
  {
   "cell_type": "code",
   "execution_count": null,
   "metadata": {},
   "outputs": [],
   "source": [
    "# mean square error\n",
    "\n",
    "from sklearn.metrics import mean_squared_error\n",
    "\n",
    "score = mean_squared_error(y_test, y_pred)\n",
    "score"
   ]
  },
  {
   "cell_type": "code",
   "execution_count": null,
   "metadata": {},
   "outputs": [],
   "source": [
    "# mean_absolute_error\n",
    "\n",
    "from sklearn.metrics import mean_absolute_error\n",
    "\n",
    "score = mean_absolute_error(y_test, y_pred)\n",
    "score"
   ]
  },
  {
   "cell_type": "code",
   "execution_count": null,
   "metadata": {},
   "outputs": [],
   "source": [
    "# ahora creamos la submission \n",
    "\n",
    "# read CSV\n",
    "df = pd.read_csv('data/diamonds_test.csv')\n",
    "df.head(10)"
   ]
  },
  {
   "cell_type": "code",
   "execution_count": null,
   "metadata": {},
   "outputs": [],
   "source": [
    "# Transformation: Label encoding\n",
    "\n",
    "from sklearn.preprocessing import LabelEncoder\n",
    "\n",
    "labelencoder = LabelEncoder()\n",
    "\n",
    "for col in ('clarity', 'color'): \n",
    "    # se le debe pasar un dict al labelencoder\n",
    "    df[col] = labelencoder.fit_transform(df[col])   \n",
    "\n",
    "df.head(10)"
   ]
  },
  {
   "cell_type": "code",
   "execution_count": null,
   "metadata": {},
   "outputs": [],
   "source": [
    "# Transformation: One hot encoding\n",
    "\n",
    "# from sklearn.preprocessing import OneHotEncoder\n",
    "# ohe = OneHotEncoder(handle_unknown='ignore')\n",
    "\n",
    "df = pd.get_dummies(df, prefix='cut', columns=['cut'], drop_first=True)  \n",
    "df.head()"
   ]
  },
  {
   "cell_type": "code",
   "execution_count": null,
   "metadata": {},
   "outputs": [],
   "source": [
    "X = df.drop(columns='id')\n",
    "\n",
    "y_pred = grid_search.best_estimator_.predict(X)"
   ]
  },
  {
   "cell_type": "code",
   "execution_count": null,
   "metadata": {},
   "outputs": [],
   "source": [
    "y_pred"
   ]
  },
  {
   "cell_type": "code",
   "execution_count": null,
   "metadata": {},
   "outputs": [],
   "source": [
    "#ahora creamos la submission\n",
    "\n",
    "df_sub = df[['id']]\n",
    "df_sub['price'] = y_pred\n",
    "df_sub.head()"
   ]
  },
  {
   "cell_type": "code",
   "execution_count": null,
   "metadata": {},
   "outputs": [],
   "source": [
    "# salvamos\n",
    "\n",
    "df_sub.to_csv('submission-example.csv', index=False)"
   ]
  },
  {
   "cell_type": "code",
   "execution_count": null,
   "metadata": {},
   "outputs": [],
   "source": []
  }
 ],
 "metadata": {
  "kernelspec": {
   "display_name": "Python 3",
   "language": "python",
   "name": "python3"
  },
  "language_info": {
   "codemirror_mode": {
    "name": "ipython",
    "version": 3
   },
   "file_extension": ".py",
   "mimetype": "text/x-python",
   "name": "python",
   "nbconvert_exporter": "python",
   "pygments_lexer": "ipython3",
   "version": "3.6.8"
  }
 },
 "nbformat": 4,
 "nbformat_minor": 2
}
