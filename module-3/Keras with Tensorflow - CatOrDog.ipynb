{
 "cells": [
  {
   "cell_type": "code",
   "execution_count": null,
   "metadata": {},
   "outputs": [],
   "source": [
    "!pip3 install keras\n",
    "!pip3 install tensorflow"
   ]
  },
  {
   "cell_type": "markdown",
   "metadata": {},
   "source": [
    "![Drag Racing](https://i.ytimg.com/vi/MGS--dDzVr8/maxresdefault.jpg)"
   ]
  },
  {
   "cell_type": "code",
   "execution_count": 1,
   "metadata": {},
   "outputs": [
    {
     "name": "stderr",
     "output_type": "stream",
     "text": [
      "Using TensorFlow backend.\n"
     ]
    }
   ],
   "source": [
    "from __future__ import print_function\n",
    "import keras\n",
    "from keras.datasets import mnist\n",
    "from keras.models import Sequential\n",
    "from keras.layers import Dense, Dropout, Flatten\n",
    "from keras.layers import Conv2D, MaxPooling2D\n",
    "from keras import backend as K\n",
    "import pandas as pd\n",
    "import numpy as np"
   ]
  },
  {
   "cell_type": "code",
   "execution_count": 2,
   "metadata": {},
   "outputs": [
    {
     "name": "stdout",
     "output_type": "stream",
     "text": [
      "count    4096.000000\n",
      "mean       58.609619\n",
      "std        63.548593\n",
      "min         4.000000\n",
      "25%        10.000000\n",
      "50%        47.000000\n",
      "75%        77.000000\n",
      "max       248.000000\n",
      "Name: 0, dtype: float64\n",
      "Cats:80 Dogs:80\n",
      "Shapes X=(160, 64, 64) y=(160,)\n"
     ]
    }
   ],
   "source": [
    "# input image dimensions\n",
    "img_rows, img_cols = 64, 64\n",
    "\n",
    "\n",
    "df_cat = pd.read_csv('./catordog/cat.csv',header=None).apply(pd.to_numeric)\n",
    "df_dog = pd.read_csv('./catordog/dog.csv',header=None).apply(pd.to_numeric)\n",
    "print(df_cat[0].describe())\n",
    "\n",
    "num_cats = df_cat.values.shape[1]\n",
    "num_dogs = df_dog.values.shape[1]\n",
    "print(\"Cats:{} Dogs:{}\".format(num_cats, num_dogs))\n",
    "\n",
    "cats = df_cat.values.reshape((img_rows, img_cols, num_cats))\n",
    "dogs = df_dog.values.reshape((img_rows, img_cols, num_dogs))\n",
    "X = np.concatenate((cats,dogs), axis=2).swapaxes(2,0)\n",
    "y = np.concatenate((np.zeros(num_cats),np.ones(num_dogs)))\n",
    "print(\"Shapes X={} y={}\".format(X.shape,y.shape))"
   ]
  },
  {
   "cell_type": "code",
   "execution_count": 3,
   "metadata": {},
   "outputs": [],
   "source": [
    "from sklearn.model_selection import train_test_split\n",
    "X_train, X_test, y_train, y_test = train_test_split(X, y, test_size=0.2, random_state=42)"
   ]
  },
  {
   "cell_type": "code",
   "execution_count": 4,
   "metadata": {},
   "outputs": [
    {
     "name": "stdout",
     "output_type": "stream",
     "text": [
      "x_train shape: (128, 64, 64, 1)\n",
      "128 train samples\n",
      "32 test samples\n"
     ]
    }
   ],
   "source": [
    "# Prepare data to feed the NN\n",
    "num_classes = 2\n",
    "\n",
    "\n",
    "# Ask keras which format to use depending on used backend and arrange data as expected\n",
    "if K.image_data_format() == 'channels_first':\n",
    "    X_train = x_train.reshape(X_train.shape[0], 1, img_rows, img_cols)\n",
    "    X_test = x_test.reshape(X_test.shape[0], 1, img_rows, img_cols)\n",
    "    input_shape = (1, img_rows, img_cols)\n",
    "else:\n",
    "    X_train = X_train.reshape(X_train.shape[0], img_rows, img_cols, 1)\n",
    "    X_test = X_test.reshape(X_test.shape[0], img_rows, img_cols, 1)\n",
    "    input_shape = (img_rows, img_cols, 1)\n",
    "\n",
    "# Incoming data is in uint8. Cast the input data images to be floats in range [0.0-1.0]  \n",
    "X_train = X_train.astype('float32')\n",
    "X_test = X_test.astype('float32')\n",
    "X_train /= 255\n",
    "X_test /= 255\n",
    "\n",
    "print('x_train shape:', X_train.shape)\n",
    "print(X_train.shape[0], 'train samples')\n",
    "print(X_test.shape[0], 'test samples')\n",
    "\n",
    "# convert class vectors to binary class matrices\n",
    "y_train = keras.utils.to_categorical(y_train, num_classes)\n",
    "y_test = keras.utils.to_categorical(y_test, num_classes)\n"
   ]
  },
  {
   "cell_type": "code",
   "execution_count": 5,
   "metadata": {},
   "outputs": [
    {
     "name": "stdout",
     "output_type": "stream",
     "text": [
      "WARNING:tensorflow:From /usr/local/lib/python3.7/site-packages/tensorflow/python/framework/op_def_library.py:263: colocate_with (from tensorflow.python.framework.ops) is deprecated and will be removed in a future version.\n",
      "Instructions for updating:\n",
      "Colocations handled automatically by placer.\n",
      "WARNING:tensorflow:From /usr/local/lib/python3.7/site-packages/keras/backend/tensorflow_backend.py:3445: calling dropout (from tensorflow.python.ops.nn_ops) with keep_prob is deprecated and will be removed in a future version.\n",
      "Instructions for updating:\n",
      "Please use `rate` instead of `keep_prob`. Rate should be set to `rate = 1 - keep_prob`.\n"
     ]
    }
   ],
   "source": [
    "## This is the neural network proposed architecture\n",
    "model = Sequential()\n",
    "model.add(Conv2D(32, kernel_size=(3, 3),\n",
    "                 activation='relu',\n",
    "                 input_shape=input_shape))\n",
    "model.add(Conv2D(64, (3, 3), activation='relu'))\n",
    "model.add(MaxPooling2D(pool_size=(2, 2)))\n",
    "model.add(Dropout(0.25))\n",
    "model.add(Flatten())\n",
    "model.add(Dense(128, activation='relu'))\n",
    "model.add(Dropout(0.5))\n",
    "model.add(Dense(num_classes, activation='softmax'))\n",
    "\n",
    "model.compile(loss=keras.losses.categorical_crossentropy,\n",
    "              optimizer=keras.optimizers.Adadelta(),\n",
    "              metrics=['accuracy'])"
   ]
  },
  {
   "cell_type": "code",
   "execution_count": 7,
   "metadata": {},
   "outputs": [
    {
     "name": "stdout",
     "output_type": "stream",
     "text": [
      "Train on 128 samples, validate on 32 samples\n",
      "Epoch 1/10\n",
      "128/128 [==============================] - 2s 14ms/step - loss: 0.1722 - acc: 0.9453 - val_loss: 0.4644 - val_acc: 0.8438\n",
      "Epoch 2/10\n",
      "128/128 [==============================] - 2s 13ms/step - loss: 0.1317 - acc: 0.9688 - val_loss: 0.2763 - val_acc: 0.8750\n",
      "Epoch 3/10\n",
      "128/128 [==============================] - 2s 15ms/step - loss: 0.0846 - acc: 0.9766 - val_loss: 0.2475 - val_acc: 0.8125\n",
      "Epoch 4/10\n",
      "128/128 [==============================] - 2s 15ms/step - loss: 0.0700 - acc: 0.9922 - val_loss: 0.2690 - val_acc: 0.8750\n",
      "Epoch 5/10\n",
      "128/128 [==============================] - 2s 14ms/step - loss: 0.0410 - acc: 0.9922 - val_loss: 0.2648 - val_acc: 0.8438\n",
      "Epoch 6/10\n",
      "128/128 [==============================] - 2s 13ms/step - loss: 0.0453 - acc: 0.9922 - val_loss: 0.1839 - val_acc: 0.8750\n",
      "Epoch 7/10\n",
      "128/128 [==============================] - 2s 15ms/step - loss: 0.0204 - acc: 0.9922 - val_loss: 0.1845 - val_acc: 0.9062\n",
      "Epoch 8/10\n",
      "128/128 [==============================] - 2s 14ms/step - loss: 0.0194 - acc: 1.0000 - val_loss: 0.1815 - val_acc: 0.9062\n",
      "Epoch 9/10\n",
      "128/128 [==============================] - 2s 13ms/step - loss: 0.0153 - acc: 1.0000 - val_loss: 0.1813 - val_acc: 0.9062\n",
      "Epoch 10/10\n",
      "128/128 [==============================] - 2s 15ms/step - loss: 0.0095 - acc: 1.0000 - val_loss: 0.1846 - val_acc: 0.8750\n"
     ]
    },
    {
     "data": {
      "text/plain": [
       "<keras.callbacks.History at 0x1230f4710>"
      ]
     },
     "execution_count": 7,
     "metadata": {},
     "output_type": "execute_result"
    }
   ],
   "source": [
    "# Fit the NN\n",
    "batch_size = 20\n",
    "epochs = 10\n",
    "\n",
    "model.fit(X_train, y_train,\n",
    "          batch_size=batch_size,\n",
    "          epochs=epochs,\n",
    "          verbose=1,\n",
    "          validation_data=(X_test, y_test))"
   ]
  },
  {
   "cell_type": "code",
   "execution_count": 8,
   "metadata": {},
   "outputs": [
    {
     "name": "stdout",
     "output_type": "stream",
     "text": [
      "Test loss: 0.18458375334739685\n",
      "Test accuracy: 0.875\n"
     ]
    }
   ],
   "source": [
    "# Evaluate the model with test data\n",
    "score = model.evaluate(X_test, y_test, verbose=0)\n",
    "print('Test loss:', score[0])\n",
    "print('Test accuracy:', score[1])"
   ]
  },
  {
   "cell_type": "code",
   "execution_count": 16,
   "metadata": {},
   "outputs": [
    {
     "name": "stdout",
     "output_type": "stream",
     "text": [
      "Probs -> Cat:0.00822 Dog:0.99178\n"
     ]
    },
    {
     "data": {
      "text/plain": [
       "<matplotlib.image.AxesImage at 0x12b11c588>"
      ]
     },
     "execution_count": 16,
     "metadata": {},
     "output_type": "execute_result"
    },
    {
     "data": {
      "image/png": "[encoded data removed]",
      "text/plain": [
       "<Figure size 432x288 with 1 Axes>"
      ]
     },
     "metadata": {
      "needs_background": "light"
     },
     "output_type": "display_data"
    }
   ],
   "source": [
    "%matplotlib inline\n",
    "import matplotlib.pyplot as plt\n",
    "from PIL import Image\n",
    "img = X_test[30]\n",
    "pred = model.predict(np.expand_dims(img,axis=0))[0]\n",
    "print(\"Probs -> Cat:{0:.5f} Dog:{1:.5f}\".format(pred[0],pred[1]))\n",
    "plt.imshow(Image.fromarray(img.squeeze()*255),'gray')"
   ]
  },
  {
   "cell_type": "code",
   "execution_count": 48,
   "metadata": {},
   "outputs": [
    {
     "name": "stdout",
     "output_type": "stream",
     "text": [
      "Probs -> Cat:0.00822 Dog:0.99178\n"
     ]
    },
    {
     "data": {
      "image/png": "[encoded data removed]",
      "text/plain": [
       "<Figure size 432x288 with 1 Axes>"
      ]
     },
     "metadata": {
      "needs_background": "light"
     },
     "output_type": "display_data"
    }
   ],
   "source": [
    "df = pd.read_csv(\"~/Downloads/potacho2.csv\",header=None).apply(pd.to_numeric)\n",
    "img2 = df.values.reshape((64,64,1)).astype('float32') / 255\n",
    "plt.imshow(Image.fromarray(img2.squeeze()*255),'gray')\n",
    "pred2 = model.predict(np.expand_dims(img,axis=0))[0]\n",
    "print(\"Probs -> Cat:{0:.5f} Dog:{1:.5f}\".format(pred2[0],pred2[1]))\n"
   ]
  },
  {
   "cell_type": "code",
   "execution_count": null,
   "metadata": {},
   "outputs": [],
   "source": []
  }
 ],
 "metadata": {
  "kernelspec": {
   "display_name": "Python 3",
   "language": "python",
   "name": "python3"
  },
  "language_info": {
   "codemirror_mode": {
    "name": "ipython",
    "version": 3
   },
   "file_extension": ".py",
   "mimetype": "text/x-python",
   "name": "python",
   "nbconvert_exporter": "python",
   "pygments_lexer": "ipython3",
   "version": "3.7.0"
  }
 },
 "nbformat": 4,
 "nbformat_minor": 2
}
