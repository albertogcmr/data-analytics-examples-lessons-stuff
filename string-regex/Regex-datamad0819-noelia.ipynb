{
 "cells": [
  {
   "cell_type": "markdown",
   "metadata": {},
   "source": [
    "# Regular expresions#\n",
    "\n",
    "\n",
    "Website: https://regex101.com"
   ]
  },
  {
   "cell_type": "markdown",
   "metadata": {},
   "source": [
    "- ## Methods"
   ]
  },
  {
   "cell_type": "markdown",
   "metadata": {},
   "source": [
    "\n",
    " ### - re.findall()\n",
    "\n",
    " ### - re.sub()\n",
    "\n",
    " ### - re.search() \n",
    "\n",
    " ### - re.match()\n",
    "\n",
    " ###  - re.split()"
   ]
  },
  {
   "cell_type": "markdown",
   "metadata": {},
   "source": [
    "- ## Matching Characters"
   ]
  },
  {
   "cell_type": "markdown",
   "metadata": {},
   "source": [
    " ##### - \\w: Any alphanumeric character.\n",
    " ##### - \\W: Any non-alphanumeric character.\n",
    " ##### - \\d: Any numeric character.\n",
    " ##### - \\D: Any non-numeric character.\n",
    " ##### - \\s: Any whitespace characters.\n",
    " ##### - \\S: Any non-whitespace characters."
   ]
  },
  {
   "cell_type": "markdown",
   "metadata": {},
   "source": [
    "##### [a-z]: Any lowercase letter between a and z.\n",
    "#####  [A-Z]: Any uppercase letter between A and Z.\n",
    "#####  [0-9]: Any numeric character between 0 and 9."
   ]
  },
  {
   "cell_type": "markdown",
   "metadata": {},
   "source": [
    "#####  []  Match set of characters\n",
    "#####  .    Match any character except newline (\\n)\n",
    "#####  ^   Match characters not listed if within set or match beginning of line\n",
    "#####  $ Match end of line\n",
    "##### | Functions as an \"OR\" operator"
   ]
  },
  {
   "cell_type": "markdown",
   "metadata": {},
   "source": [
    "- ## Quantifiers\n",
    "#### * \n",
    "    Matches previous character 0 or more times\n",
    "#### + \n",
    "    Matches previous character 1 or more times\n",
    "#### ? \n",
    "    Matches previous character 0 or 1 times (optional)\n",
    "#### {} \n",
    "    Matches previous characters however many times specified within:\n",
    "    - {n} : Exactly n times\n",
    "    - {n,} : At least n times\n",
    "    - {n,m} : Between n and m times"
   ]
  },
  {
   "cell_type": "code",
   "execution_count": 230,
   "metadata": {},
   "outputs": [],
   "source": [
    "import re\n",
    "import pandas as pd"
   ]
  },
  {
   "cell_type": "code",
   "execution_count": 286,
   "metadata": {},
   "outputs": [],
   "source": [
    "stranger_things = \"\"\"Something is coming.\\n Something hungry for blood.\n",
    "A shadow grows on the wall behind you, swallowing you in darkness.\n",
    "- It is almost here.\n",
    "- What is it? What if it's the Demogorgon? \n",
    "Oh, Jesus, we're so screwed if it's the Demogorgon.\n",
    "It's not the Demogorgon.\n",
    "An army of troglodytes charge into the chamber! - Troglodytes? - Told ya.\n",
    "Wait a minute.\\n Did you hear that? That that sound? Boom boom Boom! That didn't come from the troglodytes.\n",
    "No, that That came from something else.\n",
    "The Demogorgon! - We're in deep shit.\n",
    "- Will, your action! - I don't know! - Fireball him! I'd have to roll a 13 or higher! Too risky.\n",
    "Cast a protection spell.\n",
    "- Don't be a pussy.\n",
    "Fireball him! - Cast Protection.\n",
    "The Demogorgon is tired of your silly human bickering! It stomps towards you.\n",
    "- Boom! - Fireball him! - Another stomp, boom! - Cast Protection.\n",
    "He roars in anger! Fireball! \n",
    "- Oh, shit! - Where'd it go? \n",
    "- Where is it? - I don't know! - Is it a 13? \n",
    "- I don't know! - Where is it? - Oh, my God! - Mike! \n",
    "- Oh, my God! Oh, my God! - Mike! \n",
    "- Can you find it yet? No, I can't find it! - Mike!\n",
    "- Oh, my God! Oh, my God! Mom, we're in the middle of a campaign!\n",
    "You mean the end? Fifteen after.\n",
    "- Oh, my God! Freaking idiot! - Why do we have to go?\n",
    "- Mom, wait, just 20 more minutes! - It's a school night, Michael.\"\"\""
   ]
  },
  {
   "cell_type": "code",
   "execution_count": 287,
   "metadata": {},
   "outputs": [
    {
     "data": {
      "text/plain": [
       "\"Something is coming.\\n Something hungry for blood.\\nA shadow grows on the wall behind you, swallowing you in darkness.\\n- It is almost here.\\n- What is it? What if it's the Demogorgon? \\nOh, Jesus, we're so screwed if it's the Demogorgon.\\nIt's not the Demogorgon.\\nAn army of troglodytes charge into the chamber! - Troglodytes? - Told ya.\\nWait a minute.\\n Did you hear that? That that sound? Boom boom Boom! That didn't come from the troglodytes.\\nNo, that That came from something else.\\nThe Demogorgon! - We're in deep shit.\\n- Will, your action! - I don't know! - Fireball him! I'd have to roll a 13 or higher! Too risky.\\nCast a protection spell.\\n- Don't be a pussy.\\nFireball him! - Cast Protection.\\nThe Demogorgon is tired of your silly human bickering! It stomps towards you.\\n- Boom! - Fireball him! - Another stomp, boom! - Cast Protection.\\nHe roars in anger! Fireball! \\n- Oh, shit! - Where'd it go? \\n- Where is it? - I don't know! - Is it a 13? \\n- I don't know! - Where is it? - Oh, my God! - Mike! \\n- Oh, my God! Oh, my God! - Mike! \\n- Can you find it yet? No, I can't find it! - Mike!\\n- Oh, my God! Oh, my God! Mom, we're in the middle of a campaign!\\nYou mean the end? Fifteen after.\\n- Oh, my God! Freaking idiot! - Why do we have to go?\\n- Mom, wait, just 20 more minutes! - It's a school night, Michael.\""
      ]
     },
     "execution_count": 287,
     "metadata": {},
     "output_type": "execute_result"
    }
   ],
   "source": [
    "stranger_things"
   ]
  },
  {
   "cell_type": "markdown",
   "metadata": {},
   "source": [
    "### - re.match()"
   ]
  },
  {
   "cell_type": "code",
   "execution_count": 379,
   "metadata": {},
   "outputs": [
    {
     "data": {
      "text/plain": [
       "'S'"
      ]
     },
     "execution_count": 379,
     "metadata": {},
     "output_type": "execute_result"
    }
   ],
   "source": [
    "re.match('[A-Z]+', stranger_things).group()"
   ]
  },
  {
   "cell_type": "markdown",
   "metadata": {},
   "source": [
    "### - re.sub()"
   ]
  },
  {
   "cell_type": "code",
   "execution_count": 378,
   "metadata": {},
   "outputs": [
    {
     "data": {
      "text/plain": [
       "'Something is coming   Something hungry for blood  A shadow grows on the wall behind you  swallowing you in darkness    It is almost here    What is it  What if it s the Demogorgon   Oh  Jesus  we re so screwed if it s the Demogorgon  It s not the Demogorgon  An army of troglodytes charge into the chamber    Troglodytes    Told ya  Wait a minute   Did you hear that  That that sound  Boom boom Boom  That didn t come from the troglodytes  No  that That came from something else  The Demogorgon    We re in deep shit    Will  your action    I don t know    Fireball him  I d have to roll a    or higher  Too risky  Cast a protection spell    Don t be a pussy  Fireball him    Cast Protection  The Demogorgon is tired of your silly human bickering  It stomps towards you    Boom    Fireball him    Another stomp  boom    Cast Protection  He roars in anger  Fireball     Oh  shit    Where d it go     Where is it    I don t know    Is it a        I don t know    Where is it    Oh  my God    Mike     Oh  my God  Oh  my God    Mike     Can you find it yet  No  I can t find it    Mike    Oh  my God  Oh  my God  Mom  we re in the middle of a campaign  You mean the end  Fifteen after    Oh  my God  Freaking idiot    Why do we have to go    Mom  wait  just    more minutes    It s a school night  Michael '"
      ]
     },
     "execution_count": 378,
     "metadata": {},
     "output_type": "execute_result"
    }
   ],
   "source": [
    "re.sub('[^a-zA-Z]', \" \", stranger_things) #replace regex"
   ]
  },
  {
   "cell_type": "code",
   "execution_count": 380,
   "metadata": {},
   "outputs": [
    {
     "data": {
      "text/plain": [
       "\"Something is coming. Something hungry for blood.A shadow grows on the wall behind you, swallowing you in darkness.- It is almost here.- What is it? What if it's the Demogorgon? Oh, Jesus, we're so screwed if it's the Demogorgon.It's not the Demogorgon.An army of troglodytes charge into the chamber! - Troglodytes? - Told ya.Wait a minute. Did you hear that? That that sound? Boom boom Boom! That didn't come from the troglodytes.No, that That came from something else.The Demogorgon! - We're in deep shit.- Will, your action! - I don't know! - Fireball him! I'd have to roll a 13 or higher! Too risky.Cast a protection spell.- Don't be a pussy.Fireball him! - Cast Protection.The Demogorgon is tired of your silly human bickering! It stomps towards you.- Boom! - Fireball him! - Another stomp, boom! - Cast Protection.He roars in anger! Fireball! - Oh, shit! - Where'd it go? - Where is it? - I don't know! - Is it a 13? - I don't know! - Where is it? - Oh, my God! - Mike! - Oh, my God! Oh, my God! - Mike! - Can you find it yet? No, I can't find it! - Mike!- Oh, my God! Oh, my God! Mom, we're in the middle of a campaign!You mean the end? Fifteen after.- Oh, my God! Freaking idiot! - Why do we have to go?- Mom, wait, just 20 more minutes! - It's a school night, Michael.\""
      ]
     },
     "execution_count": 380,
     "metadata": {},
     "output_type": "execute_result"
    }
   ],
   "source": [
    "re.sub('\\n', \"\", stranger_things) #replace regex"
   ]
  },
  {
   "cell_type": "markdown",
   "metadata": {},
   "source": [
    "### - re.findall()"
   ]
  },
  {
   "cell_type": "code",
   "execution_count": 291,
   "metadata": {},
   "outputs": [
    {
     "data": {
      "text/plain": [
       "['Demogorgon', 'Demogorgon', 'Demogorgon', 'Demogorgon', 'Demogorgon']"
      ]
     },
     "execution_count": 291,
     "metadata": {},
     "output_type": "execute_result"
    }
   ],
   "source": [
    "re.findall('Demogorgon', stranger_things) "
   ]
  },
  {
   "cell_type": "code",
   "execution_count": 381,
   "metadata": {},
   "outputs": [
    {
     "name": "stdout",
     "output_type": "stream",
     "text": [
      "['.', '\\n', '.', '\\n', ',', '.', '\\n', '-', '.', '\\n', '-', '?', \"'\", '?', '\\n', ',', ',', \"'\", \"'\", '.', '\\n', \"'\", '.', '\\n', '!', '-', '?', '-', '.', '\\n', '.', '\\n', '?', '?', '!', \"'\", '.', '\\n', ',', '.', '\\n', '!', '-', \"'\", '.', '\\n', '-', ',', '!', '-', \"'\", '!', '-', '!', \"'\", '1', '3', '!', '.', '\\n', '.', '\\n', '-', \"'\", '.', '\\n', '!', '-', '.', '\\n', '!', '.', '\\n', '-', '!', '-', '!', '-', ',', '!', '-', '.', '\\n', '!', '!', '\\n', '-', ',', '!', '-', \"'\", '?', '\\n', '-', '?', '-', \"'\", '!', '-', '1', '3', '?', '\\n', '-', \"'\", '!', '-', '?', '-', ',', '!', '-', '!', '\\n', '-', ',', '!', ',', '!', '-', '!', '\\n', '-', '?', ',', \"'\", '!', '-', '!', '\\n', '-', ',', '!', ',', '!', ',', \"'\", '!', '\\n', '?', '.', '\\n', '-', ',', '!', '!', '-', '?', '\\n', '-', ',', ',', '2', '0', '!', '-', \"'\", ',', '.']\n"
     ]
    }
   ],
   "source": [
    "print(re.findall('[^a-zA-Z ]', stranger_things)) #All is not words"
   ]
  },
  {
   "cell_type": "code",
   "execution_count": 382,
   "metadata": {},
   "outputs": [
    {
     "data": {
      "text/plain": [
       "['1', '3', '1', '3', '2', '0']"
      ]
     },
     "execution_count": 382,
     "metadata": {},
     "output_type": "execute_result"
    }
   ],
   "source": [
    "re.findall('[\\d]', stranger_things) #number"
   ]
  },
  {
   "cell_type": "code",
   "execution_count": 383,
   "metadata": {},
   "outputs": [
    {
     "data": {
      "text/plain": [
       "['1', '3', '1', '3', '2', '0']"
      ]
     },
     "execution_count": 383,
     "metadata": {},
     "output_type": "execute_result"
    }
   ],
   "source": [
    "re.findall('[0-9]', stranger_things) #number"
   ]
  },
  {
   "cell_type": "code",
   "execution_count": 384,
   "metadata": {},
   "outputs": [
    {
     "data": {
      "text/plain": [
       "['coming.',\n",
       " 'blood.',\n",
       " 'darkness.',\n",
       " 'here.',\n",
       " 'Demogorgon.',\n",
       " 'Demogorgon.',\n",
       " 'ya.',\n",
       " 'minute.',\n",
       " 'troglodytes.',\n",
       " 'else.',\n",
       " 'shit.',\n",
       " 'risky.',\n",
       " 'spell.',\n",
       " 'pussy.',\n",
       " 'Protection.',\n",
       " 'you.',\n",
       " 'Protection.',\n",
       " 'after.',\n",
       " 'Michael.']"
      ]
     },
     "execution_count": 384,
     "metadata": {},
     "output_type": "execute_result"
    }
   ],
   "source": [
    "re.findall('\\w+[.]', stranger_things) # match set of characters"
   ]
  },
  {
   "cell_type": "code",
   "execution_count": 385,
   "metadata": {},
   "outputs": [
    {
     "data": {
      "text/plain": [
       "['Fireball', 'Fireball', 'Fireball', 'Fireball', 'Michael']"
      ]
     },
     "execution_count": 385,
     "metadata": {},
     "output_type": "execute_result"
    }
   ],
   "source": [
    "re.findall('(Michael|Fireball)', stranger_things) #Use Or"
   ]
  },
  {
   "cell_type": "code",
   "execution_count": 398,
   "metadata": {},
   "outputs": [],
   "source": [
    "pattern = 'Michael.$'#End of string"
   ]
  },
  {
   "cell_type": "code",
   "execution_count": 399,
   "metadata": {},
   "outputs": [
    {
     "data": {
      "text/plain": [
       "['Michael.']"
      ]
     },
     "execution_count": 399,
     "metadata": {},
     "output_type": "execute_result"
    }
   ],
   "source": [
    "re.findall(pattern, stranger_things)"
   ]
  },
  {
   "cell_type": "markdown",
   "metadata": {},
   "source": [
    "### - re.split()"
   ]
  },
  {
   "cell_type": "code",
   "execution_count": 386,
   "metadata": {},
   "outputs": [],
   "source": [
    "song = \"And in my hour of darkness she is standing right in front of me\""
   ]
  },
  {
   "cell_type": "code",
   "execution_count": 387,
   "metadata": {},
   "outputs": [
    {
     "name": "stdout",
     "output_type": "stream",
     "text": [
      "['And', 'in', 'my', 'hour', 'of', 'darkness', 'she', 'is', 'standing', 'right', 'in', 'front', 'of', 'me']\n"
     ]
    }
   ],
   "source": [
    "print((re.split('\\s',song))) #Split a string"
   ]
  },
  {
   "cell_type": "markdown",
   "metadata": {},
   "source": [
    "- ## Quantifiers"
   ]
  },
  {
   "cell_type": "code",
   "execution_count": 389,
   "metadata": {},
   "outputs": [],
   "source": [
    "consult = \"Para cualquier consulta pongase en contacto con marketing@empresa.com. \\\n",
    "Para otras consultas llame al 879-456-289 o escriba a empresa@email.es\""
   ]
  },
  {
   "cell_type": "code",
   "execution_count": 390,
   "metadata": {},
   "outputs": [],
   "source": [
    "pattern = \"\\d+-\\d+-\\d+\" #Match digits"
   ]
  },
  {
   "cell_type": "code",
   "execution_count": 391,
   "metadata": {},
   "outputs": [
    {
     "data": {
      "text/plain": [
       "['879-456-289']"
      ]
     },
     "execution_count": 391,
     "metadata": {},
     "output_type": "execute_result"
    }
   ],
   "source": [
    "re.findall('\\d{3}-\\d{3}-\\d{3}', consult) #number with 3 digits"
   ]
  },
  {
   "cell_type": "code",
   "execution_count": 392,
   "metadata": {},
   "outputs": [],
   "source": [
    "consult_changed= \"Para cualquier consulta pongase en contacto con marketing@empresa.com. \\\n",
    "Para otras consultas llame al 879-456-289, 05-10-2000 o escriba a empresa.ironhack.hola@email.es\""
   ]
  },
  {
   "cell_type": "code",
   "execution_count": 393,
   "metadata": {},
   "outputs": [
    {
     "data": {
      "text/plain": [
       "['marketing@empresa.com', 'empresa.ironhack.hola@email.es']"
      ]
     },
     "execution_count": 393,
     "metadata": {},
     "output_type": "execute_result"
    }
   ],
   "source": [
    "re.findall(\"[a-zA-Z0-9.-_+]+@\\w+\\.\\w+\", consult_changed)  #match email "
   ]
  },
  {
   "cell_type": "code",
   "execution_count": 394,
   "metadata": {},
   "outputs": [],
   "source": [
    "names = ['Noelia78', 'Mario', 'Alberto78', 'Marc56', '45Laura', 'Alicia678']"
   ]
  },
  {
   "cell_type": "code",
   "execution_count": 395,
   "metadata": {},
   "outputs": [
    {
     "data": {
      "text/plain": [
       "['Noelia78', 'Alberto78', 'Marc56', 'Alicia678']"
      ]
     },
     "execution_count": 395,
     "metadata": {},
     "output_type": "execute_result"
    }
   ],
   "source": [
    "re.findall('[a-zA-Z]+\\d+', \" \".join(names)) #Match just names + digits"
   ]
  },
  {
   "cell_type": "code",
   "execution_count": 396,
   "metadata": {},
   "outputs": [],
   "source": [
    "#Other way to obtain names+digits. re.search returns an object, so we need add it .string\n",
    "\n",
    "result = [re.search('[a-zA-Z]+\\d+', e).string for e in names\\\n",
    "          if re.search('[a-zA-Z]+\\d+', e)!=None]"
   ]
  },
  {
   "cell_type": "code",
   "execution_count": 397,
   "metadata": {},
   "outputs": [
    {
     "data": {
      "text/plain": [
       "['Noelia78', 'Alberto78', 'Marc56', 'Alicia678']"
      ]
     },
     "execution_count": 397,
     "metadata": {},
     "output_type": "execute_result"
    }
   ],
   "source": [
    "result"
   ]
  },
  {
   "cell_type": "code",
   "execution_count": 400,
   "metadata": {},
   "outputs": [
    {
     "name": "stdout",
     "output_type": "stream",
     "text": [
      "['Something', 'coming', 'Something', 'hungry', 'shadow', 'behind', 'swallowing', 'darkness', 'almost', 'Demogorgon', 'screwed', 'Demogorgon', 'Demogorgon', 'troglodytes', 'charge', 'chamber', 'Troglodytes', 'minute', 'troglodytes', 'something', 'Demogorgon', 'action', 'Fireball', 'higher', 'protection', 'Fireball', 'Protection', 'Demogorgon', 'bickering', 'stomps', 'towards', 'Fireball', 'Another', 'Protection', 'Fireball', 'middle', 'campaign', 'Fifteen', 'Freaking', 'minutes', 'school', 'Michael']\n"
     ]
    }
   ],
   "source": [
    "pattern = '\\w{6,}' #word with at least 6 characters\n",
    "print(re.findall(pattern, stranger_things))"
   ]
  },
  {
   "cell_type": "code",
   "execution_count": 401,
   "metadata": {},
   "outputs": [
    {
     "data": {
      "text/plain": [
       "['color', 'colour']"
      ]
     },
     "execution_count": 401,
     "metadata": {},
     "output_type": "execute_result"
    }
   ],
   "source": [
    "# Match opcional with ?\n",
    "text = \"Is the correct spelling color or colour?\"\n",
    "\n",
    "pattern = \"colou?r\"\n",
    "re.findall(pattern, text)"
   ]
  },
  {
   "cell_type": "markdown",
   "metadata": {},
   "source": [
    "### Apply to a column"
   ]
  },
  {
   "cell_type": "code",
   "execution_count": 369,
   "metadata": {},
   "outputs": [],
   "source": [
    "comida = pd.DataFrame([\"sardinas\", \"sardin\", \"sarns\",\"pollo\", \"ternera\"], columns=['alimentos'])"
   ]
  },
  {
   "cell_type": "code",
   "execution_count": 370,
   "metadata": {},
   "outputs": [
    {
     "data": {
      "text/html": [
       "<div>\n",
       "<style scoped>\n",
       "    .dataframe tbody tr th:only-of-type {\n",
       "        vertical-align: middle;\n",
       "    }\n",
       "\n",
       "    .dataframe tbody tr th {\n",
       "        vertical-align: top;\n",
       "    }\n",
       "\n",
       "    .dataframe thead th {\n",
       "        text-align: right;\n",
       "    }\n",
       "</style>\n",
       "<table border=\"1\" class=\"dataframe\">\n",
       "  <thead>\n",
       "    <tr style=\"text-align: right;\">\n",
       "      <th></th>\n",
       "      <th>alimentos</th>\n",
       "    </tr>\n",
       "  </thead>\n",
       "  <tbody>\n",
       "    <tr>\n",
       "      <th>0</th>\n",
       "      <td>sardinas</td>\n",
       "    </tr>\n",
       "    <tr>\n",
       "      <th>1</th>\n",
       "      <td>sardin</td>\n",
       "    </tr>\n",
       "    <tr>\n",
       "      <th>2</th>\n",
       "      <td>sarns</td>\n",
       "    </tr>\n",
       "    <tr>\n",
       "      <th>3</th>\n",
       "      <td>pollo</td>\n",
       "    </tr>\n",
       "    <tr>\n",
       "      <th>4</th>\n",
       "      <td>ternera</td>\n",
       "    </tr>\n",
       "  </tbody>\n",
       "</table>\n",
       "</div>"
      ],
      "text/plain": [
       "  alimentos\n",
       "0  sardinas\n",
       "1    sardin\n",
       "2     sarns\n",
       "3     pollo\n",
       "4   ternera"
      ]
     },
     "execution_count": 370,
     "metadata": {},
     "output_type": "execute_result"
    }
   ],
   "source": [
    "comida"
   ]
  },
  {
   "cell_type": "code",
   "execution_count": 371,
   "metadata": {},
   "outputs": [],
   "source": [
    "def food(text):\n",
    "    if re.search('(sar)\\w+', text):\n",
    "        return 'sardinas'\n",
    "    return text"
   ]
  },
  {
   "cell_type": "code",
   "execution_count": 372,
   "metadata": {},
   "outputs": [],
   "source": [
    "comida['alimentos'] = comida['alimentos'].apply(food)"
   ]
  },
  {
   "cell_type": "code",
   "execution_count": 373,
   "metadata": {},
   "outputs": [
    {
     "data": {
      "text/html": [
       "<div>\n",
       "<style scoped>\n",
       "    .dataframe tbody tr th:only-of-type {\n",
       "        vertical-align: middle;\n",
       "    }\n",
       "\n",
       "    .dataframe tbody tr th {\n",
       "        vertical-align: top;\n",
       "    }\n",
       "\n",
       "    .dataframe thead th {\n",
       "        text-align: right;\n",
       "    }\n",
       "</style>\n",
       "<table border=\"1\" class=\"dataframe\">\n",
       "  <thead>\n",
       "    <tr style=\"text-align: right;\">\n",
       "      <th></th>\n",
       "      <th>alimentos</th>\n",
       "    </tr>\n",
       "  </thead>\n",
       "  <tbody>\n",
       "    <tr>\n",
       "      <th>0</th>\n",
       "      <td>sardinas</td>\n",
       "    </tr>\n",
       "    <tr>\n",
       "      <th>1</th>\n",
       "      <td>sardinas</td>\n",
       "    </tr>\n",
       "    <tr>\n",
       "      <th>2</th>\n",
       "      <td>sardinas</td>\n",
       "    </tr>\n",
       "    <tr>\n",
       "      <th>3</th>\n",
       "      <td>pollo</td>\n",
       "    </tr>\n",
       "    <tr>\n",
       "      <th>4</th>\n",
       "      <td>ternera</td>\n",
       "    </tr>\n",
       "  </tbody>\n",
       "</table>\n",
       "</div>"
      ],
      "text/plain": [
       "  alimentos\n",
       "0  sardinas\n",
       "1  sardinas\n",
       "2  sardinas\n",
       "3     pollo\n",
       "4   ternera"
      ]
     },
     "execution_count": 373,
     "metadata": {},
     "output_type": "execute_result"
    }
   ],
   "source": [
    "comida"
   ]
  }
 ],
 "metadata": {
  "kernelspec": {
   "display_name": "Python 3",
   "language": "python",
   "name": "python3"
  },
  "language_info": {
   "codemirror_mode": {
    "name": "ipython",
    "version": 3
   },
   "file_extension": ".py",
   "mimetype": "text/x-python",
   "name": "python",
   "nbconvert_exporter": "python",
   "pygments_lexer": "ipython3",
   "version": "3.7.1"
  }
 },
 "nbformat": 4,
 "nbformat_minor": 2
}
