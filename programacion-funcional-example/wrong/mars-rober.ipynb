{
 "cells": [
  {
   "cell_type": "code",
   "execution_count": 3,
   "metadata": {},
   "outputs": [
    {
     "name": "stdout",
     "output_type": "stream",
     "text": [
      "introduce un número: 3\n",
      "introduce una operacion (+, -, *, /): +\n",
      "introduce un número: 4\n",
      "3.0 + 4.0 = 7.0\n"
     ]
    }
   ],
   "source": [
    "\n",
    "a = float(input('introduce un número: '))\n",
    "op = input('introduce una operacion (+, -, *, /): ')\n",
    "b = float(input('introduce un número: '))\n",
    "\n",
    "res = 0\n",
    "if op == '+': \n",
    "    res = a+b\n",
    "elif op == '-': \n",
    "    res = a-b\n",
    "elif op == '*': \n",
    "    res = a*b\n",
    "elif op == '/': \n",
    "    res = a/b\n",
    "    \n",
    "print('{} {} {} = {}'.format(a, op, b, res))\n"
   ]
  },
  {
   "cell_type": "code",
   "execution_count": 25,
   "metadata": {},
   "outputs": [
    {
     "name": "stdout",
     "output_type": "stream",
     "text": [
      "(f)orward, (r)ight, (l)eft, (q)quit: l\n",
      "(0, 0) W\n",
      "(f)orward, (r)ight, (l)eft, (q)quit: l\n",
      "(0, 0) S\n",
      "(f)orward, (r)ight, (l)eft, (q)quit: f\n",
      "(0, 1) S\n",
      "(f)orward, (r)ight, (l)eft, (q)quit: f\n",
      "(0, 2) S\n",
      "(f)orward, (r)ight, (l)eft, (q)quit: r\n",
      "(0, 2) W\n",
      "(f)orward, (r)ight, (l)eft, (q)quit: f\n",
      "(-1, 2) W\n",
      "(f)orward, (r)ight, (l)eft, (q)quit: w\n"
     ]
    }
   ],
   "source": [
    "DIRECTIONS = [\"N\", \"E\", \"S\", \"W\"]\n",
    "\n",
    "def turnl(actual): \n",
    "    i = DIRECTIONS.index(actual)\n",
    "    return DIRECTIONS[i-1]\n",
    "\n",
    "def turnr(actual): \n",
    "    i = DIRECTIONS.index(actual)\n",
    "    return DIRECTIONS[(i+1)%len(DIRECTIONS)]\n",
    "\n",
    "class Rober: \n",
    "    def __init__(self): \n",
    "        self.direction = 'N'\n",
    "        self.x = 0\n",
    "        self.y = 0\n",
    "        self.travelLog = [(self.x, self.y)]\n",
    "        \n",
    "    def turnLeft(self): \n",
    "        self.direction = turnl(self.direction)\n",
    "        \n",
    "    def turnRight(self): \n",
    "        self.direction = turnr(self.direction)\n",
    "        \n",
    "    def moveForward(self): \n",
    "        d = self.direction\n",
    "        if d == 'N': \n",
    "            self.y -= 1\n",
    "        elif d == 'S': \n",
    "            self.y +=1\n",
    "        elif d == 'W': \n",
    "            self.x -=1\n",
    "        elif d == 'E': \n",
    "            self.x += 1\n",
    "        self.travelLog.append( (self.x, self.y) )\n",
    "        \n",
    "    def __repr__(self): \n",
    "        return '({}, {}) {}'.format(self.x, self.y, self.direction)\n",
    "        \n",
    "        \n",
    "def command(commands, rober): \n",
    "    for c in commands: \n",
    "        if c == 'l': \n",
    "            rober.turnLeft()\n",
    "            print(rober)\n",
    "        elif c == 'r': \n",
    "            rober.turnRight()\n",
    "            print(rober)        \n",
    "        elif c == 'f': \n",
    "            rober.moveForward()\n",
    "            print(rober)  \n",
    "    return rober.travelLog\n",
    "\n",
    "if __name__ == \"__main__\":\n",
    "    option = 'l'\n",
    "    rober = Rober()\n",
    "    while option in 'lrf': \n",
    "        option = input('(f)orward, (r)ight, (l)eft, (q)quit: ')\n",
    "        command(option, rober)\n",
    "        \n"
   ]
  },
  {
   "cell_type": "code",
   "execution_count": 24,
   "metadata": {},
   "outputs": [
    {
     "name": "stdout",
     "output_type": "stream",
     "text": [
      "(0, 0) W\n",
      "(0, 0) S\n",
      "(0, 1) S\n",
      "(0, 2) S\n",
      "(0, 2) W\n",
      "(0, 2) N\n"
     ]
    },
    {
     "data": {
      "text/plain": [
       "[(0, 0), (0, 1), (0, 2)]"
      ]
     },
     "execution_count": 24,
     "metadata": {},
     "output_type": "execute_result"
    }
   ],
   "source": [
    "r = Rober()\n",
    "command('llffrr', r)"
   ]
  },
  {
   "cell_type": "code",
   "execution_count": null,
   "metadata": {},
   "outputs": [],
   "source": []
  }
 ],
 "metadata": {
  "kernelspec": {
   "display_name": "Python 3",
   "language": "python",
   "name": "python3"
  },
  "language_info": {
   "codemirror_mode": {
    "name": "ipython",
    "version": 3
   },
   "file_extension": ".py",
   "mimetype": "text/x-python",
   "name": "python",
   "nbconvert_exporter": "python",
   "pygments_lexer": "ipython3",
   "version": "3.6.7"
  }
 },
 "nbformat": 4,
 "nbformat_minor": 2
}
