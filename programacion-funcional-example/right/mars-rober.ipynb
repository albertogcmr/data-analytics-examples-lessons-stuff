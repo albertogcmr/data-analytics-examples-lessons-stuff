{
 "cells": [
  {
   "cell_type": "code",
   "execution_count": 1,
   "metadata": {},
   "outputs": [
    {
     "name": "stdout",
     "output_type": "stream",
     "text": [
      "(f)orward, (r)ight, (l)eft, (q)quit: ffrrll\n",
      "comando no reconocido\n",
      "(f)orward, (r)ight, (l)eft, (q)quit: f\n",
      "(0, -1) N\n",
      "(f)orward, (r)ight, (l)eft, (q)quit: f\n",
      "(0, -2) N\n",
      "(f)orward, (r)ight, (l)eft, (q)quit: q\n",
      "(0, -2) N\n"
     ]
    }
   ],
   "source": [
    "from classes import Rober\n",
    "from inputs import get_command\n",
    "from commands import command\n",
    "\n",
    "\n",
    "\n",
    "if __name__ == \"__main__\":\n",
    "    option = 'l'\n",
    "    rober = Rober()\n",
    "    while option in 'lrf': \n",
    "        option = get_command()\n",
    "        command(option, rober)\n",
    "    print(rober)\n",
    "        "
   ]
  },
  {
   "cell_type": "code",
   "execution_count": 2,
   "metadata": {},
   "outputs": [
    {
     "name": "stdout",
     "output_type": "stream",
     "text": [
      "Help on function get_command in module inputs:\n",
      "\n",
      "get_command()\n",
      "    returns 'l', 'r' or 'f' depending of the choice of the user\n",
      "\n"
     ]
    }
   ],
   "source": [
    "help(get_command)"
   ]
  },
  {
   "cell_type": "code",
   "execution_count": null,
   "metadata": {},
   "outputs": [],
   "source": []
  }
 ],
 "metadata": {
  "kernelspec": {
   "display_name": "Python 3",
   "language": "python",
   "name": "python3"
  },
  "language_info": {
   "codemirror_mode": {
    "name": "ipython",
    "version": 3
   },
   "file_extension": ".py",
   "mimetype": "text/x-python",
   "name": "python",
   "nbconvert_exporter": "python",
   "pygments_lexer": "ipython3",
   "version": "3.6.7"
  }
 },
 "nbformat": 4,
 "nbformat_minor": 2
}
