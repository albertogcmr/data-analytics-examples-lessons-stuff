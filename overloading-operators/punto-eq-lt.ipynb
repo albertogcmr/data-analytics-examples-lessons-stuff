{
 "cells": [
  {
   "cell_type": "code",
   "execution_count": 6,
   "metadata": {},
   "outputs": [
    {
     "name": "stdout",
     "output_type": "stream",
     "text": [
      "(3, 3) (6, 4)\n"
     ]
    }
   ],
   "source": [
    "# https://stackoverflow.com/questions/15461574/python-overloading-operators\n",
    "\n",
    "class Punto: \n",
    "    def __init__(self, x, y): \n",
    "        self.x = x\n",
    "        self.y = y\n",
    "        \n",
    "    def __repr__(self): \n",
    "        return '({}, {})'.format(self.x, self.y)\n",
    "    \n",
    "    def __add__(self, other): \n",
    "        return Punto(self.x + other.x, self.y + other.y)\n",
    "\n",
    "    def __sub__(self, other): \n",
    "        return Punto(self.x - other.x, self.y - other.y)\n",
    "\n",
    "    def __mul__(self, other): \n",
    "        return Punto(self.x * other.x, self.y * other.y)\n",
    "   \n",
    "    def module(self): \n",
    "        return (self.x**2 + self.y**2)**0.5\n",
    "    \n",
    "    def __lt__(self, other): \n",
    "        return self.module() < other.module()\n",
    "    \n",
    "    def __le__(self, other): \n",
    "        return self.module() <= other.module()\n",
    "    \n",
    "    def __eq__(self, other): \n",
    "        return Punto(self.x == other.x, self.y == other.y)\n",
    "    \n",
    "\n",
    "    \n",
    "p1 = Punto(3,3)\n",
    "p2 = Punto(6,4)\n",
    "\n",
    "print(p1, p2)"
   ]
  },
  {
   "cell_type": "code",
   "execution_count": 7,
   "metadata": {},
   "outputs": [
    {
     "data": {
      "text/plain": [
       "((9, 7), (-3, -1), (18, 12), True, True, False)"
      ]
     },
     "execution_count": 7,
     "metadata": {},
     "output_type": "execute_result"
    }
   ],
   "source": [
    "p1 + p2, p1 - p2, p1 * p2, p1 < p2, p1 <= p2, p1 > p2"
   ]
  },
  {
   "cell_type": "code",
   "execution_count": null,
   "metadata": {},
   "outputs": [],
   "source": [
    "p1.__mul__(p2)"
   ]
  },
  {
   "cell_type": "code",
   "execution_count": null,
   "metadata": {},
   "outputs": [],
   "source": []
  },
  {
   "cell_type": "code",
   "execution_count": null,
   "metadata": {},
   "outputs": [],
   "source": []
  }
 ],
 "metadata": {
  "kernelspec": {
   "display_name": "Python 3",
   "language": "python",
   "name": "python3"
  },
  "language_info": {
   "codemirror_mode": {
    "name": "ipython",
    "version": 3
   },
   "file_extension": ".py",
   "mimetype": "text/x-python",
   "name": "python",
   "nbconvert_exporter": "python",
   "pygments_lexer": "ipython3",
   "version": "3.6.8"
  }
 },
 "nbformat": 4,
 "nbformat_minor": 2
}
